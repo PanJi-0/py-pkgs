{
 "cells": [
  {
   "cell_type": "markdown",
   "metadata": {},
   "source": [
    "(00:preface)=\n",
    "# Preface"
   ]
  },
  {
   "cell_type": "markdown",
   "metadata": {},
   "source": [
    "Python packages are the fundamental unit of shareable code in Python. Packages make it easy to reuse and maintain your code, and are how you share your code with your colleagues and the wider Python community. [*Python Packages*](https://py-pkgs.org/) is an open source textbook that describes modern and efficient workflows for creating Python packages. The focus of this text is overwhelmingly practical; we will demonstrate methods and tools you can use to develop and maintain packages quickly, reproducibly, and with as much automation as possible - so you can focus on writing and sharing code!"
   ]
  },
  {
   "cell_type": "markdown",
   "metadata": {},
   "source": [
    "## Why read this book?"
   ]
  },
  {
   "cell_type": "markdown",
   "metadata": {},
   "source": [
    "Python packages are a core element of the Python programming language and are how you write reuseable and shareable code in Python. Despite their importance, packages can be difficult to understand and cumbersome to create for beginners and seasoned developers alike. This book aims to describe the packaging process at an accessible level for data scientists, developers and hobbyist programmers. Along the way, we'll walk through the development of a real Python package and we will explore all the key elements of Python packaging, including; package structure, when and why to write tests and documentation, and how to maintain and update your package with the help of automated CI/CD pipelines.\n",
    "\n",
    "By reading this book, you will:\n",
    "- Understand what Python packages are and why and when you should use them.\n",
    "- Be able to build your own Python package from scratch.\n",
    "- Learn how to document your Python code and packages, and how to render this documentation into a coherent, shareable document.\n",
    "- Write automated and formal tests for your code.\n",
    "- Learn how to release your package on the Python Package Index (PyPI) and discover best practices for updating and versioning your code.\n",
    "- Implement automation and CI/CD pipelines to build, test, and deploy your package and update its dependencies.\n",
    "- Get tips on Python coding style, best-practice packaging workflows, and other useful development tools."
   ]
  },
  {
   "cell_type": "markdown",
   "metadata": {},
   "source": [
    "## Structure of the book"
   ]
  },
  {
   "cell_type": "markdown",
   "metadata": {},
   "source": [
    "**Chapter 1: {ref}`01:introduction`** first gives a brief introduction to packages in Python and why you should know how to make them. **Chapter 2: {ref}`02:system-setup`** describes how to set up your development environment to develop packages and follow along with the remainder of the book. In **Chapter 3: {ref}`03:how-to-package-a-python`**, we will develop a small toy package from end-to-end to get a feel for the steps involved in the packaging process and to understand the final product we are aiming for. The remaining chapters then unpack this workflow and go into more details about each step in the packaging process, organised roughly in their order in the workflow:\n",
    "\n",
    "- **Chapter 4: {ref}`04:package-structure-and-state`** \n",
    "- **Chapter 5: {ref}`05:testing`**\n",
    "- **Chapter 6: {ref}`06:documentation`**\n",
    "- **Chapter 7: {ref}`07:releasing-and-versioning`**\n",
    "- **Chapter 8: {ref}`08:continuous-integration-and-deployment`**\n",
    "- **Appendix 1: {ref}`A1:packages-with-a-command-line-interface`**\n",
    "- **Appendix 2: {ref}`A2:python-packaging-cheat-sheet`**"
   ]
  },
  {
   "cell_type": "markdown",
   "metadata": {},
   "source": [
    "## Conventions"
   ]
  },
  {
   "cell_type": "markdown",
   "metadata": {},
   "source": [
    "Throughout this book we use `foo()` to refer to functions, and `bar` to refer to variables and function parameters.\n",
    "\n",
    "Larger code snippets in the text appear as below and we will use type hints and the so-called \"Numpy-style\" for docstrings:\n",
    "\n",
    "```python\n",
    "def palindrome(word: str) -> str:\n",
    "    \"\"\"Turns a string into a palindrome by concatenating it with a reversed version of itself.\n",
    "    \n",
    "    Parameters\n",
    "    ----------\n",
    "    word : str\n",
    "        Word to turn into a palindrome.\n",
    "    \n",
    "    Returns\n",
    "    -------\n",
    "    str\n",
    "        Palindrome of word.\n",
    "    \n",
    "    Examples\n",
    "    --------\n",
    "    >>> palindrome(\"Tomas\")\n",
    "    'TomassamoT'\n",
    "    >>> palindrome(\"Python\")\n",
    "    'PythonnohtyP'\n",
    "    \"\"\"\n",
    "    return word + word[::-1]\n",
    "```\n",
    "\n",
    "Lines prefaced with `>>>` indicate code executed in the interactive Python interpreter. The absence of `>>>` in such a code block indicates the output of the executed code:\n",
    "\n",
    "```Python\n",
    ">>> a = 1\n",
    ">>> b = 2\n",
    ">>> a + b\n",
    "3\n",
    "```\n",
    "\n",
    "If you have an electronic version of the book, e.g., <https://py-pkgs.org>, the code is rendered in such a way that you can easily copy and paste directly from your browser to your Python interpreter or editor."
   ]
  },
  {
   "cell_type": "markdown",
   "metadata": {},
   "source": [
    "## Persistence"
   ]
  },
  {
   "cell_type": "markdown",
   "metadata": {},
   "source": [
    "The Python software ecosystem is constantly evolving. While the packaging workflows and concepts discussed in this book are effectively tool-agnostic, the tools we do use in the book may have been updated by the time you read it. If the maintainers of these tools are doing the right thing by documenting, versioning, and properly deprecating their code (we'll explore these conepts ourselves in {ref}`07:releasing-and-versioning`), then it should be straightforward to adapt any outdated code in the book."
   ]
  },
  {
   "cell_type": "markdown",
   "metadata": {},
   "source": [
    "## Colophon"
   ]
  },
  {
   "cell_type": "markdown",
   "metadata": {},
   "source": [
    "This book was written in [JupyterLab](https://jupyterlab.readthedocs.io/en/stable/index.html), compiled using [Jupyter Book](https://jupyterbook.org/intro.html), is hosted on [GitHub](https://github.com/), and the [online version](https://py-pkgs.org/) is deployed with [Netlify](https://www.netlify.com/). The complete source is available from [GitHub](www.github.com), and is automatically updated after edits by [GitHub Actions](https://github.com/features/actions). "
   ]
  },
  {
   "cell_type": "markdown",
   "metadata": {},
   "source": [
    "## About the authors"
   ]
  },
  {
   "cell_type": "markdown",
   "metadata": {},
   "source": [
    "Tomas Beuzen is a Postdoctoral Teaching & Learning Fellow in the Department of Statistics at the University of British Columbia. He is an active member of the Python, data science pedagogy, and data-driven Earth science research communities. He is interested in developing accessible, open-source, educational data science material.\n",
    "\n",
    "```{figure} images/tomas-beuzen.png\n",
    "---\n",
    "width: 200px\n",
    "name: tomas-beuzen\n",
    "alt: Tomas Beuzen.\n",
    "---\n",
    "Tomas Beuzen.\n",
    "```\n",
    "\n",
    "Tiffany Timbers is an Assistant Professor of Teaching in the Department of Statistics and an Co-Director for the Master of Data Science program (Vancouver Option) at the University of British Columbia. In these roles she teaches and develops curriculum around the responsible application of Data Science to solve real-world problems. One of her favourite courses she teaches is a graduate course on collaborative software development, which focuses on teaching how to create R and Python packages using modern tools and workflows.\n",
    "\n",
    "```{figure} images/tiffany-timbers.png\n",
    "---\n",
    "width: 200px\n",
    "name: tiffany-timbers\n",
    "alt: Tiffany Timbers.\n",
    "---\n",
    "Tiffany Timbers.\n",
    "```"
   ]
  },
  {
   "cell_type": "markdown",
   "metadata": {},
   "source": [
    "## Acknowledgements"
   ]
  },
  {
   "cell_type": "markdown",
   "metadata": {},
   "source": [
    "We'd like to thank everyone that has contributed to the development of [*Python Packages*](https://py-pkgs.org/). This is an open source textbook that began as supplementary material for the University of British Columbia's Master of Data Science program and was subsequently developed openly on GitHub where it has been read, revised, and supported by many students, educators, practioners and hobbyists. Without you all, this book wouldn’t be nearly as good as it is, and we are deeply grateful. A special thanks to those who directly contributed to the text via GitHub (in alphabetical order): `@Carreau`, `@dcslagel`.\n",
    "\n",
    "We would also like to acknowledge the software used to develop this book. This book was written in [JupyterLab](https://jupyterlab.readthedocs.io/en/stable/index.html), compiled using [Jupyter Book](https://jupyterbook.org/intro.html), is hosted on [GitHub](https://github.com/), and the [online version](https://py-pkgs.org/) is deployed with [Netlify](https://www.netlify.com/)."
   ]
  }
 ],
 "metadata": {
  "kernelspec": {
   "display_name": "Python 3",
   "language": "python",
   "name": "python3"
  },
  "language_info": {
   "codemirror_mode": {
    "name": "ipython",
    "version": 3
   },
   "file_extension": ".py",
   "mimetype": "text/x-python",
   "name": "python",
   "nbconvert_exporter": "python",
   "pygments_lexer": "ipython3",
   "version": "3.7.8"
  },
  "toc-autonumbering": false
 },
 "nbformat": 4,
 "nbformat_minor": 4
}
