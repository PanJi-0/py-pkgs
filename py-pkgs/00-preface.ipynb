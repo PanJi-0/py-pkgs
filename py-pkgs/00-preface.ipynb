{
 "cells": [
  {
   "cell_type": "markdown",
   "metadata": {},
   "source": [
    "(00:Preface)=\n",
    "# Preface\n",
    "<hr style=\"height:1px;border:none;color:#666;background-color:#666;\" />"
   ]
  },
  {
   "cell_type": "markdown",
   "metadata": {},
   "source": [
    "Python packages are the fundamental units of shareable code in Python. Packages make it easy to organize, reuse, and maintain your code, as well as share it between projects, with your colleagues, and with the wider Python community. [**Python Packages**](https://py-pkgs.org/) is an open source textbook that describes modern and efficient workflows for creating Python packages. The focus of this book is overwhelmingly practical; we will demonstrate methods and tools you can use to develop and maintain packages quickly, reproducibly, and with as much automation as possible - so you can focus on writing and sharing code!"
   ]
  },
  {
   "cell_type": "markdown",
   "metadata": {},
   "source": [
    "## Why read this book?"
   ]
  },
  {
   "cell_type": "markdown",
   "metadata": {},
   "source": [
    "Despite their importance, packages can be difficult to understand and cumbersome to create for beginners and seasoned developers alike. This book aims to describe the packaging process at an accessible level and was primarily written for data scientists, but is also applicable to developers and programmers. Along the way, we'll walk through the development of a real Python package and will explore all the key elements of Python packaging, including; creating a package file and directory structure, when and why to write tests and documentation, and how to maintain and update your package with the help of automated continuous integration and continuous deployment (CI/CD) pipelines.\n",
    "\n",
    "By reading this book, you will:\n",
    "\n",
    "- Understand what Python packages are, and when and why you should use them.\n",
    "- Be able to build your own Python package from scratch.\n",
    "- Learn how to document your Python code and packages, and how to render this documentation into a coherent, shareable document.\n",
    "- Write software tests for your code, and automate them.\n",
    "- Learn how to release your package on the Python Package Index (PyPI) and discover best practices for updating and versioning your code.\n",
    "- Implement automation and CI/CD pipelines to build, test, and deploy your package and update its dependencies.\n",
    "- Get tips on Python coding style, best-practice packaging workflows, and other useful development tools."
   ]
  },
  {
   "cell_type": "markdown",
   "metadata": {},
   "source": [
    "## Structure of the book"
   ]
  },
  {
   "cell_type": "markdown",
   "metadata": {},
   "source": [
    "**Chapter 1: {ref}`01:Introduction`** first gives a brief introduction to packages in Python and why you should know how to make them. **Chapter 2: {ref}`02:System-setup`** describes how to set up your development environment to develop packages and follow along with the examples in this book. In **Chapter 3: {ref}`03:How-to-package-a-Python`**, we will develop an example package from beginning-to-end to understand the key steps involved in the packaging process and the final product we are aiming for. The remaining chapters then unpack this workflow and go into more detail about each step in the packaging process, organized roughly in their order in the workflow:\n",
    "\n",
    "- **Chapter 4: {ref}`04:Package-structure-and-distribution`** \n",
    "- **Chapter 5: {ref}`05:Testing`**\n",
    "- **Chapter 6: {ref}`06:Documentation`**\n",
    "- **Chapter 7: {ref}`07:Releasing-and-versioning`**\n",
    "- **Chapter 8: {ref}`08:Continuous-integration-and-deployment`**\n",
    "- **Appendix 1: {ref}`A1:Packages-with-a-command-line-interface`**\n",
    "- **Appendix 2: {ref}`A2:Python-packaging-cheat-sheet`**"
   ]
  },
  {
   "cell_type": "markdown",
   "metadata": {},
   "source": [
    "## Conventions"
   ]
  },
  {
   "cell_type": "markdown",
   "metadata": {},
   "source": [
    "Throughout this book we use `foo()` to refer to functions, `bar` for inline commmands, variables, function parameters, and package/software names, and *`__init__.py`* to refer to files and directories.\n",
    "\n",
    "Commands entered in a terminal appear as below:\n",
    "\n",
    "```{prompt} bash \\$ auto\n",
    "$ mkdir my-first-package\n",
    "$ cd my-first-package\n",
    "$ python\n",
    "```\n",
    "\n",
    "While code entered in an interactive Python interpreter looks like this:\n",
    "\n",
    "```{prompt} python >>> auto\n",
    ">>> import math\n",
    ">>> round(math.pi, 3)\n",
    "```\n",
    "\n",
    "```python\n",
    "3.142\n",
    "```\n",
    "\n",
    "Larger code snippets in the text appear as below and we use [\"NumPy-style\"](https://numpydoc.readthedocs.io/en/latest/format.html) docstrings:\n",
    "\n",
    "```python\n",
    "def palindrome(word):\n",
    "    \"\"\"Turns a word into a palindrome.\n",
    "    \n",
    "    Parameters\n",
    "    ----------\n",
    "    word : str\n",
    "        Word to turn into a palindrome.\n",
    "    \n",
    "    Returns\n",
    "    -------\n",
    "    str\n",
    "        Palindrome of word.\n",
    "    \n",
    "    Examples\n",
    "    --------\n",
    "    >>> palindrome(\"Tomas\")\n",
    "    'TomassamoT'\n",
    "    >>> palindrome(\"Python\")\n",
    "    'PythonnohtyP'\n",
    "    \"\"\"\n",
    "    return word + word[::-1]\n",
    "```\n",
    "\n",
    "If you are reading an electronic version of the book, e.g., <https://py-pkgs.org>, all code is rendered in such a way that you can easily copy and paste directly from your browser to your Python interpreter or editor."
   ]
  },
  {
   "cell_type": "markdown",
   "metadata": {},
   "source": [
    "## Persistence"
   ]
  },
  {
   "cell_type": "markdown",
   "metadata": {},
   "source": [
    "The Python software ecosystem is constantly evolving. While we aim to make the packaging workflows and concepts discussed in this book tool-agnostic, the tools we do use in the book may have been updated by the time you read it. If the maintainers of these tools are doing the right thing by documenting, versioning, and properly deprecating their code (we'll explore these concepts ourselves in **Chapter 7: {ref}`07:Releasing-and-versioning`**), then it should be straightforward to adapt any outdated code in the book."
   ]
  },
  {
   "cell_type": "markdown",
   "metadata": {},
   "source": [
    "## Colophon"
   ]
  },
  {
   "cell_type": "markdown",
   "metadata": {},
   "source": [
    "This book was written in [JupyterLab](https://jupyterlab.readthedocs.io/en/stable/index.html), compiled using [Jupyter Book](https://jupyterbook.org/intro.html), the source is is hosted on [GitHub](https://github.com/UBC-MDS/py-pkgs), and is deployed online at <https://py-pkgs.org> with [Netlify](https://www.netlify.com/). The book is automatically updated and deployed by [GitHub Actions](https://github.com/features/actions) when edits are made to the source."
   ]
  },
  {
   "cell_type": "markdown",
   "metadata": {},
   "source": [
    "## Acknowledgements"
   ]
  },
  {
   "cell_type": "markdown",
   "metadata": {},
   "source": [
    "We'd like to thank everyone that has contributed to the development of [Python Packages](https://py-pkgs.org/). This is an open source textbook that began as supplementary material for the University of British Columbia's Master of Data Science program and was subsequently developed openly on GitHub where it has been read, revised, and supported by many students, educators, practitioners and hobbyists. Without you all, this book wouldn’t be nearly as good as it is, and we are deeply grateful. A special thanks to those who directly contributed to the text via GitHub (in alphabetical order): `@Carreau`, `@dcslagel`.\n",
    "\n",
    "The scope and intent of this book was inspired by the fantastic [R Packages](https://r-pkgs.org) book written by Hadley Wickham and Jenny Bryan, a book that has been a significant resource for the R community over the years. We hope that [**Python Packages**](https://py-pkgs.org/) will eventually play a similar role in the Python community."
   ]
  }
 ],
 "metadata": {
  "kernelspec": {
   "display_name": "Python 3",
   "language": "python",
   "name": "python3"
  },
  "language_info": {
   "codemirror_mode": {
    "name": "ipython",
    "version": 3
   },
   "file_extension": ".py",
   "mimetype": "text/x-python",
   "name": "python",
   "nbconvert_exporter": "python",
   "pygments_lexer": "ipython3",
   "version": "3.9.2"
  },
  "toc-autonumbering": false
 },
 "nbformat": 4,
 "nbformat_minor": 4
}
