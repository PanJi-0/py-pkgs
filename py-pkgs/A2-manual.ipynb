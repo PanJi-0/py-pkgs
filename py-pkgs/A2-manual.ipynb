{
 "cells": [
  {
   "cell_type": "markdown",
   "metadata": {},
   "source": [
    "(A1:Packages-with-a-command-line-interface)=\n",
    "# Packages with a command line interface\n",
    "<hr style=\"height:1px;border:none;color:#666;background-color:#666;\" />"
   ]
  },
  {
   "cell_type": "markdown",
   "metadata": {},
   "source": [
    "(04:Installed-packages)=\n",
    "### Installed packages"
   ]
  },
  {
   "cell_type": "markdown",
   "metadata": {},
   "source": [
    "An installed package is a distribution that’s been decompressed, built (in the case of an `sdist`) and then copied to your chosen installation directory. The default \"chosen installation directory\" varies by platform and by how you installed Python. \n",
    "\n",
    "\"Installing\" a package (e.g., by `pip install XXX`) is really a two-step process: 1) building the package (in the case of an `sdist`), and 2) installing the package. Using wheels takes out the first step, meaning we only need to install. The install step is fairly simple, it essentially copies the decompressed package files to the chosen installation directory, the default of which varies by platform and by how you installed Python.\n",
    "\n",
    "In fact, we could manually install a package ourselves if we want to by decompressing a `wheel` and copying the files to their appropriate locations - there's no real reason to do this because it's far more effort than using a single one-liner at the command line, it does not resolve dependencies so could break your installation, and probably has other unwanted side-effects. However, it's a nice way to learn about the package installation process, so if you'd like to give it a go, you can try the following steps (which are based on using the MacOS and [`conda` package manager](https://docs.conda.io/en/latest/)):\n",
    "\n",
    "\n",
    "1. Create a new virtual environment called \"manualpkg\" to act as a safe, test playground:\n",
    "\n",
    "    ```{prompt} bash \\$ auto\n",
    "    $ conda create --name manualpkg python=3.9\n",
    "    $ conda activate manualpkg\n",
    "    ```\n",
    "    \n",
    "2. You can find a toy wheel to download in the GitHub repository of this book [here](https://github.com/UBC-MDS/py-pkgs/blob/master/docs/toy-pkg/dist/toy_pkg-0.0.1-py3-none-any.whl) (although you can try this manual installation procedure with any wheel). In the code below we'll `cd` into the test environment's install location, download this wheel, and unzip it:\n",
    "\n",
    "    ```{prompt} bash \\$ auto\n",
    "    $ cd /opt/miniconda3/envs/manualpkg/lib/python3.7/site-packages\n",
    "    $ curl -O https://raw.githubusercontent.com/UBC-MDS/py-pkgs/master/docs/toy-pkg/dist/toy_pkg-0.0.1-py3-none-any.whl\n",
    "    $ unzip toy_pkg-0.0.1-py3-none-any.whl\n",
    "    ```\n",
    "\n",
    "3. This will result in two new unzipped directories: *`toy_pkg`* and *`toy_pkg-0.0.1.dist-info`*. From the terminal we can now start a Python session and try importing this package: \n",
    "    \n",
    "    ```{prompt} python >>> auto\n",
    "    >>> from toy_pkg.toy_module import test_function\n",
    "    >>> test_function()\n",
    "    ```\n",
    "\n",
    "    ```console\n",
    "    You manually installed the toy_pkg example! Well done!\n",
    "    ```\n",
    "    \n",
    "4. You can remove the `conda` virtual environment if you wish with the following:\n",
    "\n",
    "    ```{prompt} bash \\$ auto\n",
    "    $ conda deactivate\n",
    "    $ conda env remove --name manualpkg\n",
    "    ```"
   ]
  }
 ],
 "metadata": {
  "kernelspec": {
   "display_name": "Python 3",
   "language": "python",
   "name": "python3"
  },
  "language_info": {
   "codemirror_mode": {
    "name": "ipython",
    "version": 3
   },
   "file_extension": ".py",
   "mimetype": "text/x-python",
   "name": "python",
   "nbconvert_exporter": "python",
   "pygments_lexer": "ipython3",
   "version": "3.9.2"
  }
 },
 "nbformat": 4,
 "nbformat_minor": 4
}
