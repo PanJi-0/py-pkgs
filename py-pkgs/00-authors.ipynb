{
 "cells": [
  {
   "cell_type": "markdown",
   "metadata": {},
   "source": [
    "(00:About-the-authors)=\n",
    "# About the authors\n",
    "<hr style=\"height:1px;border:none;color:#666;background-color:#666;\" />"
   ]
  },
  {
   "cell_type": "markdown",
   "metadata": {},
   "source": [
    "Tomas Beuzen is a data scientist and educator based in Sydney, Australia. He has a background in coastal engineering and climate science and was a teaching fellow in the Master of Data Science program (Vancouver Option) at the University of British Columbia. Tomas currently works as a data scientist in the renewable energy sector and enjoys spending his free time developing open-source, educational data science material, and using data science to solve problems in the natural and engineered world.\n",
    "\n",
    "```{figure} images/tomas-beuzen.png\n",
    "---\n",
    "width: 30%\n",
    "name: 00-tomas-beuzen-fig\n",
    "alt: Tomas Beuzen.\n",
    "---\n",
    "```\n",
    "\n",
    "Tiffany Timbers is an Assistant Professor of Teaching in the Department of Statistics and an Co-Director for the Master of Data Science program (Vancouver Option) at the University of British Columbia. In these roles she teaches and develops curriculum around the responsible application of Data Science to solve real-world problems. One of her favourite courses she teaches is a graduate course on collaborative software development, which focuses on teaching how to create R and Python packages using modern tools and workflows.\n",
    "\n",
    "```{figure} images/tiffany-timbers.png\n",
    "---\n",
    "width: 30%\n",
    "name: 00-tiffany-timbers-fig\n",
    "alt: Tiffany Timbers.\n",
    "---\n",
    "```"
   ]
  }
 ],
 "metadata": {
  "kernelspec": {
   "display_name": "Python 3 (ipykernel)",
   "language": "python",
   "name": "python3"
  },
  "language_info": {
   "codemirror_mode": {
    "name": "ipython",
    "version": 3
   },
   "file_extension": ".py",
   "mimetype": "text/x-python",
   "name": "python",
   "nbconvert_exporter": "python",
   "pygments_lexer": "ipython3",
   "version": "3.9.6"
  },
  "toc-autonumbering": false
 },
 "nbformat": 4,
 "nbformat_minor": 4
}
