{
 "cells": [
  {
   "cell_type": "code",
   "execution_count": 87,
   "metadata": {},
   "outputs": [
    {
     "name": "stdout",
     "output_type": "stream",
     "text": [
      "[jupytext] Reading 00-preface.ipynb in format ipynb\n",
      "[jupytext] Updating notebook metadata with '{\"jupytext\": {\"formats\": \"ipynb,bookdown//Rmd\"}}'\n",
      "[jupytext] Updating '00-preface.ipynb'\n",
      "[jupytext] Updating 'bookdown/00-preface.Rmd'\n",
      "[jupytext] Reading 00-preface.ipynb in format ipynb\n",
      "[jupytext] Updating notebook metadata with '{\"jupytext\": null}'\n",
      "[jupytext] Writing 00-preface.ipynb (destination file replaced)\n",
      "[jupytext] Reading 00-preface.Rmd in format Rmd\n",
      "[jupytext] Updating notebook metadata with '{\"jupytext\": null}'\n",
      "[jupytext] Writing 00-preface.Rmd in format Rmd (destination file replaced)\n"
     ]
    }
   ],
   "source": [
    "!(cd .. ; jupytext --set-formats ipynb,bookdown//Rmd --sync 00-preface.ipynb)  # Create .Rmd files from .ipynb files\n",
    "!(cd .. ; jupytext --update-metadata '{\"jupytext\": null}' 00-preface.ipynb)    # Unsync the files (before we make changes to the .Rmd)\n",
    "!jupytext --update-metadata '{\"jupytext\": null}' 00-preface.Rmd\n",
    "# Rename some files\n",
    "!mv 00-preface.Rmd index.Rmd"
   ]
  },
  {
   "cell_type": "code",
   "execution_count": 88,
   "metadata": {},
   "outputs": [],
   "source": [
    "import re"
   ]
  },
  {
   "cell_type": "code",
   "execution_count": 89,
   "metadata": {},
   "outputs": [],
   "source": [
    "def save(filename, text):\n",
    "    with open(filename, \"w\") as f:\n",
    "        f.write(text)"
   ]
  },
  {
   "cell_type": "code",
   "execution_count": 90,
   "metadata": {},
   "outputs": [],
   "source": [
    "filename = \"index.Rmd\"\n",
    "with open(filename) as f:\n",
    "    text = f.read()"
   ]
  },
  {
   "cell_type": "code",
   "execution_count": 91,
   "metadata": {},
   "outputs": [],
   "source": [
    "# Index header\n",
    "header = re.compile(\"---(?:.*\\n)+---\")\n",
    "new_header = \"\"\"---\n",
    "title: \"Python Packages\"\n",
    "author:\n",
    "- Tomas Beuzen\n",
    "- Tiffany Timbers\n",
    "date: \"`r Sys.Date()`\"\n",
    "documentclass: krantz\n",
    "bibliography: [book.bib, packages.bib]\n",
    "biblio-style: apalike\n",
    "link-citations: yes\n",
    "colorlinks: yes\n",
    "lot: yes\n",
    "lof: yes\n",
    "site: bookdown::bookdown_site\n",
    "description: \"Open source book on building Python packages.\"\n",
    "github-repo: UBC-MDS/py-pkgs\n",
    "graphics: yes\n",
    "---\n",
    "\"\"\"\n",
    "text = header.sub(new_header, text)\n",
    "# save(filename, text)"
   ]
  },
  {
   "cell_type": "code",
   "execution_count": 92,
   "metadata": {},
   "outputs": [],
   "source": [
    "# # Remove header\n",
    "# header = re.compile(\"---(?:.*\\n)+---\")\n",
    "# text = header.sub(\"\", text)\n",
    "# save(filename, text)"
   ]
  },
  {
   "cell_type": "code",
   "execution_count": 93,
   "metadata": {},
   "outputs": [],
   "source": [
    "# Fix titles\n",
    "titles = re.compile(r\"\\(\\d*:.*\\n\")\n",
    "text = titles.sub(\"\", text)\n",
    "# save(filename, text)"
   ]
  },
  {
   "cell_type": "code",
   "execution_count": 94,
   "metadata": {},
   "outputs": [],
   "source": [
    "# Index titles\n",
    "text = re.sub(r\"(#.*)\\n\", r\"\\1 {-}\", text)\n",
    "# save(filename, text)"
   ]
  },
  {
   "cell_type": "code",
   "execution_count": 95,
   "metadata": {},
   "outputs": [],
   "source": [
    "# Line spacing\n",
    "text = re.sub(r\"\\n\\n\\n\", r\"\\n\\n\", text)\n",
    "# save(filename, text)"
   ]
  },
  {
   "cell_type": "code",
   "execution_count": 96,
   "metadata": {},
   "outputs": [],
   "source": [
    "# Fix references\n",
    "text = re.sub(r\"{ref}`(?:\\d+|A\\d):(.*?)`\", r\"[\\1]\", text)\n",
    "save(filename, text)"
   ]
  }
 ],
 "metadata": {
  "kernelspec": {
   "display_name": "Python 3",
   "language": "python",
   "name": "python3"
  },
  "language_info": {
   "codemirror_mode": {
    "name": "ipython",
    "version": 3
   },
   "file_extension": ".py",
   "mimetype": "text/x-python",
   "name": "python",
   "nbconvert_exporter": "python",
   "pygments_lexer": "ipython3",
   "version": "3.7.8"
  }
 },
 "nbformat": 4,
 "nbformat_minor": 4
}
