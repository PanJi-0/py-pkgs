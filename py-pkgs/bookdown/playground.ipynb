{
 "cells": [
  {
   "cell_type": "code",
   "execution_count": 5,
   "metadata": {},
   "outputs": [
    {
     "name": "stdout",
     "output_type": "stream",
     "text": [
      "[jupytext] Reading 00-preface.ipynb in format ipynb\n",
      "[jupytext] Updating notebook metadata with '{\"jupytext\": {\"formats\": \"ipynb,bookdown//Rmd\"}}'\n",
      "[jupytext] Updating '00-preface.ipynb'\n",
      "[jupytext] Updating 'bookdown/00-preface.Rmd'\n",
      "[jupytext] Reading 00-preface.ipynb in format ipynb\n",
      "[jupytext] Updating notebook metadata with '{\"jupytext\": null}'\n",
      "[jupytext] Writing 00-preface.ipynb (destination file replaced)\n",
      "[jupytext] Reading 00-preface.Rmd in format Rmd\n",
      "[jupytext] Updating notebook metadata with '{\"jupytext\": null}'\n",
      "[jupytext] Writing 00-preface.Rmd in format Rmd (destination file replaced)\n",
      "[jupytext] Reading 00-authors.ipynb in format ipynb\n",
      "[jupytext] Updating notebook metadata with '{\"jupytext\": {\"formats\": \"ipynb,bookdown//Rmd\"}}'\n",
      "[jupytext] Updating '00-authors.ipynb'\n",
      "[jupytext] Updating 'bookdown/00-authors.Rmd'\n",
      "[jupytext] Reading 00-authors.ipynb in format ipynb\n",
      "[jupytext] Updating notebook metadata with '{\"jupytext\": null}'\n",
      "[jupytext] Writing 00-authors.ipynb (destination file replaced)\n",
      "[jupytext] Reading 00-authors.Rmd in format Rmd\n",
      "[jupytext] Updating notebook metadata with '{\"jupytext\": null}'\n",
      "[jupytext] Writing 00-authors.Rmd in format Rmd (destination file replaced)\n"
     ]
    }
   ],
   "source": [
    "!(cd .. ; jupytext --set-formats ipynb,bookdown//Rmd --sync 00-preface.ipynb)  # Create .Rmd files from .ipynb files\n",
    "!(cd .. ; jupytext --update-metadata '{\"jupytext\": null}' 00-preface.ipynb)    # Unsync the files (before we make changes to the .Rmd)\n",
    "!jupytext --update-metadata '{\"jupytext\": null}' 00-preface.Rmd\n",
    "!(cd .. ; jupytext --set-formats ipynb,bookdown//Rmd --sync 00-authors.ipynb)  # Create .Rmd files from .ipynb files\n",
    "!(cd .. ; jupytext --update-metadata '{\"jupytext\": null}' 00-authors.ipynb)    # Unsync the files (before we make changes to the .Rmd)\n",
    "!jupytext --update-metadata '{\"jupytext\": null}' 00-authors.Rmd\n",
    "# Rename some files\n",
    "!mv 00-preface.Rmd index.Rmd"
   ]
  },
  {
   "cell_type": "code",
   "execution_count": 1,
   "metadata": {},
   "outputs": [
    {
     "name": "stdout",
     "output_type": "stream",
     "text": [
      "[jupytext] Reading 02-setup.ipynb in format ipynb\n",
      "[jupytext] Updating notebook metadata with '{\"jupytext\": {\"formats\": \"ipynb,bookdown//Rmd\"}}'\n",
      "[jupytext] Updating '02-setup.ipynb'\n",
      "[jupytext] Updating 'bookdown/02-setup.Rmd'\n",
      "[jupytext] Reading 02-setup.ipynb in format ipynb\n",
      "[jupytext] Updating notebook metadata with '{\"jupytext\": null}'\n",
      "[jupytext] Writing 02-setup.ipynb (destination file replaced)\n",
      "[jupytext] Reading 02-setup.Rmd in format Rmd\n",
      "[jupytext] Updating notebook metadata with '{\"jupytext\": null}'\n",
      "[jupytext] Writing 02-setup.Rmd in format Rmd (destination file replaced)\n"
     ]
    }
   ],
   "source": [
    "!(cd .. ; jupytext --set-formats ipynb,bookdown//Rmd --sync 02-setup.ipynb)  # Create .Rmd files from .ipynb files\n",
    "!(cd .. ; jupytext --update-metadata '{\"jupytext\": null}' 02-setup.ipynb)    # Unsync the files (before we make changes to the .Rmd)\n",
    "!jupytext --update-metadata '{\"jupytext\": null}' 02-setup.Rmd"
   ]
  },
  {
   "cell_type": "code",
   "execution_count": 2,
   "metadata": {},
   "outputs": [],
   "source": [
    "import re"
   ]
  },
  {
   "cell_type": "code",
   "execution_count": 3,
   "metadata": {},
   "outputs": [],
   "source": [
    "def save(filename, text):\n",
    "    with open(filename, \"w\") as f:\n",
    "        f.write(text)"
   ]
  },
  {
   "cell_type": "code",
   "execution_count": 32,
   "metadata": {},
   "outputs": [],
   "source": [
    "# filename = \"index.Rmd\"\n",
    "# filename = \"00-authors.Rmd\"\n",
    "# filename = \"01-introduction.Rmd\"\n",
    "filename = \"02-setup.Rmd\"\n",
    "with open(filename) as f:\n",
    "    text = f.read()"
   ]
  },
  {
   "cell_type": "code",
   "execution_count": 9,
   "metadata": {},
   "outputs": [
    {
     "name": "stderr",
     "output_type": "stream",
     "text": [
      "/opt/miniconda3/lib/python3.7/site-packages/ipykernel_launcher.py:21: FutureWarning: Possible set difference at position 6\n"
     ]
    }
   ],
   "source": [
    "# Index header\n",
    "new_header = \"\"\"---\n",
    "title: \"Python Packages\"\n",
    "author:\n",
    "- Tomas Beuzen\n",
    "- Tiffany Timbers\n",
    "date: \"`r Sys.Date()`\"\n",
    "documentclass: krantz\n",
    "bibliography: [book.bib, packages.bib]\n",
    "biblio-style: apalike\n",
    "link-citations: yes\n",
    "colorlinks: yes\n",
    "lot: yes\n",
    "lof: yes\n",
    "site: bookdown::bookdown_site\n",
    "description: \"Open source book on building Python packages.\"\n",
    "github-repo: UBC-MDS/py-pkgs\n",
    "graphics: yes\n",
    "---\n",
    "\"\"\"\n",
    "text = re.sub(\"---[^---]*---\", new_header, text, count=1)\n",
    "# save(filename, text)"
   ]
  },
  {
   "cell_type": "code",
   "execution_count": 10,
   "metadata": {},
   "outputs": [],
   "source": [
    "# Remove header\n",
    "header = re.compile(\"---[^---]*---\")\n",
    "text = header.sub(\"\", text)\n",
    "# save(\"00-authors.Rmd\", text)"
   ]
  },
  {
   "cell_type": "code",
   "execution_count": 11,
   "metadata": {},
   "outputs": [],
   "source": [
    "# Fix titles\n",
    "titles = re.compile(r\"\\(\\d*:.*\\n\")\n",
    "text = titles.sub(\"\", text)\n",
    "# save(filename, text)"
   ]
  },
  {
   "cell_type": "code",
   "execution_count": 12,
   "metadata": {},
   "outputs": [],
   "source": [
    "# Index titles\n",
    "text = re.sub(r\"(#.*)\\n\", r\"\\1 {-}\", text)\n",
    "# save(filename, text)"
   ]
  },
  {
   "cell_type": "code",
   "execution_count": 13,
   "metadata": {},
   "outputs": [],
   "source": [
    "# Line spacing\n",
    "text = re.sub(r\"\\n\\n\\n\", r\"\\n\\n\", text)\n",
    "# save(filename, text)"
   ]
  },
  {
   "cell_type": "code",
   "execution_count": 14,
   "metadata": {},
   "outputs": [],
   "source": [
    "# Fix references\n",
    "def repl(match):\n",
    "    return \"[\" + match.group(1).replace(\"-\", \" \") + \"]\"\n",
    "\n",
    "text = re.sub(r\"{ref}`(?:\\d+|A\\d):(.*?)`\", repl, text)\n",
    "# save(filename, text)"
   ]
  },
  {
   "cell_type": "code",
   "execution_count": 21,
   "metadata": {},
   "outputs": [
    {
     "name": "stdout",
     "output_type": "stream",
     "text": [
      "```{r 02_vscode_2, fig.cap = \"Executing a simple Python file called hello-world.py from the integrated terminal in Visual Studio Code.\", fig.retina = 2, out.width=\"750px\", echo = FALSE, message = FALSE, warning = FALSE}\n",
      "knitr::include_graphics(\"../images/vscode-2.png\")\n",
      "```\n",
      "```{r 02_jupyterlab, fig.cap = \"Executing a simple Python file called hello-world.py from a terminal in JupyterLab.\", fig.retina = 2, out.width=\"750px\", echo = FALSE, message = FALSE, warning = FALSE}\n",
      "knitr::include_graphics(\"../images/jupyterlab.png\")\n",
      "```\n"
     ]
    }
   ],
   "source": [
    "# fix figures\n",
    "figures = re.findall(\"```{figure}(?:.+\\n)+```\", text)\n",
    "for figure in figures:\n",
    "    try:\n",
    "        reference = re.findall(\"name: (.+)\\n\", figure)[0]\n",
    "        caption = re.findall(\"alt: (.+)\\\\n---\", figure)[0]\n",
    "        size = re.findall(\"width: (.+)\\\\nname\", figure)[0]\n",
    "        file_location = re.findall(\"images\\/.+.(?:png|svg)\", figure)[0]\n",
    "    except IndexError:\n",
    "        print(f\"Bad figure formatting:\\n\\n{figure}\")\n",
    "    new_figure = f'```{{r {reference}, fig.cap = \"{caption}\", fig.retina = 2, out.width=\"{size}\", echo = FALSE, message = FALSE, warning = FALSE}}\\nknitr::include_graphics(\"{\"../\" + file_location}\")\\n```'\n",
    "    print(new_figure)\n",
    "    text = re.sub(\n",
    "        pattern=figure, repl=new_figure, string=text\n",
    "    )"
   ]
  },
  {
   "cell_type": "code",
   "execution_count": 31,
   "metadata": {},
   "outputs": [
    {
     "name": "stdout",
     "output_type": "stream",
     "text": [
      "None\n"
     ]
    }
   ],
   "source": [
    "x = re.match(r\"```{figure}(?:.+\\n)+```\", text)"
   ]
  },
  {
   "cell_type": "code",
   "execution_count": 39,
   "metadata": {},
   "outputs": [],
   "source": [
    "def repl(match):\n",
    "    figure = match.group(0)\n",
    "    reference = re.findall(\"name: (.+)\\n\", figure)[0]\n",
    "    caption = re.findall(\"alt: (.+)\\\\n---\", figure)[0]\n",
    "    size = re.findall(\"width: (.+)\\\\nname\", figure)[0]\n",
    "    file_location = re.findall(\"images\\/.+.(?:png|svg)\", figure)[0]\n",
    "    return f'```{{r {reference}, fig.cap = \"{caption}\", fig.retina = 2, out.width=\"{size}\", echo = FALSE, message = FALSE, warning = FALSE}}\\nknitr::include_graphics(\"{\"../\" + file_location}\")\\n```'\n",
    "\n",
    "text = re.sub(\"```{figure}(?:.+\\n)+```\", repl, text)"
   ]
  },
  {
   "cell_type": "code",
   "execution_count": 41,
   "metadata": {},
   "outputs": [
    {
     "data": {
      "text/plain": [
       "'---\\njupyter:\\n  jupytext:\\n    text_representation:\\n      extension: .Rmd\\n      format_name: rmarkdown\\n      format_version: \\'1.2\\'\\n      jupytext_version: 1.8.2\\n  kernelspec:\\n    display_name: Python 3\\n    language: python\\n    name: python3\\n---\\n\\n(02:System-setup)=\\n# System setup\\n\\n\\nIf you intend to follow along with the code presented in this book, we recommend you follow these setup instructions so that you will run into fewer technical issues.\\n\\n\\n## Installing Python\\n\\n\\nWe recommend installing the latest version of Python via the Anaconda distribution by following the instructions in the [Anaconda documentation](https://docs.anaconda.com/anaconda/install/). Anaconda is a Python distribution that includes Python, the `conda`  package and environment manager, and a number of commonly used Python libraries and dependencies. If you\\'d prefer to install packages as you need them, feel free to install Python via the [Miniconda](https://docs.conda.io/en/latest/miniconda.html) distribution instead, which is a lightweight version of Anaconda that essentially comes with Python, `conda` and only a few key packages. If you have previosuly installed the Anaconda or Miniconda distribution, ensure that Python and `conda` are up to date by running the following command in your terminal:\\n\\n```bash\\nconda update --all\\n```\\n\\nIf you\\'re not familiar with `conda`, it is a piece of software that simplifies the process of installing and updating software (like Python packages). It is also an environment manager which is the key function we\\'ll be using it for in this text. An environment manager helps you create \"virtual environments\" on your machine where you can safely install different packages and their dependencies in an isolated location. Installing all the packages you need in the same place (i.e., the system default location) can be problematic, because different packages have different dependencies, and as you install more packages, you\\'ll inevitably get conflicts between packages and your code will start to break. Virtual environments help you compartmentalise and isolate the packages you are using for different projects to avoid this issue. While alternative package and environment managers exist, we choose to use `conda` in this book because of its popularity, ease-of-use, and ability to handle any software stack (not just Python!).\\n\\nOnce you\\'ve installed the Anaconda distribution, use `conda` to install `poetry` ([a package](https://python-poetry.org/) that will help us build our own Python packages) and `cookiecutter` ([a package](https://github.com/cookiecutter/cookiecutter) that will help us create packages from pre-made templates) with the following command:\\n\\n```bash\\nconda install -c conda-forge poetry cookiecutter\\n```\\n\\n\\n## Register for a PyPI account\\n\\n\\nPyPI is the official online software repository for Python. A software repository is a storage location for downloadable software, like Python packages. In this book we\\'ll be publishing a package on PyPI. Before publishing packages on PyPI, it is typical to \"test drive\" their publication on TestPyPI which is a test version of PyPI. To follow along with this book, you should register for a TestPyPI account on the [TestPyPI website](https://test.pypi.org/account/register/) and a PyPI account on the [PyPI website](https://pypi.org/account/register/).\\n\\n\\n## Install Git and register for a GitHub account\\n\\n\\nIf you\\'re not using a version control system, we highly recommend you get into the habit! A version control system tracks changes to the file(s) of your project in a clear and organised way (no more \"document_1.doc\", \"document_1_new.doc\", \"document_final.doc\", etc.). A VCS works by storing a master copy of your project in a \"repository\" which you don’t edit directly. Instead, you edit a copy of the project file(s), and then *commit* changes back to the repository. In this way, a VCS contains a full history of all the revisions made to your project which you can view and retrieve at any time.\\n\\nThere are many version control systems available, but the most common is Git and we\\'ll be using it throughout this book. You can download Git by following the instructions in the [Git documentation](https://git-scm.com/book/en/v2/Getting-Started-Installing-Git). Git will help us track changes to our project on our local computers, but what if we want to collaborate with others? Or, what happens if our computer crashes? That\\'s where GitHub comes in. GitHub is one of many online services for hosting Git-managed projects. GitHub helps you create an online version of your local Git repository which acts as a back-up of your local work and allows others to easily and transparently collaborate on your project. You can sign up for a GitHub account on the [GitHub website](https://www.github.com).\\n\\n\\n## Python integrated development environments\\n\\n\\nA Python integrated development environment (IDE) will make the process of creating Python packages significantly easier. An IDE is a piece of software that provides advanced functionality for code development such as directory and file creation and navigation, code refactoring, autocomplete, debugging, and syntax highlighting, to name a few. Put simply, an IDE will save you time and help you write better code. Commonly used free Python IDEs include [Visual Studio Code](https://code.visualstudio.com/), [Atom](https://atom.io/), [Sublime Text](https://www.sublimetext.com/), [Spyder](https://www.spyder-ide.org/), and [PyCharm Community Edition](https://www.jetbrains.com/pycharm/). For those more familiar with the popular Jupyter ecosystem, [JupyterLab](https://jupyter.org/) is an alternative browser-based IDE. Finally, for the R community, the [RStudio IDE](https://rstudio.com/products/rstudio/download/) also supports Python.\\n\\nYou\\'ll be able to follow along with the examples presented in this book regardless of what IDE you choose to develop your Python code in. Below, we will briefly describe how to set up Visual Studio Code, JupyterLab, and RStudio as Python IDEs (these are the IDEs we personally use in our day-to-day work). If you don\\'t know which IDE to use, we recommend starting with Visual Studio Code.\\n\\n\\n### Visual Studio Code\\n\\n\\nYou can download Visual Studio Code (VS Code) from [the Visual Studio Code website](https://code.visualstudio.com/). Once you\\'ve installed VS Code, you should install the \"Python\" extension from the VS Code *Marketplace*. To do this, you should:\\n1. Open the *Marketplace* by clicking the *Extensions* tab on the VS Code activity bar;\\n2. Search for \"Python\" in the search bar;\\n3. Select the extension named \"Python\" and then click *Install*.\\n\\n```{r 02_vscode-1, fig.cap = \"Installing the Python extension in Visual Studio Code.\", fig.retina = 2, out.width=\"750px\", echo = FALSE, message = FALSE, warning = FALSE}\\nknitr::include_graphics(\"../images/vscode-1.png\")\\n```\\n\\nOnce this is done, you have everything you need to start creating packages! For example, you can create files and directories from the *File Explorer* tab on the VS Code activity bar and you can open up an integrated terminal by clicking selecting *Terminal* from the *View* menu.\\n\\n```{r 02_vscode_2, fig.cap = \"Executing a simple Python file called hello-world.py from the integrated terminal in Visual Studio Code.\", fig.retina = 2, out.width=\"750px\", echo = FALSE, message = FALSE, warning = FALSE}\\nknitr::include_graphics(\"../images/vscode-2.png\")\\n```\\n\\nWe recommend you take a look at the VS Code [Getting Started Guide](https://code.visualstudio.com/docs) to learn more about VS Code. While you don\\'t need to install any additional extensions to start creating packages in VS Code, there are many extensions available that can support and streamline your programming workflows in VS Code. Here\\'s a few we currently recommend installing (you can search for and install these from the *Marketplace* just as we did earlier):\\n- Python Docstring Generator\\n- Bracket Pair Colorizer 2\\n- Markdown All in One\\n- markdownlint\\n- reStructuredText\\n- Material Icon Theme\\n- Material Theme\\n\\n\\n### JupyterLab\\n\\n\\nFor those comfortable in the Jupyter ecosystem feel free to stay there. JupyterLab is a browser-based IDE that supports all of the core functionality we need to create packages. As per the [JupyterLab installation instructions](https://jupyterlab.readthedocs.io/en/stable/getting_started/installation.html), you can install JupyterLab with:\\n\\n```sh\\nconda install -c conda-forge jupyterlab\\n```\\n\\nOnce installed, you can launch JupyterLab from your current directory using:\\n\\n```sh\\njupyter-lab\\n```\\n\\nAt a minimum for package development, we need to be able to create files and directories and have access to a terminal. In JupyterLab, you can create files and directories from the *File Browser* and can open up an integrated terminal from the *File* menu or a *Launcher* pane.\\n\\n```{r 02_jupyterlab, fig.cap = \"Executing a simple Python file called hello-world.py from a terminal in JupyterLab.\", fig.retina = 2, out.width=\"750px\", echo = FALSE, message = FALSE, warning = FALSE}\\nknitr::include_graphics(\"../images/jupyterlab.png\")\\n```\\n\\nWe recommend you take a look at the JupyterLab [documentation](https://jupyterlab.readthedocs.io/en/stable/index.html) to learn more about how to use Jupyterlab. In particular, we\\'ll note that, like VS Code, JupyterLab also supports an ecosystem of extensions to support the IDE. We won\\'t install any here, but you can browse them in the JupyterLab *Extension Manager* if you\\'re interested.\\n\\n\\n### RStudio\\n\\n\\nUsers with an R background may prefer to stay in the RStudio IDE. We recommend installing the most recent version of the IDE from the [RStudio site](https://rstudio.com/products/rstudio/download/preview/) and then installing the most recent version of R from [CRAN](https://cran.r-project.org/). To use Python in RStudio, you will need to install the [reticulate](https://rstudio.github.io/reticulate/) R package by typing the following in the R console inside RStudio:\\n\\n```r\\ninstall.packages(\"reticulate\")\\n```\\n\\nWhen installing reticulate, you may be prompted to install the Anaconda distribution. If you have already installed the Anaconda distribution of Python (which we did earlier), answer \"no\" to installing Anaconda distribution at this prompt. Depending on your operating system and how your Python and R environments are set up, you may need to configure `reticulate` in different ways. The `reticulate` [documentation](https://rstudio.github.io/reticulate/) can help you with this set up.\\n\\n\\n### Collaborative package development and packaging in the cloud\\n\\n\\nGit and GitHub make it easy for others to collaborate on your Python packages, and we will use these tools in this book. In this workflow, collaborators create a copy of a package\\'s code from GitHub on their local machine, make changes to it, and then \"push\" those changes back to the remote GitHub repository. This is an effective way of making and tracking changes to a code base over time in a collaborative environment.\\n\\nThere also exists other options for collaborative software development that allow collaborators to directly edit source code (without having to make a copy of it), potentially simultaneously. Such a workflow might be particularly suited to collaborators that want to develop together in real-time, leverage cloud resources, or keep their work in private servers/hardware. Some current options for this kind of collaborative software development include:\\n- [Visual Studio Live Share](https://visualstudio.microsoft.com/services/live-share/): real-time collaborative development in VS Code. \\n- [Google Colab](https://colab.research.google.com/): Jupyter notebooks that can be shared with collaborators via Google Drive. Collaborators can then view, edit or comment on these notebooks. While Python .py files can\\'t be be created in Google Colab, they can be shared via Google Drive and accessed in the Google Colab environment.\\n- [JupyterHub](https://jupyter.org/hub): facilitates groups of users to interact within a shared Jupyter ecosystem that runs on private hardware or the cloud. A key advantage of JupyterHub is that it gives users access to collaborative computational environments without burdening the users with software installation.\\n'"
      ]
     },
     "execution_count": 41,
     "metadata": {},
     "output_type": "execute_result"
    }
   ],
   "source": [
    "text"
   ]
  },
  {
   "cell_type": "code",
   "execution_count": 9,
   "metadata": {},
   "outputs": [
    {
     "data": {
      "text/plain": [
       "['```{figure} images/vscode-1.png\\n---\\nwidth: 750px\\nname: 02_vscode-1\\nalt: Installing the Python extension in Visual Studio Code.\\n---\\nInstalling the Python extension in Visual Studio Code.\\n```',\n",
       " '```{figure} images/vscode-2.png\\n---\\nwidth: 750px\\nname: 02_vscode_2\\nalt: Executing a simple Python file called hello-world.py from the integrated terminal in Visual Studio Code.\\n---\\nExecuting a simple Python file called *hello-world.py* from the integrated terminal in Visual Studio Code.\\n```',\n",
       " '```{figure} images/jupyterlab.png\\n---\\nwidth: 750px\\nname: 02_jupyterlab\\nalt: Executing a simple Python file called hello-world.py from a terminal in JupyterLab.\\n---\\nExecuting a simple Python file called *hello-world.py* from a terminal in JupyterLab.\\n```']"
      ]
     },
     "execution_count": 9,
     "metadata": {},
     "output_type": "execute_result"
    }
   ],
   "source": [
    "figures"
   ]
  },
  {
   "cell_type": "code",
   "execution_count": 8,
   "metadata": {},
   "outputs": [
    {
     "data": {
      "text/plain": [
       "'---\\njupyter:\\n  jupytext:\\n    text_representation:\\n      extension: .Rmd\\n      format_name: rmarkdown\\n      format_version: \\'1.2\\'\\n      jupytext_version: 1.8.2\\n  kernelspec:\\n    display_name: Python 3\\n    language: python\\n    name: python3\\n---\\n\\n(02:System-setup)=\\n# System setup\\n\\n\\nIf you intend to follow along with the code presented in this book, we recommend you follow these setup instructions so that you will run into fewer technical issues.\\n\\n\\n## Installing Python\\n\\n\\nWe recommend installing the latest version of Python via the Anaconda distribution by following the instructions in the [Anaconda documentation](https://docs.anaconda.com/anaconda/install/). Anaconda is a Python distribution that includes Python, the `conda`  package and environment manager, and a number of commonly used Python libraries and dependencies. If you\\'d prefer to install packages as you need them, feel free to install Python via the [Miniconda](https://docs.conda.io/en/latest/miniconda.html) distribution instead, which is a lightweight version of Anaconda that essentially comes with Python, `conda` and only a few key packages. If you have previosuly installed the Anaconda or Miniconda distribution, ensure that Python and `conda` are up to date by running the following command in your terminal:\\n\\n```bash\\nconda update --all\\n```\\n\\nIf you\\'re not familiar with `conda`, it is a piece of software that simplifies the process of installing and updating software (like Python packages). It is also an environment manager which is the key function we\\'ll be using it for in this text. An environment manager helps you create \"virtual environments\" on your machine where you can safely install different packages and their dependencies in an isolated location. Installing all the packages you need in the same place (i.e., the system default location) can be problematic, because different packages have different dependencies, and as you install more packages, you\\'ll inevitably get conflicts between packages and your code will start to break. Virtual environments help you compartmentalise and isolate the packages you are using for different projects to avoid this issue. While alternative package and environment managers exist, we choose to use `conda` in this book because of its popularity, ease-of-use, and ability to handle any software stack (not just Python!).\\n\\nOnce you\\'ve installed the Anaconda distribution, use `conda` to install `poetry` ([a package](https://python-poetry.org/) that will help us build our own Python packages) and `cookiecutter` ([a package](https://github.com/cookiecutter/cookiecutter) that will help us create packages from pre-made templates) with the following command:\\n\\n```bash\\nconda install -c conda-forge poetry cookiecutter\\n```\\n\\n\\n## Register for a PyPI account\\n\\n\\nPyPI is the official online software repository for Python. A software repository is a storage location for downloadable software, like Python packages. In this book we\\'ll be publishing a package on PyPI. Before publishing packages on PyPI, it is typical to \"test drive\" their publication on TestPyPI which is a test version of PyPI. To follow along with this book, you should register for a TestPyPI account on the [TestPyPI website](https://test.pypi.org/account/register/) and a PyPI account on the [PyPI website](https://pypi.org/account/register/).\\n\\n\\n## Install Git and register for a GitHub account\\n\\n\\nIf you\\'re not using a version control system, we highly recommend you get into the habit! A version control system tracks changes to the file(s) of your project in a clear and organised way (no more \"document_1.doc\", \"document_1_new.doc\", \"document_final.doc\", etc.). A VCS works by storing a master copy of your project in a \"repository\" which you don’t edit directly. Instead, you edit a copy of the project file(s), and then *commit* changes back to the repository. In this way, a VCS contains a full history of all the revisions made to your project which you can view and retrieve at any time.\\n\\nThere are many version control systems available, but the most common is Git and we\\'ll be using it throughout this book. You can download Git by following the instructions in the [Git documentation](https://git-scm.com/book/en/v2/Getting-Started-Installing-Git). Git will help us track changes to our project on our local computers, but what if we want to collaborate with others? Or, what happens if our computer crashes? That\\'s where GitHub comes in. GitHub is one of many online services for hosting Git-managed projects. GitHub helps you create an online version of your local Git repository which acts as a back-up of your local work and allows others to easily and transparently collaborate on your project. You can sign up for a GitHub account on the [GitHub website](https://www.github.com).\\n\\n\\n## Python integrated development environments\\n\\n\\nA Python integrated development environment (IDE) will make the process of creating Python packages significantly easier. An IDE is a piece of software that provides advanced functionality for code development such as directory and file creation and navigation, code refactoring, autocomplete, debugging, and syntax highlighting, to name a few. Put simply, an IDE will save you time and help you write better code. Commonly used free Python IDEs include [Visual Studio Code](https://code.visualstudio.com/), [Atom](https://atom.io/), [Sublime Text](https://www.sublimetext.com/), [Spyder](https://www.spyder-ide.org/), and [PyCharm Community Edition](https://www.jetbrains.com/pycharm/). For those more familiar with the popular Jupyter ecosystem, [JupyterLab](https://jupyter.org/) is an alternative browser-based IDE. Finally, for the R community, the [RStudio IDE](https://rstudio.com/products/rstudio/download/) also supports Python.\\n\\nYou\\'ll be able to follow along with the examples presented in this book regardless of what IDE you choose to develop your Python code in. Below, we will briefly describe how to set up Visual Studio Code, JupyterLab, and RStudio as Python IDEs (these are the IDEs we personally use in our day-to-day work). If you don\\'t know which IDE to use, we recommend starting with Visual Studio Code.\\n\\n\\n### Visual Studio Code\\n\\n\\nYou can download Visual Studio Code (VS Code) from [the Visual Studio Code website](https://code.visualstudio.com/). Once you\\'ve installed VS Code, you should install the \"Python\" extension from the VS Code *Marketplace*. To do this, you should:\\n1. Open the *Marketplace* by clicking the *Extensions* tab on the VS Code activity bar;\\n2. Search for \"Python\" in the search bar;\\n3. Select the extension named \"Python\" and then click *Install*.\\n\\n```{figure} images/vscode-1.png\\n---\\nwidth: 750px\\nname: 02_vscode-1\\nalt: Installing the Python extension in Visual Studio Code.\\n---\\nInstalling the Python extension in Visual Studio Code.\\n```\\n\\nOnce this is done, you have everything you need to start creating packages! For example, you can create files and directories from the *File Explorer* tab on the VS Code activity bar and you can open up an integrated terminal by clicking selecting *Terminal* from the *View* menu.\\n\\n```{figure} images/vscode-2.png\\n---\\nwidth: 750px\\nname: 02_vscode_2\\nalt: Executing a simple Python file called hello-world.py from the integrated terminal in Visual Studio Code.\\n---\\nExecuting a simple Python file called *hello-world.py* from the integrated terminal in Visual Studio Code.\\n```\\n\\nWe recommend you take a look at the VS Code [Getting Started Guide](https://code.visualstudio.com/docs) to learn more about VS Code. While you don\\'t need to install any additional extensions to start creating packages in VS Code, there are many extensions available that can support and streamline your programming workflows in VS Code. Here\\'s a few we currently recommend installing (you can search for and install these from the *Marketplace* just as we did earlier):\\n- Python Docstring Generator\\n- Bracket Pair Colorizer 2\\n- Markdown All in One\\n- markdownlint\\n- reStructuredText\\n- Material Icon Theme\\n- Material Theme\\n\\n\\n### JupyterLab\\n\\n\\nFor those comfortable in the Jupyter ecosystem feel free to stay there. JupyterLab is a browser-based IDE that supports all of the core functionality we need to create packages. As per the [JupyterLab installation instructions](https://jupyterlab.readthedocs.io/en/stable/getting_started/installation.html), you can install JupyterLab with:\\n\\n```sh\\nconda install -c conda-forge jupyterlab\\n```\\n\\nOnce installed, you can launch JupyterLab from your current directory using:\\n\\n```sh\\njupyter-lab\\n```\\n\\nAt a minimum for package development, we need to be able to create files and directories and have access to a terminal. In JupyterLab, you can create files and directories from the *File Browser* and can open up an integrated terminal from the *File* menu or a *Launcher* pane.\\n\\n```{figure} images/jupyterlab.png\\n---\\nwidth: 750px\\nname: 02_jupyterlab\\nalt: Executing a simple Python file called hello-world.py from a terminal in JupyterLab.\\n---\\nExecuting a simple Python file called *hello-world.py* from a terminal in JupyterLab.\\n```\\n\\nWe recommend you take a look at the JupyterLab [documentation](https://jupyterlab.readthedocs.io/en/stable/index.html) to learn more about how to use Jupyterlab. In particular, we\\'ll note that, like VS Code, JupyterLab also supports an ecosystem of extensions to support the IDE. We won\\'t install any here, but you can browse them in the JupyterLab *Extension Manager* if you\\'re interested.\\n\\n\\n### RStudio\\n\\n\\nUsers with an R background may prefer to stay in the RStudio IDE. We recommend installing the most recent version of the IDE from the [RStudio site](https://rstudio.com/products/rstudio/download/preview/) and then installing the most recent version of R from [CRAN](https://cran.r-project.org/). To use Python in RStudio, you will need to install the [reticulate](https://rstudio.github.io/reticulate/) R package by typing the following in the R console inside RStudio:\\n\\n```r\\ninstall.packages(\"reticulate\")\\n```\\n\\nWhen installing reticulate, you may be prompted to install the Anaconda distribution. If you have already installed the Anaconda distribution of Python (which we did earlier), answer \"no\" to installing Anaconda distribution at this prompt. Depending on your operating system and how your Python and R environments are set up, you may need to configure `reticulate` in different ways. The `reticulate` [documentation](https://rstudio.github.io/reticulate/) can help you with this set up.\\n\\n\\n### Collaborative package development and packaging in the cloud\\n\\n\\nGit and GitHub make it easy for others to collaborate on your Python packages, and we will use these tools in this book. In this workflow, collaborators create a copy of a package\\'s code from GitHub on their local machine, make changes to it, and then \"push\" those changes back to the remote GitHub repository. This is an effective way of making and tracking changes to a code base over time in a collaborative environment.\\n\\nThere also exists other options for collaborative software development that allow collaborators to directly edit source code (without having to make a copy of it), potentially simultaneously. Such a workflow might be particularly suited to collaborators that want to develop together in real-time, leverage cloud resources, or keep their work in private servers/hardware. Some current options for this kind of collaborative software development include:\\n- [Visual Studio Live Share](https://visualstudio.microsoft.com/services/live-share/): real-time collaborative development in VS Code. \\n- [Google Colab](https://colab.research.google.com/): Jupyter notebooks that can be shared with collaborators via Google Drive. Collaborators can then view, edit or comment on these notebooks. While Python .py files can\\'t be be created in Google Colab, they can be shared via Google Drive and accessed in the Google Colab environment.\\n- [JupyterHub](https://jupyter.org/hub): facilitates groups of users to interact within a shared Jupyter ecosystem that runs on private hardware or the cloud. A key advantage of JupyterHub is that it gives users access to collaborative computational environments without burdening the users with software installation.\\n'"
      ]
     },
     "execution_count": 8,
     "metadata": {},
     "output_type": "execute_result"
    }
   ],
   "source": [
    "text_new"
   ]
  },
  {
   "cell_type": "code",
   "execution_count": 28,
   "metadata": {},
   "outputs": [
    {
     "data": {
      "text/plain": [
       "['200']"
      ]
     },
     "execution_count": 28,
     "metadata": {},
     "output_type": "execute_result"
    }
   ],
   "source": [
    "re.findall(\"width: (.+)(?=px|%)\", figures[0])"
   ]
  },
  {
   "cell_type": "code",
   "execution_count": null,
   "metadata": {},
   "outputs": [],
   "source": []
  }
 ],
 "metadata": {
  "kernelspec": {
   "display_name": "Python 3",
   "language": "python",
   "name": "python3"
  },
  "language_info": {
   "codemirror_mode": {
    "name": "ipython",
    "version": 3
   },
   "file_extension": ".py",
   "mimetype": "text/x-python",
   "name": "python",
   "nbconvert_exporter": "python",
   "pygments_lexer": "ipython3",
   "version": "3.7.8"
  }
 },
 "nbformat": 4,
 "nbformat_minor": 4
}
