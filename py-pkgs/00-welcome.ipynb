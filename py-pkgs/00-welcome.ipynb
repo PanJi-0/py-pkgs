{
 "cells": [
  {
   "cell_type": "markdown",
   "metadata": {},
   "source": [
    "(00:welcome)=\n",
    "# Welcome to Python Packages!"
   ]
  },
  {
   "cell_type": "markdown",
   "metadata": {},
   "source": [
    "[Tomas Beuzen](https://www.tomasbeuzen.com/) & [Tiffany Timbers](http://tiffanytimbers.com)"
   ]
  },
  {
   "cell_type": "markdown",
   "metadata": {},
   "source": [
    "Python packages are the fundamental unit of shareable code in Python. Packages make it easy to reuse and maintain your code,  and are how you share your code with your colleagues and the wider Python community. *Python Packages* is an open source textbook that describes modern and efficient workflows for creating Python packages. It's scope and intent is inspired by the [R packages](https://r-pkgs.org/) book written by Hadley Wickham and Jenny Bryan.\n",
    "\n",
    "This book is currently under development. Please feel free to provide comments or suggestions in a [GitHub issue](https://github.com/UBC-MDS/py-pkgs/issues).\n",
    "\n",
    "```{figure} images/py-pkgs-hex.png\n",
    "---\n",
    "height: 300px\n",
    "name: py-pkg\n",
    "---\n",
    "The Py-Pkgs hex.\n",
    "```"
   ]
  },
  {
   "cell_type": "markdown",
   "metadata": {},
   "source": [
    "## Why read this book?"
   ]
  },
  {
   "cell_type": "markdown",
   "metadata": {},
   "source": [
    "Python packages are a core element of the Python programming language and are how you write reuseable and shareable code in Python. Despite their importance, packages can be difficult to understand and cumbersome to create for beginners and seasoned developers alike. This book aims to describe the packaging process at an accessible level for data scientists, developers and hobbyist programmers. Along the way, we'll walk through the development of a real Python package and will explore all the key elements of Python packaging, including; package structure, when and why to write tests and documentation, and how to maintain and update your package with the help of automated CI/CD pipelines.\n",
    "\n",
    "By reading this book, you will:\n",
    "- Understand what Python packages are and why and when you should use them.\n",
    "- Be able to build your own Python package from scratch.\n",
    "- Learn how to document your Python code and packages, and how to render this documentation into a coherent, shareable document.\n",
    "- Write automated and formal tests for your code.\n",
    "- Learn how to release your package on the Python Package Index (PyPI) and discover best practices for updating and versioning your code.\n",
    "- Implement automation and CI/CD pipelines to build, test, and deploy your package and update its dependencies.\n",
    "- Get tips on Python coding style, best-practice packaging workflows, and other useful development tools."
   ]
  },
  {
   "cell_type": "markdown",
   "metadata": {},
   "source": [
    "## Structure of the book"
   ]
  },
  {
   "cell_type": "markdown",
   "metadata": {},
   "source": [
    "**Chapter 1: Introduction** first gives a brief introduction to packages in Python and why you should know how to make them. **Chapter 2: System Setup** describes how to set up your development environment to develop packages and follow along with the remainder of the book. In **Chapter 3: Package It Up**, we will develop a small toy package from end-to-end to get a feel for the steps involved in the packaging process and to understand the final product we are aiming for. The remaining chapters then unpack this workflow and go into more details about each step in the packaging process, organised roughly in their order in the workflow:\n",
    "\n",
    "- **Chapter 4: Package Structure and State** \n",
    "- **Chapter 5: Testing**\n",
    "- **Chapter 6: Documentation**\n",
    "- **Chapter 7: Releasing and versioning**\n",
    "- **Chapter 8: Continuous integration and deployment**\n",
    "- **Chapter 9: Packages with a command line interface**\n",
    "- **Chapter 10: Python packaging cheat sheet**"
   ]
  },
  {
   "cell_type": "markdown",
   "metadata": {},
   "source": [
    "## About the authors"
   ]
  },
  {
   "cell_type": "markdown",
   "metadata": {},
   "source": [
    "Tomas Beuzen is a Postdoctoral Teaching & Learning Fellow in the Department of Statistics at the University of British Columbia. He is an active member of the Python, data science pedagogy, and data-driven Earth science research communities. He is interested in developing accessible, open-source, educational data science material.\n",
    "\n",
    "```{figure} images/tomas-beuzen.png\n",
    "---\n",
    "height: 200px\n",
    "name: tomas-beuzen\n",
    "---\n",
    "Tomas Beuzen.\n",
    "```\n",
    "\n",
    "Tiffany Timbers is an Assistant Professor of Teaching in the Department of Statistics and an Co-Director for the Master of Data Science program (Vancouver Option) at the University of British Columbia. In these roles she teaches and develops curriculum around the responsible application of Data Science to solve real-world problems. One of her favourite courses she teaches is a graduate course on collaborative software development, which focuses on teaching how to create R and Python packages using modern tools and workflows.\n",
    "\n",
    "```{figure} images/tiffany-timbers.png\n",
    "---\n",
    "height: 200px\n",
    "name: tiffany-timbers\n",
    "---\n",
    "Tiffany Timbers.\n",
    "```"
   ]
  },
  {
   "cell_type": "markdown",
   "metadata": {},
   "source": [
    "## Acknowledgements"
   ]
  },
  {
   "cell_type": "markdown",
   "metadata": {},
   "source": [
    "We'd like to thank everyone that has contributed to the development of **Python Packages**. This is an open source textbook that began as supplementary material for the University of British Columbia's Master of Data Science program and was subsequently developed openly on GitHub where it has been read, revised, and supported by many students, educators, practioners and hobbyists. Without you all, this book wouldn’t be nearly as good as it is, and we are deeply grateful. A special thanks to those who directly contributed to the text via GitHub (in alphabetical order): `@Carreau`, `@dcslagel`.\n",
    "\n",
    "We would also like to acknowledge the software used to develop this book. This book was written in [JupyterLab](https://jupyterlab.readthedocs.io/en/stable/index.html), compiled using [Jupyter Book](https://jupyterbook.org/intro.html), is hosted on [GitHub](https://github.com/), and the [online version](https://py-pkgs.org/) is deployed with [Netlify](https://www.netlify.com/)."
   ]
  }
 ],
 "metadata": {
  "kernelspec": {
   "display_name": "Python 3",
   "language": "python",
   "name": "python3"
  },
  "language_info": {
   "codemirror_mode": {
    "name": "ipython",
    "version": 3
   },
   "file_extension": ".py",
   "mimetype": "text/x-python",
   "name": "python",
   "nbconvert_exporter": "python",
   "pygments_lexer": "ipython3",
   "version": "3.9.1"
  },
  "toc-autonumbering": false
 },
 "nbformat": 4,
 "nbformat_minor": 4
}
