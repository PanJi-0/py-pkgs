{
 "cells": [
  {
   "cell_type": "markdown",
   "metadata": {},
   "source": [
    "(03:How-to-package-a-Python)=\n",
    "# How to package a Python\n",
    "<hr>"
   ]
  },
  {
   "cell_type": "markdown",
   "metadata": {},
   "source": [
    "To start this book, we will first develop an entire example Python package from beginning to end. This chapter forms the foundation of this book and aims to clearly and simply demonstrate the key steps involved in developing a Python package. Later chapters will explore each of these steps in more detail."
   ]
  },
  {
   "cell_type": "markdown",
   "metadata": {},
   "source": [
    "## partypy: simulate attendance at your party!"
   ]
  },
  {
   "cell_type": "markdown",
   "metadata": {},
   "source": [
    "The example package we are going to create in this chapter will help us simulate guest attendance at an event - we'll call it `partpy`. Have you ever planned a party, a wedding, a conference, or any other kind of event and wondered how many of the invited guests will actually show up? Knowing this can be helpful for organizing things like seating and catering.\n",
    "\n",
    "One way we can estimate how many guests will attend an event is by using simulations. The general idea is to assign a \"probability of attendance\" to each invited guest and then run a simulation of the event where we model each guest's attendance using the probability we assigned them. We can repeat this process as many times as we like to generate multiple estimates of how many guests might attend our real-life event.\n",
    "\n",
    "We'll explore this concept further as we progress through the chapter, but below is an example of what the `partpy` package we are going to build can do. We'll first load in an example guest list of 100 guests, each with their own probability of attendance, using the `pandas` package and a csv file that is available in this book's [GitHub repository](https://github.com/UBC-MDS/py-pkgs/blob/master/docs/toy-data/party.csv):\n",
    "\n",
    "```{note}\n",
    "For this book, we assume readers have basic familiarity with the popular Python packages `numpy` and `pandas`.\n",
    "```"
   ]
  },
  {
   "cell_type": "markdown",
   "metadata": {},
   "source": [
    "```{prompt} python >>> auto\n",
    ">>> import pandas as pd\n",
    ">>> guest_list = pd.read_csv(\"https://raw.githubusercontent.com/UBC-MDS/py-pkgs/master/docs/toy-data/party.csv\")\n",
    ">>> guest_list\n",
    "```\n",
    "\n",
    "```python\n",
    "               name  probability_of_attendance\n",
    "0    Donovan Willis                       0.70\n",
    "1   Jocelyn Navarro                       0.70\n",
    "2     Houston Stein                       0.90\n",
    "3    Carlos Mullins                       0.50\n",
    "4    Bridger Pruitt                       0.70\n",
    "..              ...                        ...\n",
    "95   Maddox Santana                       0.50\n",
    "96    Ariel Proctor                       0.50\n",
    "97       Pedro Hull                       0.90\n",
    "98  Janessa Collins                       0.95\n",
    "99   Kendrick Burke                       0.30\n",
    "```"
   ]
  },
  {
   "cell_type": "markdown",
   "metadata": {},
   "source": [
    "We'll now use `partypy` to run 500 simulations of a party and plot the results in a histogram:"
   ]
  },
  {
   "cell_type": "markdown",
   "metadata": {},
   "source": [
    "```{prompt} python >>> auto\n",
    ">>> from partypy.simulate import simulate_party\n",
    ">>> from partypy.plotting import plot_simulation\n",
    ">>> results = simulate_party(p=guest_list[\"probability_of_attendance\"], n_simulations=500)\n",
    ">>> print(f\"Average guests: {results[\"Total guests\"].mean()}\")\n",
    "```\n",
    "\n",
    "```console\n",
    "68.81\n",
    "```\n",
    "\n",
    "\n",
    "```{prompt} python >>> auto\n",
    ">>> plot_simulation(results)\n",
    "```\n",
    "\n",
    "```{figure} images/altair-plot-1.png\n",
    "---\n",
    "width: 60%\n",
    "name: 03-altair-plot-1a\n",
    "alt: Histogram of simulation results.\n",
    "---\n",
    "Histogram of simulation results.\n",
    "```"
   ]
  },
  {
   "cell_type": "markdown",
   "metadata": {},
   "source": [
    "## Package structure"
   ]
  },
  {
   "cell_type": "markdown",
   "metadata": {},
   "source": [
    "The first thing we need to do to develop our `partypy` package is create an appropriate directory structure. Without getting too technical, a Python package is just a collection of Python modules. A module is a file with a *.py* extension that contains Python definitions and statements such as functions, classes, variables, and/or executable statements. The code you wish to easily reuse and potentially share with others will be contained within your package's modules. Along with these Python modules, packages typically include additional files such as documentation and tests that together, define a self-contained, shareable, and interpretable piece of software.\n",
    "\n",
    "We'll discuss modules and Python package structure in detail in **Chapter 4: {ref}`04:Package-structure-and-distribution`**. While you can create your Python package structure from scratch if you know what you're doing, it's typically easier to use a pre-made template to set up your package structure and that's what we'll do here. We will use the Python package `cookiecutter` (which you installed back in **Chapter 2: {ref}`02:System-setup`**) to quickly create our package structure for us.\n",
    "\n",
    "The `cookiecutter` package is a tool for populating a file and directory structure from a pre-made template. People have developed and open-sourced many different `cookiecutter` templates for different projects, such as for creating Python packages, R packages, websites, etc. You can find these templates by, for example, searching online repositories on [GitHub](https://www.github.com). We have developed our own `cookiecutter` [template](https://github.com/UBC-MDS/cookiecutter-ubc-mds) for creating Python packages to supplement this book. To use the `cookiecutter` template to set up the structure of our Python package, open up a terminal, change into the directory where you want your package to live and run the line of code below:\n",
    "\n",
    "```{prompt} bash \\$ auto\n",
    "$ cookiecutter https://github.com/UBC-MDS/cookiecutter-ubc-mds.git\n",
    "```\n",
    "\n",
    "You will be prompted to provide information that will help customize the project and pre-populate files with information. Below is an example of how to respond to these prompts (default values for each attribute are shown in square brackets and hitting enter without entering any text will accept the default value). In this tutorial we will be calling our package `partypy`, however, we will eventually be publishing our package to Python's main package index [PyPI](https://pypi.org/). Package names on PyPI must be unique. As a result, **if you plan to follow along with this tutorial you should choose a unique name for your package**. Something like `partypy_[your intials]` might be appropriate, but you can always check if a particular name is already taken by visiting PyPI and searching for that name.\n",
    "\n",
    "```console\n",
    "author_name [Monty Python]: Tomas Beuzen\n",
    "github_username [mpython]: TomasBeuzen\n",
    "project_name [My Python package]: partypy\n",
    "project_slug [partypy]: \n",
    "project_short_description [A package for doing great things!]: Simulate attendance at your party!\n",
    "version [0.1.0]: \n",
    "python_version [3.9]: \n",
    "Select open_source_license:\n",
    "1 - MIT\n",
    "2 - Apache License 2.0\n",
    "3 - GNU General Public License v3.0\n",
    "4 - Creative Commons Attribution 4.0\n",
    "5 - None\n",
    "Choose from 1, 2, 3, 4, 5 [1]: \n",
    "Select include_github_actions:\n",
    "1 - no\n",
    "2 - build\n",
    "3 - build+deploy\n",
    "Choose from 1, 2, 3 [1]: \n",
    "```\n",
    "\n",
    "```{attention}\n",
    "Most of the options above are fairly self-explanatory but you'll learn more about each one as you make your way through this book. If this is your first time, just follow our lead above but be sure to use your own `author_name`, `github_username` and unique package name, such as `partypy_[your intials]`.\n",
    "\n",
    "It's worth noting that in the example above we chose not to include any GitHub Actions files in our initial directory structure. GitHub Actions can help automate the building, testing and deployment of your Python package. We'll explore these topics in more detail in **Chapter 8: {ref}`08:Continuous-integration-and-deployment`**.\n",
    "```\n",
    "\n",
    "After responding to the `cookiecutter` prompts, we now have a new directory called `partypy`, with the following structure:\n",
    "\n",
    "```\n",
    "partypy\n",
    "├── .gitignore\n",
    "├── .readthedocs.yml\n",
    "├── CHANGELOG.md\n",
    "├── CONDUCT.md\n",
    "├── CONTRIBUTING.md\n",
    "├── docs\n",
    "│   ├── make.bat\n",
    "│   ├── Makefile\n",
    "│   ├── requirements.txt\n",
    "│   └── source\n",
    "│       ├── changelog.md\n",
    "│       ├── conduct.md\n",
    "│       ├── conf.py\n",
    "│       ├── contributing.md\n",
    "│       ├── index.md\n",
    "│       ├── installation.md\n",
    "│       └── usage.ipynb\n",
    "├── LICENSE\n",
    "├── pyproject.toml\n",
    "├── README.md\n",
    "├── src\n",
    "│   └── partypy\n",
    "│       ├── __init__.py\n",
    "│       └── partypy.py\n",
    "└── tests\n",
    "    └── test_partypy.py\n",
    "```\n",
    "\n",
    "This simple step has given us a file and directory structure suitable for building a fully-featured Python package. While there are quite a few files here, at this point we only need to worry about a few of these to get a working package together (we'll explore the others in later chapters). Specifically, we'll be working on:\n",
    "\n",
    "1. `pyproject.toml`: the file that defines our project's metadata, dependencies, and how it will be built for distribution;\n",
    "2. `src/`: the directory where we will write the Python source code (*.py* files) for our package;\n",
    "3. `tests/`: the directory where we will write tests to ensure that our package's functions work as we expect; and,\n",
    "4. `docs/`: the directory where we will write and build documentation for our package."
   ]
  },
  {
   "cell_type": "markdown",
   "metadata": {},
   "source": [
    "## Putting your project under version control"
   ]
  },
  {
   "cell_type": "markdown",
   "metadata": {},
   "source": [
    "Before continuing to develop our package it is generally good practice to put your projects under local and remote version control, to better track changes to the project over time and to facilitate collaboration (if desired). The tools we recommend using for this are Git & GitHub (which we set up in **Chapter 2: {ref}`02:System-setup`)**. \n",
    "\n",
    "```{note}\n",
    "For this book, we assume readers have [basic Git skills](https://git-scm.com/book/en/v2/Git-Basics-Getting-a-Git-Repository).\n",
    "```"
   ]
  },
  {
   "cell_type": "markdown",
   "metadata": {},
   "source": [
    "### Set up local version control"
   ]
  },
  {
   "cell_type": "markdown",
   "metadata": {},
   "source": [
    "To set up local version control from a terminal, enter the root `partypy` directory, and initialize the project as a repository to be tracked by Git using:\n",
    "\n",
    "```{prompt} bash \\$ auto\n",
    "$ cd partypy\n",
    "$ git init\n",
    "```\n",
    "\n",
    "```console\n",
    "Initialized empty Git repository in /Users/tomasbeuzen/GitHub/py-pkgs/partypy/.git/\n",
    "```\n",
    "\n",
    "Next, we need to tell Git which files to track (which will be all of them at this point) and then commit these changes locally:\n",
    "\n",
    "```{prompt} bash \\$ auto\n",
    "$ git add .\n",
    "$ git commit -m \"initial package setup\"\n",
    "```\n",
    "\n",
    "```console\n",
    "[master (root-commit) 8b4edcb] initial package setup\n",
    " 21 files changed, 601 insertions(+)\n",
    " create mode 100644 .gitignore\n",
    " create mode 100644 .readthedocs.yml\n",
    " create mode 100755 CONDUCT.md\n",
    " ...\n",
    " create mode 100644 src/partypy/__init__.py\n",
    " create mode 100644 src/partypy/partypy.py\n",
    " create mode 100644 tests/test_partypy.py\n",
    "```"
   ]
  },
  {
   "cell_type": "markdown",
   "metadata": {},
   "source": [
    "### Set up remote version control"
   ]
  },
  {
   "cell_type": "markdown",
   "metadata": {},
   "source": [
    "Now that we have set up our local version control, let's create a repository on [GitHub](https://github.com/) and set that as the remote version control home for this project. Head over to [GitHub](https://www.github.com) and create a new repository as demonstrated in the image below:\n",
    "\n",
    "```{figure} images/set-up-github-1.png\n",
    "---\n",
    "width: 100%\n",
    "name: 03-set-up-github-1\n",
    "alt: Creating a new repository in GitHub.\n",
    "---\n",
    "Creating a new repository in GitHub.\n",
    "```\n",
    "\n",
    "To follow along with this tutorial, select the following options when setting up your GitHub repository: \n",
    "\n",
    "1. Give the GitHub repository the same name as your Python package and give it a short description;\n",
    "2. Make the GitHub repository public; and,\n",
    "3. Do not initialize the GitHub.com repository with any files (we've already created the files we need using our `cookiecutter` template).\n",
    "\n",
    "```{figure} images/set-up-github-2.png\n",
    "---\n",
    "width: 100%\n",
    "name: 03-github-2\n",
    "alt: Setting up a new repository in GitHub.\n",
    "---\n",
    "Setting up a new repository in GitHub.\n",
    "```\n",
    "\n",
    "Next, copy the remote link to your repository and then use the commands below to link your local repository with the remote repository, and push your project to GitHub:\n",
    "\n",
    "```{figure} images/set-up-github-3.png\n",
    "---\n",
    "width: 100%\n",
    "name: 03-github-3\n",
    "alt: Instructions on how to link local and remote repositories.\n",
    "---\n",
    "Instructions on how to link local and remote repositories.\n",
    "```\n",
    "\n",
    "```{prompt} bash \\$ auto\n",
    "$ git remote add origin git@github.com:TomasBeuzen/partypy.git\n",
    "$ git branch -M main\n",
    "$ git push -u origin main\n",
    "```\n",
    "\n",
    "```console\n",
    "Enumerating objects: 28, done.\n",
    "Counting objects: 100% (28/28), done.\n",
    "Delta compression using up to 8 threads\n",
    "Compressing objects: 100% (20/20), done.\n",
    "Writing objects: 100% (28/28), 8.77 KiB | 2.19 MiB/s, done.\n",
    "Total 28 (delta 0), reused 0 (delta 0)\n",
    "To github.com:TomasBeuzen/partypy.git\n",
    " * [new branch]      main -> main\n",
    "Branch 'main' set up to track remote branch 'main' from 'origin'.\n",
    "```\n",
    "\n",
    "```{attention}\n",
    "To be clear, the commands above should be specific to your GitHub username and the name of your Python package. The example above uses SSH authentication with GitHub which we recommend setting up. SSH is useful for connecting to GitHub without having to supply your username and password every time. If you're interested in setting up SSH, take a look at the [GitHub documentation](https://docs.github.com/en/github/authenticating-to-github/connecting-to-github-with-ssh). If you don't have SSH authentication set up, HTTPS authentication works as well and would require the use of the following url in place of the one shown above to set the remote: `https://github.com/TomasBeuzen/partypy.git`. \n",
    "```"
   ]
  },
  {
   "cell_type": "markdown",
   "metadata": {},
   "source": [
    "## Creating a virtual environment"
   ]
  },
  {
   "cell_type": "markdown",
   "metadata": {},
   "source": [
    "Before we get started writing the Python code for our package, it is good practice to set up a virtual environment for our project. A virtual environment will help isolate our package and its dependencies from other software installed on our computer. There are several options available when it comes to creating and managing virtual environments (e.g., `conda`, `virtualenv`, etc.). We will use `conda` (which we installed back in **Chapter 2: {ref}`02:System-setup`**)) because it is a simple, commonly-used, and effective tool for managing virtual environments.\n",
    "\n",
    "To use `conda` to create and activate a new virtual environment called `partypy` that includes Python 3.9, run the following in your terminal:\n",
    "\n",
    "```{prompt} bash \\$ auto\n",
    "$ conda create --name partypy python=3.9 -y\n",
    "```\n",
    "\n",
    "To use this new environment for developing and installing software, we should \"activate\" the environment:\n",
    "\n",
    "```{prompt} bash \\$ auto\n",
    "$ conda activate partypy\n",
    "```\n",
    "\n",
    "In most terminals, `conda` will by default add a prefix like `(partypy)` to your terminal prompt to indicate which environment you are working in. Anytime you wish to work on this package, you should activate this environment using the command above."
   ]
  },
  {
   "cell_type": "markdown",
   "metadata": {},
   "source": [
    "## Adding dependencies"
   ]
  },
  {
   "cell_type": "markdown",
   "metadata": {},
   "source": [
    "Let's review the steps we've taken so far:\n",
    "1. Set up our Python package structure using `cookiecutter`;\n",
    "2. Put our project under local and remote version control using `git` and GitHub; and,\n",
    "3. Created a virtual environment called `partypy` for our project.\n",
    "\n",
    "We're now ready to start writing code and building our package. Those with some experience with Python packages will be aware of `setuptools` which is the traditional library used for building Python packages. However for beginners, `setuptools` has, in our opinion, a reasonably steep and unintuitive learning curve and can pose a barrier to entry into the packaging world. Luckily, there are many modern packaging tools now available that lower this barrier and help streamline the packaging process. The packaging tool we'll be using in this book to help build packages is `poetry`, which we mentioned and installed in **Chapter 2: {ref}`02:System-setup`**. As you'll see throughout this book, `poetry` is a simple, intuitive, and efficient tool for building and distributing Python packages and managing your package's dependencies.\n",
    "\n",
    "Speaking of dependencies, often you'll know what other packages your package will depend on before even writing any code. For example, our `partypy` package is going to leverage the `numpy` and `pandas` packages. Thus, before we get started we should install these dependencies and record them as part of our package's metadata. It's fine if you don't know what dependencies your package will have in advance, you will be able to add new dependencies as you need them using the same workflow shown below (we'll also do this later in the chapter). We will use the command `poetry add` to add the `numpy` and `pandas` dependencies to our package. This command will install packages into the current environment and update the `[tool.poetry.dependencies]` section of the *`pyproject.toml`* file which currently only lists Python as a project dependency:\n",
    "\n",
    "```toml\n",
    "[tool.poetry.dependencies]\n",
    "python = \"^3.9\"\n",
    "```\n",
    "\n",
    "Let's add `numpy` and `pandas` as dependencies now by running the following in the terminal:\n",
    "\n",
    "```{prompt} bash \\$ auto\n",
    "$ poetry add numpy pandas\n",
    "```\n",
    "\n",
    "```console\n",
    "Using version ^1.21.1 for numpy\n",
    "Using version ^1.3.1 for pandas\n",
    "\n",
    "Updating dependencies\n",
    "Resolving dependencies... (6.4s)\n",
    "\n",
    "Writing lock file\n",
    "\n",
    "Package operations: 5 installs, 0 updates, 0 removals\n",
    "\n",
    "  • Installing six (1.16.0)\n",
    "  • Installing numpy (1.21.1)\n",
    "  • Installing python-dateutil (2.8.2)\n",
    "  • Installing pytz (2021.1)\n",
    "  • Installing pandas (1.3.1)\n",
    "```\n",
    "\n",
    "Now if we view our *`pyproject.toml`* file we see that `numpy` and `pandas` are listed as a dependencies:\n",
    "\n",
    "```toml\n",
    "[tool.poetry.dependencies]\n",
    "python = \"^3.9\"\n",
    "numpy = \"^1.21.1\"\n",
    "pandas = \"^1.3.1\"\n",
    "```\n",
    "\n",
    "```{tip}\n",
    "The caret (^) prefixing the version numbers above indicates that our project depends on a version of the library that does not change the leftmost non-zero section (which indicates a major version change). For example, our package could use `numpy` 1.21.1, 1.21.2, or 1.25.3, but not 2.1.3. We'll talk more about why this is and what the numbers above mean in **Chapter 7: {ref}`07:Releasing-and-versioning`**.\n",
    "\n",
    "For readers who have used *`requirements.txt`* before with `pip` or *`environment.yaml`* with `conda`, you can think of *`poetry.lock`* as the `poetry` equivalent of those files. As new versions of your specified dependencies become available, you can update your installed versions of them, within the constraints specified in *`pyproject.toml`*, by running `poetry update`.\n",
    "```\n",
    "\n",
    "Running `poetry add` actually changed two files, *`pyproject.toml`* (which we showed above and which records the metadata of our project) and *`poetry.lock`* (a record of all the packages, even the dependencies of our package's dependencies, and exact versions of them that `poetry` downloaded for this project).\n",
    "\n",
    "The changes we've made above are important for our package, so let's commit them to local and remote version control:\n",
    "\n",
    "```{prompt} bash \\$ auto\n",
    "$ git add pyproject.toml poetry.lock\n",
    "$ git commit -m \"build: add numpy and pandas as dependencies\"\n",
    "$ git push\n",
    "```\n",
    "\n",
    "```{tip}\n",
    "Different developers use different syntax and formats when using a version control system. Here we take inspiration for our commit messages from the [Angular style guidelines](https://github.com/angular/angular.js/blob/master/DEVELOPERS.md#-git-commit-guidelines), which take the basic form \"type: subject\", where \"type\" indicates the kind of change being made and \"subject\" contains a description of the change. In this book, we'll frequently use the follow types:\n",
    "- \"build\": indicates a change to the build system or external dependencies.\n",
    "- \"docs\": indicates a change to documentation.\n",
    "- \"feat\": indicates a new feature being added to the code base.\n",
    "- \"fix\": indicates a bug fix.\n",
    "- \"test\": indicates changes to testing framework.\n",
    "\n",
    "We'll talk more about versioning in **Chapter 7: {ref}`07:Releasing-and-versioning`** and **Chapter 8: {ref}`08:Continuous-integration-and-deployment`**.\n",
    "```"
   ]
  },
  {
   "cell_type": "markdown",
   "metadata": {},
   "source": [
    "## Your first package code"
   ]
  },
  {
   "cell_type": "markdown",
   "metadata": {},
   "source": [
    "We're now ready to write some Python code for our package! Recall that the package we want to create will estimate guest attendance at a party using simulations. The core idea is to assign a \"probability of attendance\" to each guest invited to the party and then simulate their attendance as a Bernoulli random variable. You can think of this as modelling each guest's attendance by flipping a coin with two sides, \"won't attend\" and \"attend\", but we can specify the probability of the coin landing on \"attend\". We can also flip the coin as many times as we like (i.e., run as many simulations as we like).\n",
    "\n",
    "We can run a Bernoulli simulation using the `binomial` function in the `numpy` library, with the argument `n=1` (for the statistically inclined, a Bernoulli random variable is the same as a Binomial random variable with a single trial). As an example, imagine we have a guest that we believe will attend our party with a probability of 0.9 (90%). We can simulate the attendance of that guest by first opening up an interactive Python interpreter:\n",
    "\n",
    "```{prompt} bash \\$ auto\n",
    "$ python\n",
    "```\n",
    "\n",
    "Then running the following code:"
   ]
  },
  {
   "cell_type": "markdown",
   "metadata": {},
   "source": [
    "```{prompt} python >>> auto\n",
    ">>> import numpy as np\n",
    ">>> np.random.binomial(n=1, p=0.9)\n",
    "```\n",
    "\n",
    "```python\n",
    "1\n",
    "```"
   ]
  },
  {
   "cell_type": "markdown",
   "metadata": {},
   "source": [
    "A value of `1` indicates the guest attended the party and a value of `0` indicates the guest did not attend the party. If you run the above code several times, you will see many `1`'s and a `0` every now and then. Rather than just re-running our code, we can repeat our simulation more efficiently using the `size` argument of the `binomial()` function. Let's run it 10 times:"
   ]
  },
  {
   "cell_type": "markdown",
   "metadata": {},
   "source": [
    "```{prompt} python >>> auto\n",
    ">>> simulations = 10\n",
    ">>> probability = 0.9\n",
    ">>> results = np.random.binomial(n=1, p=probability, size=simulations)\n",
    ">>> results\n",
    "```\n",
    "\n",
    "```python\n",
    "array([1, 1, 0, 1, 0, 0, 1, 0, 1, 1])\n",
    "```"
   ]
  },
  {
   "cell_type": "markdown",
   "metadata": {},
   "source": [
    "So our guest attended six of our simulated parties (there are six `1`'s). Now imagine we have three guests that we believe will attend our party with probabilities 0.3, 0.5, 0.9. We can simulate each guest's attendance in 10 simulations using the following code:"
   ]
  },
  {
   "cell_type": "markdown",
   "metadata": {},
   "source": [
    "```{prompt} python >>> auto\n",
    ">>> probability = [0.3, 0.5, 0.9]\n",
    ">>> results = np.random.binomial(n=1, p=probability, size=(simulations, len(probability)))\n",
    ">>> results\n",
    "```\n",
    "\n",
    "```python\n",
    "array([[0, 1, 1],\n",
    "       [0, 1, 0],\n",
    "       [1, 0, 1],\n",
    "       [0, 1, 1],\n",
    "       [0, 0, 1],\n",
    "       [0, 0, 1],\n",
    "       [0, 1, 1],\n",
    "       [0, 1, 1],\n",
    "       [1, 1, 1],\n",
    "       [1, 0, 1]])\n",
    "```"
   ]
  },
  {
   "cell_type": "markdown",
   "metadata": {},
   "source": [
    "The above array represents 10 simulations of three guests invited to a party. We typically want to know how many total guests attended each simulated party, so we should take the sum of each simulation:"
   ]
  },
  {
   "cell_type": "markdown",
   "metadata": {},
   "source": [
    "```{prompt} python >>> auto\n",
    ">>> results.sum(axis=1)\n",
    "```\n",
    "\n",
    "```python\n",
    "array([2, 1, 2, 2, 1, 1, 2, 2, 3, 2])\n",
    "```"
   ]
  },
  {
   "cell_type": "markdown",
   "metadata": {},
   "source": [
    "It would be nice to display this information in a clean, tabular format. We can use a `pandas` DataFrame for that:"
   ]
  },
  {
   "cell_type": "markdown",
   "metadata": {},
   "source": [
    "```{prompt} python >>> auto\n",
    ">>> import pandas as pd\n",
    ">>> (pd.DataFrame({\"Total guests\": results.sum(axis=1),\n",
    "                   \"Simulation\": range(1, simulations + 1)})\n",
    "       .set_index(\"Simulation\")\n",
    "    )\n",
    "```\n",
    "\n",
    "```python\n",
    "            Total guests\n",
    "Simulation              \n",
    "1                      2\n",
    "2                      1\n",
    "3                      2\n",
    "4                      2\n",
    "5                      1\n",
    "6                      1\n",
    "7                      2\n",
    "8                      2\n",
    "9                      3\n",
    "10                     2\n",
    "```"
   ]
  },
  {
   "cell_type": "markdown",
   "metadata": {},
   "source": [
    "We now have a nice way to run simulations of guest attendance at a party! But we don't want to have to re-run all that code every time we want to run some simulations. Let's turn the code into a function called `simulate_party()` and execute it in our interactive Python session:\n",
    "\n",
    "```{note}\n",
    "This book assumes you know how to write and document functions in Python. To learn more about this see [Think Python, Chapter 3: Functions](http://greenteapress.com/thinkpython/html/thinkpython004.html) by Allen Downey.\n",
    "```"
   ]
  },
  {
   "cell_type": "markdown",
   "metadata": {},
   "source": [
    "```{prompt} python >>> auto\n",
    ">>> def simulate_party(p, n_simulations=500):\n",
    "        \"\"\"Simulate guest attendance at a party.\n",
    "\n",
    "        The attendance of each guest is treated as a Bernoulli random variable\n",
    "        with probability of attendance `p`. The total number of attending guests\n",
    "        is summed up for each `n_simulations`.\n",
    "\n",
    "        Parameters\n",
    "        ----------\n",
    "        p : float or array_like of floats\n",
    "            Probability of guest attendance, >= 0 and <=1.\n",
    "        n_simulations : int, optional\n",
    "            Number of simulations to run. By default, 500.\n",
    "\n",
    "        Returns\n",
    "        -------\n",
    "        pandas.DataFrame\n",
    "            DataFrame with total number of guests per simulation.\n",
    "\n",
    "        Examples\n",
    "        --------\n",
    "        >>> simulate_party([0.1, 0.5, 0.9], n_simulations=5)\n",
    "                    Total guests\n",
    "        Simulation\n",
    "        1                      2\n",
    "        2                      2\n",
    "        3                      2\n",
    "        4                      2\n",
    "        5                      2\n",
    "        \"\"\"\n",
    "        result = np.random.binomial(n=1, p=p, size=(n_simulations, len(p))).sum(axis=1)\n",
    "        return pd.DataFrame(\n",
    "            {\"Total guests\": result, \"Simulation\": range(1, n_simulations + 1)}\n",
    "        ).set_index(\"Simulation\")\n",
    "```"
   ]
  },
  {
   "cell_type": "markdown",
   "metadata": {},
   "source": [
    "We can now use the function as follows:"
   ]
  },
  {
   "cell_type": "markdown",
   "metadata": {},
   "source": [
    "```{prompt} python >>> auto\n",
    ">>> results = simulate_party(p=[0.3, 0.5, 0.9], n_simulations=10)\n",
    ">>> results\n",
    "```\n",
    "\n",
    "```python\n",
    "            Total guests\n",
    "Simulation              \n",
    "1                      2\n",
    "2                      1\n",
    "3                      2\n",
    "4                      2\n",
    "5                      1\n",
    "6                      1\n",
    "7                      2\n",
    "8                      2\n",
    "9                      3\n",
    "10                     2\n",
    "```"
   ]
  },
  {
   "cell_type": "markdown",
   "metadata": {},
   "source": [
    "At this point, if you quit from the Python interactive session, the function we defined above will be lost and you will have to define it again in new sessions. The whole idea of a Python package is that we can store Python code, like our `simulate_party()` function, in an installable package that will allow us, or others, to reuse the code at will in any project without having to rewrite it.\n",
    "\n",
    "So, let's now include the `simulate_party()` function into our `partypy` package. Where should we put it? Let's review the structure of our Python project:\n",
    "\n",
    "```\n",
    "partypy\n",
    "├── .gitignore\n",
    "├── .readthedocs.yml\n",
    "├── CHANGELOG.md\n",
    "├── CONDUCT.md\n",
    "├── CONTRIBUTING.md\n",
    "├── docs\n",
    "├── LICENSE\n",
    "├── pyproject.toml\n",
    "├── README.md\n",
    "├── src\n",
    "│   └── partypy\n",
    "│       ├── __init__.py\n",
    "│       └── partypy.py\n",
    "└── tests\n",
    "```\n",
    "\n",
    "All the code that we would like the user to run as part of our package should live inside the `src` directory. We'll discuss the layout of this package, including the `src` directory, more in **Chapter 4: {ref}`04:Package-structure-and-distribution`**. For a relatively small package with just a few functions, we typically put our code inside a single Python module (i.e., a `.py` file). Our template project directory structure already created and named such a module for us: `src/partypy/partypy.py`. Let's save our `simulate_party()` function there. Because our function depends on `numpy` and `pandas`, we should also be sure to import them at the top of the file. Here's what `src/partypy/partypy.py` should now look like:\n",
    "\n",
    "```python\n",
    "import numpy as np\n",
    "import pandas as pd\n",
    "\n",
    "\n",
    "def simulate_party(p, n_simulations=500):\n",
    "    \"\"\"Simulate guest attendance at a party.\n",
    "\n",
    "    The attendance of each guest is treated as a Bernoulli random variable\n",
    "    with probability of attendance `p`. The total number of attending guests\n",
    "    is summed up for each `n_simulations`.\n",
    "\n",
    "    Parameters\n",
    "    ----------\n",
    "    p : float or array_like of floats\n",
    "        Probability of guest attendance, >= 0 and <=1.\n",
    "    n_simulations : int, optional\n",
    "        Number of simulations to run. By default, 500.\n",
    "\n",
    "    Returns\n",
    "    -------\n",
    "    pandas.DataFrame\n",
    "        DataFrame with total number of guests per simulation.\n",
    "\n",
    "    Examples\n",
    "    --------\n",
    "    >>> simulate_party([0.1, 0.5, 0.9], n_simulations=5)\n",
    "                Total guests\n",
    "    Simulation\n",
    "    1                      2\n",
    "    2                      2\n",
    "    3                      2\n",
    "    4                      2\n",
    "    5                      2\n",
    "    \"\"\"\n",
    "    result = np.random.binomial(n=1, p=p, size=(n_simulations, len(p))).sum(axis=1)\n",
    "    return pd.DataFrame(\n",
    "        {\"Total guests\": result, \"Simulation\": range(1, n_simulations + 1)}\n",
    "    ).set_index(\"Simulation\")\n",
    "\n",
    "```"
   ]
  },
  {
   "cell_type": "markdown",
   "metadata": {},
   "source": [
    "## Test drive your package code"
   ]
  },
  {
   "cell_type": "markdown",
   "metadata": {},
   "source": [
    "As stated earlier, the whole point of creating a package is so that we can easily reuse our code in any new Python project or interactive session. To test drive our `partypy` package, we can install it in our environment using `poetry install` from the root package directory:\n",
    "\n",
    "```{prompt} bash \\$ auto\n",
    "$ poetry install\n",
    "```\n",
    "\n",
    "```console\n",
    "Installing dependencies from lock file\n",
    "\n",
    "No dependencies to install or update\n",
    "\n",
    "Installing the current project: partypy (0.1.0)\n",
    "```\n",
    "\n",
    "```{note}\n",
    "The above command will install `partypy` and its dependencies in the current virtual environment. Recall that we are working in the `partypy` environment which we activated by running `conda activate partypy` in the terminal.\n",
    "```\n",
    "\n",
    "Now, inside the root project directory we can open an interactive Python session:\n",
    "\n",
    "```{prompt} bash \\$ auto\n",
    "$ python\n",
    "```\n",
    "\n",
    "Then import and use our `simulate_party` function from our `partypy` module with the following code:\n",
    "\n",
    "```{prompt} python >>> auto\n",
    ">>> from partypy.partypy import simulate_party\n",
    ">>> simulate_party([0.1, 0.5, 0.9], n_simulations=5)\n",
    "```\n",
    "\n",
    "```python\n",
    "            Total guests\n",
    "Simulation              \n",
    "1                      1\n",
    "2                      2\n",
    "3                      2\n",
    "4                      2\n",
    "5                      2\n",
    "```\n",
    "\n",
    "```{note}\n",
    "The above syntax is telling Python to import the function `simulate_party()` from the `partypy` module of the `partypy` package. There are various other ways to import code from Python modules, which we'll explore more in **Chapter 4: {ref}`04:Package-structure-and-distribution`**.\n",
    "```\n",
    "\n",
    "Looks like everything is working! We now have a simple Python package that encapsulates the functionality we want to reuse. At this point, you've created a basic, functioning package which you could now use in different projects. In the next section, we'll add some additional code and functionality to our package. However, before we move on, it's important to note that `poetry install` installs your package in editable mode. This means that rather than installing an independent, built version of your package (something we'll talk more about in **Chapter 4: {ref}`04:Package-structure-and-distribution`**), it installs a link to your package's location. This is common practice for developers because it means that future edits you make to your package's source code are immediately available the next time you `import` it in a Python session, without having to `poetry install` again, as we'll see later in this chapter."
   ]
  },
  {
   "cell_type": "markdown",
   "metadata": {},
   "source": [
    "## Your second package code"
   ]
  },
  {
   "cell_type": "markdown",
   "metadata": {},
   "source": [
    "For very simple packages, you may choose to add all your code into *`partypy.py`*. But more complex packages will benefit from better compartmentalisation and organisation of code into multiple, logical modules. To illustrate this point, we are going to add a plotting function to our `partypy` package which will plot a histogram of the simulation results output from the `simulate_party()` function. The code and workflow for creating a visualization is quite different to the simulation code we wrote previously, and it makes sense to create a new module to house the visualization code of our package.\n",
    "\n",
    "To that end, we're now going to rename *`partypy.py`* to *`simulate.py`* and create a new module called *`plotting.py`* such that our package will now comprise two modules, each containing code for a distinct purpose:\n",
    "1. *`src/partypy/plotting.py`*: contains code related to producing visualizations; and,\n",
    "2. *`src/partypy/simulate.py`*: contains code related to running simulations.\n",
    "\n",
    "With those changes, here's the structure of our Python project:\n",
    "\n",
    "```\n",
    "partypy\n",
    "├── .gitignore\n",
    "├── .readthedocs.yml\n",
    "├── CHANGELOG.md\n",
    "├── CONDUCT.md\n",
    "├── CONTRIBUTING.md\n",
    "├── docs\n",
    "├── LICENSE\n",
    "├── pyproject.toml\n",
    "├── README.md\n",
    "├── src\n",
    "│   └── partypy\n",
    "│       ├── __init__.py\n",
    "│       ├── plotting.py\n",
    "│       └── simulate.py\n",
    "└── tests\n",
    "```\n",
    "\n",
    "We'll be using the `altair` library to make our visualization (but you could use any visualization library you like). Let's first add `altair` as a dependency of our package:\n",
    "\n",
    "```{prompt} bash \\$ auto\n",
    "$ poetry add altair altair_viewer\n",
    "```"
   ]
  },
  {
   "cell_type": "markdown",
   "metadata": {},
   "source": [
    "Open up an interactive Python session, and try out the following code to produce a visualization. This example uses the example guest list available in this book's [GitHub repository](https://github.com/UBC-MDS/py-pkgs/blob/master/docs/toy-data/party.csv):"
   ]
  },
  {
   "cell_type": "markdown",
   "metadata": {},
   "source": [
    "```{prompt} bash \\$ auto\n",
    "$ python\n",
    "```"
   ]
  },
  {
   "cell_type": "markdown",
   "metadata": {},
   "source": [
    "```{prompt} python >>> auto\n",
    ">>> import pandas as pd\n",
    ">>> guest_list = pd.read_csv(\"https://raw.githubusercontent.com/UBC-MDS/py-pkgs/master/docs/toy-data/party.csv\")\n",
    ">>> guest_list\n",
    "```\n",
    "\n",
    "```python\n",
    "               Name  Probability of attendance\n",
    "0    Donovan Willis                       0.70\n",
    "1   Jocelyn Navarro                       0.70\n",
    "2     Houston Stein                       0.90\n",
    "3    Carlos Mullins                       0.50\n",
    "4    Bridger Pruitt                       0.70\n",
    "..              ...                        ...\n",
    "95   Maddox Santana                       0.50\n",
    "96    Ariel Proctor                       0.50\n",
    "97       Pedro Hull                       0.90\n",
    "98  Janessa Collins                       0.95\n",
    "99   Kendrick Burke                       0.30\n",
    "```"
   ]
  },
  {
   "cell_type": "markdown",
   "metadata": {},
   "source": [
    "```{prompt} python >>> auto\n",
    ">>> import altair as alt\n",
    ">>> from partypy.simulate import simulate_party\n",
    ">>> results = simulate_party(guest_list[\"probability_of_attendance\"], n_simulations=500)\n",
    ">>> histogram = (\n",
    "        alt.Chart(results)\n",
    "        .mark_bar()\n",
    "        .encode(\n",
    "            x=alt.X(\n",
    "                \"Total guests\",\n",
    "            ),\n",
    "            y=\"count()\",\n",
    "            tooltip=\"count()\",\n",
    "        )\n",
    "    )\n",
    ">>> histogram.show()\n",
    "```\n",
    "\n",
    "```{figure} images/altair-plot-1.png\n",
    "---\n",
    "width: 50%\n",
    "name: 03-altair-plot-1b\n",
    "alt: Histogram of simulation results.\n",
    "---\n",
    "Histogram of simulation results.\n",
    "```"
   ]
  },
  {
   "cell_type": "markdown",
   "metadata": {},
   "source": [
    "To add this plotting functionality to our package, we can add the following code to *`plotting.py`*:\n",
    "\n",
    "```python\n",
    "import altair as alt\n",
    "\n",
    "\n",
    "def plot_simulation(results):\n",
    "    \"\"\"Plot a histogram of simulation results.\n",
    "\n",
    "    Parameters\n",
    "    ----------\n",
    "    results : pandas.DataFrame\n",
    "        DataFrame of simulation results from `partpy.simulate_party()`\n",
    "\n",
    "    Returns\n",
    "    -------\n",
    "    altair.Chart\n",
    "        Histogram of simulation results.\n",
    "\n",
    "    Examples\n",
    "    --------\n",
    "    >>> from partypy.simulate import simulate_party\n",
    "    >>> from partypy.plotting import plot_simulation\n",
    "    >>> results = simulate([0.1, 0.5, 0.9])\n",
    "    >>> plot_simulation(results)\n",
    "    altair.Chart\n",
    "    \"\"\"\n",
    "\n",
    "    histogram = (\n",
    "        alt.Chart(results)\n",
    "        .mark_bar()\n",
    "        .encode(\n",
    "            x=alt.X(\n",
    "                \"Total guests\",\n",
    "                bin=alt.Bin(maxbins=30),\n",
    "                axis=alt.Axis(format=\".0f\"),\n",
    "            ),\n",
    "            y=\"count()\",\n",
    "            tooltip=\"count()\",\n",
    "        )\n",
    "    )\n",
    "\n",
    "    return histogram\n",
    "\n",
    "```"
   ]
  },
  {
   "cell_type": "markdown",
   "metadata": {},
   "source": [
    "Let's make sure everything is working by trying out our new code in a fresh interactive Python session:\n",
    "\n",
    "```{note}\n",
    "Recall that when we installed our package with `poetry` using `poetry install`, it was installed in \"editable mode\", meaning that any changes to the source code will be immediately reflected when you next `import` the package, without the need to `poetry install` again.\n",
    "```\n",
    "\n",
    "```{prompt} bash \\$ auto\n",
    "$ python\n",
    "```\n",
    "\n",
    "Then import and use our package's functions with the following code:\n",
    "\n",
    "```{prompt} python >>> auto\n",
    ">>> from partypy.simulate import simulate_party\n",
    ">>> from partypy.plotting import plot_simulation\n",
    ">>> results = simulate_party([0.1, 0.5, 0.9], n_simulations=20)\n",
    ">>> histogram = plot_simulation(results)\n",
    ">>> histogram\n",
    "```\n",
    "\n",
    "```python\n",
    "alt.Chart(...)\n",
    "```\n",
    "\n",
    "```{note}\n",
    "Altair require a Javascript frontend to display charts. Notebook environments like Jupyter Notebook, JupyterLab, and Zeppelin combine a Python backend with a Javascript frontend, so can display Altair charts out-of-the-box. But when working in the Python interpreter from the command line, we need to explicitly call the `.show()` method which will display our chart in the browser: `histogram.show()`.\n",
    "```\n",
    "\n",
    "Now that we have a working package, you can exit your Python session and we should commit changes to local and remote version control. We'll use the shorthand `git add .` here to commit all our changed files to version control:\n",
    "\n",
    "```{prompt} bash \\$ auto\n",
    "$ git add .\n",
    "$ git commit -m \"feat: add plotting module and refactor code\"\n",
    "$ git push\n",
    "```"
   ]
  },
  {
   "cell_type": "markdown",
   "metadata": {},
   "source": [
    "## Writing tests"
   ]
  },
  {
   "cell_type": "markdown",
   "metadata": {},
   "source": [
    "At this point we have a package, `partypy`, which we can install locally in any environment and use in any project we wish. But to make our package robust and to ensure it does in fact do what it is supposed to do, we should write some formal unit tests. We'll discuss testing in detail in **Chapter 5: {ref}`05:Testing`**, but will go over the key steps here. In Python packages, tests typically live inside the *`tests`* directory, in files prefixed with *`test_*.py`*. For the `partypy` package, we have one such file called *`tests/test_partypy.py`*.\n",
    "\n",
    "Let's add the below unit tests (`test_simulate_party()` and `test_plot_simulation()`) for our `partypy` package to *`tests/test_partypy.py`* now. These tests intend to test that our package is working as we expect it to. These tests typically check that a certain input results in a certain output. Take a look at the tests below and convince yourself that these tests are testing some of the expected behavior of our `partypy` package:\n",
    "\n",
    "```python\n",
    "from partypy.simulate import simulate_party\n",
    "from partypy.plotting import plot_simulation\n",
    "import pandas as pd\n",
    "import altair as alt\n",
    "\n",
    "\n",
    "def test_simulate_party():\n",
    "    p_0 = [0, 0, 0]  # 3 guests with probability 0 of attending\n",
    "    p_1 = [1]        # 1 guest with probability 1 of attending\n",
    "    assert isinstance(simulate_party(p_0), pd.DataFrame)        # simulate_party outputs a dataframe\n",
    "    assert simulate_party(p_0, 10)[\"Total guests\"].sum() == 0   # 0 probability, 10 simulations gives 0 sum\n",
    "    assert simulate_party(p_1, 10)[\"Total guests\"].sum() == 10  # 1 probability, 10 simulations gives 10 sum\n",
    "\n",
    "\n",
    "def test_plot_simulation():\n",
    "    p_0 = [0, 0, 0]  # 3 guests with probability 0 of attending\n",
    "    results = simulate_party(p_0)\n",
    "    plot = plot_simulation(results)\n",
    "    assert isinstance(plot, alt.Chart)  # plot_simulation outputs an alt.chart\n",
    "    assert plot.mark == \"bar\"           # chart type is \"bar\"\n",
    "    assert plot.data[\"Total guests\"].sum() == 0  # 0 probability gives 0 sum\n",
    "    \n",
    "```\n",
    "\n",
    "While we could run our test functions by starting a Python session, and importing and running them manually, it is much more efficient to automate the testing workflow. One way we can do this is to use the `pytest` package. A single call to `pytest` from the root of a project will look for all files of the form *`test_*.py`* or *`*_test.py`* and then execute all functions prefixed with *`test_*`*.\n",
    "\n",
    "To try this out, we first add `pytest` as a development dependency via `poetry`:\n",
    "\n",
    "```{prompt} bash \\$ auto\n",
    "$ poetry add --dev pytest\n",
    "```\n",
    "\n",
    "A development dependency is a package that is not required by a user to use your package, but is required for development purposes. The use of `--dev` in the above command specifies a development dependency. If you look in *`pyproject.toml`* you will see that `pytest` gets added under the `[tool.poetry.dev-dependencies]` section as opposed to the `[tool.poetry.dependencies]` section.\n",
    "\n",
    "To run the above tests, we simply type the following in a terminal from our root package directory:\n",
    "\n",
    "```{prompt} bash \\$ auto\n",
    "$ pytest\n",
    "```\n",
    "\n",
    "```console\n",
    "============================= test session starts ==============================\n",
    "platform darwin -- Python 3.9.6, pytest-6.2.4, py-1.10.0, pluggy-0.13.1\n",
    "rootdir: /Users/tomasbeuzen/GitHub/py-pkgs/partypy\n",
    "collected 2 items                                                              \n",
    "\n",
    "tests/test_partypy.py ...                                                [100%]\n",
    "\n",
    "============================== 2 passed in 0.29s ===============================\n",
    "```\n",
    "\n",
    "We get no error returned to us, indicating that our tests passed! This suggests that the code we wrote is correct (at least to our test specifications)! We'll explore writing tests in more detail in **Chapter 5: {ref}`05:Testing`**. For now, let's put our tests under local and remote version control:\n",
    "\n",
    "```{prompt} bash \\$ auto\n",
    "$ git add pyproject.toml poetry.lock tests/test_partypy.py\n",
    "$ git commit -m \"test: add unit tests for partypy\"\n",
    "$ git push\n",
    "```"
   ]
  },
  {
   "cell_type": "markdown",
   "metadata": {},
   "source": [
    "## Package documentation"
   ]
  },
  {
   "cell_type": "markdown",
   "metadata": {},
   "source": [
    "### Rendering documentation locally"
   ]
  },
  {
   "cell_type": "markdown",
   "metadata": {},
   "source": [
    "For the users of your code (including your future self) it is important to have readable and accessible documentation describing how to install your package and how to use the code within it. We'll discuss documentation in detail in **Chapter 6: {ref}`06:Documentation`**, but for now, we will demonstrate the practical steps required to build Python package documentation. The aim here is to provide an overview and introduction to generating documentation, which you can build upon, if required, for future projects.\n",
    "\n",
    "Let's review the structure of the `partypy` package we've been developing in this chapter:\n",
    "\n",
    "```\n",
    "partypy\n",
    "├── .gitignore\n",
    "├── .readthedocs.yml\n",
    "├── CHANGELOG.md\n",
    "├── CONDUCT.md\n",
    "├── CONTRIBUTING.md\n",
    "├── docs\n",
    "│   ├── make.bat\n",
    "│   ├── Makefile\n",
    "│   ├── requirements.txt\n",
    "│   └── source\n",
    "│       ├── changelog.md\n",
    "│       ├── conduct.md\n",
    "│       ├── conf.py\n",
    "│       ├── contributing.md\n",
    "│       ├── index.md\n",
    "│       ├── installation.md\n",
    "│       └── usage.ipynb\n",
    "├── LICENSE\n",
    "├── pyproject.toml\n",
    "├── README.md\n",
    "├── src\n",
    "└── tests\n",
    "```\n",
    "\n",
    "This is the most common setup for documenting a Python package and this boilerplate was created automatically for us with the `cookiecutter` template we used earlier in the chapter. It includes several key pieces of high-level documentation in the project's root directory: *`CHANGELOG.md`*, *`CONDUCT.md`*, *`CONTRIBUTING.md`*, *`LICENSE`*, and *`README.md`*. It also includes a *`docs`* folder which contains additional source and configuration files used to render your package's documentation into a format such as HTML or PDF with the help of a documentation generator tool. This is particularly important if you intend to share your package because it provides your package's documentation in an organized and accessible format that helps users explore and understand the functionality of your package without having to search through the source code or package directory structure. Depending on the intended audience of your package you may not need all of the documents shown in the structure above, as we'll talk more about in **Chapter 6: {ref}`06:Documentation`**.\n",
    "\n",
    "Currently, the most commonly used tool in the Python packaging ecosystem for making documentation is `sphinx`. It is a \"documentation generator\" that translates a set of plain-text source files into various output formats (such as HTML or PDF).  Before we go about showing what \"built documentation\" looks like, let's briefly explore the contents of the `docs` folder which contains the source and configuration files that will be used to build our documentation:\n",
    "- *`make.bat`* and *`Makefile`* contain commands needed to build our documentation with `sphinx` and do not need to be modified;\n",
    "- *`requirement.txt`* contains documentation-specified dependencies that need to be defined when it comes to hosting our documentation online later in this chapter. It has been pre-populated by the `cookiecutter` template and does not need to be modified;\n",
    "- The *`source`* directory contains the actual files that will make up our documentation. We'll explore each of these files in detail in **Chapter 6: {ref}`06:Documentation`** and not all these files will be required for every project. Some of these files simply contains relative references to documentation in our package's root - for example, *`docs/source/changelog.md`* simply contains a link to *`CHANGELOG.md`* - while others contains unique information such as how to install (*`installation.md`*) or use the package (*`usage.ipynb`*). The *.ipynb* extension indicates a Jupyter notebook file which contains code that will be executed when we build our documentation, with the output automatically rendered into the documentation, as we'll explore shortly. The *`source`* directory also contains a file *`conf.py`* which is a configuration file controlling how `sphinx` builds your documentation. You can read more about *`conf.py`* in the `sphinx` [documentation](https://www.sphinx-doc.org/en/master/usage/configuration.html) but for now, it has been pre-populated by the `cookiecutter` template and does not need to be modified.\n",
    "\n",
    "At this point, you could edit your documentation files to add additional information about your package but for the purpose of this tutorial, we'll build our documentation as it is in its current state. To help us render all our individual documentation files into a single, coherent, easy-to-access document, we first need to install some new development dependencies:\n",
    "- `myst-nb`: a packages required to help us render Markdown *.md* and Jupyter notebook *.ipynb* files into our documentation (we'll talk more about this a bit later);\n",
    "- `sphinx-autoapi`: package that will help us extract docstrings from our code and render them into our documentation;\n",
    "- `sphinx-rtd-theme`: a custom theme for styling the way our documentation will look; and,\n",
    "- `sphinx-copybutton`: an extension that will add a helpful copy button to code snippets in our documentation.\n",
    "\n",
    "```{prompt} bash \\$ auto\n",
    "$ poetry add --dev myst-nb sphinx-autoapi sphinx-rtd-theme sphinx-copybutton\n",
    "```\n",
    "\n",
    "It is typical to render documentation to *.html* for easy viewing and for sharing online. To do that, run the following:\n",
    "\n",
    "```{prompt} bash \\$ auto\n",
    "$ make html -C docs\n",
    "```\n",
    "\n",
    "```console\n",
    "Running Sphinx\n",
    "making output directory... done\n",
    "...\n",
    "build succeeded.\n",
    "The HTML pages are in _build/html.\n",
    "```\n",
    "\n",
    "```{attention}\n",
    "To use `sphinx` extensions like we are doing here, we usually have to add them to the list `extensions = [...]` in the `conf.py` file in the `docs/source` directory. However, the `cookiecutter` template already took care of this for us.\n",
    "```\n",
    "\n",
    "If we now look inside our *`docs`* directory we see a new directory *`_build/html`* which contains the rendered *.html* files. We can open *`_build/html/index.html`* to view our documentation:\n",
    "\n",
    "```{figure} images/documentation-1.png\n",
    "---\n",
    "width: 100%\n",
    "name: 03-documentation-1\n",
    "alt: The rendered documentation homepage.\n",
    "---\n",
    "The rendered documentation homepage.\n",
    "```\n",
    "\n",
    "The `sphinx-autoapi` extension extracted the docstrings within each module and rendered them into our documentation. You can find them by clicking \"API Reference\". For example, here are the functions and docstrings extracted from the `partypy.plotting` module (note there is currently only one function and docstring in this module):\n",
    "\n",
    "```{figure} images/documentation-2.png\n",
    "---\n",
    "width: 100%\n",
    "name: 03-documentation-2\n",
    "alt: Documentation for the partypy plotting module.\n",
    "---\n",
    "Documentation for the partypy plotting module.\n",
    "```\n",
    "\n",
    "With our documentation nicely built, it's useful to briefly point out the utility of using the `myst-nb` extension to execute and render Jupyter notebook files (*.ipynb* extension) into the documentation. While this extension and workflow is not a necessity for building documentation, it provides the developer with a way of creating documentation that actually uses code from your package that gets executed as documentation is built. To illustrate this point, consider the raw *`docs/source/usage.ipynb`* file:\n",
    "\n",
    "```{figure} images/documentation-4.png\n",
    "---\n",
    "width: 100%\n",
    "name: 03-documentation-4\n",
    "alt: Raw executable Jupyter notebook to be executed and rendered into partypy's documentation.\n",
    "---\n",
    "Raw executable Jupyter notebook to be executed and rendered into partypy's documentation.\n",
    "```\n",
    "\n",
    "Now look at the rendered page after building our documentation:\n",
    "\n",
    "```{figure} images/documentation-5.png\n",
    "---\n",
    "width: 100%\n",
    "name: 03-documentation-5\n",
    "alt: Rendered Jupyter notebook document.\n",
    "---\n",
    "Rendered Jupyter notebook document.\n",
    "```\n",
    "\n",
    "Note how the code has been executed and the output is automatically shown in our documentation (the package version number is printed in this case). This is effective because it means the documentation and examples being shown to users are reproducible and any changes to the package will automatically be reflected in the documentation when you re-build it (i.e., you don't have to re-write the examples!).\n",
    "\n",
    "Ultimately, you can easily and efficiently make beautiful and insightful documentation with `sphinx` and its ecosystem of extensions. We'll discuss this more in **Chapter 6: {ref}`06:Documentation`**, but for now let's commit our work to local and remote version control:\n",
    "\n",
    "```{prompt} bash \\$ auto\n",
    "$ git add .\n",
    "$ git commit -m \"docs: created docs for partypy\"\n",
    "$ git push\n",
    "```"
   ]
  },
  {
   "cell_type": "markdown",
   "metadata": {},
   "source": [
    "### Rendering documentation online"
   ]
  },
  {
   "cell_type": "markdown",
   "metadata": {},
   "source": [
    "If you intend to share your package with others, it will be useful to make your documentation accessible online. There are various ways to do this, but one of the most common and easiest ways is to link our GitHub repository to [Read the Docs](https://readthedocs.org/) - a service for automating the building, versioning, and hosting of documentation. To do this (at the time of writing):\n",
    "\n",
    "1. Visit <https://readthedocs.org/> and click on \"Sign up\";\n",
    "2. Select \"Sign up with GitHub\";\n",
    "3. Click \"Import a Project\";\n",
    "4. Click \"Import Manually\";\n",
    "5. Fill in the project details by:\n",
    "    1. Providing your package name (e.g., `partypy`);\n",
    "    2. The GitHub repository URL (e.g., `https://github.com/TomasBeuzen/partypy`); and,\n",
    "    3. Specify the default branch as `main`.\n",
    "6. Click \"Next\" and then \"Build version\".\n",
    "\n",
    "After following the steps above, your documentation should be successfully built by [Read the Docs](https://readthedocs.org/) and you should be able to access it via the \"View Docs\" button on the build page, or from the link that the `cookiecutter` template created for you at the top of the *`README.md`* file in your GitHub repository. For example, `partypy`'s documentation is now available at <https://partypy.readthedocs.io/en/latest/>. This documentation will be automatically re-built by Read the Docs each time you push changes to the specified default branch (`main` for us) of your GitHub repository.\n",
    "\n",
    "```{note}\n",
    "The *`.readthedocs.yml`* file that `cookiecutter` created for us in the root directory of our Python package contains some basic configuration settings for how Read the Docs should build our documentation. Importantly, this file tells Read the Docs that our documentation depends on packages specified in *`docs/requirements.txt`*.\n",
    "```"
   ]
  },
  {
   "cell_type": "markdown",
   "metadata": {},
   "source": [
    "## Commit and push to local and remote version control"
   ]
  },
  {
   "cell_type": "markdown",
   "metadata": {},
   "source": [
    "We've now pushed a working version of our package to GitHub (assuming you chose to use GitHub to host a remote version of your project). In the next section we'll be building our package into a format suitable for distribution and then publishing it to PyPI. But before we get there, we should tag a release of our project's files on GitHub. Tagging a release means that we permanently mark a specific point in our repository's history which will always be available to anyone with access to your repository. In this case, we wish to identify the state of the repository at version 0.1.0 of `partypy`.\n",
    "\n",
    "You can read more about tagging releases in the [GitHub documentation](https://docs.github.com/en/github/administering-a-repository/releasing-projects-on-github/about-releases), but it's as simple as going to the \"Releases\" tab of your GitHub repository and filling in some information about the release, as shown in the figure below. It's typical to identify the release with a “v” followed by the version of your package.\n",
    "\n",
    "```{figure} images/release-0.1.0-meta.png\n",
    "---\n",
    "width: 100%\n",
    "name: 03-release-0.1.0-meta\n",
    "alt: Tagging a release of v0.1.0 of partypy on GitHub.\n",
    "---\n",
    "Tagging a release of v0.1.0 of partypy on GitHub.\n",
    "```\n",
    "\n",
    "Once the release is published, we will have a permanent record of the state of `partypy` at v0.1.0, which anyone with access to the repository can view and download.\n",
    "\n",
    "```{figure} images/release-0.1.0.png\n",
    "---\n",
    "width: 100%\n",
    "name: 03-release-0.1.0\n",
    "alt: Tagged release of v0.1.0 of partypy on GitHub.\n",
    "---\n",
    "Tagged release of v0.1.0 of partypy on GitHub.\n",
    "```\n",
    "\n",
    "We'll talk more about making new versions and releases of your package as you update it (change source code, add features, fix bugs, etc.) in **Chapter 7: {ref}`07:Releasing-and-versioning`**."
   ]
  },
  {
   "cell_type": "markdown",
   "metadata": {},
   "source": [
    "## Building and distributing your package"
   ]
  },
  {
   "cell_type": "markdown",
   "metadata": {},
   "source": [
    "### Building your package"
   ]
  },
  {
   "cell_type": "markdown",
   "metadata": {},
   "source": [
    "Right now, our package is a collection of files and folders which we've been able to install ourselves with `poetry`, but that is difficult to share with others. So, the goal now is to bundle our package up into a distribution that can be easily shared and installed by users. This distribution includes the source code for your package, and can also include additional files such as documentation or tests. We'll talk much more about package structure and content in **Chapter 4: {ref}`04:Package-structure-and-distribution`**.\n",
    "\n",
    "Modern packaging tools like `poetry` aim to make the process of creating distributions as seamless and accessible as possible, so that developers don't have to worry too much about the low-level details. The two main types of distributions are source distributions and built distributions. We'll talk about these in **Chapter 4: {ref}`04:Package-structure-and-distribution`**, but briefly:\n",
    "\n",
    "- A source distribution is a single, compressed archive (e.g., *.tar.gz* or *.zip*) of the metadata and the source files needed to install your package. Source distributions require a build step before they can be installed. This build step coordinates building the contents of the package and its metadata into a form Python can `import`, as we'll talk more about in **Chapter 4: {ref}`04:Package-structure-and-distribution`**.\n",
    "- A built distribution is a distribution containing source files and metadata that has been pre-built and does not require a build step before installation (unlike source distributions). The main built distribution format used by Python is the `wheel`, denoted with the extension *.whl*, and it is the preferred method of package distribution in Python.\n",
    "\n",
    "A useful analogy for all this is to imagine making a cake for a party. A source distribution is a collection of all the individual ingredients (flour, eggs, butter, etc.) required to make the cake and requires time, expertise, and tools to make the cake. A built distribution is going to the store and buying a pre-made cake, all you need to do is bring it to the party! \n",
    "\n",
    "We can build the source and wheel distributions of our `partypy` package using `poetry build`:\n",
    "\n",
    "```{prompt} bash \\$ auto\n",
    "$ poetry build\n",
    "```\n",
    "\n",
    "After running this command, you'll notice a new directory in your package called `dist`:\n",
    "\n",
    "```\n",
    "partypy\n",
    "├── .gitignore\n",
    "├── .readthedocs.yml\n",
    "├── CHANGELOG.md\n",
    "├── CONDUCT.md\n",
    "├── CONTRIBUTING.md\n",
    "├── dist\n",
    "│   ├── partypy-0.1.0-py3-none-any.whl  <- built wheel distribution\n",
    "│   └── partypy-0.1.0.tar.gz            <- source distribution\n",
    "├── docs\n",
    "├── LICENSE\n",
    "├── pyproject.toml\n",
    "├── README.md\n",
    "├── src\n",
    "└── tests\n",
    "```\n",
    "\n",
    "Those two new files are the source and built distributions of your package which can be easily distributed and installed by others. For example, to install the wheel (the preferred installation workflow), you could enter the following in a terminal:\n",
    "\n",
    "```{prompt} bash \\$ auto\n",
    "$ pip install partypy-0.1.0-py3-none-any.whl\n",
    "```\n",
    "\n",
    "```console\n",
    "Processing ./partypy-0.1.0-py3-none-any.whl\n",
    "...\n",
    "Successfully installed partypy-0.1.0\n",
    "```\n",
    "\n",
    "To install your package from source, you would have to unpack the source distribution archive, and could then run `pip install`:\n",
    "\n",
    "```{prompt} bash \\$ auto\n",
    "$ gunzip -d partypy-0.1.0.tar.gz\n",
    "$ cd partypy-0.1.0\n",
    "$ pip install .\n",
    "```\n",
    "\n",
    "```console\n",
    "Processing ./partypy-0.1.0-py3-none-any.whl\n",
    "  Installing build dependencies ... done\n",
    "    Getting requirements to build wheel ... done\n",
    "    Preparing wheel metadata ... done\n",
    "...\n",
    "Successfully built partypy\n",
    "Successfully installed partypy-0.1.0\n",
    "```\n",
    "\n",
    "```{attention}\n",
    "Note how installing from source requires a build step prior to installation.\n",
    "```\n",
    "\n",
    "Even if you only intend to use your package for personal projects, it can be useful to build and install distributions. Recall that when you install a package with `poetry` using `poetry install`, the package is installed in \"editable mode\", such that a link to the package's location is installed, rather than an independent distribution of the package itself. This is useful for development purposes, because it means that any changes to the source code will be immediately reflected when you `import` the package, without the need to `poetry install` again. However, for users of your package (potentially including yourself using your package in other projects), it is typically better to install a \"non-editable\" version of the package, which is the default behavior when you `pip install` a package. For example, you might wish to develop the package in one environment, but continue using a stable version of it in another. In such a case, you would `poetry install` in the first virtual environment, but `pip install` the wheel in the second environment."
   ]
  },
  {
   "cell_type": "markdown",
   "metadata": {},
   "source": [
    "### Publishing to TestPyPI"
   ]
  },
  {
   "cell_type": "markdown",
   "metadata": {},
   "source": [
    "At this point, we have a distributions of `partypy` which we could use ourselves or share as we wish. If you do wish to share your package with the world, this is generally accomplished by sharing via the [Python Package Index (PyPI)](https://pypi.org/). However, it is good practice to do a \"dry run\" and check that everything works as expected by submitting to [TestPyPi](https://test.pypi.org/) first. `poetry` has a `publish` command which we can use to do this, however the default behavior is to publish to PyPI. So we need to add TestPyPI to the list of repositories `poetry` knows about via:\n",
    "\n",
    "```{prompt} bash \\$ auto\n",
    "$ poetry config repositories.test-pypi https://test.pypi.org/legacy/\n",
    "```\n",
    "\n",
    "To publish to TestPyPI we can use `poetry publish` (you will be prompted for your TestPyPI username and password - sign up if you have not already done so):\n",
    "\n",
    "```{prompt} bash \\$ auto\n",
    "$ poetry publish -r test-pypi\n",
    "```\n",
    "\n",
    "```console\n",
    "Username: TomasBeuzen\n",
    "Password: \n",
    "Publishing partypy (0.1.0) to test-pypi\n",
    " - Uploading partypy-0.1.0-py3-none-any.whl 100%\n",
    " - Uploading partypy-0.1.0.tar.gz 100%\n",
    "```\n",
    "\n",
    "```{tip}\n",
    "It is recommended to use API tokens when uploading packages to PyPI rather than supplying a username and password as we did above. You can read more about that in the [PyPI documentation](https://pypi.org/help/#apitoken).\n",
    "```\n",
    "\n",
    "Now we should be able to visit our package on TestPyPI (for example, the URL for our package is: <https://test.pypi.org/project/partypy/>) and download it from there using `pip` via:\n",
    "\n",
    "```{prompt} bash \\$ auto\n",
    "$ pip install --index-url https://test.pypi.org/simple/ --extra-index-url https://pypi.org/simple partypy\n",
    "```\n",
    "\n",
    "```{attention}\n",
    "By default `pip install` will search PyPI for the named package. However, we want to search testPyPI because that is where we uploaded our package. The argument `--index-url` points `pip` to the testPyPI index. However, our package `partypy` depends on some packages, like `pandas`, which can't be found on testPyPI (it is hosted only on PyPI). So, we need to use the `--extra-index-url` argument to also point `pip` to PyPI so that it can pull any necessary dependencies of `partypy` from there.\n",
    "```"
   ]
  },
  {
   "cell_type": "markdown",
   "metadata": {},
   "source": [
    "### Publishing to PyPI"
   ]
  },
  {
   "cell_type": "markdown",
   "metadata": {},
   "source": [
    "If you're happy to officially share your package with the world, you can publish to PyPI by simply typing:\n",
    "\n",
    "```{prompt} bash \\$ auto\n",
    "$ poetry publish\n",
    "```\n",
    "\n",
    "Your package will then be available on PyPI (e.g., <https://pypi.org/project/partypy/>) and can be installed with `pip`:\n",
    "\n",
    "```{prompt} bash \\$ auto\n",
    "$ pip install partypy\n",
    "```"
   ]
  },
  {
   "cell_type": "markdown",
   "metadata": {},
   "source": [
    "## Summary and next steps"
   ]
  },
  {
   "cell_type": "markdown",
   "metadata": {},
   "source": [
    "This chapter provided a practical overview of the key steps required to generate a fully-featured Python package. In the following chapters we'll explore and expand upon each of these steps in more detail. For those intending to share and collaborate on their package with others, a key workflow we have yet to discuss is continuous integration and continuous deployment (CI/CD) - that is, setting up automated pipelines for running tests, building documentation, and building and deploying your package. Such pipelines are an essential part of open source software and allow you to efficiently collaborate on software with others while maintaining package standards and functionality. We'll discuss CI/CD in **Chapter 8: {ref}`08:Continuous-integration-and-deployment`**.\n",
    "\n",
    "Before moving onto the next chapter, let's summarize the steps we took for developing a Python package in this chapter:\n",
    "\n",
    "1. Create package structure using a `cookiecutter` template:\n",
    "    ```{prompt} bash \\$ auto\n",
    "    $ cookiecutter https://github.com/UBC-MDS/cookiecutter-ubc-mds.git\n",
    "    ```\n",
    "2. Create and activate a virtual environment using `conda`:\n",
    "    ```{prompt} bash \\$ auto\n",
    "    $ conda create --name <your-env-name> python=3.9 -y\n",
    "    $ conda activate <your-env-name>\n",
    "    ```\n",
    "3. Add package dependencies:\n",
    "    ```{prompt} bash \\$ auto\n",
    "    $ poetry add <packages>\n",
    "    ```\n",
    "4. Write package code in the `src/` directory.\n",
    "5. (Optional) Write tests in `tests/` directory. Add `pytest` as a development dependency, install package, and run tests:\n",
    "    ```{prompt} bash \\$ auto\n",
    "    $ poetry add --dev pytest\n",
    "    $ poetry install\n",
    "    $ pytest\n",
    "    ```\n",
    "6. (Optional) Create documentation source files and render locally:\n",
    "    ```{prompt} bash \\$ auto\n",
    "    $ make html -C docs\n",
    "    ```\n",
    "7. (Optional) Host documentation online with [Read the Docs](https://readthedocs.org/).\n",
    "8. (Optional) Tag a release of your package on GitHub.\n",
    "9. Build source and wheel distributions:\n",
    "    ```{prompt} bash \\$ auto\n",
    "    $ poetry build\n",
    "    ```\n",
    "10. (Optional) Publish to [testPyPi](https://test.pypi.org/):\n",
    "    ```{prompt} bash \\$ auto\n",
    "    $ poetry config repositories.test-pypi https://test.pypi.org/legacy/\n",
    "    $ poetry publish -r test-pypi\n",
    "    ```\n",
    "11. (Optional) Install package from testPyPi to ensure everything is working as expected:\n",
    "    ```{prompt} bash \\$ auto\n",
    "    pip install --index-url https://test.pypi.org/simple/ --extra-index-url https://pypi.org/simple partypy\n",
    "    ```\n",
    "12. (Optional) Publish to [PyPi](https://test.pypi.org/):\n",
    "    ```{prompt} bash \\$ auto\n",
    "    poetry publish\n",
    "    ```\n",
    "13. (Optional) Your package can now be installed by anyone:\n",
    "    ```{prompt} bash \\$ auto\n",
    "    pip install <your-package-name>\n",
    "    ```\n",
    "    \n",
    "The above workflow uses a particular suite of tools (e.g., `conda`, `poetry`, `sphinx`, etc.) to develop a Python package. While there are other tools that can be used to help build Python packages, the aim of this book is to give an intuitive and simple introduction to Python packaging using modern, popular tools, and this has influenced our selection of tools in this chapter and book. However, the concepts and workflow discussed here remain relevant to the Python packaging ecosystem, regardless of the tools you use to develop your Python packages."
   ]
  }
 ],
 "metadata": {
  "celltoolbar": "Tags",
  "kernelspec": {
   "display_name": "Python 3",
   "language": "python",
   "name": "python3"
  },
  "language_info": {
   "codemirror_mode": {
    "name": "ipython",
    "version": 3
   },
   "file_extension": ".py",
   "mimetype": "text/x-python",
   "name": "python",
   "nbconvert_exporter": "python",
   "pygments_lexer": "ipython3",
   "version": "3.9.2"
  },
  "toc": {
   "base_numbering": 1,
   "nav_menu": {},
   "number_sections": true,
   "sideBar": true,
   "skip_h1_title": true,
   "title_cell": "Table of Contents",
   "title_sidebar": "Contents",
   "toc_cell": false,
   "toc_position": {},
   "toc_section_display": true,
   "toc_window_display": false
  },
  "toc-autonumbering": false,
  "widgets": {
   "application/vnd.jupyter.widget-state+json": {
    "state": {
     "06e8b80b569b4ac2bb5a989af9695ced": {
      "model_module": "@jupyter-widgets/base",
      "model_module_version": "1.2.0",
      "model_name": "LayoutModel",
      "state": {
       "height": "350px"
      }
     },
     "07d43b717dd94d33a8eeae066f36d839": {
      "model_module": "@jupyter-widgets/base",
      "model_module_version": "1.2.0",
      "model_name": "LayoutModel",
      "state": {}
     },
     "09294cf0fd6549c78d0f15acf20400b2": {
      "model_module": "@jupyter-widgets/base",
      "model_module_version": "1.2.0",
      "model_name": "LayoutModel",
      "state": {}
     },
     "096724e20b094296bb243e553b2820e6": {
      "model_module": "@jupyter-widgets/controls",
      "model_module_version": "1.5.0",
      "model_name": "FloatSliderModel",
      "state": {
       "description": "m",
       "layout": "IPY_MODEL_d2ef8aa5fad04047a98f733f89624812",
       "max": 2,
       "min": -2,
       "step": 0.1,
       "style": "IPY_MODEL_d3343e0c83844ad987beb592199dd6f6",
       "value": -0.1
      }
     },
     "0b412fd29e8a44f5bfaaa9a7122a33c3": {
      "model_module": "@jupyter-widgets/controls",
      "model_module_version": "1.5.0",
      "model_name": "VBoxModel",
      "state": {
       "children": [
        "IPY_MODEL_1da474a760df45c3a290bbf3ba8a7f94",
        "IPY_MODEL_acc0b478d5b748c29c4683cbcfc8e0f3"
       ],
       "layout": "IPY_MODEL_9a4a74191d4b483f8e6ca535c155a33f"
      }
     },
     "107d8e3c4e4249429f4ea5f86f97caa7": {
      "model_module": "@jupyter-widgets/controls",
      "model_module_version": "1.5.0",
      "model_name": "SliderStyleModel",
      "state": {
       "description_width": ""
      }
     },
     "1455d02e130148c4a24a0943765db04a": {
      "model_module": "@jupyter-widgets/base",
      "model_module_version": "1.2.0",
      "model_name": "LayoutModel",
      "state": {}
     },
     "1574978c1a56499dbe842cb3bf5b9e8f": {
      "model_module": "@jupyter-widgets/base",
      "model_module_version": "1.2.0",
      "model_name": "LayoutModel",
      "state": {}
     },
     "16770b98026442368338a8d27ffceab4": {
      "model_module": "@jupyter-widgets/base",
      "model_module_version": "1.2.0",
      "model_name": "LayoutModel",
      "state": {}
     },
     "1989b160147948d4a6414de3b6c60694": {
      "model_module": "@jupyter-widgets/base",
      "model_module_version": "1.2.0",
      "model_name": "LayoutModel",
      "state": {}
     },
     "1a1f847a77d44da7977d6ed1ae70ac12": {
      "model_module": "@jupyter-widgets/controls",
      "model_module_version": "1.5.0",
      "model_name": "VBoxModel",
      "state": {
       "_dom_classes": [
        "widget-interact"
       ],
       "children": [
        "IPY_MODEL_884172dbe7194ea7aba24ace80d35049",
        "IPY_MODEL_384a6bfb62454f0bb09a41d14a5eb9c9",
        "IPY_MODEL_8cc71f1ee02d4a10acbda0a6f9cbc4fb"
       ],
       "layout": "IPY_MODEL_da554c291c9f4442991fcf6d620e017e"
      }
     },
     "1cb1287d7a5940829cb770a5553a95b3": {
      "model_module": "@jupyter-widgets/base",
      "model_module_version": "1.2.0",
      "model_name": "LayoutModel",
      "state": {
       "height": "350px"
      }
     },
     "1da474a760df45c3a290bbf3ba8a7f94": {
      "model_module": "@jupyter-widgets/controls",
      "model_module_version": "1.5.0",
      "model_name": "IntSliderModel",
      "state": {
       "layout": "IPY_MODEL_323357ab97fc4ed0af4ab5743aa038cc",
       "style": "IPY_MODEL_64e2b864e41244388bcb173e865939f8"
      }
     },
     "1ecb0c5110084d99bd02c6845b36b5f5": {
      "model_module": "@jupyter-widgets/base",
      "model_module_version": "1.2.0",
      "model_name": "LayoutModel",
      "state": {}
     },
     "1ff35f5f7c9543158cd8fcb2fe45e951": {
      "model_module": "@jupyter-widgets/base",
      "model_module_version": "1.2.0",
      "model_name": "LayoutModel",
      "state": {}
     },
     "200d9095bbf14c67af4083eebe042331": {
      "model_module": "@jupyter-widgets/controls",
      "model_module_version": "1.5.0",
      "model_name": "VBoxModel",
      "state": {
       "children": [
        "IPY_MODEL_ce130e9bb1874109b6e9641a6f6b872a",
        "IPY_MODEL_544ffe02934f47abbe60aa68b1552268"
       ],
       "layout": "IPY_MODEL_2949d658a5e24ae8af8b48f1c68ca710"
      }
     },
     "204835ba5cf741febeb96117f71f03db": {
      "model_module": "@jupyter-widgets/controls",
      "model_module_version": "1.5.0",
      "model_name": "IntSliderModel",
      "state": {
       "layout": "IPY_MODEL_e788ecb6fbad4de6aac05557dcf109f5",
       "style": "IPY_MODEL_871a273a718c4b7ab105f4bf6f9500e1"
      }
     },
     "20f7461031e44d41bd5b14f4cdd8542a": {
      "model_module": "@jupyter-widgets/base",
      "model_module_version": "1.2.0",
      "model_name": "LayoutModel",
      "state": {}
     },
     "24102f82e9cf49aca85e512f59a1db81": {
      "model_module": "@jupyter-widgets/base",
      "model_module_version": "1.2.0",
      "model_name": "LayoutModel",
      "state": {}
     },
     "262d0a636bf64c67a8b3b7fdb6852569": {
      "model_module": "@jupyter-widgets/base",
      "model_module_version": "1.2.0",
      "model_name": "LayoutModel",
      "state": {}
     },
     "2844ba0a05594aeeb871eaf4fae2c4b9": {
      "model_module": "@jupyter-widgets/base",
      "model_module_version": "1.2.0",
      "model_name": "LayoutModel",
      "state": {}
     },
     "28a33b60ad9947cebcab993a3ecd7b01": {
      "model_module": "@jupyter-widgets/controls",
      "model_module_version": "1.5.0",
      "model_name": "IntSliderModel",
      "state": {
       "layout": "IPY_MODEL_1989b160147948d4a6414de3b6c60694",
       "style": "IPY_MODEL_f24ec537d93846e48f35cf5bca83e11d",
       "value": 40
      }
     },
     "2949d658a5e24ae8af8b48f1c68ca710": {
      "model_module": "@jupyter-widgets/base",
      "model_module_version": "1.2.0",
      "model_name": "LayoutModel",
      "state": {}
     },
     "2ad8e9ec7f1d4f5f89fadb89c51892cd": {
      "model_module": "@jupyter-widgets/controls",
      "model_module_version": "1.5.0",
      "model_name": "FloatSliderModel",
      "state": {
       "description": "m",
       "layout": "IPY_MODEL_3679e8d246954e7295c526cec653232b",
       "max": 2,
       "min": -2,
       "step": 0.1,
       "style": "IPY_MODEL_455179b0a10a4d3793163b6270e8c1d4"
      }
     },
     "2be4850df84041778088cca110e64d11": {
      "model_module": "@jupyter-widgets/controls",
      "model_module_version": "1.5.0",
      "model_name": "HBoxModel",
      "state": {
       "children": [
        "IPY_MODEL_3b84503a8368455bac727f95db5d01d0",
        "IPY_MODEL_5ed1935a5446410aa7103f97d2500695"
       ],
       "layout": "IPY_MODEL_5bc7f1fcf97f41fea3a8623cf73e21a3"
      }
     },
     "2ec147d796d24e06a192384ff4f271d8": {
      "model_module": "@jupyter-widgets/controls",
      "model_module_version": "1.5.0",
      "model_name": "IntSliderModel",
      "state": {
       "layout": "IPY_MODEL_1ecb0c5110084d99bd02c6845b36b5f5",
       "style": "IPY_MODEL_750974cf708b48bcac5c4b3e178f9e34"
      }
     },
     "323357ab97fc4ed0af4ab5743aa038cc": {
      "model_module": "@jupyter-widgets/base",
      "model_module_version": "1.2.0",
      "model_name": "LayoutModel",
      "state": {}
     },
     "3679e8d246954e7295c526cec653232b": {
      "model_module": "@jupyter-widgets/base",
      "model_module_version": "1.2.0",
      "model_name": "LayoutModel",
      "state": {}
     },
     "373d595c629d4c96ab6c69cabadfbae3": {
      "model_module": "@jupyter-widgets/controls",
      "model_module_version": "1.5.0",
      "model_name": "SliderStyleModel",
      "state": {
       "description_width": ""
      }
     },
     "384a6bfb62454f0bb09a41d14a5eb9c9": {
      "model_module": "@jupyter-widgets/controls",
      "model_module_version": "1.5.0",
      "model_name": "FloatSliderModel",
      "state": {
       "description": "b",
       "layout": "IPY_MODEL_79023cd4f95e412d86f33dacb04f9cce",
       "max": 3,
       "min": -3,
       "step": 0.5,
       "style": "IPY_MODEL_da243475d71a41f48bf4855c01052769"
      }
     },
     "3966b0590b414fe1873b43e1835dbc0b": {
      "model_module": "@jupyter-widgets/controls",
      "model_module_version": "1.5.0",
      "model_name": "VBoxModel",
      "state": {
       "_dom_classes": [
        "widget-interact"
       ],
       "children": [
        "IPY_MODEL_096724e20b094296bb243e553b2820e6",
        "IPY_MODEL_890cbfc7c0f343d2b7991c18b88b8177",
        "IPY_MODEL_fcc376497f9d4b8aa11a102ebc19b6ab"
       ],
       "layout": "IPY_MODEL_ae6272a2743a4752b8798fed0b5dc332"
      }
     },
     "39af2f7e78ff42679117a13c8e3e0c02": {
      "model_module": "@jupyter-widgets/output",
      "model_module_version": "1.0.0",
      "model_name": "OutputModel",
      "state": {
       "layout": "IPY_MODEL_43d437e0efff40b0b7c59c66b9b815f5",
       "outputs": [
        {
         "name": "stdout",
         "output_type": "stream",
         "text": "0 * 0 = 0\n"
        }
       ]
      }
     },
     "3ac4ddb748c447f9903d248db1422cf1": {
      "model_module": "@jupyter-widgets/controls",
      "model_module_version": "1.5.0",
      "model_name": "HBoxModel",
      "state": {
       "children": [
        "IPY_MODEL_b8aa32ebeb924971ade818f6af335eec",
        "IPY_MODEL_e6a05e8e4f6a4cefb61f5f99b1eb13c2"
       ],
       "layout": "IPY_MODEL_e57657510026435496e5903d5c875cbe"
      }
     },
     "3b84503a8368455bac727f95db5d01d0": {
      "model_module": "@jupyter-widgets/controls",
      "model_module_version": "1.5.0",
      "model_name": "VBoxModel",
      "state": {
       "children": [
        "IPY_MODEL_ce130e9bb1874109b6e9641a6f6b872a",
        "IPY_MODEL_544ffe02934f47abbe60aa68b1552268"
       ],
       "layout": "IPY_MODEL_20f7461031e44d41bd5b14f4cdd8542a"
      }
     },
     "3ccc38f44df249cd833536b7a8a34327": {
      "model_module": "@jupyter-widgets/controls",
      "model_module_version": "1.5.0",
      "model_name": "SliderStyleModel",
      "state": {
       "description_width": ""
      }
     },
     "4007d719e1aa45349acb4e9f80f0e4ba": {
      "model_module": "@jupyter-widgets/controls",
      "model_module_version": "1.5.0",
      "model_name": "VBoxModel",
      "state": {
       "children": [
        "IPY_MODEL_2ec147d796d24e06a192384ff4f271d8",
        "IPY_MODEL_f285911bbe39497a88f0994509363fbb"
       ],
       "layout": "IPY_MODEL_9ecdf012164d45aaa03c28b34bebf7fa"
      }
     },
     "42727846507043a098dc2e932813ee65": {
      "model_module": "@jupyter-widgets/controls",
      "model_module_version": "1.5.0",
      "model_name": "IntSliderModel",
      "state": {
       "layout": "IPY_MODEL_16770b98026442368338a8d27ffceab4",
       "style": "IPY_MODEL_b1e4ec6cae8d454999896d5ec41be03c"
      }
     },
     "43d437e0efff40b0b7c59c66b9b815f5": {
      "model_module": "@jupyter-widgets/base",
      "model_module_version": "1.2.0",
      "model_name": "LayoutModel",
      "state": {}
     },
     "454c456031894c1498a69aaa4dcb0e97": {
      "model_module": "@jupyter-widgets/base",
      "model_module_version": "1.2.0",
      "model_name": "LayoutModel",
      "state": {}
     },
     "455179b0a10a4d3793163b6270e8c1d4": {
      "model_module": "@jupyter-widgets/controls",
      "model_module_version": "1.5.0",
      "model_name": "SliderStyleModel",
      "state": {
       "description_width": ""
      }
     },
     "479edca2ec334d01b8af52d21f4c1565": {
      "model_module": "@jupyter-widgets/controls",
      "model_module_version": "1.5.0",
      "model_name": "SliderStyleModel",
      "state": {
       "description_width": ""
      }
     },
     "494640e15fe7442ebfa3b6786ef64d82": {
      "model_module": "@jupyter-widgets/controls",
      "model_module_version": "1.5.0",
      "model_name": "SliderStyleModel",
      "state": {
       "description_width": ""
      }
     },
     "4af9e16a11ed4597bbd81a734add4f5c": {
      "model_module": "@jupyter-widgets/controls",
      "model_module_version": "1.5.0",
      "model_name": "HBoxModel",
      "state": {
       "children": [
        "IPY_MODEL_535d254dd54d41ada990b62be72d5a14",
        "IPY_MODEL_e6a05e8e4f6a4cefb61f5f99b1eb13c2"
       ],
       "layout": "IPY_MODEL_7415264924174df19d8822f16c379f55"
      }
     },
     "4c8b0dc16ddc40af8b131803f5280311": {
      "model_module": "@jupyter-widgets/controls",
      "model_module_version": "1.5.0",
      "model_name": "HBoxModel",
      "state": {
       "children": [
        "IPY_MODEL_edcfad1763d44bbab957f8d4f981f4e4",
        "IPY_MODEL_d11a21b0488f4970babc1c7ad3f86aa8"
       ],
       "layout": "IPY_MODEL_ef77db303b044fe783f80b51f045e866"
      }
     },
     "4d8487b20ef9419aab03dcc0c813fc77": {
      "model_module": "@jupyter-widgets/controls",
      "model_module_version": "1.5.0",
      "model_name": "VBoxModel",
      "state": {
       "children": [
        "IPY_MODEL_cf422506005a43978b50beb43766a819",
        "IPY_MODEL_78efe79186ed46c78e9d91400f519f1d"
       ],
       "layout": "IPY_MODEL_ce3b1869747b4502b90f4448204f5d94"
      }
     },
     "4f613b87c7184b80bbc2806c184eb4cb": {
      "model_module": "@jupyter-widgets/controls",
      "model_module_version": "1.5.0",
      "model_name": "VBoxModel",
      "state": {
       "children": [
        "IPY_MODEL_9053f57dacfc4255ad1dc0b717cbd4be",
        "IPY_MODEL_42727846507043a098dc2e932813ee65"
       ],
       "layout": "IPY_MODEL_8c5220ab1fe748d0abf46067668fd9d1"
      }
     },
     "50f2a1ea21a24ed9a0db566a4678e24e": {
      "model_module": "@jupyter-widgets/controls",
      "model_module_version": "1.5.0",
      "model_name": "IntSliderModel",
      "state": {
       "layout": "IPY_MODEL_933e89a135cd42e196abb362e0302570",
       "style": "IPY_MODEL_b4ed787903d4445cb7fd4c6827acf9cd"
      }
     },
     "527235c0249e4be68af5cc1b5f6ecaa8": {
      "model_module": "@jupyter-widgets/controls",
      "model_module_version": "1.5.0",
      "model_name": "SliderStyleModel",
      "state": {
       "description_width": ""
      }
     },
     "535d254dd54d41ada990b62be72d5a14": {
      "model_module": "@jupyter-widgets/controls",
      "model_module_version": "1.5.0",
      "model_name": "VBoxModel",
      "state": {
       "children": [
        "IPY_MODEL_50f2a1ea21a24ed9a0db566a4678e24e",
        "IPY_MODEL_bfe8c68e54b24762adb625e2d926bc2e"
       ],
       "layout": "IPY_MODEL_d9616e978f2840609e88757e2e7e47f3"
      }
     },
     "544ffe02934f47abbe60aa68b1552268": {
      "model_module": "@jupyter-widgets/controls",
      "model_module_version": "1.5.0",
      "model_name": "IntSliderModel",
      "state": {
       "layout": "IPY_MODEL_7acc7084e5c34c5a9b18b84c2a78660b",
       "style": "IPY_MODEL_d10b5afbdea647baa88b2156fda8c6c0"
      }
     },
     "54bac03c012745098c9455c5a2325e0a": {
      "model_module": "@jupyter-widgets/output",
      "model_module_version": "1.0.0",
      "model_name": "OutputModel",
      "state": {
       "layout": "IPY_MODEL_1cb1287d7a5940829cb770a5553a95b3",
       "outputs": [
        {
         "data": {
          "image/png": "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\n",
          "text/plain": "<Figure size 432x288 with 1 Axes>"
         },
         "metadata": {
          "needs_background": "light"
         },
         "output_type": "display_data"
        }
       ]
      }
     },
     "57c1af3db3d44cc7bfcfc97614bea646": {
      "model_module": "@jupyter-widgets/controls",
      "model_module_version": "1.5.0",
      "model_name": "IntSliderModel",
      "state": {
       "layout": "IPY_MODEL_9053341eacf94d139041e6aa7cc93233",
       "style": "IPY_MODEL_527235c0249e4be68af5cc1b5f6ecaa8",
       "value": 40
      }
     },
     "587b16eff8dc4011bcc72b4f4070b14d": {
      "model_module": "@jupyter-widgets/base",
      "model_module_version": "1.2.0",
      "model_name": "LayoutModel",
      "state": {}
     },
     "58a162ea4105481e9d1345fdc79c9f1d": {
      "model_module": "@jupyter-widgets/controls",
      "model_module_version": "1.5.0",
      "model_name": "SliderStyleModel",
      "state": {
       "description_width": ""
      }
     },
     "5ab9a789ce9a4e97845523051ef0762c": {
      "model_module": "@jupyter-widgets/output",
      "model_module_version": "1.0.0",
      "model_name": "OutputModel",
      "state": {
       "layout": "IPY_MODEL_965ef0e308be48eaa8b8ef19c63bed40",
       "outputs": [
        {
         "name": "stdout",
         "output_type": "stream",
         "text": "0 * 0 = 0\n"
        }
       ]
      }
     },
     "5bc7f1fcf97f41fea3a8623cf73e21a3": {
      "model_module": "@jupyter-widgets/base",
      "model_module_version": "1.2.0",
      "model_name": "LayoutModel",
      "state": {}
     },
     "5d02d239659c496cbb1972806465cbba": {
      "model_module": "@jupyter-widgets/base",
      "model_module_version": "1.2.0",
      "model_name": "LayoutModel",
      "state": {}
     },
     "5d68805b72bd49498579e5c204071464": {
      "model_module": "@jupyter-widgets/controls",
      "model_module_version": "1.5.0",
      "model_name": "VBoxModel",
      "state": {
       "children": [
        "IPY_MODEL_1da474a760df45c3a290bbf3ba8a7f94",
        "IPY_MODEL_acc0b478d5b748c29c4683cbcfc8e0f3"
       ],
       "layout": "IPY_MODEL_72b02467571a402da6d4414c5e4489fa"
      }
     },
     "5e5877766afd49fcbb63cdbbff1f5684": {
      "model_module": "@jupyter-widgets/controls",
      "model_module_version": "1.5.0",
      "model_name": "FloatSliderModel",
      "state": {
       "description": "b",
       "layout": "IPY_MODEL_1ff35f5f7c9543158cd8fcb2fe45e951",
       "max": 3,
       "min": -3,
       "step": 0.5,
       "style": "IPY_MODEL_7bc761c122284f8b9822ff186e0f78bd",
       "value": -1
      }
     },
     "5ed1935a5446410aa7103f97d2500695": {
      "model_module": "@jupyter-widgets/output",
      "model_module_version": "1.0.0",
      "model_name": "OutputModel",
      "state": {
       "layout": "IPY_MODEL_262d0a636bf64c67a8b3b7fdb6852569",
       "outputs": [
        {
         "name": "stdout",
         "output_type": "stream",
         "text": "0 * 0 = 0\n"
        }
       ]
      }
     },
     "645724dd1b174799b0ff40a9e6d6ab62": {
      "model_module": "@jupyter-widgets/controls",
      "model_module_version": "1.5.0",
      "model_name": "HBoxModel",
      "state": {
       "children": [
        "IPY_MODEL_98b7be5be6ad4194bafdff2ffd9a89f0",
        "IPY_MODEL_e5aa35e4f4aa46cf8044c66339de4b96"
       ],
       "layout": "IPY_MODEL_454c456031894c1498a69aaa4dcb0e97"
      }
     },
     "64c7a0f8b8904b1ca743bc4911a341b2": {
      "model_module": "@jupyter-widgets/controls",
      "model_module_version": "1.5.0",
      "model_name": "SliderStyleModel",
      "state": {
       "description_width": ""
      }
     },
     "64e2b864e41244388bcb173e865939f8": {
      "model_module": "@jupyter-widgets/controls",
      "model_module_version": "1.5.0",
      "model_name": "SliderStyleModel",
      "state": {
       "description_width": ""
      }
     },
     "6991e87f25be44a78f759d7fd412588b": {
      "model_module": "@jupyter-widgets/controls",
      "model_module_version": "1.5.0",
      "model_name": "VBoxModel",
      "state": {
       "_dom_classes": [
        "widget-interact"
       ],
       "children": [
        "IPY_MODEL_2ad8e9ec7f1d4f5f89fadb89c51892cd",
        "IPY_MODEL_5e5877766afd49fcbb63cdbbff1f5684",
        "IPY_MODEL_81a51a474122457fa2f9da64776cf5d1"
       ],
       "layout": "IPY_MODEL_8a2b88d881b247d08b03cb1b7183128d"
      }
     },
     "6a03b9b6618c43bb80bcccfc6f7c19f9": {
      "model_module": "@jupyter-widgets/base",
      "model_module_version": "1.2.0",
      "model_name": "LayoutModel",
      "state": {
       "height": "350px"
      }
     },
     "6b15b70b85584ce18f7b6efe71563f96": {
      "model_module": "@jupyter-widgets/controls",
      "model_module_version": "1.5.0",
      "model_name": "SliderStyleModel",
      "state": {
       "description_width": ""
      }
     },
     "6c890acf62af426cab22ed65ff429088": {
      "model_module": "@jupyter-widgets/base",
      "model_module_version": "1.2.0",
      "model_name": "LayoutModel",
      "state": {}
     },
     "6ffdc8fcab164aedbf54cf3a45384d64": {
      "model_module": "@jupyter-widgets/base",
      "model_module_version": "1.2.0",
      "model_name": "LayoutModel",
      "state": {}
     },
     "72b02467571a402da6d4414c5e4489fa": {
      "model_module": "@jupyter-widgets/base",
      "model_module_version": "1.2.0",
      "model_name": "LayoutModel",
      "state": {}
     },
     "7415264924174df19d8822f16c379f55": {
      "model_module": "@jupyter-widgets/base",
      "model_module_version": "1.2.0",
      "model_name": "LayoutModel",
      "state": {}
     },
     "750974cf708b48bcac5c4b3e178f9e34": {
      "model_module": "@jupyter-widgets/controls",
      "model_module_version": "1.5.0",
      "model_name": "SliderStyleModel",
      "state": {
       "description_width": ""
      }
     },
     "78efe79186ed46c78e9d91400f519f1d": {
      "model_module": "@jupyter-widgets/controls",
      "model_module_version": "1.5.0",
      "model_name": "IntSliderModel",
      "state": {
       "layout": "IPY_MODEL_fdfc64c80c3c407bacf0a395dede228c",
       "style": "IPY_MODEL_8b9cd3fe33484cb794a9c2a4d60caa9a"
      }
     },
     "79023cd4f95e412d86f33dacb04f9cce": {
      "model_module": "@jupyter-widgets/base",
      "model_module_version": "1.2.0",
      "model_name": "LayoutModel",
      "state": {}
     },
     "7a81ba3691dc47449c052dcd9070b618": {
      "model_module": "@jupyter-widgets/controls",
      "model_module_version": "1.5.0",
      "model_name": "FloatSliderModel",
      "state": {
       "description": "m",
       "layout": "IPY_MODEL_ac55030546d54b0ca4d7e4fbf355a3c8",
       "max": 2,
       "min": -2,
       "step": 0.1,
       "style": "IPY_MODEL_6b15b70b85584ce18f7b6efe71563f96"
      }
     },
     "7acc7084e5c34c5a9b18b84c2a78660b": {
      "model_module": "@jupyter-widgets/base",
      "model_module_version": "1.2.0",
      "model_name": "LayoutModel",
      "state": {}
     },
     "7b066d9aaaa34fcda5803a72047566f0": {
      "model_module": "@jupyter-widgets/controls",
      "model_module_version": "1.5.0",
      "model_name": "IntSliderModel",
      "state": {
       "layout": "IPY_MODEL_d6b85a8f0ec64ee491848be1b8bf8188",
       "style": "IPY_MODEL_3ccc38f44df249cd833536b7a8a34327",
       "value": 40
      }
     },
     "7bc761c122284f8b9822ff186e0f78bd": {
      "model_module": "@jupyter-widgets/controls",
      "model_module_version": "1.5.0",
      "model_name": "SliderStyleModel",
      "state": {
       "description_width": ""
      }
     },
     "7c23e7df356f475e994f2f3e70730747": {
      "model_module": "@jupyter-widgets/base",
      "model_module_version": "1.2.0",
      "model_name": "LayoutModel",
      "state": {}
     },
     "7d29dde0dd4046fb9717131bf06b637f": {
      "model_module": "@jupyter-widgets/controls",
      "model_module_version": "1.5.0",
      "model_name": "FloatSliderModel",
      "state": {
       "description": "b",
       "layout": "IPY_MODEL_b674d805670c4a969daa587ae7d22805",
       "max": 3,
       "min": -3,
       "step": 0.5,
       "style": "IPY_MODEL_494640e15fe7442ebfa3b6786ef64d82",
       "value": -1
      }
     },
     "81a51a474122457fa2f9da64776cf5d1": {
      "model_module": "@jupyter-widgets/output",
      "model_module_version": "1.0.0",
      "model_name": "OutputModel",
      "state": {
       "layout": "IPY_MODEL_94487d6608754721aa3f4401e77dc292",
       "outputs": [
        {
         "data": {
          "image/png": "iVBORw0KGgoAAAANSUhEUgAAAXIAAAD4CAYAAADxeG0DAAAABHNCSVQICAgIfAhkiAAAAAlwSFlzAAALEgAACxIB0t1+/AAAADh0RVh0U29mdHdhcmUAbWF0cGxvdGxpYiB2ZXJzaW9uMy4yLjEsIGh0dHA6Ly9tYXRwbG90bGliLm9yZy+j8jraAAANbElEQVR4nO3dfaykZ1nH8e/PLsUEKhR3oaVb3BIJsagJ9aRBQSW0KaUiFaOmJCpYkw0aEkgwTWsTRPkLiWiMaLMC8YXGVgWkkhLYShvjH1ROa1/oG11qka6lPYhSDAnYcPnHPGuGw5w9c3aembMXfj/Jyc48zz33fc09z/nNM/fM7ElVIUnq67t2uwBJ0mIMcklqziCXpOYMcklqziCXpOb27Mage/furQMHDuzG0JLU1m233falqtq3efuuBPmBAwdYX1/fjaElqa0kn5+13aUVSWrOIJek5gxySWrOIJek5gxySWrOIJek5gxySWrOIJek5gxySWrOIJek5gxySWrOIJek5gxySWrOIJek5gxySWrOIJek5gxySWputCBPckqSf0ny0bH6lCRtb8wz8jcD943YnyRpDqMEeZL9wE8B7x2jP0nS/MY6I/8D4Argm1s1SHIwyXqS9Y2NjZGGlSQtHORJXg08XlW3Ha9dVR2qqrWqWtu3b9+iw0qSBmOckb8UeE2Sh4HrgFck+cAI/UqS5rBwkFfVVVW1v6oOAJcBn6yqX1y4MknSXPwcuSQ1t2fMzqrqFuCWMfuUJB2fZ+SS1JxBLknNGeSS1JxBLknNGeSS1JxBLknNGeSS1JxBLknNGeSS1JxBLknNGeSS1JxBLknNGeSS1JxBLknNGeSS1JxBLknNGeSS1JxBLknNGeSS1JxBLknNGeSS1JxBLknNGeSS1JxBLknNGeSS1JxBLknNGeSS1JxBLknNGeSS1JxBLknNGeSS1JxBLknNGeSS1JxBLknNLRzkSc5OcnOSe5Pck+TNYxQmSZrPnhH6eBJ4a1XdnuQ04LYkh6vq3hH6liRtY+Ez8qp6tKpuHy5/FbgPOGvRfiVJ8xl1jTzJAeDFwK1j9itJ2tpoQZ7k6cAHgbdU1RMz9h9Msp5kfWNjY6xhJen/vVGCPMlTmIT4tVX1oVltqupQVa1V1dq+ffvGGFaSxDifWgnwPuC+qnr34iVJknZijDPylwK/BLwiyR3DzyUj9CtJmsPCHz+sqn8CMkItkqQT4Dc7Jak5g1ySmjPIJak5g1ySmjPIJak5g1ySmjPIJak5g1ySmjPIJak5g1ySmjPIJak5g1ySmjPIJak5g1ySmjPIJak5g1ySmjPIJak5g1ySmjPIJak5g1ySmjPIJak5g1ySmjPIJak5g1ySmjPIJak5g1ySmjPIJak5g1ySmjPIJak5g1ySmjPIJak5g1ySmjPIJak5g1ySmjPIJam5UYI8ycVJHkhyJMmVY/QpSZrPwkGe5BTgPcCrgHOB1yU5d9F+JUnzGeOM/HzgSFU9VFXfAK4DLh2hX0nSHMYI8rOAL0xdf2TY9i2SHEyynmR9Y2NjhGElSbDCNzur6lBVrVXV2r59+1Y1rCR9xxsjyI8CZ09d3z9skyStwBhB/mngBUnOSXIqcBlwwwj9SpLmsGfRDqrqySRvAj4OnAK8v6ruWbgySdJcFg5ygKq6EbhxjL4kSTvjNzslqTmDXJKaM8glqTmDXJKaM8glqTmDXJKaM8glqTmDXJKaM8glqTmDXJKaM8glqTmDXJKaM8glqTmDXJKaM8glqblR/j/yVfntv7+He//9id0uQ5JO2LnP/R5+66dfNGqfnpFLUnOtzsjHfhaTpO8EnpFLUnMGuSQ1Z5BLUnMGuSQ1Z5BLUnMGuSQ1Z5BLUnMGuSQ1Z5BLUnMGuSQ1Z5BLUnMGuSQ1Z5BLUnMGuSQ1Z5BLUnMGuSQ1t1CQJ3lXkvuT3JXkw0meOVZhkqT5LHpGfhj4war6YeCzwFWLlyRJ2omFgryqPlFVTw5XPwXsX7wkSdJOjLlGfjnwsRH7kyTNYds/vpzkJuCMGbuurqqPDG2uBp4Erj1OPweBgwDPe97zTqhYSdK32zbIq+rC4+1P8gbg1cAFVVXH6ecQcAhgbW1ty3aSpJ3ZNsiPJ8nFwBXAT1bV18YpSZK0E4uukf8RcBpwOMkdSa4ZoSZJ0g4sdEZeVd8/ViGSpBPjNzslqTmDXJKaM8glqTmDXJKaM8glqTmDXJKaM8glqTmDXJKaM8glqTmDXJKaM8glqTmDXJKaM8glqTmDXJKaM8glqTmDXJKaM8glqTmDXJKaM8glqTmDXJKaM8glqTmDXJKaM8glqTmDXJKaM8glqTmDXJKaM8glqTmDXJKaM8glqTmDXJKaM8glqTmDXJKaM8glqTmDXJKaM8glqblRgjzJW5NUkr1j9CdJmt/CQZ7kbOAi4N8WL0eStFNjnJH/PnAFUCP0JUnaoYWCPMmlwNGqunOOtgeTrCdZ39jYWGRYSdKUPds1SHITcMaMXVcDv8lkWWVbVXUIOASwtrbm2bskjWTbIK+qC2dtT/JDwDnAnUkA9gO3Jzm/qr44apWSpC1tG+Rbqaq7gWcfu57kYWCtqr40Ql2SpDn5OXJJau6Ez8g3q6oDY/UlSZqfZ+SS1JxBLknNGeSS1JxBLknNGeSS1JxBLknNGeSS1JxBLknNGeSS1JxBLknNGeSS1JxBLknNGeSS1JxBLknNGeSS1JxBLknNpWr1fwc5yQbw+RO8+V7gZPxzcta1M9a1M9a1MydrXbBYbd9XVfs2b9yVIF9EkvWqWtvtOjazrp2xrp2xrp05WeuC5dTm0ookNWeQS1JzHYP80G4XsAXr2hnr2hnr2pmTtS5YQm3t1sglSd+q4xm5JGmKQS5JzZ2UQZ7k55Pck+SbSdY27bsqyZEkDyR55Ra3PyfJrUO765OcuoQar09yx/DzcJI7tmj3cJK7h3brY9cxY7y3Jzk6VdslW7S7eJjDI0muXEFd70pyf5K7knw4yTO3aLeS+dru/id56vAYHxmOpQPLqmVqzLOT3Jzk3uH4f/OMNi9P8pWpx/dty65rGPe4j0sm/nCYr7uSnLeCml44NQ93JHkiyVs2tVnZfCV5f5LHk3xmatuzkhxO8uDw7+lb3Pb1Q5sHk7x+x4NX1Un3A/wA8ELgFmBtavu5wJ3AU4FzgM8Bp8y4/V8Dlw2XrwF+bcn1/h7wti32PQzsXeHcvR34jW3anDLM3fOBU4c5PXfJdV0E7BkuvxN4527N1zz3H/h14Jrh8mXA9St47M4EzhsunwZ8dkZdLwc+uqrjad7HBbgE+BgQ4CXArSuu7xTgi0y+MLMr8wX8BHAe8Jmpbb8LXDlcvnLWcQ88C3ho+Pf04fLpOxn7pDwjr6r7quqBGbsuBa6rqq9X1b8CR4DzpxskCfAK4G+HTX8O/Myyah3G+wXgr5Y1xhKcDxypqoeq6hvAdUzmdmmq6hNV9eRw9VPA/mWOt4157v+lTI4dmBxLFwyP9dJU1aNVdftw+avAfcBZyxxzRJcCf1ETnwKemeTMFY5/AfC5qjrRb4wvrKr+Efjyps3Tx9FWWfRK4HBVfbmq/hM4DFy8k7FPyiA/jrOAL0xdf4RvP9C/F/ivqdCY1WZMPw48VlUPbrG/gE8kuS3JwSXWMe1Nw8vb92/xUm6eeVymy5mcvc2yivma5/7/X5vhWPoKk2NrJYalnBcDt87Y/aNJ7kzysSQvWlFJ2z0uu31MXcbWJ1O7MV/HPKeqHh0ufxF4zow2C8/dnhOrbXFJbgLOmLHr6qr6yKrrmWXOGl/H8c/GX1ZVR5M8Gzic5P7hmXspdQF/AryDyS/eO5gs+1y+yHhj1HVsvpJcDTwJXLtFN6PPVzdJng58EHhLVT2xafftTJYP/nt4/+PvgBesoKyT9nEZ3gN7DXDVjN27NV/fpqoqyVI+771rQV5VF57AzY4CZ09d3z9sm/YfTF7W7RnOpGa1GaXGJHuAnwV+5Dh9HB3+fTzJh5m8rF/oF2DeuUvyp8BHZ+yaZx5HryvJG4BXAxfUsDg4o4/R52uGee7/sTaPDI/zM5gcW0uV5ClMQvzaqvrQ5v3TwV5VNyb54yR7q2qp/0HUHI/LUo6pOb0KuL2qHtu8Y7fma8pjSc6sqkeHpabHZ7Q5ymQt/5j9TN4fnFu3pZUbgMuGTxScw+SZ9Z+nGwwBcTPwc8Om1wPLOsO/ELi/qh6ZtTPJ05Kcduwykzf8PjOr7Vg2rUu+dovxPg28IJNP95zK5GXpDUuu62LgCuA1VfW1Ldqsar7muf83MDl2YHIsfXKrJ5+xDGvw7wPuq6p3b9HmjGNr9UnOZ/I7vNQnmDkflxuAXx4+vfIS4CtTSwrLtuWr4t2Yr02mj6OtsujjwEVJTh+WQi8ats1vFe/mnsC7v69lsk70deAx4ONT+65m8omDB4BXTW2/EXjucPn5TAL+CPA3wFOXVOefAW/ctO25wI1Tddw5/NzDZIlh2XP3l8DdwF3DQXTm5rqG65cw+VTE51ZU1xEm64B3DD/XbK5rlfM16/4Dv8PkiQbgu4dj58hwLD1/BXP0MiZLYndNzdMlwBuPHWfAm4a5uZPJm8Y/toK6Zj4um+oK8J5hPu9m6tNmS67taUyC+RlT23Zlvpg8mTwK/M+QX7/K5H2VfwAeBG4CnjW0XQPeO3Xby4dj7QjwKzsd26/oS1Jz3ZZWJEmbGOSS1JxBLknNGeSS1JxBLknNGeSS1JxBLknN/S/DuupVaQYqRAAAAABJRU5ErkJggg==\n",
          "text/plain": "<Figure size 432x288 with 1 Axes>"
         },
         "metadata": {
          "needs_background": "light"
         },
         "output_type": "display_data"
        }
       ]
      }
     },
     "856e6ab0a1b14ac490277652b9beabf6": {
      "model_module": "@jupyter-widgets/controls",
      "model_module_version": "1.5.0",
      "model_name": "HBoxModel",
      "state": {
       "children": [
        "IPY_MODEL_0b412fd29e8a44f5bfaaa9a7122a33c3",
        "IPY_MODEL_5ab9a789ce9a4e97845523051ef0762c"
       ],
       "layout": "IPY_MODEL_f55ac2b80afd433a919cc2d7ab87b098"
      }
     },
     "871a273a718c4b7ab105f4bf6f9500e1": {
      "model_module": "@jupyter-widgets/controls",
      "model_module_version": "1.5.0",
      "model_name": "SliderStyleModel",
      "state": {
       "description_width": ""
      }
     },
     "884172dbe7194ea7aba24ace80d35049": {
      "model_module": "@jupyter-widgets/controls",
      "model_module_version": "1.5.0",
      "model_name": "FloatSliderModel",
      "state": {
       "description": "m",
       "layout": "IPY_MODEL_d2e7ead2f8d74c5180cbabbb30b674a8",
       "max": 2,
       "min": -2,
       "step": 0.1,
       "style": "IPY_MODEL_373d595c629d4c96ab6c69cabadfbae3"
      }
     },
     "890cbfc7c0f343d2b7991c18b88b8177": {
      "model_module": "@jupyter-widgets/controls",
      "model_module_version": "1.5.0",
      "model_name": "FloatSliderModel",
      "state": {
       "description": "b",
       "layout": "IPY_MODEL_24102f82e9cf49aca85e512f59a1db81",
       "max": 3,
       "min": -3,
       "step": 0.5,
       "style": "IPY_MODEL_64c7a0f8b8904b1ca743bc4911a341b2",
       "value": -0.5
      }
     },
     "8a2b88d881b247d08b03cb1b7183128d": {
      "model_module": "@jupyter-widgets/base",
      "model_module_version": "1.2.0",
      "model_name": "LayoutModel",
      "state": {}
     },
     "8b9cd3fe33484cb794a9c2a4d60caa9a": {
      "model_module": "@jupyter-widgets/controls",
      "model_module_version": "1.5.0",
      "model_name": "SliderStyleModel",
      "state": {
       "description_width": ""
      }
     },
     "8c5220ab1fe748d0abf46067668fd9d1": {
      "model_module": "@jupyter-widgets/base",
      "model_module_version": "1.2.0",
      "model_name": "LayoutModel",
      "state": {}
     },
     "8cc71f1ee02d4a10acbda0a6f9cbc4fb": {
      "model_module": "@jupyter-widgets/output",
      "model_module_version": "1.0.0",
      "model_name": "OutputModel",
      "state": {
       "layout": "IPY_MODEL_6a03b9b6618c43bb80bcccfc6f7c19f9",
       "outputs": [
        {
         "data": {
          "image/png": "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\n",
          "text/plain": "<Figure size 432x288 with 1 Axes>"
         },
         "metadata": {
          "needs_background": "light"
         },
         "output_type": "display_data"
        }
       ]
      }
     },
     "8dda8bf6c916451e91b96e56fc4d2a76": {
      "model_module": "@jupyter-widgets/controls",
      "model_module_version": "1.5.0",
      "model_name": "SliderStyleModel",
      "state": {
       "description_width": ""
      }
     },
     "9053341eacf94d139041e6aa7cc93233": {
      "model_module": "@jupyter-widgets/base",
      "model_module_version": "1.2.0",
      "model_name": "LayoutModel",
      "state": {}
     },
     "9053f57dacfc4255ad1dc0b717cbd4be": {
      "model_module": "@jupyter-widgets/controls",
      "model_module_version": "1.5.0",
      "model_name": "IntSliderModel",
      "state": {
       "layout": "IPY_MODEL_ef44415ff8dd456681965184a2a299e8",
       "style": "IPY_MODEL_cc29a198d1d44797a909ea9a68a5d484"
      }
     },
     "907bd0f286754766afa0d6ba1612d301": {
      "model_module": "@jupyter-widgets/controls",
      "model_module_version": "1.5.0",
      "model_name": "HBoxModel",
      "state": {
       "children": [
        "IPY_MODEL_4d8487b20ef9419aab03dcc0c813fc77",
        "IPY_MODEL_d11a21b0488f4970babc1c7ad3f86aa8"
       ],
       "layout": "IPY_MODEL_1574978c1a56499dbe842cb3bf5b9e8f"
      }
     },
     "90a70b5f560f437f9bb9422a4a6f6592": {
      "model_module": "@jupyter-widgets/base",
      "model_module_version": "1.2.0",
      "model_name": "LayoutModel",
      "state": {}
     },
     "933e89a135cd42e196abb362e0302570": {
      "model_module": "@jupyter-widgets/base",
      "model_module_version": "1.2.0",
      "model_name": "LayoutModel",
      "state": {}
     },
     "935fac04b32e4e0b9e1f9ea118a04ee1": {
      "model_module": "@jupyter-widgets/controls",
      "model_module_version": "1.5.0",
      "model_name": "IntSliderModel",
      "state": {
       "layout": "IPY_MODEL_b9e169b8efac4eeb990ae37db1e8de12",
       "max": 200,
       "style": "IPY_MODEL_9927296f85f248858bdc0a0abcc67e94",
       "value": 100
      }
     },
     "94487d6608754721aa3f4401e77dc292": {
      "model_module": "@jupyter-widgets/base",
      "model_module_version": "1.2.0",
      "model_name": "LayoutModel",
      "state": {
       "height": "350px"
      }
     },
     "965ef0e308be48eaa8b8ef19c63bed40": {
      "model_module": "@jupyter-widgets/base",
      "model_module_version": "1.2.0",
      "model_name": "LayoutModel",
      "state": {}
     },
     "97c973da7b714095959a2a66d7d28c65": {
      "model_module": "@jupyter-widgets/base",
      "model_module_version": "1.2.0",
      "model_name": "LayoutModel",
      "state": {}
     },
     "98b7be5be6ad4194bafdff2ffd9a89f0": {
      "model_module": "@jupyter-widgets/controls",
      "model_module_version": "1.5.0",
      "model_name": "VBoxModel",
      "state": {
       "children": [
        "IPY_MODEL_b12e150681c94126b68be84b0d7cf158",
        "IPY_MODEL_204835ba5cf741febeb96117f71f03db"
       ],
       "layout": "IPY_MODEL_7c23e7df356f475e994f2f3e70730747"
      }
     },
     "9927296f85f248858bdc0a0abcc67e94": {
      "model_module": "@jupyter-widgets/controls",
      "model_module_version": "1.5.0",
      "model_name": "SliderStyleModel",
      "state": {
       "description_width": ""
      }
     },
     "9a4a74191d4b483f8e6ca535c155a33f": {
      "model_module": "@jupyter-widgets/base",
      "model_module_version": "1.2.0",
      "model_name": "LayoutModel",
      "state": {}
     },
     "9c4a507b139f440fabaa95140d4b2193": {
      "model_module": "@jupyter-widgets/base",
      "model_module_version": "1.2.0",
      "model_name": "LayoutModel",
      "state": {}
     },
     "9ecdf012164d45aaa03c28b34bebf7fa": {
      "model_module": "@jupyter-widgets/base",
      "model_module_version": "1.2.0",
      "model_name": "LayoutModel",
      "state": {}
     },
     "a5e552b00bc54d1991d64d1e61258563": {
      "model_module": "@jupyter-widgets/controls",
      "model_module_version": "1.5.0",
      "model_name": "VBoxModel",
      "state": {
       "_dom_classes": [
        "widget-interact"
       ],
       "children": [
        "IPY_MODEL_7a81ba3691dc47449c052dcd9070b618",
        "IPY_MODEL_7d29dde0dd4046fb9717131bf06b637f",
        "IPY_MODEL_54bac03c012745098c9455c5a2325e0a"
       ],
       "layout": "IPY_MODEL_2844ba0a05594aeeb871eaf4fae2c4b9"
      }
     },
     "ac55030546d54b0ca4d7e4fbf355a3c8": {
      "model_module": "@jupyter-widgets/base",
      "model_module_version": "1.2.0",
      "model_name": "LayoutModel",
      "state": {}
     },
     "acc0b478d5b748c29c4683cbcfc8e0f3": {
      "model_module": "@jupyter-widgets/controls",
      "model_module_version": "1.5.0",
      "model_name": "IntSliderModel",
      "state": {
       "layout": "IPY_MODEL_c69f7b00b5a54f60908cb3d92021daf6",
       "style": "IPY_MODEL_479edca2ec334d01b8af52d21f4c1565"
      }
     },
     "ae6272a2743a4752b8798fed0b5dc332": {
      "model_module": "@jupyter-widgets/base",
      "model_module_version": "1.2.0",
      "model_name": "LayoutModel",
      "state": {}
     },
     "b070d7bd6a794d2ba0242e4220af368f": {
      "model_module": "@jupyter-widgets/base",
      "model_module_version": "1.2.0",
      "model_name": "LayoutModel",
      "state": {}
     },
     "b12e150681c94126b68be84b0d7cf158": {
      "model_module": "@jupyter-widgets/controls",
      "model_module_version": "1.5.0",
      "model_name": "IntSliderModel",
      "state": {
       "layout": "IPY_MODEL_1455d02e130148c4a24a0943765db04a",
       "style": "IPY_MODEL_c2bcf8f8ff7b4623a8311427461ec26b"
      }
     },
     "b1e4ec6cae8d454999896d5ec41be03c": {
      "model_module": "@jupyter-widgets/controls",
      "model_module_version": "1.5.0",
      "model_name": "SliderStyleModel",
      "state": {
       "description_width": ""
      }
     },
     "b4ed787903d4445cb7fd4c6827acf9cd": {
      "model_module": "@jupyter-widgets/controls",
      "model_module_version": "1.5.0",
      "model_name": "SliderStyleModel",
      "state": {
       "description_width": ""
      }
     },
     "b65b837d3b614513bef7014f6e97b8be": {
      "model_module": "@jupyter-widgets/output",
      "model_module_version": "1.0.0",
      "model_name": "OutputModel",
      "state": {
       "layout": "IPY_MODEL_d9226ab50b4a4df9bdd6574f239a76a5",
       "outputs": [
        {
         "name": "stdout",
         "output_type": "stream",
         "text": "0 * 0 = 0\n"
        }
       ]
      }
     },
     "b674d805670c4a969daa587ae7d22805": {
      "model_module": "@jupyter-widgets/base",
      "model_module_version": "1.2.0",
      "model_name": "LayoutModel",
      "state": {}
     },
     "b8aa32ebeb924971ade818f6af335eec": {
      "model_module": "@jupyter-widgets/controls",
      "model_module_version": "1.5.0",
      "model_name": "VBoxModel",
      "state": {
       "children": [
        "IPY_MODEL_50f2a1ea21a24ed9a0db566a4678e24e",
        "IPY_MODEL_bfe8c68e54b24762adb625e2d926bc2e"
       ],
       "layout": "IPY_MODEL_587b16eff8dc4011bcc72b4f4070b14d"
      }
     },
     "b9e169b8efac4eeb990ae37db1e8de12": {
      "model_module": "@jupyter-widgets/base",
      "model_module_version": "1.2.0",
      "model_name": "LayoutModel",
      "state": {}
     },
     "bba860475dc34aa295f004356f4c7e70": {
      "model_module": "@jupyter-widgets/controls",
      "model_module_version": "1.5.0",
      "model_name": "HBoxModel",
      "state": {
       "children": [
        "IPY_MODEL_4f613b87c7184b80bbc2806c184eb4cb",
        "IPY_MODEL_b65b837d3b614513bef7014f6e97b8be"
       ],
       "layout": "IPY_MODEL_f128f679eeb840f88c63d5fb65e08abe"
      }
     },
     "be52a81fc3e44efc8f0d70d81da55763": {
      "model_module": "@jupyter-widgets/controls",
      "model_module_version": "1.5.0",
      "model_name": "HBoxModel",
      "state": {
       "children": [
        "IPY_MODEL_4007d719e1aa45349acb4e9f80f0e4ba",
        "IPY_MODEL_39af2f7e78ff42679117a13c8e3e0c02"
       ],
       "layout": "IPY_MODEL_90a70b5f560f437f9bb9422a4a6f6592"
      }
     },
     "bf592509273c491c9496cc5bce017755": {
      "model_module": "@jupyter-widgets/controls",
      "model_module_version": "1.5.0",
      "model_name": "HBoxModel",
      "state": {
       "children": [
        "IPY_MODEL_200d9095bbf14c67af4083eebe042331",
        "IPY_MODEL_5ed1935a5446410aa7103f97d2500695"
       ],
       "layout": "IPY_MODEL_b070d7bd6a794d2ba0242e4220af368f"
      }
     },
     "bfe8c68e54b24762adb625e2d926bc2e": {
      "model_module": "@jupyter-widgets/controls",
      "model_module_version": "1.5.0",
      "model_name": "IntSliderModel",
      "state": {
       "layout": "IPY_MODEL_09294cf0fd6549c78d0f15acf20400b2",
       "style": "IPY_MODEL_d5700c1140ff4a598008ed28c45f7d25"
      }
     },
     "c2bcf8f8ff7b4623a8311427461ec26b": {
      "model_module": "@jupyter-widgets/controls",
      "model_module_version": "1.5.0",
      "model_name": "SliderStyleModel",
      "state": {
       "description_width": ""
      }
     },
     "c2cc4c190c324cc0a0ce9bf781a499eb": {
      "model_module": "@jupyter-widgets/base",
      "model_module_version": "1.2.0",
      "model_name": "LayoutModel",
      "state": {}
     },
     "c69f7b00b5a54f60908cb3d92021daf6": {
      "model_module": "@jupyter-widgets/base",
      "model_module_version": "1.2.0",
      "model_name": "LayoutModel",
      "state": {}
     },
     "cc29a198d1d44797a909ea9a68a5d484": {
      "model_module": "@jupyter-widgets/controls",
      "model_module_version": "1.5.0",
      "model_name": "SliderStyleModel",
      "state": {
       "description_width": ""
      }
     },
     "cd9593419907498e8a80fa9fb7850749": {
      "model_module": "@jupyter-widgets/controls",
      "model_module_version": "1.5.0",
      "model_name": "SliderStyleModel",
      "state": {
       "description_width": ""
      }
     },
     "ce130e9bb1874109b6e9641a6f6b872a": {
      "model_module": "@jupyter-widgets/controls",
      "model_module_version": "1.5.0",
      "model_name": "IntSliderModel",
      "state": {
       "layout": "IPY_MODEL_c2cc4c190c324cc0a0ce9bf781a499eb",
       "style": "IPY_MODEL_cd9593419907498e8a80fa9fb7850749"
      }
     },
     "ce3b1869747b4502b90f4448204f5d94": {
      "model_module": "@jupyter-widgets/base",
      "model_module_version": "1.2.0",
      "model_name": "LayoutModel",
      "state": {}
     },
     "cf422506005a43978b50beb43766a819": {
      "model_module": "@jupyter-widgets/controls",
      "model_module_version": "1.5.0",
      "model_name": "IntSliderModel",
      "state": {
       "layout": "IPY_MODEL_9c4a507b139f440fabaa95140d4b2193",
       "style": "IPY_MODEL_107d8e3c4e4249429f4ea5f86f97caa7"
      }
     },
     "d10b5afbdea647baa88b2156fda8c6c0": {
      "model_module": "@jupyter-widgets/controls",
      "model_module_version": "1.5.0",
      "model_name": "SliderStyleModel",
      "state": {
       "description_width": ""
      }
     },
     "d11a21b0488f4970babc1c7ad3f86aa8": {
      "model_module": "@jupyter-widgets/output",
      "model_module_version": "1.0.0",
      "model_name": "OutputModel",
      "state": {
       "layout": "IPY_MODEL_97c973da7b714095959a2a66d7d28c65",
       "outputs": [
        {
         "name": "stdout",
         "output_type": "stream",
         "text": "0 * 0 = 0\n"
        }
       ]
      }
     },
     "d2a772f4a9db458db7a47d77c13dd3d5": {
      "model_module": "@jupyter-widgets/controls",
      "model_module_version": "1.5.0",
      "model_name": "IntSliderModel",
      "state": {
       "layout": "IPY_MODEL_6ffdc8fcab164aedbf54cf3a45384d64",
       "style": "IPY_MODEL_e0dea1c96cc34a53938b3f0c52e09fe1",
       "value": 40
      }
     },
     "d2e7ead2f8d74c5180cbabbb30b674a8": {
      "model_module": "@jupyter-widgets/base",
      "model_module_version": "1.2.0",
      "model_name": "LayoutModel",
      "state": {}
     },
     "d2ef8aa5fad04047a98f733f89624812": {
      "model_module": "@jupyter-widgets/base",
      "model_module_version": "1.2.0",
      "model_name": "LayoutModel",
      "state": {}
     },
     "d3343e0c83844ad987beb592199dd6f6": {
      "model_module": "@jupyter-widgets/controls",
      "model_module_version": "1.5.0",
      "model_name": "SliderStyleModel",
      "state": {
       "description_width": ""
      }
     },
     "d5700c1140ff4a598008ed28c45f7d25": {
      "model_module": "@jupyter-widgets/controls",
      "model_module_version": "1.5.0",
      "model_name": "SliderStyleModel",
      "state": {
       "description_width": ""
      }
     },
     "d67190fd827a4b1a8ca8079df64d0a0a": {
      "model_module": "@jupyter-widgets/base",
      "model_module_version": "1.2.0",
      "model_name": "LayoutModel",
      "state": {}
     },
     "d6b85a8f0ec64ee491848be1b8bf8188": {
      "model_module": "@jupyter-widgets/base",
      "model_module_version": "1.2.0",
      "model_name": "LayoutModel",
      "state": {}
     },
     "d9226ab50b4a4df9bdd6574f239a76a5": {
      "model_module": "@jupyter-widgets/base",
      "model_module_version": "1.2.0",
      "model_name": "LayoutModel",
      "state": {}
     },
     "d9616e978f2840609e88757e2e7e47f3": {
      "model_module": "@jupyter-widgets/base",
      "model_module_version": "1.2.0",
      "model_name": "LayoutModel",
      "state": {}
     },
     "da243475d71a41f48bf4855c01052769": {
      "model_module": "@jupyter-widgets/controls",
      "model_module_version": "1.5.0",
      "model_name": "SliderStyleModel",
      "state": {
       "description_width": ""
      }
     },
     "da554c291c9f4442991fcf6d620e017e": {
      "model_module": "@jupyter-widgets/base",
      "model_module_version": "1.2.0",
      "model_name": "LayoutModel",
      "state": {}
     },
     "e0dea1c96cc34a53938b3f0c52e09fe1": {
      "model_module": "@jupyter-widgets/controls",
      "model_module_version": "1.5.0",
      "model_name": "SliderStyleModel",
      "state": {
       "description_width": ""
      }
     },
     "e57657510026435496e5903d5c875cbe": {
      "model_module": "@jupyter-widgets/base",
      "model_module_version": "1.2.0",
      "model_name": "LayoutModel",
      "state": {}
     },
     "e5aa35e4f4aa46cf8044c66339de4b96": {
      "model_module": "@jupyter-widgets/output",
      "model_module_version": "1.0.0",
      "model_name": "OutputModel",
      "state": {
       "layout": "IPY_MODEL_fc608307f2064139ade48955ecbaf7e9",
       "outputs": [
        {
         "name": "stdout",
         "output_type": "stream",
         "text": "0 * 0 = 0\n"
        }
       ]
      }
     },
     "e6a05e8e4f6a4cefb61f5f99b1eb13c2": {
      "model_module": "@jupyter-widgets/output",
      "model_module_version": "1.0.0",
      "model_name": "OutputModel",
      "state": {
       "layout": "IPY_MODEL_d67190fd827a4b1a8ca8079df64d0a0a",
       "outputs": [
        {
         "name": "stdout",
         "output_type": "stream",
         "text": "0 * 0 = 0\n"
        }
       ]
      }
     },
     "e788ecb6fbad4de6aac05557dcf109f5": {
      "model_module": "@jupyter-widgets/base",
      "model_module_version": "1.2.0",
      "model_name": "LayoutModel",
      "state": {}
     },
     "ea2be2adfc72403eb1236220a37dfd36": {
      "model_module": "@jupyter-widgets/controls",
      "model_module_version": "1.5.0",
      "model_name": "HBoxModel",
      "state": {
       "children": [
        "IPY_MODEL_5d68805b72bd49498579e5c204071464",
        "IPY_MODEL_5ab9a789ce9a4e97845523051ef0762c"
       ],
       "layout": "IPY_MODEL_6c890acf62af426cab22ed65ff429088"
      }
     },
     "ec1db3073c594dac8b081d2ad5e072e1": {
      "model_module": "@jupyter-widgets/controls",
      "model_module_version": "1.5.0",
      "model_name": "IntSliderModel",
      "state": {
       "layout": "IPY_MODEL_5d02d239659c496cbb1972806465cbba",
       "style": "IPY_MODEL_58a162ea4105481e9d1345fdc79c9f1d",
       "value": 40
      }
     },
     "edcfad1763d44bbab957f8d4f981f4e4": {
      "model_module": "@jupyter-widgets/controls",
      "model_module_version": "1.5.0",
      "model_name": "VBoxModel",
      "state": {
       "children": [
        "IPY_MODEL_cf422506005a43978b50beb43766a819",
        "IPY_MODEL_78efe79186ed46c78e9d91400f519f1d"
       ],
       "layout": "IPY_MODEL_fd89962cc1214dd7afd0ee8f6c352b76"
      }
     },
     "ef44415ff8dd456681965184a2a299e8": {
      "model_module": "@jupyter-widgets/base",
      "model_module_version": "1.2.0",
      "model_name": "LayoutModel",
      "state": {}
     },
     "ef77db303b044fe783f80b51f045e866": {
      "model_module": "@jupyter-widgets/base",
      "model_module_version": "1.2.0",
      "model_name": "LayoutModel",
      "state": {}
     },
     "f128f679eeb840f88c63d5fb65e08abe": {
      "model_module": "@jupyter-widgets/base",
      "model_module_version": "1.2.0",
      "model_name": "LayoutModel",
      "state": {}
     },
     "f24ec537d93846e48f35cf5bca83e11d": {
      "model_module": "@jupyter-widgets/controls",
      "model_module_version": "1.5.0",
      "model_name": "SliderStyleModel",
      "state": {
       "description_width": ""
      }
     },
     "f285911bbe39497a88f0994509363fbb": {
      "model_module": "@jupyter-widgets/controls",
      "model_module_version": "1.5.0",
      "model_name": "IntSliderModel",
      "state": {
       "layout": "IPY_MODEL_07d43b717dd94d33a8eeae066f36d839",
       "style": "IPY_MODEL_8dda8bf6c916451e91b96e56fc4d2a76"
      }
     },
     "f55ac2b80afd433a919cc2d7ab87b098": {
      "model_module": "@jupyter-widgets/base",
      "model_module_version": "1.2.0",
      "model_name": "LayoutModel",
      "state": {}
     },
     "fc608307f2064139ade48955ecbaf7e9": {
      "model_module": "@jupyter-widgets/base",
      "model_module_version": "1.2.0",
      "model_name": "LayoutModel",
      "state": {}
     },
     "fcc376497f9d4b8aa11a102ebc19b6ab": {
      "model_module": "@jupyter-widgets/output",
      "model_module_version": "1.0.0",
      "model_name": "OutputModel",
      "state": {
       "layout": "IPY_MODEL_06e8b80b569b4ac2bb5a989af9695ced",
       "outputs": [
        {
         "data": {
          "image/png": "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\n",
          "text/plain": "<Figure size 432x288 with 1 Axes>"
         },
         "metadata": {
          "needs_background": "light"
         },
         "output_type": "display_data"
        }
       ]
      }
     },
     "fd89962cc1214dd7afd0ee8f6c352b76": {
      "model_module": "@jupyter-widgets/base",
      "model_module_version": "1.2.0",
      "model_name": "LayoutModel",
      "state": {}
     },
     "fdfc64c80c3c407bacf0a395dede228c": {
      "model_module": "@jupyter-widgets/base",
      "model_module_version": "1.2.0",
      "model_name": "LayoutModel",
      "state": {}
     }
    },
    "version_major": 2,
    "version_minor": 0
   }
  }
 },
 "nbformat": 4,
 "nbformat_minor": 4
}
