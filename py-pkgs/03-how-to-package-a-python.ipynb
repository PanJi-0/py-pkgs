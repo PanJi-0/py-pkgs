{
 "cells": [
  {
   "cell_type": "markdown",
   "metadata": {},
   "source": [
    "(03:How-to-package-a-Python)=\n",
    "# How to package a Python\n",
    "<hr style=\"height:1px;border:none;color:#666;background-color:#666;\" />"
   ]
  },
  {
   "cell_type": "markdown",
   "metadata": {},
   "source": [
    "```{attention}\n",
    "We are currently making awesome improvements to this chapter and the [Cookiecutter template](https://github.com/UBC-MDS/cookiecutter-ubc-mds) it uses. If you find an inconsistency in the text, please let us know by [making an issue](https://github.com/UBC-MDS/py-pkgs/issues) in the GitHub repository. \n",
    "```\n",
    "\n",
    "To start this book, we will first develop an entire Python package from beginning to end. The aim of this chapter is to give the reader a simple and high level overview of the key steps involved in developing a Python package and what the final product we're building actually looks like. Later chapters will then explore each of these key steps in more detail. This chapter was inspired by [The Whole Game chapter](https://r-pkgs.org/whole-game.html) of the [R packages book](https://r-pkgs.org/) written by Hadley Wickham and Jenny Bryan."
   ]
  },
  {
   "cell_type": "markdown",
   "metadata": {},
   "source": [
    "## *partypy*: simulate attendance at your party!"
   ]
  },
  {
   "cell_type": "markdown",
   "metadata": {},
   "source": [
    "The example package we are going to create in this book will help us simulate guest attendance at an event. Have you ever thrown a party, had a wedding, planned a conference, or any other kind of event and wondered how many of the invited guess will actually show up? We can assign a \"probability of attendance\" to each invited guest and then run simulations of our event to estimate how many guests will attend.\n",
    "\n",
    "We'll explore this concept more in code a later in the chapter, but for now, here's an example of what we're trying to come up with:"
   ]
  },
  {
   "cell_type": "code",
   "execution_count": null,
   "metadata": {},
   "outputs": [],
   "source": []
  },
  {
   "cell_type": "markdown",
   "metadata": {},
   "source": [
    "## Package structure"
   ]
  },
  {
   "cell_type": "markdown",
   "metadata": {},
   "source": [
    "The first thing we need to do to develop our `partypy` package is create an appropriate directory structure. Without getting too technical, a Python package is just a particular file and directory structure, consisting of one or more modules. A module is simply a file with a *.py* extension that contains Python definitions and statements you wish to reuse; such as functions, classes, variables or executable statements. We'll discuss modules and package structure more in **Chapter 4: {ref}`04:Package-structure-and-state`**. For now, we will use the Python package `cookiecutter` (which you installed back in **Chapter 2: {ref}`02:System-setup`**) to quickly create our package structure for us.\n",
    "\n",
    "The `cookiecutter` package is a tool for populating a file and directory structure from a pre-made template. We have developed our own [`cookiecutter` template](https://github.com/UBC-MDS/cookiecutter-ubc-mds) for creating Python packages to complement this book. To use the `cookiecutter` template to set up the structure of our Python package, open up a terminal, change into the directory where you want your package to live and run the line of code below:\n",
    "\n",
    "```{prompt} bash\n",
    "cookiecutter https://github.com/UBC-MDS/cookiecutter-ubc-mds.git\n",
    "```\n",
    "\n",
    "You will be prompted to provide information that will help customize the project. Below is an example of how to respond to the `cookiecutter` prompts (default values for each attribute are shown in square brackets and hitting enter without entering any text will accept the default attribute value). In this tutorial we will be calling our package `partypy`, however, we will eventually be publishing our package to Python's main package index [PyPI](https://pypi.org/). Package names on PyPI must be unique. As a result, if you plan to follow along with this tutorial you should choose a unique name for your package. Something like `partypy_[your intials]` might be appropriate, but you can always check if a particular name is already taken by visiting PyPI and searching for that name.\n",
    "\n",
    "```console\n",
    "author_name [Monty Python]: Tomas Beuzen\n",
    "github_username [mpython]: TomasBeuzen\n",
    "project_name [My Python package]: partypy\n",
    "project_slug [pypkgs]: \n",
    "project_short_description [A package for doing great things!]: Simulate attendance at your party!\n",
    "version [0.1.0]: \n",
    "python_version [3.9]: \n",
    "Select open_source_license:\n",
    "1 - MIT\n",
    "2 - Apache License 2.0\n",
    "3 - GNU General Public License v3.0\n",
    "4 - Creative Commons Attribution 4.0\n",
    "5 - None\n",
    "Choose from 1, 2, 3, 4, 5 [1]: \n",
    "Select include_github_actions:\n",
    "1 - no\n",
    "2 - build\n",
    "3 - build+deploy\n",
    "Choose from 1, 2, 3 [1]:\n",
    "```\n",
    "\n",
    "```{attention}\n",
    "In the example above we chose not to include any GitHub Actions files in our initial directory structure. GitHub Actions can help automate the building, testing and deployment of your Python package. We'll explore these topics in more detail in **Chapter 8: {ref}`08:Continuous-integration-and-deployment`**.\n",
    "```\n",
    "\n",
    "After responding to the `cookiecutter` prompts, we now have a new directory called `partypy`, with the following structure:\n",
    "\n",
    "```md\n",
    "partypy\n",
    "├── .gitignore\n",
    "├── .readthedocs.yml\n",
    "├── CONDUCT.rst\n",
    "├── CONTRIBUTING.rst\n",
    "├── docs\n",
    "│   ├── conduct.rst\n",
    "│   ├── conf.py\n",
    "│   ├── contributing.rst\n",
    "│   ├── index.rst\n",
    "│   ├── installation.rst\n",
    "│   ├── make.bat\n",
    "│   ├── Makefile\n",
    "│   └── usage.ipynb\n",
    "├── partypy\n",
    "│   ├── __init__.py\n",
    "│   └── partypy.py\n",
    "├── LICENSE\n",
    "├── pyproject.toml\n",
    "├── README.md\n",
    "└── tests\n",
    "    ├── __init__.py\n",
    "    └── test_partypy.py\n",
    "```\n",
    "\n",
    "This simple step has given us a boilerplate file and directory structure suitable for building a Python package. While there are quite a few files in our boilerplate, at this point we only need to worry about a few of these to get a working package together. Specifically, we'll be working on:\n",
    "\n",
    "1. the `pyproject.toml` file that defines our project's metadata and dependencies and how it will eventually be built and distributed;\n",
    "2. the file where we will write the Python functions that our package will distribute (`partypy/partypy.py`);\n",
    "3. the file where we will write tests to ensure that our package's functions work as we expect (`tests/test_partypy.py`); and,\n",
    "4. the directory where we will write our documentation (`docs/`).\n",
    "\n",
    "\n",
    "Later chapters will focus on the other components of the boilerplate, which can be used to refine your package and packaging process with, for example, quality documentation, extensive testing, continuous integration, version bumping, continuous deployment, etc."
   ]
  },
  {
   "cell_type": "markdown",
   "metadata": {},
   "source": [
    "## Putting your project under version control"
   ]
  },
  {
   "cell_type": "markdown",
   "metadata": {},
   "source": [
    "Before continuing to develop our package it is generally good practice to put your projects under local and remote version control, to better track changes to the project over time and to facilitate collaboration. The tools we recommend using for this are Git & GitHub (which we set up in **Chapter 2: {ref}`02:System-setup`**). \n",
    "\n",
    "```{note}\n",
    "For this book, we assume readers have [basic Git skills](https://git-scm.com/book/en/v2/Git-Basics-Getting-a-Git-Repository).\n",
    "```"
   ]
  },
  {
   "cell_type": "markdown",
   "metadata": {},
   "source": [
    "### Set up local version control"
   ]
  },
  {
   "cell_type": "markdown",
   "metadata": {},
   "source": [
    "To set up local version control from a terminal, enter the root `partypy` directory, and initialize the project as a repository to be tracked by Git using:\n",
    "\n",
    "```{prompt} bash\n",
    "cd partypy\n",
    "git init\n",
    "```\n",
    "\n",
    "```console\n",
    "Initialized empty Git repository in /Users/tbeuzen/partypy/.git/\n",
    "```\n",
    "\n",
    "Next, we need to tell Git which files to track (which will be all of them at this point) and commit these changes locally:\n",
    "\n",
    "```{prompt} bash\n",
    "git add .\n",
    "git commit -m \"initial package setup\"\n",
    "```\n",
    "\n",
    "```console\n",
    "[master (root-commit) 8b4edcb] initial package setup\n",
    " 19 files changed, 722 insertions(+)\n",
    " create mode 100644 .gitignore\n",
    " create mode 100644 .readthedocs.yml\n",
    " create mode 100755 CONDUCT.rst\n",
    " create mode 100755 CONTRIBUTING.rst\n",
    " ...\n",
    " create mode 100644 partypy/__init__.py\n",
    " create mode 100644 partypy/partypy.py\n",
    " create mode 100644 pyproject.toml\n",
    " create mode 100644 tests/__init__.py\n",
    " create mode 100644 tests/test_partypy.py\n",
    "```"
   ]
  },
  {
   "cell_type": "markdown",
   "metadata": {},
   "source": [
    "### Set up remote version control"
   ]
  },
  {
   "cell_type": "markdown",
   "metadata": {},
   "source": [
    "Now that we have set up our local version control, let's create a repository on [GitHub.com](https://github.com/) and set that as the remote version control home for this project:\n",
    "\n",
    "```{figure} images/set-up-github-1.png\n",
    "---\n",
    "width: 100%\n",
    "name: 03-set-up-github-1\n",
    "alt: Creating a new repository in GitHub.\n",
    "---\n",
    "Creating a new repository in GitHub.\n",
    "```\n",
    "\n",
    "To follow along with this tutorial, select the following options when setting up your GitHub repository: \n",
    "\n",
    "1. Give the GitHub.com repository the same name as your Python Poetry project's name;\n",
    "2. Make the GitHub.com repository public; and,\n",
    "3. **Do not** initialize the GitHub.com repository with a README file.\n",
    "\n",
    "```{figure} images/set-up-github-2.png\n",
    "---\n",
    "width: 100%\n",
    "name: 03-github-2\n",
    "alt: Setting up a new repository in GitHub.\n",
    "---\n",
    "Setting up a new repository in GitHub.\n",
    "```\n",
    "\n",
    "Next, copy the remote link to your repository and use the following commands to set the remote address locally, and push your project to GitHub.com:\n",
    "\n",
    "```{prompt} bash\n",
    "git remote add origin git@github.com:TomasBeuzen/partypy.git\n",
    "git branch -M main\n",
    "git push -u origin main\n",
    "```\n",
    "\n",
    "```console\n",
    "Enumerating objects: 23, done.\n",
    "Counting objects: 100% (23/23), done.\n",
    "Delta compression using up to 8 threads\n",
    "Compressing objects: 100% (18/18), done.\n",
    "Writing objects: 100% (23/23), 9.72 KiB | 2.43 MiB/s, done.\n",
    "Total 23 (delta 0), reused 0 (delta 0), pack-reused 0\n",
    "To github.com:TomasBeuzen/partypy.git\n",
    " * [new branch]      main -> main\n",
    "Branch 'main' set up to track remote branch 'main' from 'origin'.\n",
    "```\n",
    "\n",
    "```{note}\n",
    "The example above uses SSH authentication with GitHub. SSH is useful for connecting to GitHub without having to supply your username and password every time. If you're interested in setting up SSH, take a look at the [GitHub documentation](https://docs.github.com/en/github/authenticating-to-github/connecting-to-github-with-ssh). If you don't have SSH authentication set up, HTTPS authentication works as well and would require the use of this url in place of the one shown above to set the remote: `https://github.com/TomasBeuzen/pypkgs.git`. \n",
    "```"
   ]
  },
  {
   "cell_type": "markdown",
   "metadata": {},
   "source": [
    "## Creating a virtual environment"
   ]
  },
  {
   "cell_type": "markdown",
   "metadata": {},
   "source": [
    "Before we get started writing the Python code for our package, we should set up a virtual environment for our project. Recall that a virtual environment will help isolate our package and its dependencies from other software installed on our computer to avoid breaking things. There are several options available when it comes to creating and managing virtual environments, and `poetry` can even take care of this for you, but we've found it simple to use `conda` to manage our virtual environments.\n",
    "\n",
    "To use `conda` to create and activate a new virtual environment called `partypy` that includes Python 3.9, run the following in your terminal:\n",
    "\n",
    "```{prompt} bash\n",
    "conda create --name partypy python=3.9 -y\n",
    "```\n",
    "\n",
    "```console\n",
    "Collecting package metadata (current_repodata.json): done\n",
    "Solving environment: done\n",
    "\n",
    "## Package Plan ##\n",
    "\n",
    "  environment location: /opt/miniconda3/envs/partypy\n",
    "\n",
    "  added / updated specs:\n",
    "    - python=3.9\n",
    "\n",
    "\n",
    "The following NEW packages will be INSTALLED:\n",
    "\n",
    "  ca-certificates    conda-forge/osx-64::ca-certificates-2020.12.5-h033912b_0\n",
    "  certifi            conda-forge/osx-64::certifi-2020.12.5-py39h6e9494a_1\n",
    "  libcxx             conda-forge/osx-64::libcxx-11.1.0-habf9029_0\n",
    "  libffi             conda-forge/osx-64::libffi-3.3-h046ec9c_2\n",
    "  ncurses            conda-forge/osx-64::ncurses-6.2-h2e338ed_4\n",
    "  openssl            conda-forge/osx-64::openssl-1.1.1j-hbcf498f_0\n",
    "  pip                conda-forge/noarch::pip-21.0.1-pyhd8ed1ab_0\n",
    "  python             conda-forge/osx-64::python-3.9.2-h2502468_0_cpython\n",
    "  python_abi         conda-forge/osx-64::python_abi-3.9-1_cp39\n",
    "  readline           conda-forge/osx-64::readline-8.0-h0678c8f_2\n",
    "  setuptools         conda-forge/osx-64::setuptools-49.6.0-py39h6e9494a_3\n",
    "  sqlite             conda-forge/osx-64::sqlite-3.34.0-h17101e1_0\n",
    "  tk                 conda-forge/osx-64::tk-8.6.10-h0419947_1\n",
    "  tzdata             conda-forge/noarch::tzdata-2021a-he74cb21_0\n",
    "  wheel              conda-forge/noarch::wheel-0.36.2-pyhd3deb0d_0\n",
    "  xz                 conda-forge/osx-64::xz-5.2.5-haf1e3a3_1\n",
    "  zlib               conda-forge/osx-64::zlib-1.2.11-h7795811_1010\n",
    "\n",
    "\n",
    "Preparing transaction: done\n",
    "Verifying transaction: done\n",
    "Executing transaction: done\n",
    "#\n",
    "# To activate this environment, use\n",
    "#\n",
    "#     $ conda activate partypy\n",
    "#\n",
    "# To deactivate an active environment, use\n",
    "#\n",
    "#     $ conda deactivate\n",
    "```\n",
    "\n",
    "Then activate the environment:\n",
    "\n",
    "```{prompt} bash\n",
    "conda activate partypy\n",
    "```\n",
    "\n",
    "Anytime you wish to work on your package, you should activate this environment using the command above."
   ]
  },
  {
   "cell_type": "markdown",
   "metadata": {},
   "source": [
    "## Adding dependencies"
   ]
  },
  {
   "cell_type": "markdown",
   "metadata": {},
   "source": [
    "We are going to leverage the `numpy` and `pandas` packages to build our `partypy` package. Thus, before we get started we need to install these dependencies and record them in a useful place so that when we publish our packaged code this important information will be shipped along with it. We will use the command `poetry add` to add dependencies to our package. This command will update the `[tool.poetry.dependencies]` section of the `pyproject.toml` file which currently only lists Python as a project dependency:\n",
    "\n",
    "```toml\n",
    "[tool.poetry.dependencies]\n",
    "python = \"^3.9\"\n",
    "```\n",
    "\n",
    "Let's add `numpy` and `pandas` as dependencies now by running the following in the terminal:\n",
    "\n",
    "```{prompt} bash\n",
    "poetry add numpy pandas\n",
    "```\n",
    "\n",
    "```console\n",
    "Using version ^1.20.1 for numpy\n",
    "Using version ^1.2.3 for pandas\n",
    "\n",
    "Updating dependencies\n",
    "Resolving dependencies... (0.2s)\n",
    "\n",
    "Writing lock file\n",
    "\n",
    "Package operations: 5 installs, 0 updates, 0 removals\n",
    "\n",
    "  • Installing six (1.15.0)\n",
    "  • Installing numpy (1.20.1)\n",
    "  • Installing python-dateutil (2.8.1)\n",
    "  • Installing pytz (2021.1)\n",
    "  • Installing pandas (1.2.3)\n",
    "```\n",
    "\n",
    "Now if we view our `pyproject.toml` file we see that `numpy` and `pandas` are listed as a dependencies:\n",
    "\n",
    "```toml\n",
    "[tool.poetry.dependencies]\n",
    "python = \"^3.9\"\n",
    "numpy = \"^1.20.1\"\n",
    "pandas = \"^1.2.3\"\n",
    "```\n",
    "\n",
    "Running `poetry add` actually changed two files, `pyproject.toml` (which we showed above) and `poetry.lock` (a record of all the packages and exact versions of them that `poetry` downloaded for this project). These changes are important for our package, so let's commit them to version control:\n",
    "\n",
    "```{prompt} bash\n",
    "git add pyproject.toml poetry.lock\n",
    "git commit -m \"add numpy and pandas as dependencies\"\n",
    "```\n",
    "\n",
    "```{note}\n",
    "For readers who have used `requirements.txt` before with `pip` or `environment.yaml` with `conda`, you can think of `poetry.lock` as the `poetry` equivalent of those files.\n",
    "```"
   ]
  },
  {
   "cell_type": "markdown",
   "metadata": {},
   "source": [
    "## Your first package code"
   ]
  },
  {
   "cell_type": "markdown",
   "metadata": {},
   "source": [
    "We're now ready to write some code for our package. Recall that the package we want to create will simulate guest attendance at a party using simulations. The core idea is to assign a \"probability of attendance\" to each guest and then simulate their attendance as a Bernoulli random variable. In layman's terms, that means modelling each guest's attendance by flipping a coin with two sides, \"won't attend\" and \"attend\", but we can specify the probability of the coin landing on \"attend\". \n",
    "\n",
    "A Bernoulli random variable is the same as a Binomial random variable with a single trial, so we can run a Bernoulli simulation using NumPy's `binomial()` function, with the argument `n=1`. Imagine we have a guest that we believe will attend our party with a probability of 0.9 (90%). We can simulate the attendance of that guest by first opening up an interactive Python session:\n",
    "\n",
    "```{prompt} bash\n",
    "python\n",
    "```\n",
    "\n",
    "```console\n",
    "Python 3.9.2 | packaged by conda-forge | (default, Feb 21 2021, 05:02:20) \n",
    "[Clang 11.0.1 ] on darwin\n",
    "Type \"help\", \"copyright\", \"credits\" or \"license\" for more information.\n",
    ">>> \n",
    "```\n",
    "\n",
    "Then running the following code:"
   ]
  },
  {
   "cell_type": "code",
   "execution_count": 3,
   "metadata": {},
   "outputs": [
    {
     "data": {
      "text/plain": [
       "1"
      ]
     },
     "execution_count": 3,
     "metadata": {},
     "output_type": "execute_result"
    }
   ],
   "source": [
    "import numpy as np\n",
    "\n",
    "np.random.binomial(n=1, p=0.9)"
   ]
  },
  {
   "cell_type": "markdown",
   "metadata": {},
   "source": [
    "Using the `size` argument of the `binomial()` function, we can repeat this simulation as many times as we want, let's run it 10 times:"
   ]
  },
  {
   "cell_type": "code",
   "execution_count": 28,
   "metadata": {},
   "outputs": [
    {
     "data": {
      "text/plain": [
       "array([1, 1, 0, 1, 1, 1, 1, 0, 1, 1])"
      ]
     },
     "execution_count": 28,
     "metadata": {},
     "output_type": "execute_result"
    }
   ],
   "source": [
    "simulations = 10\n",
    "probability = 0.9\n",
    "results = np.random.binomial(n=1, p=probability, size=simulations)\n",
    "results"
   ]
  },
  {
   "cell_type": "markdown",
   "metadata": {},
   "source": [
    "Now imagine we have three guests, that we believe will attend our party with probabilities 0.3, 0.5, 0.9, we can simulate each of their attendance in 10 simulations easily:"
   ]
  },
  {
   "cell_type": "code",
   "execution_count": 29,
   "metadata": {},
   "outputs": [
    {
     "data": {
      "text/plain": [
       "array([[1, 1, 1],\n",
       "       [1, 1, 1],\n",
       "       [0, 0, 1],\n",
       "       [0, 1, 1],\n",
       "       [0, 0, 1],\n",
       "       [0, 0, 1],\n",
       "       [0, 0, 1],\n",
       "       [1, 1, 1],\n",
       "       [0, 0, 1],\n",
       "       [1, 1, 1]])"
      ]
     },
     "execution_count": 29,
     "metadata": {},
     "output_type": "execute_result"
    }
   ],
   "source": [
    "probability = [0.3, 0.5, 0.9]\n",
    "results = np.random.binomial(n=1, p=probability, size=(simulations, len(probability)))\n",
    "results"
   ]
  },
  {
   "cell_type": "markdown",
   "metadata": {},
   "source": [
    "The above array represents 10 simulations of a three-guest party. We want to know how many guests attended each simulated party, so we should take the sum of each simulation:"
   ]
  },
  {
   "cell_type": "code",
   "execution_count": 30,
   "metadata": {},
   "outputs": [
    {
     "data": {
      "text/plain": [
       "array([3, 3, 1, 2, 1, 1, 1, 3, 1, 3])"
      ]
     },
     "execution_count": 30,
     "metadata": {},
     "output_type": "execute_result"
    }
   ],
   "source": [
    "results.sum(axis=1)"
   ]
  },
  {
   "cell_type": "markdown",
   "metadata": {},
   "source": [
    "Finally, it would be nice to display this information in a `pandas` dataframe:"
   ]
  },
  {
   "cell_type": "code",
   "execution_count": 35,
   "metadata": {},
   "outputs": [
    {
     "data": {
      "text/html": [
       "<div>\n",
       "<style scoped>\n",
       "    .dataframe tbody tr th:only-of-type {\n",
       "        vertical-align: middle;\n",
       "    }\n",
       "\n",
       "    .dataframe tbody tr th {\n",
       "        vertical-align: top;\n",
       "    }\n",
       "\n",
       "    .dataframe thead th {\n",
       "        text-align: right;\n",
       "    }\n",
       "</style>\n",
       "<table border=\"1\" class=\"dataframe\">\n",
       "  <thead>\n",
       "    <tr style=\"text-align: right;\">\n",
       "      <th></th>\n",
       "      <th>Total guests</th>\n",
       "    </tr>\n",
       "    <tr>\n",
       "      <th>Simulation</th>\n",
       "      <th></th>\n",
       "    </tr>\n",
       "  </thead>\n",
       "  <tbody>\n",
       "    <tr>\n",
       "      <th>1</th>\n",
       "      <td>3</td>\n",
       "    </tr>\n",
       "    <tr>\n",
       "      <th>2</th>\n",
       "      <td>3</td>\n",
       "    </tr>\n",
       "    <tr>\n",
       "      <th>3</th>\n",
       "      <td>1</td>\n",
       "    </tr>\n",
       "    <tr>\n",
       "      <th>4</th>\n",
       "      <td>2</td>\n",
       "    </tr>\n",
       "    <tr>\n",
       "      <th>5</th>\n",
       "      <td>1</td>\n",
       "    </tr>\n",
       "    <tr>\n",
       "      <th>6</th>\n",
       "      <td>1</td>\n",
       "    </tr>\n",
       "    <tr>\n",
       "      <th>7</th>\n",
       "      <td>1</td>\n",
       "    </tr>\n",
       "    <tr>\n",
       "      <th>8</th>\n",
       "      <td>3</td>\n",
       "    </tr>\n",
       "    <tr>\n",
       "      <th>9</th>\n",
       "      <td>1</td>\n",
       "    </tr>\n",
       "    <tr>\n",
       "      <th>10</th>\n",
       "      <td>3</td>\n",
       "    </tr>\n",
       "  </tbody>\n",
       "</table>\n",
       "</div>"
      ],
      "text/plain": [
       "            Total guests\n",
       "Simulation              \n",
       "1                      3\n",
       "2                      3\n",
       "3                      1\n",
       "4                      2\n",
       "5                      1\n",
       "6                      1\n",
       "7                      1\n",
       "8                      3\n",
       "9                      1\n",
       "10                     3"
      ]
     },
     "execution_count": 35,
     "metadata": {},
     "output_type": "execute_result"
    }
   ],
   "source": [
    "(pd.DataFrame({\"Total guests\": results.sum(axis=1),\n",
    "               \"Simulation\": np.arange(simulations) + 1})\n",
    "   .set_index(\"Simulation\")\n",
    ")"
   ]
  },
  {
   "cell_type": "markdown",
   "metadata": {},
   "source": [
    "Let's turn this simulation code into a function called `simulate()`:\n",
    "\n",
    "```{note}\n",
    "This book assumes you know how to write and document functions in Python. To learn more about this see [Think Python, Chapter 3: Functions](http://greenteapress.com/thinkpython/html/thinkpython004.html) by Allen Downey.\n",
    "```"
   ]
  },
  {
   "cell_type": "code",
   "execution_count": 36,
   "metadata": {},
   "outputs": [],
   "source": [
    "def simulate_party(p, simulations: int = 5000):\n",
    "    \"\"\"Simulate guest attendance at a party.\n",
    "\n",
    "    The attendance of each guest is treated as a Bernoulli random variable\n",
    "    with probability of attendance `p`. The total number of attending guests\n",
    "    is summed up for each `simulations`.\n",
    "\n",
    "    Parameters\n",
    "    ----------\n",
    "    p : float or array_like of floats\n",
    "        Probability of guest attendance, >= 0 and <=1.\n",
    "    simulations : int, optional\n",
    "        Number of simulations to run.\n",
    "\n",
    "    Returns\n",
    "    -------\n",
    "    pandas.DataFrame\n",
    "        DataFrame with total number of guests per simulation. \n",
    "\n",
    "    Examples\n",
    "    --------\n",
    "    >>> simulate([0.1, 0.5, 0.9], simulations=5)\n",
    "       guests\n",
    "    1       1\n",
    "    2       2\n",
    "    3       2\n",
    "    4       1\n",
    "    5       1\n",
    "    \"\"\"\n",
    "    result = np.random.binomial(n=1, p=p, size=(simulations, len(p))).sum(axis=1)\n",
    "    return pd.DataFrame(\n",
    "        {\"Total guests\": result, \"Simulation\": np.arange(simulations) + 1}\n",
    "    ).set_index(\"Simulation\")"
   ]
  },
  {
   "cell_type": "code",
   "execution_count": 37,
   "metadata": {},
   "outputs": [
    {
     "data": {
      "text/html": [
       "<div>\n",
       "<style scoped>\n",
       "    .dataframe tbody tr th:only-of-type {\n",
       "        vertical-align: middle;\n",
       "    }\n",
       "\n",
       "    .dataframe tbody tr th {\n",
       "        vertical-align: top;\n",
       "    }\n",
       "\n",
       "    .dataframe thead th {\n",
       "        text-align: right;\n",
       "    }\n",
       "</style>\n",
       "<table border=\"1\" class=\"dataframe\">\n",
       "  <thead>\n",
       "    <tr style=\"text-align: right;\">\n",
       "      <th></th>\n",
       "      <th>Total guests</th>\n",
       "    </tr>\n",
       "    <tr>\n",
       "      <th>Simulation</th>\n",
       "      <th></th>\n",
       "    </tr>\n",
       "  </thead>\n",
       "  <tbody>\n",
       "    <tr>\n",
       "      <th>1</th>\n",
       "      <td>3</td>\n",
       "    </tr>\n",
       "    <tr>\n",
       "      <th>2</th>\n",
       "      <td>2</td>\n",
       "    </tr>\n",
       "    <tr>\n",
       "      <th>3</th>\n",
       "      <td>2</td>\n",
       "    </tr>\n",
       "    <tr>\n",
       "      <th>4</th>\n",
       "      <td>2</td>\n",
       "    </tr>\n",
       "    <tr>\n",
       "      <th>5</th>\n",
       "      <td>1</td>\n",
       "    </tr>\n",
       "    <tr>\n",
       "      <th>6</th>\n",
       "      <td>1</td>\n",
       "    </tr>\n",
       "    <tr>\n",
       "      <th>7</th>\n",
       "      <td>2</td>\n",
       "    </tr>\n",
       "    <tr>\n",
       "      <th>8</th>\n",
       "      <td>2</td>\n",
       "    </tr>\n",
       "    <tr>\n",
       "      <th>9</th>\n",
       "      <td>2</td>\n",
       "    </tr>\n",
       "    <tr>\n",
       "      <th>10</th>\n",
       "      <td>2</td>\n",
       "    </tr>\n",
       "  </tbody>\n",
       "</table>\n",
       "</div>"
      ],
      "text/plain": [
       "            Total guests\n",
       "Simulation              \n",
       "1                      3\n",
       "2                      2\n",
       "3                      2\n",
       "4                      2\n",
       "5                      1\n",
       "6                      1\n",
       "7                      2\n",
       "8                      2\n",
       "9                      2\n",
       "10                     2"
      ]
     },
     "execution_count": 37,
     "metadata": {},
     "output_type": "execute_result"
    }
   ],
   "source": [
    "results = simulate_party(p=[0.3, 0.5, 0.9], simulations = 10)\n",
    "results"
   ]
  },
  {
   "cell_type": "markdown",
   "metadata": {},
   "source": [
    "https://github.com/scikit-learn/scikit-learn/blob/95119c13af77c76e150b753485c662b7c52a41a2/sklearn/utils/validation.py#L869"
   ]
  },
  {
   "cell_type": "markdown",
   "metadata": {},
   "source": [
    "Now we have a working function, where should we save it if we want it to be a part of our `partypy` package? Let's review the structure of our Python project:\n",
    "\n",
    "```md\n",
    "partypy\n",
    "├── .gitignore\n",
    "├── .readthedocs.yml\n",
    "├── CONDUCT.rst\n",
    "├── CONTRIBUTING.rst\n",
    "├── docs\n",
    "│   ├── conduct.rst\n",
    "│   ├── conf.py\n",
    "│   ├── contributing.rst\n",
    "│   ├── index.rst\n",
    "│   ├── installation.rst\n",
    "│   ├── make.bat\n",
    "│   ├── Makefile\n",
    "│   └── usage.ipynb\n",
    "├── partypy\n",
    "│   ├── __init__.py\n",
    "│   └── partypy.py\n",
    "├── LICENSE\n",
    "├── pyproject.toml\n",
    "├── README.md\n",
    "└── tests\n",
    "    ├── __init__.py\n",
    "    └── test_partypy.py\n",
    "```\n",
    "\n",
    "All the code that we would like the user to run as part of our package should live inside the `partypy` directory. For a relatively small package with just a few functions, we would house them inside a single python module (i.e., a `.py` file). Our template project directory structure already created and named such a module for us: `partypy/partypy.py`. Let's save our function there. Because our function depends on `numpy` and `pandas`, we should import them at the top of the file. Here's what `pypkgs.py` should now look like:\n",
    "\n",
    "```python\n",
    "import numpy as np\n",
    "import pandas as pd\n",
    "\n",
    "\n",
    "def simulate():\n",
    "\n",
    "```"
   ]
  },
  {
   "cell_type": "markdown",
   "metadata": {},
   "source": [
    "## Test drive your package code"
   ]
  },
  {
   "cell_type": "markdown",
   "metadata": {},
   "source": [
    "The whole point of creating a package is so that we can easily reuse our code without having to re-execute every time we start a Python session. To test drive our minimalist package we can try installing it locally using `poetry install` from the root package directory:\n",
    "\n",
    "```{prompt} bash\n",
    "poetry install\n",
    "```\n",
    "\n",
    "```console\n",
    "Installing dependencies from lock file\n",
    "\n",
    "No dependencies to install or update\n",
    "\n",
    "Installing the current project: partypy (0.1.0)\n",
    "```\n",
    "\n",
    "```{note}\n",
    "Be sure to run the above command while in your virtual environment. Recall that you can enter you virtual environment by running `conda activate partypy` in the terminal.\n",
    "```\n",
    "\n",
    "Now, inside the root project directory we can open an interactive Python session (by typing `python` at the command line) and import our `partypy` module which contains our `catbind` function as shown:\n",
    "\n",
    "```python\n",
    "from partypy.partypy import simulate_party\n",
    "```\n",
    "\n",
    "```{note}\n",
    "The above syntax is telling Python to import the function `simulate_party` from the `partypy` module of the `partypy` package. There are various other way to import code from python packages, which we'll explore more in **Chapter 4: {ref}`04:Package-structure-and-state`**.\n",
    "```\n",
    "\n",
    "<hr>\n",
    "\n",
    "The `partypy` module has now been mapped to the current session's namespace and we can access the `catbind` function in our Python session using dot notation: `pypkgs.catbind` (note that if you wanted to import just the `catbind` function, rather than the whole `partypy` module, you could do `from pypkgs.pypkgs import catbind`, in which case \"dot notation\" would not be required to use the function). Let's try to use the function to concatenate two Pandas categoricals:\n",
    "\n",
    "```python\n",
    "import pandas as pd\n",
    "a = pd.Categorical([\"character\", \"hits\", \"your\", \"eyeballs\"])\n",
    "b = pd.Categorical([\"but\", \"integer\", \"where it\", \"counts\"])\n",
    "pypkgs.catbind(a, b)\n",
    "\n",
    "[character, hits, your, eyeballs, but, integer, where it, counts]\n",
    "Categories (8, object): [but, character, counts, eyeballs, hits, integer, where it, your]\n",
    "```\n",
    "\n",
    "Hurray again! This seems to work as expected! Now that we have something working, you can exit your Python session (by typing `exit()`) and commit changes to version control:\n",
    "\n",
    "```{prompt} bash\n",
    "git add .\n",
    "git commit -m \"First working version of catbind function\"\n",
    "```"
   ]
  },
  {
   "cell_type": "markdown",
   "metadata": {},
   "source": [
    "## Your second package code"
   ]
  },
  {
   "cell_type": "markdown",
   "metadata": {},
   "source": [
    "For simple packages, you may choose to add all your reuseable code into `partypy.py` and that's often suitable for reusing code between your own packages. But more more complex packages, your package will benefit from better compartmetnalisation and organisation. we are now going to add a plotting function to our package. You may choose to add the following code into `partypy.py`, but we are going rename that file and split our package into two modules:\n",
    "1. `partypy.simulate`\n",
    "2. `partypy.plotting`\n",
    "\n",
    "This leaves room for expansion later on (which we will do) and we fin dit's always useful to split packages up like this.\n",
    "\n",
    "It would be useful to plot a histogram of simualtion results instead of just looking through a dataframe. We'll use `altair` to make our plot (but you could of course use any plotting library you like). Let's add `altair` as a dependency of our package now:\n",
    "\n",
    "```{prompt} bash\n",
    "poetry add altair\n",
    "```\n",
    "\n",
    "```console\n",
    "Using version ^4.1.0 for altair\n",
    "\n",
    "Updating dependencies\n",
    "Resolving dependencies... (2.1s)\n",
    "\n",
    "Writing lock file\n",
    "\n",
    "Package operations: 8 installs, 0 updates, 0 removals\n",
    "\n",
    "  • Installing attrs (20.3.0)\n",
    "  • Installing markupsafe (1.1.1)\n",
    "  • Installing pyrsistent (0.17.3)\n",
    "  • Installing entrypoints (0.3)\n",
    "  • Installing jinja2 (2.11.3)\n",
    "  • Installing jsonschema (3.2.0)\n",
    "  • Installing toolz (0.11.1)\n",
    "  • Installing altair (4.1.0)\n",
    "```"
   ]
  },
  {
   "cell_type": "markdown",
   "metadata": {},
   "source": [
    "Now, we'll add the following code into `plotting.py`:"
   ]
  },
  {
   "cell_type": "code",
   "execution_count": 38,
   "metadata": {},
   "outputs": [],
   "source": [
    "import altair as alt\n",
    "\n",
    "\n",
    "def plot_simulation(results):\n",
    "    \"\"\"Simulate guest attendance at a party.\n",
    "\n",
    "    The attendance of each guest is treated as a Bernoulli random variable\n",
    "    with probability of attendance `p`. The total number of attending guests\n",
    "    is summed up for each `simulations`.\n",
    "\n",
    "    Parameters\n",
    "    ----------\n",
    "    results : pandas.DataFrame\n",
    "        DataFrame of simulation results from `partpy.simulate_party()`\n",
    "\n",
    "    Returns\n",
    "    -------\n",
    "    altair.Chart\n",
    "        Histogram of simulation results.\n",
    "\n",
    "    Examples\n",
    "    --------\n",
    "    >>> from partypy.simulate import simulate_party\n",
    "    >>> from partypy.plotting import plot_simulation\n",
    "    >>> results = simulate([0.1, 0.5, 0.9])\n",
    "    >>> plot_simulation(results)\n",
    "    altair.Chart\n",
    "    \"\"\"\n",
    "\n",
    "    histogram = (\n",
    "        alt.Chart(results)\n",
    "        .mark_bar()\n",
    "        .encode(\n",
    "            x=alt.X(\n",
    "                \"Total guests\",\n",
    "                bin=alt.Bin(maxbins=30),\n",
    "                axis=alt.Axis(format=\".0f\"),\n",
    "                title=\"Attendees\",\n",
    "            ),\n",
    "            y=\"count()\",\n",
    "            tooltip=\"count()\",\n",
    "        )\n",
    "    )\n",
    "\n",
    "    return histogram"
   ]
  },
  {
   "cell_type": "markdown",
   "metadata": {},
   "source": [
    "Let's give our new code a spin but installing the package and testing it out.\n",
    "\n",
    "```{prompt} bash\n",
    "poetry install\n",
    "```\n",
    "\n",
    "```console\n",
    "Installing dependencies from lock file\n",
    "\n",
    "No dependencies to install or update\n",
    "\n",
    "Installing the current project: partypy (0.1.0)\n",
    "```\n",
    "\n",
    "Now, inside the root project directory we can open an interactive Python session (by typing `python` at the command line) and import our `partypy` module which contains our `catbind` function as shown:\n",
    "\n",
    "<hr>"
   ]
  },
  {
   "cell_type": "code",
   "execution_count": 25,
   "metadata": {},
   "outputs": [],
   "source": [
    "results = simulate(np.linspace(0, 1, 100))"
   ]
  },
  {
   "cell_type": "code",
   "execution_count": 26,
   "metadata": {},
   "outputs": [
    {
     "data": {
      "text/html": [
       "\n",
       "<div id=\"altair-viz-d37203484eff4f1c902af577d46cd183\"></div>\n",
       "<script type=\"text/javascript\">\n",
       "  (function(spec, embedOpt){\n",
       "    let outputDiv = document.currentScript.previousElementSibling;\n",
       "    if (outputDiv.id !== \"altair-viz-d37203484eff4f1c902af577d46cd183\") {\n",
       "      outputDiv = document.getElementById(\"altair-viz-d37203484eff4f1c902af577d46cd183\");\n",
       "    }\n",
       "    const paths = {\n",
       "      \"vega\": \"https://cdn.jsdelivr.net/npm//vega@5?noext\",\n",
       "      \"vega-lib\": \"https://cdn.jsdelivr.net/npm//vega-lib?noext\",\n",
       "      \"vega-lite\": \"https://cdn.jsdelivr.net/npm//vega-lite@4.8.1?noext\",\n",
       "      \"vega-embed\": \"https://cdn.jsdelivr.net/npm//vega-embed@6?noext\",\n",
       "    };\n",
       "\n",
       "    function loadScript(lib) {\n",
       "      return new Promise(function(resolve, reject) {\n",
       "        var s = document.createElement('script');\n",
       "        s.src = paths[lib];\n",
       "        s.async = true;\n",
       "        s.onload = () => resolve(paths[lib]);\n",
       "        s.onerror = () => reject(`Error loading script: ${paths[lib]}`);\n",
       "        document.getElementsByTagName(\"head\")[0].appendChild(s);\n",
       "      });\n",
       "    }\n",
       "\n",
       "    function showError(err) {\n",
       "      outputDiv.innerHTML = `<div class=\"error\" style=\"color:red;\">${err}</div>`;\n",
       "      throw err;\n",
       "    }\n",
       "\n",
       "    function displayChart(vegaEmbed) {\n",
       "      vegaEmbed(outputDiv, spec, embedOpt)\n",
       "        .catch(err => showError(`Javascript Error: ${err.message}<br>This usually means there's a typo in your chart specification. See the javascript console for the full traceback.`));\n",
       "    }\n",
       "\n",
       "    if(typeof define === \"function\" && define.amd) {\n",
       "      requirejs.config({paths});\n",
       "      require([\"vega-embed\"], displayChart, err => showError(`Error loading script: ${err.message}`));\n",
       "    } else if (typeof vegaEmbed === \"function\") {\n",
       "      displayChart(vegaEmbed);\n",
       "    } else {\n",
       "      loadScript(\"vega\")\n",
       "        .then(() => loadScript(\"vega-lite\"))\n",
       "        .then(() => loadScript(\"vega-embed\"))\n",
       "        .catch(showError)\n",
       "        .then(() => displayChart(vegaEmbed));\n",
       "    }\n",
       "  })({\"config\": {\"view\": {\"continuousWidth\": 400, \"continuousHeight\": 300}}, \"data\": {\"name\": \"data-e18bcef10a556e091d8a3414cc0beb3a\"}, \"mark\": \"bar\", \"encoding\": {\"tooltip\": {\"type\": \"quantitative\", \"aggregate\": \"count\"}, \"x\": {\"type\": \"quantitative\", \"axis\": {\"format\": \".0f\"}, \"bin\": {\"maxbins\": 30}, \"field\": \"Total guests\", \"title\": \"Attendees\"}, \"y\": {\"type\": \"quantitative\", \"aggregate\": \"count\"}}, \"$schema\": \"https://vega.github.io/schema/vega-lite/v4.8.1.json\", \"datasets\": {\"data-e18bcef10a556e091d8a3414cc0beb3a\": [{\"Total guests\": 52}, {\"Total guests\": 44}, {\"Total guests\": 47}, {\"Total guests\": 55}, {\"Total guests\": 47}, {\"Total guests\": 54}, {\"Total guests\": 48}, {\"Total guests\": 53}, {\"Total guests\": 53}, {\"Total guests\": 46}, {\"Total guests\": 52}, {\"Total guests\": 50}, {\"Total guests\": 48}, {\"Total guests\": 49}, {\"Total guests\": 52}, {\"Total guests\": 56}, {\"Total guests\": 50}, {\"Total guests\": 52}, {\"Total guests\": 54}, {\"Total guests\": 47}, {\"Total guests\": 50}, {\"Total guests\": 52}, {\"Total guests\": 44}, {\"Total guests\": 49}, {\"Total guests\": 51}, {\"Total guests\": 50}, {\"Total guests\": 51}, {\"Total guests\": 50}, {\"Total guests\": 52}, {\"Total guests\": 44}, {\"Total guests\": 51}, {\"Total guests\": 53}, {\"Total guests\": 48}, {\"Total guests\": 55}, {\"Total guests\": 49}, {\"Total guests\": 51}, {\"Total guests\": 53}, {\"Total guests\": 51}, {\"Total guests\": 51}, {\"Total guests\": 52}, {\"Total guests\": 52}, {\"Total guests\": 47}, {\"Total guests\": 60}, {\"Total guests\": 47}, {\"Total guests\": 54}, {\"Total guests\": 48}, {\"Total guests\": 54}, {\"Total guests\": 53}, {\"Total guests\": 47}, {\"Total guests\": 60}, {\"Total guests\": 47}, {\"Total guests\": 52}, {\"Total guests\": 51}, {\"Total guests\": 43}, {\"Total guests\": 52}, {\"Total guests\": 58}, {\"Total guests\": 53}, {\"Total guests\": 43}, {\"Total guests\": 53}, {\"Total guests\": 41}, {\"Total guests\": 52}, {\"Total guests\": 46}, {\"Total guests\": 50}, {\"Total guests\": 51}, {\"Total guests\": 46}, {\"Total guests\": 46}, {\"Total guests\": 50}, {\"Total guests\": 56}, {\"Total guests\": 46}, {\"Total guests\": 51}, {\"Total guests\": 49}, {\"Total guests\": 47}, {\"Total guests\": 51}, {\"Total guests\": 50}, {\"Total guests\": 59}, {\"Total guests\": 50}, {\"Total guests\": 63}, {\"Total guests\": 53}, {\"Total guests\": 53}, {\"Total guests\": 49}, {\"Total guests\": 56}, {\"Total guests\": 56}, {\"Total guests\": 48}, {\"Total guests\": 50}, {\"Total guests\": 60}, {\"Total guests\": 57}, {\"Total guests\": 56}, {\"Total guests\": 53}, {\"Total guests\": 48}, {\"Total guests\": 51}, {\"Total guests\": 52}, {\"Total guests\": 51}, {\"Total guests\": 51}, {\"Total guests\": 56}, {\"Total guests\": 51}, {\"Total guests\": 50}, {\"Total guests\": 52}, {\"Total guests\": 50}, {\"Total guests\": 47}, {\"Total guests\": 56}, {\"Total guests\": 50}, {\"Total guests\": 48}, {\"Total guests\": 50}, {\"Total guests\": 52}, {\"Total guests\": 45}, {\"Total guests\": 45}, {\"Total guests\": 48}, {\"Total guests\": 56}, {\"Total guests\": 52}, {\"Total guests\": 42}, {\"Total guests\": 50}, {\"Total guests\": 46}, {\"Total guests\": 45}, {\"Total guests\": 47}, {\"Total guests\": 56}, {\"Total guests\": 50}, {\"Total guests\": 51}, {\"Total guests\": 53}, {\"Total guests\": 51}, {\"Total guests\": 44}, {\"Total guests\": 44}, {\"Total guests\": 43}, {\"Total guests\": 43}, {\"Total guests\": 53}, {\"Total guests\": 52}, {\"Total guests\": 44}, {\"Total guests\": 58}, {\"Total guests\": 56}, {\"Total guests\": 46}, {\"Total guests\": 52}, {\"Total guests\": 54}, {\"Total guests\": 53}, {\"Total guests\": 52}, {\"Total guests\": 46}, {\"Total guests\": 57}, {\"Total guests\": 51}, {\"Total guests\": 51}, {\"Total guests\": 56}, {\"Total guests\": 51}, {\"Total guests\": 50}, {\"Total guests\": 49}, {\"Total guests\": 47}, {\"Total guests\": 47}, {\"Total guests\": 47}, {\"Total guests\": 50}, {\"Total guests\": 50}, {\"Total guests\": 49}, {\"Total guests\": 42}, {\"Total guests\": 56}, {\"Total guests\": 51}, {\"Total guests\": 48}, {\"Total guests\": 47}, {\"Total guests\": 51}, {\"Total guests\": 48}, {\"Total guests\": 48}, {\"Total guests\": 52}, {\"Total guests\": 47}, {\"Total guests\": 47}, {\"Total guests\": 58}, {\"Total guests\": 52}, {\"Total guests\": 57}, {\"Total guests\": 53}, {\"Total guests\": 52}, {\"Total guests\": 44}, {\"Total guests\": 54}, {\"Total guests\": 52}, {\"Total guests\": 51}, {\"Total guests\": 52}, {\"Total guests\": 53}, {\"Total guests\": 50}, {\"Total guests\": 48}, {\"Total guests\": 58}, {\"Total guests\": 44}, {\"Total guests\": 49}, {\"Total guests\": 53}, {\"Total guests\": 52}, {\"Total guests\": 47}, {\"Total guests\": 46}, {\"Total guests\": 49}, {\"Total guests\": 43}, {\"Total guests\": 40}, {\"Total guests\": 45}, {\"Total guests\": 52}, {\"Total guests\": 44}, {\"Total guests\": 47}, {\"Total guests\": 57}, {\"Total guests\": 46}, {\"Total guests\": 45}, {\"Total guests\": 50}, {\"Total guests\": 56}, {\"Total guests\": 50}, {\"Total guests\": 49}, {\"Total guests\": 46}, {\"Total guests\": 49}, {\"Total guests\": 47}, {\"Total guests\": 54}, {\"Total guests\": 52}, {\"Total guests\": 47}, {\"Total guests\": 41}, {\"Total guests\": 46}, {\"Total guests\": 49}, {\"Total guests\": 46}, {\"Total guests\": 45}, {\"Total guests\": 48}, {\"Total guests\": 56}, {\"Total guests\": 51}, {\"Total guests\": 50}, {\"Total guests\": 47}, {\"Total guests\": 46}, {\"Total guests\": 49}, {\"Total guests\": 50}, {\"Total guests\": 53}, {\"Total guests\": 57}, {\"Total guests\": 44}, {\"Total guests\": 55}, {\"Total guests\": 56}, {\"Total guests\": 48}, {\"Total guests\": 55}, {\"Total guests\": 47}, {\"Total guests\": 54}, {\"Total guests\": 52}, {\"Total guests\": 54}, {\"Total guests\": 48}, {\"Total guests\": 55}, {\"Total guests\": 47}, {\"Total guests\": 46}, {\"Total guests\": 52}, {\"Total guests\": 52}, {\"Total guests\": 43}, {\"Total guests\": 53}, {\"Total guests\": 43}, {\"Total guests\": 50}, {\"Total guests\": 59}, {\"Total guests\": 57}, {\"Total guests\": 48}, {\"Total guests\": 44}, {\"Total guests\": 48}, {\"Total guests\": 48}, {\"Total guests\": 48}, {\"Total guests\": 47}, {\"Total guests\": 54}, {\"Total guests\": 48}, {\"Total guests\": 50}, {\"Total guests\": 49}, {\"Total guests\": 52}, {\"Total guests\": 47}, {\"Total guests\": 46}, {\"Total guests\": 49}, {\"Total guests\": 48}, {\"Total guests\": 51}, {\"Total guests\": 53}, {\"Total guests\": 54}, {\"Total guests\": 45}, {\"Total guests\": 53}, {\"Total guests\": 53}, {\"Total guests\": 46}, {\"Total guests\": 47}, {\"Total guests\": 47}, {\"Total guests\": 46}, {\"Total guests\": 56}, {\"Total guests\": 56}, {\"Total guests\": 53}, {\"Total guests\": 55}, {\"Total guests\": 46}, {\"Total guests\": 50}, {\"Total guests\": 50}, {\"Total guests\": 45}, {\"Total guests\": 40}, {\"Total guests\": 54}, {\"Total guests\": 55}, {\"Total guests\": 48}, {\"Total guests\": 59}, {\"Total guests\": 51}, {\"Total guests\": 47}, {\"Total guests\": 51}, {\"Total guests\": 42}, {\"Total guests\": 55}, {\"Total guests\": 56}, {\"Total guests\": 52}, {\"Total guests\": 50}, {\"Total guests\": 48}, {\"Total guests\": 46}, {\"Total guests\": 53}, {\"Total guests\": 53}, {\"Total guests\": 48}, {\"Total guests\": 45}, {\"Total guests\": 46}, {\"Total guests\": 53}, {\"Total guests\": 43}, {\"Total guests\": 50}, {\"Total guests\": 51}, {\"Total guests\": 47}, {\"Total guests\": 57}, {\"Total guests\": 58}, {\"Total guests\": 46}, {\"Total guests\": 50}, {\"Total guests\": 52}, {\"Total guests\": 52}, {\"Total guests\": 55}, {\"Total guests\": 60}, {\"Total guests\": 47}, {\"Total guests\": 55}, {\"Total guests\": 47}, {\"Total guests\": 54}, {\"Total guests\": 48}, {\"Total guests\": 44}, {\"Total guests\": 50}, {\"Total guests\": 45}, {\"Total guests\": 51}, {\"Total guests\": 45}, {\"Total guests\": 53}, {\"Total guests\": 46}, {\"Total guests\": 48}, {\"Total guests\": 55}, {\"Total guests\": 53}, {\"Total guests\": 49}, {\"Total guests\": 46}, {\"Total guests\": 50}, {\"Total guests\": 48}, {\"Total guests\": 48}, {\"Total guests\": 48}, {\"Total guests\": 53}, {\"Total guests\": 48}, {\"Total guests\": 47}, {\"Total guests\": 44}, {\"Total guests\": 50}, {\"Total guests\": 61}, {\"Total guests\": 50}, {\"Total guests\": 41}, {\"Total guests\": 57}, {\"Total guests\": 46}, {\"Total guests\": 42}, {\"Total guests\": 44}, {\"Total guests\": 49}, {\"Total guests\": 48}, {\"Total guests\": 48}, {\"Total guests\": 51}, {\"Total guests\": 48}, {\"Total guests\": 53}, {\"Total guests\": 48}, {\"Total guests\": 47}, {\"Total guests\": 54}, {\"Total guests\": 51}, {\"Total guests\": 48}, {\"Total guests\": 45}, {\"Total guests\": 53}, {\"Total guests\": 51}, {\"Total guests\": 51}, {\"Total guests\": 58}, {\"Total guests\": 47}, {\"Total guests\": 57}, {\"Total guests\": 53}, {\"Total guests\": 50}, {\"Total guests\": 51}, {\"Total guests\": 44}, {\"Total guests\": 46}, {\"Total guests\": 48}, {\"Total guests\": 57}, {\"Total guests\": 44}, {\"Total guests\": 49}, {\"Total guests\": 58}, {\"Total guests\": 56}, {\"Total guests\": 55}, {\"Total guests\": 48}, {\"Total guests\": 53}, {\"Total guests\": 45}, {\"Total guests\": 52}, {\"Total guests\": 59}, {\"Total guests\": 45}, {\"Total guests\": 45}, {\"Total guests\": 49}, {\"Total guests\": 52}, {\"Total guests\": 53}, {\"Total guests\": 45}, {\"Total guests\": 52}, {\"Total guests\": 53}, {\"Total guests\": 50}, {\"Total guests\": 50}, {\"Total guests\": 42}, {\"Total guests\": 54}, {\"Total guests\": 48}, {\"Total guests\": 43}, {\"Total guests\": 53}, {\"Total guests\": 56}, {\"Total guests\": 48}, {\"Total guests\": 39}, {\"Total guests\": 45}, {\"Total guests\": 59}, {\"Total guests\": 49}, {\"Total guests\": 54}, {\"Total guests\": 45}, {\"Total guests\": 53}, {\"Total guests\": 55}, {\"Total guests\": 52}, {\"Total guests\": 50}, {\"Total guests\": 57}, {\"Total guests\": 47}, {\"Total guests\": 41}, {\"Total guests\": 48}, {\"Total guests\": 51}, {\"Total guests\": 53}, {\"Total guests\": 49}, {\"Total guests\": 49}, {\"Total guests\": 49}, {\"Total guests\": 50}, {\"Total guests\": 48}, {\"Total guests\": 50}, {\"Total guests\": 54}, {\"Total guests\": 56}, {\"Total guests\": 43}, {\"Total guests\": 55}, {\"Total guests\": 47}, {\"Total guests\": 48}, {\"Total guests\": 48}, {\"Total guests\": 48}, {\"Total guests\": 46}, {\"Total guests\": 47}, {\"Total guests\": 54}, {\"Total guests\": 53}, {\"Total guests\": 47}, {\"Total guests\": 54}, {\"Total guests\": 50}, {\"Total guests\": 55}, {\"Total guests\": 51}, {\"Total guests\": 43}, {\"Total guests\": 52}, {\"Total guests\": 44}, {\"Total guests\": 52}, {\"Total guests\": 53}, {\"Total guests\": 48}, {\"Total guests\": 46}, {\"Total guests\": 45}, {\"Total guests\": 41}, {\"Total guests\": 49}, {\"Total guests\": 50}, {\"Total guests\": 55}, {\"Total guests\": 50}, {\"Total guests\": 52}, {\"Total guests\": 50}, {\"Total guests\": 52}, {\"Total guests\": 46}, {\"Total guests\": 52}, {\"Total guests\": 44}, {\"Total guests\": 52}, {\"Total guests\": 50}, {\"Total guests\": 52}, {\"Total guests\": 53}, {\"Total guests\": 55}, {\"Total guests\": 55}, {\"Total guests\": 56}, {\"Total guests\": 48}, {\"Total guests\": 56}, {\"Total guests\": 49}, {\"Total guests\": 48}, {\"Total guests\": 57}, {\"Total guests\": 49}, {\"Total guests\": 50}, {\"Total guests\": 55}, {\"Total guests\": 43}, {\"Total guests\": 52}, {\"Total guests\": 53}, {\"Total guests\": 44}, {\"Total guests\": 42}, {\"Total guests\": 57}, {\"Total guests\": 55}, {\"Total guests\": 50}, {\"Total guests\": 53}, {\"Total guests\": 51}, {\"Total guests\": 52}, {\"Total guests\": 51}, {\"Total guests\": 45}, {\"Total guests\": 53}, {\"Total guests\": 51}, {\"Total guests\": 50}, {\"Total guests\": 50}, {\"Total guests\": 47}, {\"Total guests\": 51}, {\"Total guests\": 54}, {\"Total guests\": 54}, {\"Total guests\": 54}, {\"Total guests\": 47}, {\"Total guests\": 45}, {\"Total guests\": 52}, {\"Total guests\": 57}, {\"Total guests\": 48}, {\"Total guests\": 55}, {\"Total guests\": 49}, {\"Total guests\": 47}, {\"Total guests\": 50}, {\"Total guests\": 54}, {\"Total guests\": 54}, {\"Total guests\": 50}, {\"Total guests\": 51}, {\"Total guests\": 55}, {\"Total guests\": 42}, {\"Total guests\": 49}, {\"Total guests\": 46}, {\"Total guests\": 50}, {\"Total guests\": 55}, {\"Total guests\": 53}, {\"Total guests\": 51}, {\"Total guests\": 41}, {\"Total guests\": 45}, {\"Total guests\": 50}, {\"Total guests\": 44}, {\"Total guests\": 50}, {\"Total guests\": 45}, {\"Total guests\": 45}, {\"Total guests\": 51}, {\"Total guests\": 45}, {\"Total guests\": 59}, {\"Total guests\": 50}, {\"Total guests\": 50}, {\"Total guests\": 44}, {\"Total guests\": 58}, {\"Total guests\": 52}, {\"Total guests\": 62}, {\"Total guests\": 55}, {\"Total guests\": 44}, {\"Total guests\": 53}, {\"Total guests\": 63}, {\"Total guests\": 56}, {\"Total guests\": 48}, {\"Total guests\": 55}, {\"Total guests\": 48}, {\"Total guests\": 46}, {\"Total guests\": 41}, {\"Total guests\": 53}, {\"Total guests\": 52}, {\"Total guests\": 51}, {\"Total guests\": 57}, {\"Total guests\": 56}, {\"Total guests\": 43}, {\"Total guests\": 47}, {\"Total guests\": 47}, {\"Total guests\": 48}, {\"Total guests\": 56}, {\"Total guests\": 50}, {\"Total guests\": 48}, {\"Total guests\": 54}, {\"Total guests\": 46}, {\"Total guests\": 51}, {\"Total guests\": 55}, {\"Total guests\": 48}, {\"Total guests\": 47}, {\"Total guests\": 43}, {\"Total guests\": 52}, {\"Total guests\": 51}, {\"Total guests\": 45}, {\"Total guests\": 52}, {\"Total guests\": 53}, {\"Total guests\": 53}, {\"Total guests\": 48}, {\"Total guests\": 50}, {\"Total guests\": 56}, {\"Total guests\": 51}, {\"Total guests\": 51}, {\"Total guests\": 50}, {\"Total guests\": 50}, {\"Total guests\": 46}, {\"Total guests\": 52}, {\"Total guests\": 54}, {\"Total guests\": 46}, {\"Total guests\": 45}, {\"Total guests\": 48}, {\"Total guests\": 52}, {\"Total guests\": 47}, {\"Total guests\": 51}, {\"Total guests\": 54}, {\"Total guests\": 43}, {\"Total guests\": 49}, {\"Total guests\": 55}, {\"Total guests\": 46}, {\"Total guests\": 57}, {\"Total guests\": 50}, {\"Total guests\": 55}, {\"Total guests\": 47}, {\"Total guests\": 52}, {\"Total guests\": 54}, {\"Total guests\": 50}, {\"Total guests\": 44}, {\"Total guests\": 52}, {\"Total guests\": 46}, {\"Total guests\": 60}, {\"Total guests\": 49}, {\"Total guests\": 56}, {\"Total guests\": 58}, {\"Total guests\": 51}, {\"Total guests\": 52}, {\"Total guests\": 49}, {\"Total guests\": 55}, {\"Total guests\": 52}, {\"Total guests\": 47}, {\"Total guests\": 48}, {\"Total guests\": 53}, {\"Total guests\": 49}, {\"Total guests\": 46}, {\"Total guests\": 51}, {\"Total guests\": 53}, {\"Total guests\": 39}, {\"Total guests\": 59}, {\"Total guests\": 48}, {\"Total guests\": 48}, {\"Total guests\": 49}, {\"Total guests\": 47}, {\"Total guests\": 51}, {\"Total guests\": 50}, {\"Total guests\": 50}, {\"Total guests\": 46}, {\"Total guests\": 45}, {\"Total guests\": 60}, {\"Total guests\": 47}, {\"Total guests\": 50}, {\"Total guests\": 49}, {\"Total guests\": 51}, {\"Total guests\": 51}, {\"Total guests\": 56}, {\"Total guests\": 51}, {\"Total guests\": 54}, {\"Total guests\": 39}, {\"Total guests\": 46}, {\"Total guests\": 51}, {\"Total guests\": 47}, {\"Total guests\": 45}, {\"Total guests\": 53}, {\"Total guests\": 52}, {\"Total guests\": 47}, {\"Total guests\": 56}, {\"Total guests\": 49}, {\"Total guests\": 50}, {\"Total guests\": 50}, {\"Total guests\": 49}, {\"Total guests\": 47}, {\"Total guests\": 50}, {\"Total guests\": 54}, {\"Total guests\": 48}, {\"Total guests\": 49}, {\"Total guests\": 50}, {\"Total guests\": 44}, {\"Total guests\": 50}, {\"Total guests\": 54}, {\"Total guests\": 49}, {\"Total guests\": 54}, {\"Total guests\": 54}, {\"Total guests\": 48}, {\"Total guests\": 47}, {\"Total guests\": 46}, {\"Total guests\": 53}, {\"Total guests\": 50}, {\"Total guests\": 56}, {\"Total guests\": 42}, {\"Total guests\": 56}, {\"Total guests\": 47}, {\"Total guests\": 53}, {\"Total guests\": 47}, {\"Total guests\": 49}, {\"Total guests\": 52}, {\"Total guests\": 54}, {\"Total guests\": 47}, {\"Total guests\": 49}, {\"Total guests\": 51}, {\"Total guests\": 49}, {\"Total guests\": 52}, {\"Total guests\": 47}, {\"Total guests\": 53}, {\"Total guests\": 51}, {\"Total guests\": 47}, {\"Total guests\": 51}, {\"Total guests\": 50}, {\"Total guests\": 51}, {\"Total guests\": 48}, {\"Total guests\": 43}, {\"Total guests\": 47}, {\"Total guests\": 55}, {\"Total guests\": 53}, {\"Total guests\": 47}, {\"Total guests\": 52}, {\"Total guests\": 48}, {\"Total guests\": 46}, {\"Total guests\": 49}, {\"Total guests\": 48}, {\"Total guests\": 45}, {\"Total guests\": 56}, {\"Total guests\": 50}, {\"Total guests\": 49}, {\"Total guests\": 51}, {\"Total guests\": 48}, {\"Total guests\": 53}, {\"Total guests\": 52}, {\"Total guests\": 48}, {\"Total guests\": 46}, {\"Total guests\": 44}, {\"Total guests\": 55}, {\"Total guests\": 45}, {\"Total guests\": 50}, {\"Total guests\": 48}, {\"Total guests\": 51}, {\"Total guests\": 53}, {\"Total guests\": 55}, {\"Total guests\": 47}, {\"Total guests\": 54}, {\"Total guests\": 46}, {\"Total guests\": 50}, {\"Total guests\": 53}, {\"Total guests\": 49}, {\"Total guests\": 52}, {\"Total guests\": 49}, {\"Total guests\": 52}, {\"Total guests\": 52}, {\"Total guests\": 56}, {\"Total guests\": 54}, {\"Total guests\": 51}, {\"Total guests\": 51}, {\"Total guests\": 54}, {\"Total guests\": 57}, {\"Total guests\": 56}, {\"Total guests\": 52}, {\"Total guests\": 52}, {\"Total guests\": 47}, {\"Total guests\": 48}, {\"Total guests\": 51}, {\"Total guests\": 47}, {\"Total guests\": 49}, {\"Total guests\": 58}, {\"Total guests\": 58}, {\"Total guests\": 52}, {\"Total guests\": 50}, {\"Total guests\": 48}, {\"Total guests\": 53}, {\"Total guests\": 43}, {\"Total guests\": 48}, {\"Total guests\": 53}, {\"Total guests\": 47}, {\"Total guests\": 44}, {\"Total guests\": 46}, {\"Total guests\": 47}, {\"Total guests\": 51}, {\"Total guests\": 47}, {\"Total guests\": 48}, {\"Total guests\": 41}, {\"Total guests\": 50}, {\"Total guests\": 51}, {\"Total guests\": 50}, {\"Total guests\": 46}, {\"Total guests\": 49}, {\"Total guests\": 56}, {\"Total guests\": 50}, {\"Total guests\": 45}, {\"Total guests\": 50}, {\"Total guests\": 53}, {\"Total guests\": 44}, {\"Total guests\": 56}, {\"Total guests\": 46}, {\"Total guests\": 45}, {\"Total guests\": 50}, {\"Total guests\": 52}, {\"Total guests\": 53}, {\"Total guests\": 56}, {\"Total guests\": 45}, {\"Total guests\": 47}, {\"Total guests\": 50}, {\"Total guests\": 51}, {\"Total guests\": 48}, {\"Total guests\": 45}, {\"Total guests\": 56}, {\"Total guests\": 51}, {\"Total guests\": 51}, {\"Total guests\": 54}, {\"Total guests\": 46}, {\"Total guests\": 57}, {\"Total guests\": 58}, {\"Total guests\": 59}, {\"Total guests\": 49}, {\"Total guests\": 54}, {\"Total guests\": 50}, {\"Total guests\": 52}, {\"Total guests\": 58}, {\"Total guests\": 50}, {\"Total guests\": 53}, {\"Total guests\": 48}, {\"Total guests\": 46}, {\"Total guests\": 47}, {\"Total guests\": 58}, {\"Total guests\": 52}, {\"Total guests\": 49}, {\"Total guests\": 51}, {\"Total guests\": 44}, {\"Total guests\": 47}, {\"Total guests\": 51}, {\"Total guests\": 50}, {\"Total guests\": 48}, {\"Total guests\": 52}, {\"Total guests\": 54}, {\"Total guests\": 56}, {\"Total guests\": 45}, {\"Total guests\": 52}, {\"Total guests\": 45}, {\"Total guests\": 54}, {\"Total guests\": 47}, {\"Total guests\": 46}, {\"Total guests\": 49}, {\"Total guests\": 51}, {\"Total guests\": 58}, {\"Total guests\": 50}, {\"Total guests\": 54}, {\"Total guests\": 54}, {\"Total guests\": 50}, {\"Total guests\": 46}, {\"Total guests\": 48}, {\"Total guests\": 45}, {\"Total guests\": 50}, {\"Total guests\": 47}, {\"Total guests\": 50}, {\"Total guests\": 52}, {\"Total guests\": 54}, {\"Total guests\": 49}, {\"Total guests\": 55}, {\"Total guests\": 55}, {\"Total guests\": 52}, {\"Total guests\": 51}, {\"Total guests\": 51}, {\"Total guests\": 49}, {\"Total guests\": 50}, {\"Total guests\": 54}, {\"Total guests\": 54}, {\"Total guests\": 51}, {\"Total guests\": 46}, {\"Total guests\": 49}, {\"Total guests\": 56}, {\"Total guests\": 52}, {\"Total guests\": 47}, {\"Total guests\": 57}, {\"Total guests\": 53}, {\"Total guests\": 52}, {\"Total guests\": 58}, {\"Total guests\": 54}, {\"Total guests\": 50}, {\"Total guests\": 57}, {\"Total guests\": 56}, {\"Total guests\": 49}, {\"Total guests\": 52}, {\"Total guests\": 45}, {\"Total guests\": 61}, {\"Total guests\": 50}, {\"Total guests\": 42}, {\"Total guests\": 46}, {\"Total guests\": 51}, {\"Total guests\": 46}, {\"Total guests\": 55}, {\"Total guests\": 50}, {\"Total guests\": 52}, {\"Total guests\": 48}, {\"Total guests\": 52}, {\"Total guests\": 48}, {\"Total guests\": 47}, {\"Total guests\": 51}, {\"Total guests\": 55}, {\"Total guests\": 51}, {\"Total guests\": 49}, {\"Total guests\": 43}, {\"Total guests\": 41}, {\"Total guests\": 55}, {\"Total guests\": 49}, {\"Total guests\": 47}, {\"Total guests\": 54}, {\"Total guests\": 52}, {\"Total guests\": 49}, {\"Total guests\": 51}, {\"Total guests\": 50}, {\"Total guests\": 53}, {\"Total guests\": 47}, {\"Total guests\": 61}, {\"Total guests\": 60}, {\"Total guests\": 50}, {\"Total guests\": 46}, {\"Total guests\": 46}, {\"Total guests\": 52}, {\"Total guests\": 50}, {\"Total guests\": 56}, {\"Total guests\": 44}, {\"Total guests\": 45}, {\"Total guests\": 54}, {\"Total guests\": 52}, {\"Total guests\": 50}, {\"Total guests\": 59}, {\"Total guests\": 51}, {\"Total guests\": 53}, {\"Total guests\": 54}, {\"Total guests\": 53}, {\"Total guests\": 56}, {\"Total guests\": 47}, {\"Total guests\": 46}, {\"Total guests\": 48}, {\"Total guests\": 56}, {\"Total guests\": 44}, {\"Total guests\": 56}, {\"Total guests\": 49}, {\"Total guests\": 50}, {\"Total guests\": 55}, {\"Total guests\": 51}, {\"Total guests\": 48}, {\"Total guests\": 55}, {\"Total guests\": 43}, {\"Total guests\": 49}, {\"Total guests\": 48}, {\"Total guests\": 46}, {\"Total guests\": 49}, {\"Total guests\": 42}, {\"Total guests\": 55}, {\"Total guests\": 47}, {\"Total guests\": 38}, {\"Total guests\": 54}, {\"Total guests\": 53}, {\"Total guests\": 44}, {\"Total guests\": 52}, {\"Total guests\": 39}, {\"Total guests\": 56}, {\"Total guests\": 52}, {\"Total guests\": 55}, {\"Total guests\": 51}, {\"Total guests\": 51}, {\"Total guests\": 53}, {\"Total guests\": 47}, {\"Total guests\": 59}, {\"Total guests\": 54}, {\"Total guests\": 48}, {\"Total guests\": 44}, {\"Total guests\": 48}, {\"Total guests\": 51}, {\"Total guests\": 49}, {\"Total guests\": 45}, {\"Total guests\": 49}, {\"Total guests\": 54}, {\"Total guests\": 45}, {\"Total guests\": 51}, {\"Total guests\": 48}, {\"Total guests\": 44}, {\"Total guests\": 52}, {\"Total guests\": 61}, {\"Total guests\": 47}, {\"Total guests\": 49}, {\"Total guests\": 53}, {\"Total guests\": 43}, {\"Total guests\": 57}, {\"Total guests\": 46}, {\"Total guests\": 47}, {\"Total guests\": 55}, {\"Total guests\": 53}, {\"Total guests\": 47}, {\"Total guests\": 49}, {\"Total guests\": 45}, {\"Total guests\": 44}, {\"Total guests\": 45}, {\"Total guests\": 52}, {\"Total guests\": 53}, {\"Total guests\": 55}, {\"Total guests\": 54}, {\"Total guests\": 51}, {\"Total guests\": 52}, {\"Total guests\": 46}, {\"Total guests\": 41}, {\"Total guests\": 55}, {\"Total guests\": 46}, {\"Total guests\": 45}, {\"Total guests\": 50}, {\"Total guests\": 50}, {\"Total guests\": 54}, {\"Total guests\": 52}, {\"Total guests\": 48}, {\"Total guests\": 50}, {\"Total guests\": 50}, {\"Total guests\": 52}, {\"Total guests\": 57}, {\"Total guests\": 49}, {\"Total guests\": 50}, {\"Total guests\": 45}, {\"Total guests\": 53}, {\"Total guests\": 47}, {\"Total guests\": 48}, {\"Total guests\": 54}, {\"Total guests\": 55}, {\"Total guests\": 54}, {\"Total guests\": 44}, {\"Total guests\": 48}, {\"Total guests\": 48}, {\"Total guests\": 51}, {\"Total guests\": 49}, {\"Total guests\": 50}, {\"Total guests\": 49}, {\"Total guests\": 50}, {\"Total guests\": 50}, {\"Total guests\": 48}, {\"Total guests\": 54}, {\"Total guests\": 51}, {\"Total guests\": 50}, {\"Total guests\": 55}, {\"Total guests\": 45}, {\"Total guests\": 62}, {\"Total guests\": 48}, {\"Total guests\": 56}, {\"Total guests\": 49}, {\"Total guests\": 52}, {\"Total guests\": 54}, {\"Total guests\": 50}, {\"Total guests\": 52}, {\"Total guests\": 52}, {\"Total guests\": 49}, {\"Total guests\": 56}, {\"Total guests\": 44}, {\"Total guests\": 56}, {\"Total guests\": 46}, {\"Total guests\": 56}, {\"Total guests\": 53}, {\"Total guests\": 47}, {\"Total guests\": 53}, {\"Total guests\": 48}, {\"Total guests\": 51}, {\"Total guests\": 52}, {\"Total guests\": 45}, {\"Total guests\": 51}, {\"Total guests\": 51}, {\"Total guests\": 59}, {\"Total guests\": 51}, {\"Total guests\": 51}, {\"Total guests\": 44}, {\"Total guests\": 50}, {\"Total guests\": 48}, {\"Total guests\": 39}, {\"Total guests\": 56}, {\"Total guests\": 47}, {\"Total guests\": 48}, {\"Total guests\": 49}, {\"Total guests\": 54}, {\"Total guests\": 43}, {\"Total guests\": 49}, {\"Total guests\": 53}, {\"Total guests\": 52}, {\"Total guests\": 54}, {\"Total guests\": 45}, {\"Total guests\": 52}, {\"Total guests\": 50}, {\"Total guests\": 48}, {\"Total guests\": 40}, {\"Total guests\": 50}, {\"Total guests\": 52}, {\"Total guests\": 46}, {\"Total guests\": 50}, {\"Total guests\": 54}, {\"Total guests\": 45}, {\"Total guests\": 55}, {\"Total guests\": 46}, {\"Total guests\": 46}, {\"Total guests\": 52}, {\"Total guests\": 53}, {\"Total guests\": 58}, {\"Total guests\": 53}, {\"Total guests\": 52}, {\"Total guests\": 51}, {\"Total guests\": 50}, {\"Total guests\": 49}, {\"Total guests\": 39}, {\"Total guests\": 44}, {\"Total guests\": 50}, {\"Total guests\": 46}, {\"Total guests\": 49}, {\"Total guests\": 54}, {\"Total guests\": 48}, {\"Total guests\": 50}, {\"Total guests\": 50}, {\"Total guests\": 47}, {\"Total guests\": 52}, {\"Total guests\": 49}, {\"Total guests\": 52}, {\"Total guests\": 51}, {\"Total guests\": 52}, {\"Total guests\": 54}, {\"Total guests\": 50}, {\"Total guests\": 41}, {\"Total guests\": 44}, {\"Total guests\": 46}, {\"Total guests\": 46}, {\"Total guests\": 53}, {\"Total guests\": 46}, {\"Total guests\": 48}, {\"Total guests\": 47}, {\"Total guests\": 58}, {\"Total guests\": 42}, {\"Total guests\": 51}, {\"Total guests\": 48}, {\"Total guests\": 54}, {\"Total guests\": 51}, {\"Total guests\": 46}, {\"Total guests\": 45}, {\"Total guests\": 50}, {\"Total guests\": 42}, {\"Total guests\": 48}, {\"Total guests\": 57}, {\"Total guests\": 51}, {\"Total guests\": 43}, {\"Total guests\": 46}, {\"Total guests\": 50}, {\"Total guests\": 52}, {\"Total guests\": 49}, {\"Total guests\": 45}, {\"Total guests\": 47}, {\"Total guests\": 40}, {\"Total guests\": 44}, {\"Total guests\": 43}, {\"Total guests\": 56}, {\"Total guests\": 55}, {\"Total guests\": 51}, {\"Total guests\": 50}, {\"Total guests\": 59}, {\"Total guests\": 58}, {\"Total guests\": 49}, {\"Total guests\": 53}, {\"Total guests\": 50}, {\"Total guests\": 50}, {\"Total guests\": 50}, {\"Total guests\": 54}, {\"Total guests\": 54}, {\"Total guests\": 50}, {\"Total guests\": 50}, {\"Total guests\": 50}, {\"Total guests\": 53}, {\"Total guests\": 48}, {\"Total guests\": 50}, {\"Total guests\": 55}, {\"Total guests\": 49}, {\"Total guests\": 49}, {\"Total guests\": 50}, {\"Total guests\": 52}, {\"Total guests\": 49}, {\"Total guests\": 55}, {\"Total guests\": 50}, {\"Total guests\": 51}, {\"Total guests\": 47}, {\"Total guests\": 48}, {\"Total guests\": 53}, {\"Total guests\": 52}, {\"Total guests\": 47}, {\"Total guests\": 50}, {\"Total guests\": 47}, {\"Total guests\": 53}, {\"Total guests\": 53}, {\"Total guests\": 49}, {\"Total guests\": 46}, {\"Total guests\": 55}, {\"Total guests\": 46}, {\"Total guests\": 57}, {\"Total guests\": 58}, {\"Total guests\": 47}, {\"Total guests\": 50}, {\"Total guests\": 42}, {\"Total guests\": 49}, {\"Total guests\": 54}, {\"Total guests\": 53}, {\"Total guests\": 56}, {\"Total guests\": 45}, {\"Total guests\": 51}, {\"Total guests\": 52}, {\"Total guests\": 50}, {\"Total guests\": 56}, {\"Total guests\": 50}, {\"Total guests\": 49}, {\"Total guests\": 40}, {\"Total guests\": 56}, {\"Total guests\": 52}, {\"Total guests\": 43}, {\"Total guests\": 52}, {\"Total guests\": 53}, {\"Total guests\": 52}, {\"Total guests\": 48}, {\"Total guests\": 46}, {\"Total guests\": 61}, {\"Total guests\": 49}, {\"Total guests\": 47}, {\"Total guests\": 37}, {\"Total guests\": 45}, {\"Total guests\": 52}, {\"Total guests\": 50}, {\"Total guests\": 51}, {\"Total guests\": 52}, {\"Total guests\": 48}, {\"Total guests\": 56}, {\"Total guests\": 54}, {\"Total guests\": 52}, {\"Total guests\": 53}, {\"Total guests\": 49}, {\"Total guests\": 53}, {\"Total guests\": 45}, {\"Total guests\": 45}, {\"Total guests\": 44}, {\"Total guests\": 45}, {\"Total guests\": 60}, {\"Total guests\": 50}, {\"Total guests\": 52}, {\"Total guests\": 53}, {\"Total guests\": 53}, {\"Total guests\": 47}, {\"Total guests\": 40}, {\"Total guests\": 62}, {\"Total guests\": 52}, {\"Total guests\": 56}, {\"Total guests\": 51}, {\"Total guests\": 50}, {\"Total guests\": 50}, {\"Total guests\": 49}, {\"Total guests\": 51}, {\"Total guests\": 49}, {\"Total guests\": 43}, {\"Total guests\": 44}, {\"Total guests\": 65}, {\"Total guests\": 46}, {\"Total guests\": 48}, {\"Total guests\": 52}, {\"Total guests\": 46}, {\"Total guests\": 47}, {\"Total guests\": 50}, {\"Total guests\": 55}, {\"Total guests\": 43}, {\"Total guests\": 46}, {\"Total guests\": 47}, {\"Total guests\": 50}, {\"Total guests\": 53}, {\"Total guests\": 48}, {\"Total guests\": 52}, {\"Total guests\": 43}, {\"Total guests\": 50}, {\"Total guests\": 40}, {\"Total guests\": 49}, {\"Total guests\": 52}, {\"Total guests\": 52}, {\"Total guests\": 50}, {\"Total guests\": 46}, {\"Total guests\": 48}, {\"Total guests\": 44}, {\"Total guests\": 47}, {\"Total guests\": 53}, {\"Total guests\": 49}, {\"Total guests\": 51}, {\"Total guests\": 49}, {\"Total guests\": 53}, {\"Total guests\": 47}, {\"Total guests\": 52}, {\"Total guests\": 52}, {\"Total guests\": 55}, {\"Total guests\": 55}, {\"Total guests\": 48}, {\"Total guests\": 51}, {\"Total guests\": 52}, {\"Total guests\": 52}, {\"Total guests\": 45}, {\"Total guests\": 54}, {\"Total guests\": 54}, {\"Total guests\": 51}, {\"Total guests\": 47}, {\"Total guests\": 45}, {\"Total guests\": 56}, {\"Total guests\": 46}, {\"Total guests\": 47}, {\"Total guests\": 52}, {\"Total guests\": 53}, {\"Total guests\": 49}, {\"Total guests\": 42}, {\"Total guests\": 49}, {\"Total guests\": 50}, {\"Total guests\": 45}, {\"Total guests\": 53}, {\"Total guests\": 53}, {\"Total guests\": 47}, {\"Total guests\": 56}, {\"Total guests\": 44}, {\"Total guests\": 48}, {\"Total guests\": 44}, {\"Total guests\": 52}, {\"Total guests\": 48}, {\"Total guests\": 54}, {\"Total guests\": 51}, {\"Total guests\": 50}, {\"Total guests\": 46}, {\"Total guests\": 51}, {\"Total guests\": 50}, {\"Total guests\": 50}, {\"Total guests\": 50}, {\"Total guests\": 50}, {\"Total guests\": 45}, {\"Total guests\": 49}, {\"Total guests\": 59}, {\"Total guests\": 53}, {\"Total guests\": 49}, {\"Total guests\": 54}, {\"Total guests\": 46}, {\"Total guests\": 47}, {\"Total guests\": 43}, {\"Total guests\": 49}, {\"Total guests\": 59}, {\"Total guests\": 45}, {\"Total guests\": 54}, {\"Total guests\": 47}, {\"Total guests\": 54}, {\"Total guests\": 44}, {\"Total guests\": 41}, {\"Total guests\": 51}, {\"Total guests\": 46}, {\"Total guests\": 50}, {\"Total guests\": 48}, {\"Total guests\": 55}, {\"Total guests\": 50}, {\"Total guests\": 46}, {\"Total guests\": 50}, {\"Total guests\": 46}, {\"Total guests\": 46}, {\"Total guests\": 52}, {\"Total guests\": 43}, {\"Total guests\": 50}, {\"Total guests\": 49}, {\"Total guests\": 59}, {\"Total guests\": 53}, {\"Total guests\": 56}, {\"Total guests\": 49}, {\"Total guests\": 46}, {\"Total guests\": 49}, {\"Total guests\": 52}, {\"Total guests\": 48}, {\"Total guests\": 49}, {\"Total guests\": 47}, {\"Total guests\": 46}, {\"Total guests\": 52}, {\"Total guests\": 59}, {\"Total guests\": 47}, {\"Total guests\": 57}, {\"Total guests\": 52}, {\"Total guests\": 51}, {\"Total guests\": 47}, {\"Total guests\": 48}, {\"Total guests\": 52}, {\"Total guests\": 49}, {\"Total guests\": 47}, {\"Total guests\": 43}, {\"Total guests\": 54}, {\"Total guests\": 57}, {\"Total guests\": 53}, {\"Total guests\": 51}, {\"Total guests\": 43}, {\"Total guests\": 48}, {\"Total guests\": 54}, {\"Total guests\": 54}, {\"Total guests\": 54}, {\"Total guests\": 51}, {\"Total guests\": 45}, {\"Total guests\": 47}, {\"Total guests\": 51}, {\"Total guests\": 58}, {\"Total guests\": 44}, {\"Total guests\": 49}, {\"Total guests\": 50}, {\"Total guests\": 52}, {\"Total guests\": 51}, {\"Total guests\": 49}, {\"Total guests\": 53}, {\"Total guests\": 41}, {\"Total guests\": 48}, {\"Total guests\": 40}, {\"Total guests\": 53}, {\"Total guests\": 41}, {\"Total guests\": 45}, {\"Total guests\": 49}, {\"Total guests\": 48}, {\"Total guests\": 52}, {\"Total guests\": 49}, {\"Total guests\": 45}, {\"Total guests\": 40}, {\"Total guests\": 44}, {\"Total guests\": 49}, {\"Total guests\": 48}, {\"Total guests\": 49}, {\"Total guests\": 43}, {\"Total guests\": 50}, {\"Total guests\": 51}, {\"Total guests\": 48}, {\"Total guests\": 50}, {\"Total guests\": 50}, {\"Total guests\": 45}, {\"Total guests\": 51}, {\"Total guests\": 49}, {\"Total guests\": 46}, {\"Total guests\": 46}, {\"Total guests\": 50}, {\"Total guests\": 47}, {\"Total guests\": 50}, {\"Total guests\": 48}, {\"Total guests\": 46}, {\"Total guests\": 44}, {\"Total guests\": 49}, {\"Total guests\": 44}, {\"Total guests\": 52}, {\"Total guests\": 49}, {\"Total guests\": 50}, {\"Total guests\": 55}, {\"Total guests\": 44}, {\"Total guests\": 49}, {\"Total guests\": 52}, {\"Total guests\": 50}, {\"Total guests\": 49}, {\"Total guests\": 42}, {\"Total guests\": 53}, {\"Total guests\": 46}, {\"Total guests\": 45}, {\"Total guests\": 49}, {\"Total guests\": 39}, {\"Total guests\": 38}, {\"Total guests\": 45}, {\"Total guests\": 54}, {\"Total guests\": 50}, {\"Total guests\": 57}, {\"Total guests\": 59}, {\"Total guests\": 50}, {\"Total guests\": 52}, {\"Total guests\": 52}, {\"Total guests\": 46}, {\"Total guests\": 53}, {\"Total guests\": 51}, {\"Total guests\": 50}, {\"Total guests\": 47}, {\"Total guests\": 50}, {\"Total guests\": 52}, {\"Total guests\": 44}, {\"Total guests\": 49}, {\"Total guests\": 49}, {\"Total guests\": 49}, {\"Total guests\": 55}, {\"Total guests\": 53}, {\"Total guests\": 52}, {\"Total guests\": 51}, {\"Total guests\": 45}, {\"Total guests\": 46}, {\"Total guests\": 51}, {\"Total guests\": 47}, {\"Total guests\": 55}, {\"Total guests\": 51}, {\"Total guests\": 59}, {\"Total guests\": 48}, {\"Total guests\": 49}, {\"Total guests\": 47}, {\"Total guests\": 51}, {\"Total guests\": 48}, {\"Total guests\": 41}, {\"Total guests\": 47}, {\"Total guests\": 49}, {\"Total guests\": 54}, {\"Total guests\": 47}, {\"Total guests\": 44}, {\"Total guests\": 57}, {\"Total guests\": 53}, {\"Total guests\": 51}, {\"Total guests\": 58}, {\"Total guests\": 46}, {\"Total guests\": 46}, {\"Total guests\": 45}, {\"Total guests\": 52}, {\"Total guests\": 56}, {\"Total guests\": 50}, {\"Total guests\": 52}, {\"Total guests\": 48}, {\"Total guests\": 51}, {\"Total guests\": 53}, {\"Total guests\": 58}, {\"Total guests\": 54}, {\"Total guests\": 49}, {\"Total guests\": 40}, {\"Total guests\": 49}, {\"Total guests\": 51}, {\"Total guests\": 60}, {\"Total guests\": 47}, {\"Total guests\": 51}, {\"Total guests\": 54}, {\"Total guests\": 45}, {\"Total guests\": 53}, {\"Total guests\": 55}, {\"Total guests\": 45}, {\"Total guests\": 48}, {\"Total guests\": 53}, {\"Total guests\": 49}, {\"Total guests\": 57}, {\"Total guests\": 57}, {\"Total guests\": 43}, {\"Total guests\": 52}, {\"Total guests\": 54}, {\"Total guests\": 50}, {\"Total guests\": 48}, {\"Total guests\": 47}, {\"Total guests\": 55}, {\"Total guests\": 49}, {\"Total guests\": 47}, {\"Total guests\": 54}, {\"Total guests\": 54}, {\"Total guests\": 53}, {\"Total guests\": 49}, {\"Total guests\": 51}, {\"Total guests\": 49}, {\"Total guests\": 53}, {\"Total guests\": 45}, {\"Total guests\": 49}, {\"Total guests\": 52}, {\"Total guests\": 48}, {\"Total guests\": 50}, {\"Total guests\": 54}, {\"Total guests\": 43}, {\"Total guests\": 44}, {\"Total guests\": 57}, {\"Total guests\": 49}, {\"Total guests\": 51}, {\"Total guests\": 46}, {\"Total guests\": 51}, {\"Total guests\": 54}, {\"Total guests\": 49}, {\"Total guests\": 49}, {\"Total guests\": 46}, {\"Total guests\": 46}, {\"Total guests\": 49}, {\"Total guests\": 59}, {\"Total guests\": 53}, {\"Total guests\": 48}, {\"Total guests\": 48}, {\"Total guests\": 57}, {\"Total guests\": 53}, {\"Total guests\": 47}, {\"Total guests\": 46}, {\"Total guests\": 51}, {\"Total guests\": 51}, {\"Total guests\": 44}, {\"Total guests\": 49}, {\"Total guests\": 49}, {\"Total guests\": 47}, {\"Total guests\": 48}, {\"Total guests\": 49}, {\"Total guests\": 51}, {\"Total guests\": 56}, {\"Total guests\": 47}, {\"Total guests\": 46}, {\"Total guests\": 58}, {\"Total guests\": 52}, {\"Total guests\": 45}, {\"Total guests\": 53}, {\"Total guests\": 49}, {\"Total guests\": 46}, {\"Total guests\": 55}, {\"Total guests\": 49}, {\"Total guests\": 48}, {\"Total guests\": 51}, {\"Total guests\": 53}, {\"Total guests\": 51}, {\"Total guests\": 45}, {\"Total guests\": 50}, {\"Total guests\": 57}, {\"Total guests\": 53}, {\"Total guests\": 53}, {\"Total guests\": 50}, {\"Total guests\": 50}, {\"Total guests\": 47}, {\"Total guests\": 42}, {\"Total guests\": 46}, {\"Total guests\": 49}, {\"Total guests\": 50}, {\"Total guests\": 46}, {\"Total guests\": 53}, {\"Total guests\": 49}, {\"Total guests\": 45}, {\"Total guests\": 48}, {\"Total guests\": 51}, {\"Total guests\": 55}, {\"Total guests\": 52}, {\"Total guests\": 49}, {\"Total guests\": 49}, {\"Total guests\": 57}, {\"Total guests\": 50}, {\"Total guests\": 48}, {\"Total guests\": 56}, {\"Total guests\": 44}, {\"Total guests\": 48}, {\"Total guests\": 54}, {\"Total guests\": 53}, {\"Total guests\": 46}, {\"Total guests\": 53}, {\"Total guests\": 52}, {\"Total guests\": 51}, {\"Total guests\": 48}, {\"Total guests\": 54}, {\"Total guests\": 52}, {\"Total guests\": 54}, {\"Total guests\": 52}, {\"Total guests\": 51}, {\"Total guests\": 54}, {\"Total guests\": 42}, {\"Total guests\": 50}, {\"Total guests\": 49}, {\"Total guests\": 47}, {\"Total guests\": 52}, {\"Total guests\": 51}, {\"Total guests\": 55}, {\"Total guests\": 43}, {\"Total guests\": 53}, {\"Total guests\": 43}, {\"Total guests\": 45}, {\"Total guests\": 52}, {\"Total guests\": 54}, {\"Total guests\": 44}, {\"Total guests\": 48}, {\"Total guests\": 57}, {\"Total guests\": 49}, {\"Total guests\": 47}, {\"Total guests\": 49}, {\"Total guests\": 55}, {\"Total guests\": 45}, {\"Total guests\": 49}, {\"Total guests\": 51}, {\"Total guests\": 47}, {\"Total guests\": 60}, {\"Total guests\": 48}, {\"Total guests\": 56}, {\"Total guests\": 49}, {\"Total guests\": 57}, {\"Total guests\": 50}, {\"Total guests\": 43}, {\"Total guests\": 47}, {\"Total guests\": 46}, {\"Total guests\": 44}, {\"Total guests\": 55}, {\"Total guests\": 54}, {\"Total guests\": 51}, {\"Total guests\": 55}, {\"Total guests\": 49}, {\"Total guests\": 48}, {\"Total guests\": 47}, {\"Total guests\": 51}, {\"Total guests\": 44}, {\"Total guests\": 51}, {\"Total guests\": 55}, {\"Total guests\": 54}, {\"Total guests\": 46}, {\"Total guests\": 51}, {\"Total guests\": 50}, {\"Total guests\": 54}, {\"Total guests\": 46}, {\"Total guests\": 49}, {\"Total guests\": 47}, {\"Total guests\": 50}, {\"Total guests\": 49}, {\"Total guests\": 48}, {\"Total guests\": 51}, {\"Total guests\": 44}, {\"Total guests\": 44}, {\"Total guests\": 51}, {\"Total guests\": 49}, {\"Total guests\": 51}, {\"Total guests\": 58}, {\"Total guests\": 48}, {\"Total guests\": 52}, {\"Total guests\": 52}, {\"Total guests\": 51}, {\"Total guests\": 50}, {\"Total guests\": 54}, {\"Total guests\": 46}, {\"Total guests\": 59}, {\"Total guests\": 50}, {\"Total guests\": 40}, {\"Total guests\": 46}, {\"Total guests\": 51}, {\"Total guests\": 53}, {\"Total guests\": 48}, {\"Total guests\": 45}, {\"Total guests\": 55}, {\"Total guests\": 43}, {\"Total guests\": 51}, {\"Total guests\": 49}, {\"Total guests\": 54}, {\"Total guests\": 49}, {\"Total guests\": 42}, {\"Total guests\": 53}, {\"Total guests\": 54}, {\"Total guests\": 54}, {\"Total guests\": 52}, {\"Total guests\": 54}, {\"Total guests\": 58}, {\"Total guests\": 50}, {\"Total guests\": 56}, {\"Total guests\": 46}, {\"Total guests\": 45}, {\"Total guests\": 55}, {\"Total guests\": 48}, {\"Total guests\": 46}, {\"Total guests\": 48}, {\"Total guests\": 55}, {\"Total guests\": 54}, {\"Total guests\": 49}, {\"Total guests\": 53}, {\"Total guests\": 51}, {\"Total guests\": 53}, {\"Total guests\": 52}, {\"Total guests\": 47}, {\"Total guests\": 50}, {\"Total guests\": 45}, {\"Total guests\": 51}, {\"Total guests\": 54}, {\"Total guests\": 46}, {\"Total guests\": 56}, {\"Total guests\": 49}, {\"Total guests\": 45}, {\"Total guests\": 53}, {\"Total guests\": 56}, {\"Total guests\": 57}, {\"Total guests\": 48}, {\"Total guests\": 54}, {\"Total guests\": 54}, {\"Total guests\": 45}, {\"Total guests\": 49}, {\"Total guests\": 53}, {\"Total guests\": 49}, {\"Total guests\": 47}, {\"Total guests\": 55}, {\"Total guests\": 44}, {\"Total guests\": 48}, {\"Total guests\": 56}, {\"Total guests\": 47}, {\"Total guests\": 47}, {\"Total guests\": 50}, {\"Total guests\": 56}, {\"Total guests\": 49}, {\"Total guests\": 55}, {\"Total guests\": 58}, {\"Total guests\": 49}, {\"Total guests\": 53}, {\"Total guests\": 56}, {\"Total guests\": 44}, {\"Total guests\": 53}, {\"Total guests\": 55}, {\"Total guests\": 55}, {\"Total guests\": 53}, {\"Total guests\": 46}, {\"Total guests\": 49}, {\"Total guests\": 44}, {\"Total guests\": 52}, {\"Total guests\": 43}, {\"Total guests\": 49}, {\"Total guests\": 53}, {\"Total guests\": 54}, {\"Total guests\": 49}, {\"Total guests\": 52}, {\"Total guests\": 54}, {\"Total guests\": 44}, {\"Total guests\": 46}, {\"Total guests\": 54}, {\"Total guests\": 53}, {\"Total guests\": 50}, {\"Total guests\": 44}, {\"Total guests\": 47}, {\"Total guests\": 47}, {\"Total guests\": 53}, {\"Total guests\": 43}, {\"Total guests\": 53}, {\"Total guests\": 40}, {\"Total guests\": 57}, {\"Total guests\": 45}, {\"Total guests\": 53}, {\"Total guests\": 51}, {\"Total guests\": 48}, {\"Total guests\": 48}, {\"Total guests\": 51}, {\"Total guests\": 46}, {\"Total guests\": 43}, {\"Total guests\": 38}, {\"Total guests\": 53}, {\"Total guests\": 46}, {\"Total guests\": 53}, {\"Total guests\": 49}, {\"Total guests\": 52}, {\"Total guests\": 55}, {\"Total guests\": 47}, {\"Total guests\": 44}, {\"Total guests\": 47}, {\"Total guests\": 51}, {\"Total guests\": 52}, {\"Total guests\": 47}, {\"Total guests\": 62}, {\"Total guests\": 53}, {\"Total guests\": 41}, {\"Total guests\": 47}, {\"Total guests\": 49}, {\"Total guests\": 48}, {\"Total guests\": 42}, {\"Total guests\": 51}, {\"Total guests\": 55}, {\"Total guests\": 52}, {\"Total guests\": 51}, {\"Total guests\": 50}, {\"Total guests\": 55}, {\"Total guests\": 47}, {\"Total guests\": 43}, {\"Total guests\": 49}, {\"Total guests\": 50}, {\"Total guests\": 52}, {\"Total guests\": 50}, {\"Total guests\": 51}, {\"Total guests\": 54}, {\"Total guests\": 52}, {\"Total guests\": 56}, {\"Total guests\": 50}, {\"Total guests\": 53}, {\"Total guests\": 49}, {\"Total guests\": 50}, {\"Total guests\": 48}, {\"Total guests\": 48}, {\"Total guests\": 52}, {\"Total guests\": 45}, {\"Total guests\": 48}, {\"Total guests\": 50}, {\"Total guests\": 49}, {\"Total guests\": 46}, {\"Total guests\": 45}, {\"Total guests\": 51}, {\"Total guests\": 55}, {\"Total guests\": 60}, {\"Total guests\": 47}, {\"Total guests\": 51}, {\"Total guests\": 53}, {\"Total guests\": 49}, {\"Total guests\": 50}, {\"Total guests\": 46}, {\"Total guests\": 46}, {\"Total guests\": 49}, {\"Total guests\": 58}, {\"Total guests\": 48}, {\"Total guests\": 56}, {\"Total guests\": 44}, {\"Total guests\": 45}, {\"Total guests\": 55}, {\"Total guests\": 44}, {\"Total guests\": 42}, {\"Total guests\": 53}, {\"Total guests\": 52}, {\"Total guests\": 53}, {\"Total guests\": 43}, {\"Total guests\": 49}, {\"Total guests\": 54}, {\"Total guests\": 44}, {\"Total guests\": 45}, {\"Total guests\": 50}, {\"Total guests\": 52}, {\"Total guests\": 46}, {\"Total guests\": 52}, {\"Total guests\": 51}, {\"Total guests\": 45}, {\"Total guests\": 49}, {\"Total guests\": 52}, {\"Total guests\": 44}, {\"Total guests\": 49}, {\"Total guests\": 53}, {\"Total guests\": 38}, {\"Total guests\": 54}, {\"Total guests\": 49}, {\"Total guests\": 48}, {\"Total guests\": 53}, {\"Total guests\": 52}, {\"Total guests\": 46}, {\"Total guests\": 46}, {\"Total guests\": 48}, {\"Total guests\": 56}, {\"Total guests\": 53}, {\"Total guests\": 47}, {\"Total guests\": 45}, {\"Total guests\": 53}, {\"Total guests\": 55}, {\"Total guests\": 57}, {\"Total guests\": 57}, {\"Total guests\": 43}, {\"Total guests\": 48}, {\"Total guests\": 45}, {\"Total guests\": 56}, {\"Total guests\": 48}, {\"Total guests\": 48}, {\"Total guests\": 51}, {\"Total guests\": 55}, {\"Total guests\": 55}, {\"Total guests\": 51}, {\"Total guests\": 50}, {\"Total guests\": 53}, {\"Total guests\": 53}, {\"Total guests\": 47}, {\"Total guests\": 49}, {\"Total guests\": 46}, {\"Total guests\": 46}, {\"Total guests\": 58}, {\"Total guests\": 49}, {\"Total guests\": 54}, {\"Total guests\": 53}, {\"Total guests\": 50}, {\"Total guests\": 48}, {\"Total guests\": 54}, {\"Total guests\": 50}, {\"Total guests\": 46}, {\"Total guests\": 49}, {\"Total guests\": 49}, {\"Total guests\": 44}, {\"Total guests\": 53}, {\"Total guests\": 45}, {\"Total guests\": 46}, {\"Total guests\": 51}, {\"Total guests\": 51}, {\"Total guests\": 58}, {\"Total guests\": 46}, {\"Total guests\": 50}, {\"Total guests\": 46}, {\"Total guests\": 47}, {\"Total guests\": 51}, {\"Total guests\": 53}, {\"Total guests\": 50}, {\"Total guests\": 52}, {\"Total guests\": 53}, {\"Total guests\": 58}, {\"Total guests\": 49}, {\"Total guests\": 52}, {\"Total guests\": 51}, {\"Total guests\": 48}, {\"Total guests\": 49}, {\"Total guests\": 55}, {\"Total guests\": 48}, {\"Total guests\": 47}, {\"Total guests\": 48}, {\"Total guests\": 49}, {\"Total guests\": 45}, {\"Total guests\": 49}, {\"Total guests\": 53}, {\"Total guests\": 48}, {\"Total guests\": 46}, {\"Total guests\": 50}, {\"Total guests\": 47}, {\"Total guests\": 50}, {\"Total guests\": 52}, {\"Total guests\": 44}, {\"Total guests\": 47}, {\"Total guests\": 45}, {\"Total guests\": 42}, {\"Total guests\": 48}, {\"Total guests\": 50}, {\"Total guests\": 51}, {\"Total guests\": 52}, {\"Total guests\": 42}, {\"Total guests\": 45}, {\"Total guests\": 54}, {\"Total guests\": 42}, {\"Total guests\": 53}, {\"Total guests\": 52}, {\"Total guests\": 49}, {\"Total guests\": 48}, {\"Total guests\": 53}, {\"Total guests\": 55}, {\"Total guests\": 50}, {\"Total guests\": 55}, {\"Total guests\": 46}, {\"Total guests\": 47}, {\"Total guests\": 49}, {\"Total guests\": 51}, {\"Total guests\": 54}, {\"Total guests\": 46}, {\"Total guests\": 46}, {\"Total guests\": 49}, {\"Total guests\": 50}, {\"Total guests\": 51}, {\"Total guests\": 46}, {\"Total guests\": 49}, {\"Total guests\": 46}, {\"Total guests\": 57}, {\"Total guests\": 50}, {\"Total guests\": 50}, {\"Total guests\": 49}, {\"Total guests\": 56}, {\"Total guests\": 52}, {\"Total guests\": 52}, {\"Total guests\": 49}, {\"Total guests\": 51}, {\"Total guests\": 45}, {\"Total guests\": 50}, {\"Total guests\": 43}, {\"Total guests\": 53}, {\"Total guests\": 49}, {\"Total guests\": 49}, {\"Total guests\": 51}, {\"Total guests\": 55}, {\"Total guests\": 54}, {\"Total guests\": 50}, {\"Total guests\": 47}, {\"Total guests\": 53}, {\"Total guests\": 54}, {\"Total guests\": 54}, {\"Total guests\": 50}, {\"Total guests\": 56}, {\"Total guests\": 49}, {\"Total guests\": 42}, {\"Total guests\": 49}, {\"Total guests\": 50}, {\"Total guests\": 55}, {\"Total guests\": 46}, {\"Total guests\": 50}, {\"Total guests\": 51}, {\"Total guests\": 60}, {\"Total guests\": 46}, {\"Total guests\": 44}, {\"Total guests\": 44}, {\"Total guests\": 49}, {\"Total guests\": 51}, {\"Total guests\": 45}, {\"Total guests\": 48}, {\"Total guests\": 50}, {\"Total guests\": 51}, {\"Total guests\": 50}, {\"Total guests\": 46}, {\"Total guests\": 52}, {\"Total guests\": 54}, {\"Total guests\": 48}, {\"Total guests\": 42}, {\"Total guests\": 50}, {\"Total guests\": 53}, {\"Total guests\": 44}, {\"Total guests\": 49}, {\"Total guests\": 47}, {\"Total guests\": 48}, {\"Total guests\": 50}, {\"Total guests\": 54}, {\"Total guests\": 46}, {\"Total guests\": 52}, {\"Total guests\": 44}, {\"Total guests\": 57}, {\"Total guests\": 47}, {\"Total guests\": 56}, {\"Total guests\": 44}, {\"Total guests\": 44}, {\"Total guests\": 50}, {\"Total guests\": 45}, {\"Total guests\": 53}, {\"Total guests\": 52}, {\"Total guests\": 53}, {\"Total guests\": 52}, {\"Total guests\": 46}, {\"Total guests\": 49}, {\"Total guests\": 51}, {\"Total guests\": 54}, {\"Total guests\": 47}, {\"Total guests\": 49}, {\"Total guests\": 51}, {\"Total guests\": 54}, {\"Total guests\": 55}, {\"Total guests\": 57}, {\"Total guests\": 46}, {\"Total guests\": 44}, {\"Total guests\": 52}, {\"Total guests\": 47}, {\"Total guests\": 49}, {\"Total guests\": 42}, {\"Total guests\": 44}, {\"Total guests\": 47}, {\"Total guests\": 48}, {\"Total guests\": 49}, {\"Total guests\": 46}, {\"Total guests\": 42}, {\"Total guests\": 48}, {\"Total guests\": 50}, {\"Total guests\": 40}, {\"Total guests\": 47}, {\"Total guests\": 45}, {\"Total guests\": 50}, {\"Total guests\": 47}, {\"Total guests\": 55}, {\"Total guests\": 58}, {\"Total guests\": 55}, {\"Total guests\": 45}, {\"Total guests\": 54}, {\"Total guests\": 44}, {\"Total guests\": 57}, {\"Total guests\": 51}, {\"Total guests\": 48}, {\"Total guests\": 54}, {\"Total guests\": 53}, {\"Total guests\": 53}, {\"Total guests\": 47}, {\"Total guests\": 49}, {\"Total guests\": 49}, {\"Total guests\": 50}, {\"Total guests\": 56}, {\"Total guests\": 52}, {\"Total guests\": 52}, {\"Total guests\": 48}, {\"Total guests\": 45}, {\"Total guests\": 52}, {\"Total guests\": 53}, {\"Total guests\": 54}, {\"Total guests\": 50}, {\"Total guests\": 58}, {\"Total guests\": 54}, {\"Total guests\": 44}, {\"Total guests\": 52}, {\"Total guests\": 53}, {\"Total guests\": 50}, {\"Total guests\": 53}, {\"Total guests\": 51}, {\"Total guests\": 38}, {\"Total guests\": 53}, {\"Total guests\": 52}, {\"Total guests\": 52}, {\"Total guests\": 50}, {\"Total guests\": 48}, {\"Total guests\": 54}, {\"Total guests\": 51}, {\"Total guests\": 48}, {\"Total guests\": 55}, {\"Total guests\": 52}, {\"Total guests\": 46}, {\"Total guests\": 50}, {\"Total guests\": 51}, {\"Total guests\": 43}, {\"Total guests\": 51}, {\"Total guests\": 50}, {\"Total guests\": 47}, {\"Total guests\": 45}, {\"Total guests\": 54}, {\"Total guests\": 61}, {\"Total guests\": 57}, {\"Total guests\": 50}, {\"Total guests\": 51}, {\"Total guests\": 52}, {\"Total guests\": 45}, {\"Total guests\": 51}, {\"Total guests\": 46}, {\"Total guests\": 50}, {\"Total guests\": 46}, {\"Total guests\": 49}, {\"Total guests\": 49}, {\"Total guests\": 51}, {\"Total guests\": 43}, {\"Total guests\": 50}, {\"Total guests\": 48}, {\"Total guests\": 45}, {\"Total guests\": 51}, {\"Total guests\": 52}, {\"Total guests\": 49}, {\"Total guests\": 51}, {\"Total guests\": 52}, {\"Total guests\": 57}, {\"Total guests\": 55}, {\"Total guests\": 44}, {\"Total guests\": 58}, {\"Total guests\": 52}, {\"Total guests\": 43}, {\"Total guests\": 47}, {\"Total guests\": 50}, {\"Total guests\": 52}, {\"Total guests\": 52}, {\"Total guests\": 50}, {\"Total guests\": 54}, {\"Total guests\": 48}, {\"Total guests\": 60}, {\"Total guests\": 49}, {\"Total guests\": 46}, {\"Total guests\": 52}, {\"Total guests\": 47}, {\"Total guests\": 47}, {\"Total guests\": 53}, {\"Total guests\": 54}, {\"Total guests\": 49}, {\"Total guests\": 51}, {\"Total guests\": 50}, {\"Total guests\": 56}, {\"Total guests\": 42}, {\"Total guests\": 44}, {\"Total guests\": 46}, {\"Total guests\": 50}, {\"Total guests\": 55}, {\"Total guests\": 50}, {\"Total guests\": 50}, {\"Total guests\": 52}, {\"Total guests\": 53}, {\"Total guests\": 48}, {\"Total guests\": 47}, {\"Total guests\": 53}, {\"Total guests\": 53}, {\"Total guests\": 56}, {\"Total guests\": 47}, {\"Total guests\": 50}, {\"Total guests\": 45}, {\"Total guests\": 57}, {\"Total guests\": 50}, {\"Total guests\": 43}, {\"Total guests\": 47}, {\"Total guests\": 45}, {\"Total guests\": 49}, {\"Total guests\": 51}, {\"Total guests\": 49}, {\"Total guests\": 49}, {\"Total guests\": 48}, {\"Total guests\": 52}, {\"Total guests\": 50}, {\"Total guests\": 53}, {\"Total guests\": 50}, {\"Total guests\": 44}, {\"Total guests\": 51}, {\"Total guests\": 51}, {\"Total guests\": 49}, {\"Total guests\": 54}, {\"Total guests\": 47}, {\"Total guests\": 44}, {\"Total guests\": 49}, {\"Total guests\": 57}, {\"Total guests\": 48}, {\"Total guests\": 52}, {\"Total guests\": 52}, {\"Total guests\": 49}, {\"Total guests\": 49}, {\"Total guests\": 54}, {\"Total guests\": 47}, {\"Total guests\": 50}, {\"Total guests\": 47}, {\"Total guests\": 45}, {\"Total guests\": 44}, {\"Total guests\": 52}, {\"Total guests\": 50}, {\"Total guests\": 49}, {\"Total guests\": 53}, {\"Total guests\": 52}, {\"Total guests\": 55}, {\"Total guests\": 48}, {\"Total guests\": 49}, {\"Total guests\": 54}, {\"Total guests\": 50}, {\"Total guests\": 54}, {\"Total guests\": 41}, {\"Total guests\": 50}, {\"Total guests\": 54}, {\"Total guests\": 56}, {\"Total guests\": 42}, {\"Total guests\": 56}, {\"Total guests\": 45}, {\"Total guests\": 49}, {\"Total guests\": 45}, {\"Total guests\": 47}, {\"Total guests\": 51}, {\"Total guests\": 42}, {\"Total guests\": 53}, {\"Total guests\": 53}, {\"Total guests\": 46}, {\"Total guests\": 50}, {\"Total guests\": 50}, {\"Total guests\": 51}, {\"Total guests\": 49}, {\"Total guests\": 48}, {\"Total guests\": 53}, {\"Total guests\": 45}, {\"Total guests\": 51}, {\"Total guests\": 55}, {\"Total guests\": 47}, {\"Total guests\": 49}, {\"Total guests\": 51}, {\"Total guests\": 48}, {\"Total guests\": 52}, {\"Total guests\": 39}, {\"Total guests\": 59}, {\"Total guests\": 50}, {\"Total guests\": 57}, {\"Total guests\": 51}, {\"Total guests\": 56}, {\"Total guests\": 53}, {\"Total guests\": 55}, {\"Total guests\": 55}, {\"Total guests\": 48}, {\"Total guests\": 48}, {\"Total guests\": 56}, {\"Total guests\": 55}, {\"Total guests\": 54}, {\"Total guests\": 50}, {\"Total guests\": 51}, {\"Total guests\": 50}, {\"Total guests\": 54}, {\"Total guests\": 47}, {\"Total guests\": 53}, {\"Total guests\": 54}, {\"Total guests\": 54}, {\"Total guests\": 47}, {\"Total guests\": 46}, {\"Total guests\": 48}, {\"Total guests\": 41}, {\"Total guests\": 43}, {\"Total guests\": 54}, {\"Total guests\": 49}, {\"Total guests\": 53}, {\"Total guests\": 44}, {\"Total guests\": 43}, {\"Total guests\": 50}, {\"Total guests\": 51}, {\"Total guests\": 49}, {\"Total guests\": 53}, {\"Total guests\": 46}, {\"Total guests\": 51}, {\"Total guests\": 53}, {\"Total guests\": 46}, {\"Total guests\": 44}, {\"Total guests\": 45}, {\"Total guests\": 45}, {\"Total guests\": 52}, {\"Total guests\": 51}, {\"Total guests\": 47}, {\"Total guests\": 50}, {\"Total guests\": 46}, {\"Total guests\": 50}, {\"Total guests\": 47}, {\"Total guests\": 46}, {\"Total guests\": 54}, {\"Total guests\": 52}, {\"Total guests\": 53}, {\"Total guests\": 45}, {\"Total guests\": 48}, {\"Total guests\": 54}, {\"Total guests\": 43}, {\"Total guests\": 56}, {\"Total guests\": 59}, {\"Total guests\": 48}, {\"Total guests\": 43}, {\"Total guests\": 50}, {\"Total guests\": 53}, {\"Total guests\": 51}, {\"Total guests\": 47}, {\"Total guests\": 43}, {\"Total guests\": 51}, {\"Total guests\": 44}, {\"Total guests\": 44}, {\"Total guests\": 50}, {\"Total guests\": 50}, {\"Total guests\": 51}, {\"Total guests\": 52}, {\"Total guests\": 48}, {\"Total guests\": 50}, {\"Total guests\": 50}, {\"Total guests\": 49}, {\"Total guests\": 46}, {\"Total guests\": 45}, {\"Total guests\": 47}, {\"Total guests\": 40}, {\"Total guests\": 53}, {\"Total guests\": 53}, {\"Total guests\": 48}, {\"Total guests\": 57}, {\"Total guests\": 48}, {\"Total guests\": 51}, {\"Total guests\": 52}, {\"Total guests\": 47}, {\"Total guests\": 51}, {\"Total guests\": 45}, {\"Total guests\": 48}, {\"Total guests\": 52}, {\"Total guests\": 46}, {\"Total guests\": 47}, {\"Total guests\": 56}, {\"Total guests\": 50}, {\"Total guests\": 51}, {\"Total guests\": 42}, {\"Total guests\": 52}, {\"Total guests\": 49}, {\"Total guests\": 45}, {\"Total guests\": 47}, {\"Total guests\": 58}, {\"Total guests\": 50}, {\"Total guests\": 54}, {\"Total guests\": 45}, {\"Total guests\": 45}, {\"Total guests\": 50}, {\"Total guests\": 45}, {\"Total guests\": 45}, {\"Total guests\": 44}, {\"Total guests\": 57}, {\"Total guests\": 47}, {\"Total guests\": 47}, {\"Total guests\": 48}, {\"Total guests\": 48}, {\"Total guests\": 55}, {\"Total guests\": 49}, {\"Total guests\": 49}, {\"Total guests\": 54}, {\"Total guests\": 48}, {\"Total guests\": 53}, {\"Total guests\": 45}, {\"Total guests\": 57}, {\"Total guests\": 46}, {\"Total guests\": 48}, {\"Total guests\": 50}, {\"Total guests\": 54}, {\"Total guests\": 45}, {\"Total guests\": 50}, {\"Total guests\": 49}, {\"Total guests\": 48}, {\"Total guests\": 52}, {\"Total guests\": 55}, {\"Total guests\": 48}, {\"Total guests\": 51}, {\"Total guests\": 60}, {\"Total guests\": 51}, {\"Total guests\": 49}, {\"Total guests\": 49}, {\"Total guests\": 59}, {\"Total guests\": 55}, {\"Total guests\": 50}, {\"Total guests\": 52}, {\"Total guests\": 49}, {\"Total guests\": 51}, {\"Total guests\": 55}, {\"Total guests\": 49}, {\"Total guests\": 47}, {\"Total guests\": 53}, {\"Total guests\": 51}, {\"Total guests\": 56}, {\"Total guests\": 48}, {\"Total guests\": 57}, {\"Total guests\": 51}, {\"Total guests\": 51}, {\"Total guests\": 45}, {\"Total guests\": 48}, {\"Total guests\": 45}, {\"Total guests\": 44}, {\"Total guests\": 54}, {\"Total guests\": 49}, {\"Total guests\": 52}, {\"Total guests\": 53}, {\"Total guests\": 46}, {\"Total guests\": 51}, {\"Total guests\": 51}, {\"Total guests\": 54}, {\"Total guests\": 52}, {\"Total guests\": 47}, {\"Total guests\": 52}, {\"Total guests\": 47}, {\"Total guests\": 53}, {\"Total guests\": 48}, {\"Total guests\": 41}, {\"Total guests\": 51}, {\"Total guests\": 57}, {\"Total guests\": 50}, {\"Total guests\": 42}, {\"Total guests\": 50}, {\"Total guests\": 58}, {\"Total guests\": 45}, {\"Total guests\": 49}, {\"Total guests\": 56}, {\"Total guests\": 50}, {\"Total guests\": 50}, {\"Total guests\": 54}, {\"Total guests\": 49}, {\"Total guests\": 56}, {\"Total guests\": 55}, {\"Total guests\": 40}, {\"Total guests\": 49}, {\"Total guests\": 51}, {\"Total guests\": 45}, {\"Total guests\": 52}, {\"Total guests\": 59}, {\"Total guests\": 45}, {\"Total guests\": 53}, {\"Total guests\": 52}, {\"Total guests\": 48}, {\"Total guests\": 46}, {\"Total guests\": 57}, {\"Total guests\": 47}, {\"Total guests\": 49}, {\"Total guests\": 52}, {\"Total guests\": 49}, {\"Total guests\": 53}, {\"Total guests\": 55}, {\"Total guests\": 44}, {\"Total guests\": 49}, {\"Total guests\": 53}, {\"Total guests\": 50}, {\"Total guests\": 43}, {\"Total guests\": 48}, {\"Total guests\": 53}, {\"Total guests\": 53}, {\"Total guests\": 44}, {\"Total guests\": 43}, {\"Total guests\": 48}, {\"Total guests\": 52}, {\"Total guests\": 58}, {\"Total guests\": 46}, {\"Total guests\": 51}, {\"Total guests\": 48}, {\"Total guests\": 48}, {\"Total guests\": 47}, {\"Total guests\": 54}, {\"Total guests\": 58}, {\"Total guests\": 50}, {\"Total guests\": 52}, {\"Total guests\": 52}, {\"Total guests\": 46}, {\"Total guests\": 48}, {\"Total guests\": 55}, {\"Total guests\": 52}, {\"Total guests\": 52}, {\"Total guests\": 40}, {\"Total guests\": 52}, {\"Total guests\": 55}, {\"Total guests\": 57}, {\"Total guests\": 49}, {\"Total guests\": 50}, {\"Total guests\": 44}, {\"Total guests\": 44}, {\"Total guests\": 39}, {\"Total guests\": 52}, {\"Total guests\": 43}, {\"Total guests\": 52}, {\"Total guests\": 48}, {\"Total guests\": 42}, {\"Total guests\": 55}, {\"Total guests\": 51}, {\"Total guests\": 49}, {\"Total guests\": 49}, {\"Total guests\": 49}, {\"Total guests\": 59}, {\"Total guests\": 47}, {\"Total guests\": 48}, {\"Total guests\": 51}, {\"Total guests\": 53}, {\"Total guests\": 50}, {\"Total guests\": 44}, {\"Total guests\": 44}, {\"Total guests\": 45}, {\"Total guests\": 52}, {\"Total guests\": 46}, {\"Total guests\": 49}, {\"Total guests\": 55}, {\"Total guests\": 51}, {\"Total guests\": 48}, {\"Total guests\": 50}, {\"Total guests\": 53}, {\"Total guests\": 38}, {\"Total guests\": 46}, {\"Total guests\": 48}, {\"Total guests\": 48}, {\"Total guests\": 52}, {\"Total guests\": 60}, {\"Total guests\": 47}, {\"Total guests\": 44}, {\"Total guests\": 59}, {\"Total guests\": 49}, {\"Total guests\": 49}, {\"Total guests\": 50}, {\"Total guests\": 54}, {\"Total guests\": 53}, {\"Total guests\": 50}, {\"Total guests\": 49}, {\"Total guests\": 51}, {\"Total guests\": 55}, {\"Total guests\": 56}, {\"Total guests\": 52}, {\"Total guests\": 51}, {\"Total guests\": 50}, {\"Total guests\": 49}, {\"Total guests\": 47}, {\"Total guests\": 42}, {\"Total guests\": 50}, {\"Total guests\": 51}, {\"Total guests\": 53}, {\"Total guests\": 48}, {\"Total guests\": 49}, {\"Total guests\": 50}, {\"Total guests\": 56}, {\"Total guests\": 53}, {\"Total guests\": 50}, {\"Total guests\": 50}, {\"Total guests\": 44}, {\"Total guests\": 53}, {\"Total guests\": 52}, {\"Total guests\": 51}, {\"Total guests\": 52}, {\"Total guests\": 50}, {\"Total guests\": 48}, {\"Total guests\": 53}, {\"Total guests\": 51}, {\"Total guests\": 48}, {\"Total guests\": 49}, {\"Total guests\": 47}, {\"Total guests\": 57}, {\"Total guests\": 47}, {\"Total guests\": 46}, {\"Total guests\": 48}, {\"Total guests\": 45}, {\"Total guests\": 53}, {\"Total guests\": 54}, {\"Total guests\": 48}, {\"Total guests\": 42}, {\"Total guests\": 51}, {\"Total guests\": 47}, {\"Total guests\": 46}, {\"Total guests\": 53}, {\"Total guests\": 54}, {\"Total guests\": 49}, {\"Total guests\": 49}, {\"Total guests\": 45}, {\"Total guests\": 53}, {\"Total guests\": 51}, {\"Total guests\": 50}, {\"Total guests\": 49}, {\"Total guests\": 53}, {\"Total guests\": 49}, {\"Total guests\": 54}, {\"Total guests\": 46}, {\"Total guests\": 52}, {\"Total guests\": 48}, {\"Total guests\": 45}, {\"Total guests\": 53}, {\"Total guests\": 50}, {\"Total guests\": 50}, {\"Total guests\": 44}, {\"Total guests\": 54}, {\"Total guests\": 49}, {\"Total guests\": 51}, {\"Total guests\": 50}, {\"Total guests\": 51}, {\"Total guests\": 48}, {\"Total guests\": 45}, {\"Total guests\": 48}, {\"Total guests\": 46}, {\"Total guests\": 44}, {\"Total guests\": 54}, {\"Total guests\": 54}, {\"Total guests\": 49}, {\"Total guests\": 47}, {\"Total guests\": 48}, {\"Total guests\": 52}, {\"Total guests\": 54}, {\"Total guests\": 46}, {\"Total guests\": 48}, {\"Total guests\": 54}, {\"Total guests\": 49}, {\"Total guests\": 57}, {\"Total guests\": 59}, {\"Total guests\": 47}, {\"Total guests\": 46}, {\"Total guests\": 50}, {\"Total guests\": 52}, {\"Total guests\": 54}, {\"Total guests\": 51}, {\"Total guests\": 54}, {\"Total guests\": 58}, {\"Total guests\": 48}, {\"Total guests\": 44}, {\"Total guests\": 43}, {\"Total guests\": 47}, {\"Total guests\": 49}, {\"Total guests\": 41}, {\"Total guests\": 49}, {\"Total guests\": 56}, {\"Total guests\": 51}, {\"Total guests\": 47}, {\"Total guests\": 48}, {\"Total guests\": 55}, {\"Total guests\": 48}, {\"Total guests\": 51}, {\"Total guests\": 54}, {\"Total guests\": 53}, {\"Total guests\": 56}, {\"Total guests\": 52}, {\"Total guests\": 47}, {\"Total guests\": 45}, {\"Total guests\": 41}, {\"Total guests\": 52}, {\"Total guests\": 46}, {\"Total guests\": 57}, {\"Total guests\": 53}, {\"Total guests\": 52}, {\"Total guests\": 50}, {\"Total guests\": 52}, {\"Total guests\": 53}, {\"Total guests\": 54}, {\"Total guests\": 51}, {\"Total guests\": 54}, {\"Total guests\": 49}, {\"Total guests\": 52}, {\"Total guests\": 50}, {\"Total guests\": 53}, {\"Total guests\": 50}, {\"Total guests\": 50}, {\"Total guests\": 51}, {\"Total guests\": 53}, {\"Total guests\": 52}, {\"Total guests\": 47}, {\"Total guests\": 50}, {\"Total guests\": 47}, {\"Total guests\": 47}, {\"Total guests\": 49}, {\"Total guests\": 45}, {\"Total guests\": 58}, {\"Total guests\": 51}, {\"Total guests\": 43}, {\"Total guests\": 55}, {\"Total guests\": 47}, {\"Total guests\": 44}, {\"Total guests\": 49}, {\"Total guests\": 52}, {\"Total guests\": 54}, {\"Total guests\": 53}, {\"Total guests\": 57}, {\"Total guests\": 55}, {\"Total guests\": 49}, {\"Total guests\": 47}, {\"Total guests\": 43}, {\"Total guests\": 50}, {\"Total guests\": 47}, {\"Total guests\": 49}, {\"Total guests\": 48}, {\"Total guests\": 48}, {\"Total guests\": 46}, {\"Total guests\": 50}, {\"Total guests\": 49}, {\"Total guests\": 50}, {\"Total guests\": 51}, {\"Total guests\": 53}, {\"Total guests\": 46}, {\"Total guests\": 44}, {\"Total guests\": 45}, {\"Total guests\": 49}, {\"Total guests\": 49}, {\"Total guests\": 51}, {\"Total guests\": 48}, {\"Total guests\": 56}, {\"Total guests\": 48}, {\"Total guests\": 49}, {\"Total guests\": 49}, {\"Total guests\": 40}, {\"Total guests\": 54}, {\"Total guests\": 55}, {\"Total guests\": 52}, {\"Total guests\": 55}, {\"Total guests\": 51}, {\"Total guests\": 57}, {\"Total guests\": 44}, {\"Total guests\": 47}, {\"Total guests\": 54}, {\"Total guests\": 57}, {\"Total guests\": 50}, {\"Total guests\": 53}, {\"Total guests\": 49}, {\"Total guests\": 46}, {\"Total guests\": 49}, {\"Total guests\": 48}, {\"Total guests\": 41}, {\"Total guests\": 51}, {\"Total guests\": 42}, {\"Total guests\": 44}, {\"Total guests\": 54}, {\"Total guests\": 53}, {\"Total guests\": 55}, {\"Total guests\": 48}, {\"Total guests\": 50}, {\"Total guests\": 50}, {\"Total guests\": 50}, {\"Total guests\": 46}, {\"Total guests\": 47}, {\"Total guests\": 49}, {\"Total guests\": 48}, {\"Total guests\": 44}, {\"Total guests\": 49}, {\"Total guests\": 45}, {\"Total guests\": 47}, {\"Total guests\": 50}, {\"Total guests\": 49}, {\"Total guests\": 44}, {\"Total guests\": 43}, {\"Total guests\": 55}, {\"Total guests\": 55}, {\"Total guests\": 57}, {\"Total guests\": 47}, {\"Total guests\": 54}, {\"Total guests\": 54}, {\"Total guests\": 52}, {\"Total guests\": 54}, {\"Total guests\": 52}, {\"Total guests\": 46}, {\"Total guests\": 54}, {\"Total guests\": 47}, {\"Total guests\": 48}, {\"Total guests\": 46}, {\"Total guests\": 56}, {\"Total guests\": 49}, {\"Total guests\": 44}, {\"Total guests\": 48}, {\"Total guests\": 49}, {\"Total guests\": 54}, {\"Total guests\": 43}, {\"Total guests\": 48}, {\"Total guests\": 50}, {\"Total guests\": 46}, {\"Total guests\": 49}, {\"Total guests\": 49}, {\"Total guests\": 44}, {\"Total guests\": 52}, {\"Total guests\": 53}, {\"Total guests\": 52}, {\"Total guests\": 55}, {\"Total guests\": 51}, {\"Total guests\": 51}, {\"Total guests\": 49}, {\"Total guests\": 50}, {\"Total guests\": 46}, {\"Total guests\": 52}, {\"Total guests\": 43}, {\"Total guests\": 51}, {\"Total guests\": 47}, {\"Total guests\": 51}, {\"Total guests\": 56}, {\"Total guests\": 51}, {\"Total guests\": 50}, {\"Total guests\": 53}, {\"Total guests\": 45}, {\"Total guests\": 50}, {\"Total guests\": 51}, {\"Total guests\": 49}, {\"Total guests\": 57}, {\"Total guests\": 58}, {\"Total guests\": 50}, {\"Total guests\": 50}, {\"Total guests\": 49}, {\"Total guests\": 52}, {\"Total guests\": 42}, {\"Total guests\": 51}, {\"Total guests\": 49}, {\"Total guests\": 47}, {\"Total guests\": 54}, {\"Total guests\": 51}, {\"Total guests\": 48}, {\"Total guests\": 52}, {\"Total guests\": 53}, {\"Total guests\": 52}, {\"Total guests\": 49}, {\"Total guests\": 49}, {\"Total guests\": 55}, {\"Total guests\": 50}, {\"Total guests\": 49}, {\"Total guests\": 55}, {\"Total guests\": 52}, {\"Total guests\": 50}, {\"Total guests\": 54}, {\"Total guests\": 49}, {\"Total guests\": 54}, {\"Total guests\": 61}, {\"Total guests\": 45}, {\"Total guests\": 46}, {\"Total guests\": 45}, {\"Total guests\": 47}, {\"Total guests\": 37}, {\"Total guests\": 51}, {\"Total guests\": 50}, {\"Total guests\": 53}, {\"Total guests\": 54}, {\"Total guests\": 51}, {\"Total guests\": 48}, {\"Total guests\": 49}, {\"Total guests\": 51}, {\"Total guests\": 49}, {\"Total guests\": 55}, {\"Total guests\": 55}, {\"Total guests\": 44}, {\"Total guests\": 52}, {\"Total guests\": 48}, {\"Total guests\": 54}, {\"Total guests\": 51}, {\"Total guests\": 47}, {\"Total guests\": 45}, {\"Total guests\": 44}, {\"Total guests\": 50}, {\"Total guests\": 49}, {\"Total guests\": 50}, {\"Total guests\": 54}, {\"Total guests\": 58}, {\"Total guests\": 45}, {\"Total guests\": 43}, {\"Total guests\": 50}, {\"Total guests\": 54}, {\"Total guests\": 44}, {\"Total guests\": 57}, {\"Total guests\": 55}, {\"Total guests\": 45}, {\"Total guests\": 49}, {\"Total guests\": 50}, {\"Total guests\": 54}, {\"Total guests\": 42}, {\"Total guests\": 47}, {\"Total guests\": 57}, {\"Total guests\": 47}, {\"Total guests\": 44}, {\"Total guests\": 40}, {\"Total guests\": 43}, {\"Total guests\": 42}, {\"Total guests\": 54}, {\"Total guests\": 48}, {\"Total guests\": 60}, {\"Total guests\": 57}, {\"Total guests\": 49}, {\"Total guests\": 41}, {\"Total guests\": 49}, {\"Total guests\": 58}, {\"Total guests\": 52}, {\"Total guests\": 43}, {\"Total guests\": 42}, {\"Total guests\": 49}, {\"Total guests\": 51}, {\"Total guests\": 50}, {\"Total guests\": 50}, {\"Total guests\": 54}, {\"Total guests\": 46}, {\"Total guests\": 51}, {\"Total guests\": 55}, {\"Total guests\": 52}, {\"Total guests\": 52}, {\"Total guests\": 50}, {\"Total guests\": 52}, {\"Total guests\": 52}, {\"Total guests\": 48}, {\"Total guests\": 45}, {\"Total guests\": 49}, {\"Total guests\": 42}, {\"Total guests\": 44}, {\"Total guests\": 50}, {\"Total guests\": 51}, {\"Total guests\": 48}, {\"Total guests\": 50}, {\"Total guests\": 57}, {\"Total guests\": 52}, {\"Total guests\": 49}, {\"Total guests\": 47}, {\"Total guests\": 48}, {\"Total guests\": 51}, {\"Total guests\": 50}, {\"Total guests\": 53}, {\"Total guests\": 54}, {\"Total guests\": 57}, {\"Total guests\": 51}, {\"Total guests\": 43}, {\"Total guests\": 55}, {\"Total guests\": 51}, {\"Total guests\": 56}, {\"Total guests\": 54}, {\"Total guests\": 58}, {\"Total guests\": 50}, {\"Total guests\": 49}, {\"Total guests\": 53}, {\"Total guests\": 49}, {\"Total guests\": 52}, {\"Total guests\": 52}, {\"Total guests\": 53}, {\"Total guests\": 43}, {\"Total guests\": 49}, {\"Total guests\": 43}, {\"Total guests\": 52}, {\"Total guests\": 48}, {\"Total guests\": 51}, {\"Total guests\": 47}, {\"Total guests\": 46}, {\"Total guests\": 51}, {\"Total guests\": 51}, {\"Total guests\": 55}, {\"Total guests\": 50}, {\"Total guests\": 48}, {\"Total guests\": 51}, {\"Total guests\": 50}, {\"Total guests\": 52}, {\"Total guests\": 54}, {\"Total guests\": 49}, {\"Total guests\": 54}, {\"Total guests\": 51}, {\"Total guests\": 50}, {\"Total guests\": 47}, {\"Total guests\": 50}, {\"Total guests\": 46}, {\"Total guests\": 56}, {\"Total guests\": 45}, {\"Total guests\": 48}, {\"Total guests\": 58}, {\"Total guests\": 47}, {\"Total guests\": 49}, {\"Total guests\": 45}, {\"Total guests\": 49}, {\"Total guests\": 57}, {\"Total guests\": 51}, {\"Total guests\": 49}, {\"Total guests\": 52}, {\"Total guests\": 52}, {\"Total guests\": 52}, {\"Total guests\": 51}, {\"Total guests\": 49}, {\"Total guests\": 49}, {\"Total guests\": 55}, {\"Total guests\": 54}, {\"Total guests\": 53}, {\"Total guests\": 45}, {\"Total guests\": 51}, {\"Total guests\": 46}, {\"Total guests\": 49}, {\"Total guests\": 49}, {\"Total guests\": 53}, {\"Total guests\": 47}, {\"Total guests\": 50}, {\"Total guests\": 52}, {\"Total guests\": 52}, {\"Total guests\": 47}, {\"Total guests\": 48}, {\"Total guests\": 57}, {\"Total guests\": 47}, {\"Total guests\": 50}, {\"Total guests\": 50}, {\"Total guests\": 47}, {\"Total guests\": 51}, {\"Total guests\": 51}, {\"Total guests\": 50}, {\"Total guests\": 44}, {\"Total guests\": 49}, {\"Total guests\": 52}, {\"Total guests\": 49}, {\"Total guests\": 50}, {\"Total guests\": 48}, {\"Total guests\": 48}, {\"Total guests\": 53}, {\"Total guests\": 47}, {\"Total guests\": 48}, {\"Total guests\": 50}, {\"Total guests\": 53}, {\"Total guests\": 52}, {\"Total guests\": 51}, {\"Total guests\": 50}, {\"Total guests\": 53}, {\"Total guests\": 53}, {\"Total guests\": 47}, {\"Total guests\": 49}, {\"Total guests\": 52}, {\"Total guests\": 50}, {\"Total guests\": 53}, {\"Total guests\": 48}, {\"Total guests\": 45}, {\"Total guests\": 49}, {\"Total guests\": 50}, {\"Total guests\": 44}, {\"Total guests\": 54}, {\"Total guests\": 45}, {\"Total guests\": 53}, {\"Total guests\": 50}, {\"Total guests\": 49}, {\"Total guests\": 42}, {\"Total guests\": 52}, {\"Total guests\": 47}, {\"Total guests\": 48}, {\"Total guests\": 50}, {\"Total guests\": 54}, {\"Total guests\": 54}, {\"Total guests\": 50}, {\"Total guests\": 53}, {\"Total guests\": 49}, {\"Total guests\": 51}, {\"Total guests\": 63}, {\"Total guests\": 42}, {\"Total guests\": 51}, {\"Total guests\": 52}, {\"Total guests\": 48}, {\"Total guests\": 53}, {\"Total guests\": 52}, {\"Total guests\": 51}, {\"Total guests\": 49}, {\"Total guests\": 48}, {\"Total guests\": 49}, {\"Total guests\": 44}, {\"Total guests\": 52}, {\"Total guests\": 49}, {\"Total guests\": 50}, {\"Total guests\": 48}, {\"Total guests\": 59}, {\"Total guests\": 52}, {\"Total guests\": 52}, {\"Total guests\": 48}, {\"Total guests\": 46}, {\"Total guests\": 50}, {\"Total guests\": 55}, {\"Total guests\": 53}, {\"Total guests\": 50}, {\"Total guests\": 53}, {\"Total guests\": 49}, {\"Total guests\": 49}, {\"Total guests\": 53}, {\"Total guests\": 48}, {\"Total guests\": 49}, {\"Total guests\": 45}, {\"Total guests\": 49}, {\"Total guests\": 56}, {\"Total guests\": 50}, {\"Total guests\": 51}, {\"Total guests\": 52}, {\"Total guests\": 44}, {\"Total guests\": 56}, {\"Total guests\": 48}, {\"Total guests\": 51}, {\"Total guests\": 58}, {\"Total guests\": 48}, {\"Total guests\": 47}, {\"Total guests\": 47}, {\"Total guests\": 59}, {\"Total guests\": 51}, {\"Total guests\": 48}, {\"Total guests\": 48}, {\"Total guests\": 53}, {\"Total guests\": 49}, {\"Total guests\": 45}, {\"Total guests\": 52}, {\"Total guests\": 48}, {\"Total guests\": 48}, {\"Total guests\": 50}, {\"Total guests\": 45}, {\"Total guests\": 54}, {\"Total guests\": 47}, {\"Total guests\": 52}, {\"Total guests\": 49}, {\"Total guests\": 59}, {\"Total guests\": 51}, {\"Total guests\": 51}, {\"Total guests\": 53}, {\"Total guests\": 54}, {\"Total guests\": 50}, {\"Total guests\": 48}, {\"Total guests\": 49}, {\"Total guests\": 51}, {\"Total guests\": 53}, {\"Total guests\": 53}, {\"Total guests\": 49}, {\"Total guests\": 48}, {\"Total guests\": 48}, {\"Total guests\": 44}, {\"Total guests\": 44}, {\"Total guests\": 49}, {\"Total guests\": 47}, {\"Total guests\": 46}, {\"Total guests\": 58}, {\"Total guests\": 53}, {\"Total guests\": 45}, {\"Total guests\": 58}, {\"Total guests\": 48}, {\"Total guests\": 49}, {\"Total guests\": 45}, {\"Total guests\": 52}, {\"Total guests\": 52}, {\"Total guests\": 55}, {\"Total guests\": 48}, {\"Total guests\": 56}, {\"Total guests\": 56}, {\"Total guests\": 51}, {\"Total guests\": 53}, {\"Total guests\": 42}, {\"Total guests\": 50}, {\"Total guests\": 50}, {\"Total guests\": 55}, {\"Total guests\": 49}, {\"Total guests\": 48}, {\"Total guests\": 45}, {\"Total guests\": 49}, {\"Total guests\": 46}, {\"Total guests\": 47}, {\"Total guests\": 50}, {\"Total guests\": 45}, {\"Total guests\": 54}, {\"Total guests\": 49}, {\"Total guests\": 51}, {\"Total guests\": 49}, {\"Total guests\": 48}, {\"Total guests\": 52}, {\"Total guests\": 47}, {\"Total guests\": 52}, {\"Total guests\": 51}, {\"Total guests\": 49}, {\"Total guests\": 53}, {\"Total guests\": 41}, {\"Total guests\": 43}, {\"Total guests\": 53}, {\"Total guests\": 57}, {\"Total guests\": 49}, {\"Total guests\": 50}, {\"Total guests\": 52}, {\"Total guests\": 43}, {\"Total guests\": 44}, {\"Total guests\": 52}, {\"Total guests\": 57}, {\"Total guests\": 46}, {\"Total guests\": 49}, {\"Total guests\": 49}, {\"Total guests\": 47}, {\"Total guests\": 50}, {\"Total guests\": 43}, {\"Total guests\": 45}, {\"Total guests\": 53}, {\"Total guests\": 50}, {\"Total guests\": 52}, {\"Total guests\": 42}, {\"Total guests\": 52}, {\"Total guests\": 46}, {\"Total guests\": 51}, {\"Total guests\": 46}, {\"Total guests\": 53}, {\"Total guests\": 50}, {\"Total guests\": 51}, {\"Total guests\": 59}, {\"Total guests\": 50}, {\"Total guests\": 51}, {\"Total guests\": 52}, {\"Total guests\": 38}, {\"Total guests\": 50}, {\"Total guests\": 41}, {\"Total guests\": 48}, {\"Total guests\": 46}, {\"Total guests\": 56}, {\"Total guests\": 46}, {\"Total guests\": 47}, {\"Total guests\": 51}, {\"Total guests\": 47}, {\"Total guests\": 47}, {\"Total guests\": 45}, {\"Total guests\": 52}, {\"Total guests\": 55}, {\"Total guests\": 56}, {\"Total guests\": 47}, {\"Total guests\": 43}, {\"Total guests\": 49}, {\"Total guests\": 46}, {\"Total guests\": 45}, {\"Total guests\": 47}, {\"Total guests\": 50}, {\"Total guests\": 52}, {\"Total guests\": 50}, {\"Total guests\": 49}, {\"Total guests\": 48}, {\"Total guests\": 51}, {\"Total guests\": 32}, {\"Total guests\": 45}, {\"Total guests\": 49}, {\"Total guests\": 51}, {\"Total guests\": 48}, {\"Total guests\": 44}, {\"Total guests\": 49}, {\"Total guests\": 55}, {\"Total guests\": 44}, {\"Total guests\": 43}, {\"Total guests\": 46}, {\"Total guests\": 44}, {\"Total guests\": 42}, {\"Total guests\": 53}, {\"Total guests\": 50}, {\"Total guests\": 43}, {\"Total guests\": 50}, {\"Total guests\": 53}, {\"Total guests\": 57}, {\"Total guests\": 54}, {\"Total guests\": 49}, {\"Total guests\": 55}, {\"Total guests\": 51}, {\"Total guests\": 50}, {\"Total guests\": 55}, {\"Total guests\": 56}, {\"Total guests\": 41}, {\"Total guests\": 48}, {\"Total guests\": 55}, {\"Total guests\": 51}, {\"Total guests\": 50}, {\"Total guests\": 53}, {\"Total guests\": 49}, {\"Total guests\": 50}, {\"Total guests\": 44}, {\"Total guests\": 50}, {\"Total guests\": 55}, {\"Total guests\": 57}, {\"Total guests\": 51}, {\"Total guests\": 53}, {\"Total guests\": 55}, {\"Total guests\": 50}, {\"Total guests\": 49}, {\"Total guests\": 44}, {\"Total guests\": 55}, {\"Total guests\": 52}, {\"Total guests\": 49}, {\"Total guests\": 47}, {\"Total guests\": 49}, {\"Total guests\": 47}, {\"Total guests\": 54}, {\"Total guests\": 54}, {\"Total guests\": 52}, {\"Total guests\": 50}, {\"Total guests\": 48}, {\"Total guests\": 51}, {\"Total guests\": 52}, {\"Total guests\": 53}, {\"Total guests\": 46}, {\"Total guests\": 52}, {\"Total guests\": 55}, {\"Total guests\": 55}, {\"Total guests\": 49}, {\"Total guests\": 54}, {\"Total guests\": 56}, {\"Total guests\": 44}, {\"Total guests\": 49}, {\"Total guests\": 49}, {\"Total guests\": 49}, {\"Total guests\": 53}, {\"Total guests\": 48}, {\"Total guests\": 51}, {\"Total guests\": 44}, {\"Total guests\": 47}, {\"Total guests\": 45}, {\"Total guests\": 50}, {\"Total guests\": 46}, {\"Total guests\": 53}, {\"Total guests\": 46}, {\"Total guests\": 47}, {\"Total guests\": 49}, {\"Total guests\": 58}, {\"Total guests\": 47}, {\"Total guests\": 54}, {\"Total guests\": 48}, {\"Total guests\": 51}, {\"Total guests\": 57}, {\"Total guests\": 52}, {\"Total guests\": 53}, {\"Total guests\": 49}, {\"Total guests\": 46}, {\"Total guests\": 51}, {\"Total guests\": 51}, {\"Total guests\": 52}, {\"Total guests\": 48}, {\"Total guests\": 52}, {\"Total guests\": 53}, {\"Total guests\": 43}, {\"Total guests\": 51}, {\"Total guests\": 52}, {\"Total guests\": 50}, {\"Total guests\": 51}, {\"Total guests\": 49}, {\"Total guests\": 55}, {\"Total guests\": 48}, {\"Total guests\": 55}, {\"Total guests\": 53}, {\"Total guests\": 45}, {\"Total guests\": 53}, {\"Total guests\": 56}, {\"Total guests\": 52}, {\"Total guests\": 52}, {\"Total guests\": 50}, {\"Total guests\": 48}, {\"Total guests\": 51}, {\"Total guests\": 47}, {\"Total guests\": 51}, {\"Total guests\": 46}, {\"Total guests\": 57}, {\"Total guests\": 40}, {\"Total guests\": 57}, {\"Total guests\": 50}, {\"Total guests\": 51}, {\"Total guests\": 53}, {\"Total guests\": 46}, {\"Total guests\": 51}, {\"Total guests\": 48}, {\"Total guests\": 52}, {\"Total guests\": 55}, {\"Total guests\": 49}, {\"Total guests\": 51}, {\"Total guests\": 50}, {\"Total guests\": 50}, {\"Total guests\": 51}, {\"Total guests\": 51}, {\"Total guests\": 47}, {\"Total guests\": 46}, {\"Total guests\": 48}, {\"Total guests\": 49}, {\"Total guests\": 55}, {\"Total guests\": 58}, {\"Total guests\": 46}, {\"Total guests\": 47}, {\"Total guests\": 56}, {\"Total guests\": 53}, {\"Total guests\": 56}, {\"Total guests\": 49}, {\"Total guests\": 57}, {\"Total guests\": 47}, {\"Total guests\": 50}, {\"Total guests\": 49}, {\"Total guests\": 52}, {\"Total guests\": 48}, {\"Total guests\": 55}, {\"Total guests\": 50}, {\"Total guests\": 44}, {\"Total guests\": 55}, {\"Total guests\": 53}, {\"Total guests\": 37}, {\"Total guests\": 50}, {\"Total guests\": 50}, {\"Total guests\": 47}, {\"Total guests\": 48}, {\"Total guests\": 47}, {\"Total guests\": 53}, {\"Total guests\": 43}, {\"Total guests\": 50}, {\"Total guests\": 52}, {\"Total guests\": 52}, {\"Total guests\": 50}, {\"Total guests\": 49}, {\"Total guests\": 52}, {\"Total guests\": 49}, {\"Total guests\": 56}, {\"Total guests\": 56}, {\"Total guests\": 44}, {\"Total guests\": 53}, {\"Total guests\": 45}, {\"Total guests\": 50}, {\"Total guests\": 57}, {\"Total guests\": 44}, {\"Total guests\": 48}, {\"Total guests\": 53}, {\"Total guests\": 50}, {\"Total guests\": 52}, {\"Total guests\": 49}, {\"Total guests\": 46}, {\"Total guests\": 53}, {\"Total guests\": 48}, {\"Total guests\": 58}, {\"Total guests\": 48}, {\"Total guests\": 49}, {\"Total guests\": 52}, {\"Total guests\": 54}, {\"Total guests\": 51}, {\"Total guests\": 47}, {\"Total guests\": 49}, {\"Total guests\": 53}, {\"Total guests\": 39}, {\"Total guests\": 51}, {\"Total guests\": 48}, {\"Total guests\": 43}, {\"Total guests\": 40}, {\"Total guests\": 48}, {\"Total guests\": 51}, {\"Total guests\": 49}, {\"Total guests\": 52}, {\"Total guests\": 52}, {\"Total guests\": 51}, {\"Total guests\": 51}, {\"Total guests\": 50}, {\"Total guests\": 51}, {\"Total guests\": 51}, {\"Total guests\": 49}, {\"Total guests\": 46}, {\"Total guests\": 49}, {\"Total guests\": 54}, {\"Total guests\": 57}, {\"Total guests\": 52}, {\"Total guests\": 50}, {\"Total guests\": 52}, {\"Total guests\": 51}, {\"Total guests\": 52}, {\"Total guests\": 47}, {\"Total guests\": 46}, {\"Total guests\": 48}, {\"Total guests\": 56}, {\"Total guests\": 49}, {\"Total guests\": 51}, {\"Total guests\": 54}, {\"Total guests\": 48}, {\"Total guests\": 57}, {\"Total guests\": 46}, {\"Total guests\": 54}, {\"Total guests\": 44}, {\"Total guests\": 62}, {\"Total guests\": 45}, {\"Total guests\": 51}, {\"Total guests\": 45}, {\"Total guests\": 53}, {\"Total guests\": 55}, {\"Total guests\": 50}, {\"Total guests\": 48}, {\"Total guests\": 58}, {\"Total guests\": 57}, {\"Total guests\": 47}, {\"Total guests\": 44}, {\"Total guests\": 47}, {\"Total guests\": 46}, {\"Total guests\": 49}, {\"Total guests\": 47}, {\"Total guests\": 51}, {\"Total guests\": 49}, {\"Total guests\": 46}, {\"Total guests\": 44}, {\"Total guests\": 50}, {\"Total guests\": 48}, {\"Total guests\": 52}, {\"Total guests\": 52}, {\"Total guests\": 51}, {\"Total guests\": 49}, {\"Total guests\": 53}, {\"Total guests\": 56}, {\"Total guests\": 52}, {\"Total guests\": 50}, {\"Total guests\": 54}, {\"Total guests\": 45}, {\"Total guests\": 46}, {\"Total guests\": 50}, {\"Total guests\": 52}, {\"Total guests\": 52}, {\"Total guests\": 50}, {\"Total guests\": 55}, {\"Total guests\": 48}, {\"Total guests\": 51}, {\"Total guests\": 48}, {\"Total guests\": 49}, {\"Total guests\": 39}, {\"Total guests\": 42}, {\"Total guests\": 47}, {\"Total guests\": 50}, {\"Total guests\": 52}, {\"Total guests\": 48}, {\"Total guests\": 56}, {\"Total guests\": 51}, {\"Total guests\": 53}, {\"Total guests\": 51}, {\"Total guests\": 48}, {\"Total guests\": 49}, {\"Total guests\": 56}, {\"Total guests\": 49}, {\"Total guests\": 51}, {\"Total guests\": 44}, {\"Total guests\": 52}, {\"Total guests\": 47}, {\"Total guests\": 43}, {\"Total guests\": 52}, {\"Total guests\": 51}, {\"Total guests\": 57}, {\"Total guests\": 53}, {\"Total guests\": 50}, {\"Total guests\": 49}, {\"Total guests\": 50}, {\"Total guests\": 46}, {\"Total guests\": 52}, {\"Total guests\": 49}, {\"Total guests\": 48}, {\"Total guests\": 45}, {\"Total guests\": 46}, {\"Total guests\": 54}, {\"Total guests\": 51}, {\"Total guests\": 53}, {\"Total guests\": 52}, {\"Total guests\": 53}, {\"Total guests\": 51}, {\"Total guests\": 50}, {\"Total guests\": 53}, {\"Total guests\": 58}, {\"Total guests\": 44}, {\"Total guests\": 48}, {\"Total guests\": 50}, {\"Total guests\": 45}, {\"Total guests\": 48}, {\"Total guests\": 51}, {\"Total guests\": 50}, {\"Total guests\": 45}, {\"Total guests\": 43}, {\"Total guests\": 51}, {\"Total guests\": 58}, {\"Total guests\": 49}, {\"Total guests\": 48}, {\"Total guests\": 40}, {\"Total guests\": 47}, {\"Total guests\": 56}, {\"Total guests\": 49}, {\"Total guests\": 48}, {\"Total guests\": 50}, {\"Total guests\": 48}, {\"Total guests\": 49}, {\"Total guests\": 45}, {\"Total guests\": 46}, {\"Total guests\": 52}, {\"Total guests\": 48}, {\"Total guests\": 54}, {\"Total guests\": 53}, {\"Total guests\": 61}, {\"Total guests\": 54}, {\"Total guests\": 53}, {\"Total guests\": 52}, {\"Total guests\": 57}, {\"Total guests\": 48}, {\"Total guests\": 50}, {\"Total guests\": 50}, {\"Total guests\": 59}, {\"Total guests\": 49}, {\"Total guests\": 50}, {\"Total guests\": 49}, {\"Total guests\": 50}, {\"Total guests\": 47}, {\"Total guests\": 53}, {\"Total guests\": 51}, {\"Total guests\": 53}, {\"Total guests\": 50}, {\"Total guests\": 47}, {\"Total guests\": 52}, {\"Total guests\": 54}, {\"Total guests\": 50}, {\"Total guests\": 50}, {\"Total guests\": 57}, {\"Total guests\": 54}, {\"Total guests\": 48}, {\"Total guests\": 48}, {\"Total guests\": 49}, {\"Total guests\": 47}, {\"Total guests\": 50}, {\"Total guests\": 49}, {\"Total guests\": 50}, {\"Total guests\": 43}, {\"Total guests\": 46}, {\"Total guests\": 51}, {\"Total guests\": 53}, {\"Total guests\": 51}, {\"Total guests\": 53}, {\"Total guests\": 50}, {\"Total guests\": 49}, {\"Total guests\": 55}, {\"Total guests\": 51}, {\"Total guests\": 53}, {\"Total guests\": 46}, {\"Total guests\": 53}, {\"Total guests\": 50}, {\"Total guests\": 51}, {\"Total guests\": 49}, {\"Total guests\": 40}, {\"Total guests\": 44}, {\"Total guests\": 50}, {\"Total guests\": 51}, {\"Total guests\": 50}, {\"Total guests\": 59}, {\"Total guests\": 54}, {\"Total guests\": 53}, {\"Total guests\": 50}, {\"Total guests\": 56}, {\"Total guests\": 46}, {\"Total guests\": 51}, {\"Total guests\": 54}, {\"Total guests\": 49}, {\"Total guests\": 50}, {\"Total guests\": 47}, {\"Total guests\": 51}, {\"Total guests\": 50}, {\"Total guests\": 48}, {\"Total guests\": 52}, {\"Total guests\": 50}, {\"Total guests\": 50}, {\"Total guests\": 56}, {\"Total guests\": 53}, {\"Total guests\": 51}, {\"Total guests\": 51}, {\"Total guests\": 47}, {\"Total guests\": 49}, {\"Total guests\": 49}, {\"Total guests\": 52}, {\"Total guests\": 52}, {\"Total guests\": 49}, {\"Total guests\": 48}, {\"Total guests\": 52}, {\"Total guests\": 51}, {\"Total guests\": 48}, {\"Total guests\": 53}, {\"Total guests\": 49}, {\"Total guests\": 50}, {\"Total guests\": 56}, {\"Total guests\": 51}, {\"Total guests\": 56}, {\"Total guests\": 49}, {\"Total guests\": 48}, {\"Total guests\": 54}, {\"Total guests\": 52}, {\"Total guests\": 50}, {\"Total guests\": 44}, {\"Total guests\": 47}, {\"Total guests\": 44}, {\"Total guests\": 42}, {\"Total guests\": 48}, {\"Total guests\": 51}, {\"Total guests\": 53}, {\"Total guests\": 46}, {\"Total guests\": 63}, {\"Total guests\": 48}, {\"Total guests\": 57}, {\"Total guests\": 50}, {\"Total guests\": 45}, {\"Total guests\": 51}, {\"Total guests\": 47}, {\"Total guests\": 44}, {\"Total guests\": 49}, {\"Total guests\": 51}, {\"Total guests\": 48}, {\"Total guests\": 45}, {\"Total guests\": 51}, {\"Total guests\": 50}, {\"Total guests\": 54}, {\"Total guests\": 47}, {\"Total guests\": 50}, {\"Total guests\": 45}, {\"Total guests\": 52}, {\"Total guests\": 50}, {\"Total guests\": 49}, {\"Total guests\": 46}, {\"Total guests\": 44}, {\"Total guests\": 51}, {\"Total guests\": 49}, {\"Total guests\": 43}, {\"Total guests\": 43}, {\"Total guests\": 48}, {\"Total guests\": 50}, {\"Total guests\": 51}, {\"Total guests\": 47}, {\"Total guests\": 49}, {\"Total guests\": 56}, {\"Total guests\": 56}, {\"Total guests\": 51}, {\"Total guests\": 51}, {\"Total guests\": 43}, {\"Total guests\": 43}, {\"Total guests\": 53}, {\"Total guests\": 46}, {\"Total guests\": 47}, {\"Total guests\": 52}, {\"Total guests\": 58}, {\"Total guests\": 44}, {\"Total guests\": 42}, {\"Total guests\": 50}, {\"Total guests\": 47}, {\"Total guests\": 47}, {\"Total guests\": 50}, {\"Total guests\": 49}, {\"Total guests\": 53}, {\"Total guests\": 50}, {\"Total guests\": 54}, {\"Total guests\": 44}, {\"Total guests\": 49}, {\"Total guests\": 51}, {\"Total guests\": 55}, {\"Total guests\": 56}, {\"Total guests\": 53}, {\"Total guests\": 48}, {\"Total guests\": 53}, {\"Total guests\": 51}, {\"Total guests\": 48}, {\"Total guests\": 53}, {\"Total guests\": 48}, {\"Total guests\": 58}, {\"Total guests\": 52}, {\"Total guests\": 46}, {\"Total guests\": 50}, {\"Total guests\": 46}, {\"Total guests\": 47}, {\"Total guests\": 56}, {\"Total guests\": 52}, {\"Total guests\": 41}, {\"Total guests\": 50}, {\"Total guests\": 56}, {\"Total guests\": 48}, {\"Total guests\": 48}, {\"Total guests\": 50}, {\"Total guests\": 47}, {\"Total guests\": 54}, {\"Total guests\": 53}, {\"Total guests\": 51}, {\"Total guests\": 53}, {\"Total guests\": 53}, {\"Total guests\": 50}, {\"Total guests\": 47}, {\"Total guests\": 53}, {\"Total guests\": 50}, {\"Total guests\": 52}, {\"Total guests\": 48}, {\"Total guests\": 54}, {\"Total guests\": 50}, {\"Total guests\": 48}, {\"Total guests\": 51}, {\"Total guests\": 49}, {\"Total guests\": 47}, {\"Total guests\": 47}, {\"Total guests\": 50}, {\"Total guests\": 50}, {\"Total guests\": 48}, {\"Total guests\": 57}, {\"Total guests\": 50}, {\"Total guests\": 44}, {\"Total guests\": 56}, {\"Total guests\": 48}, {\"Total guests\": 44}, {\"Total guests\": 51}, {\"Total guests\": 42}, {\"Total guests\": 47}, {\"Total guests\": 47}, {\"Total guests\": 47}, {\"Total guests\": 49}, {\"Total guests\": 50}, {\"Total guests\": 57}, {\"Total guests\": 56}, {\"Total guests\": 48}, {\"Total guests\": 54}, {\"Total guests\": 51}, {\"Total guests\": 53}, {\"Total guests\": 51}, {\"Total guests\": 53}, {\"Total guests\": 53}, {\"Total guests\": 47}, {\"Total guests\": 47}, {\"Total guests\": 52}, {\"Total guests\": 51}, {\"Total guests\": 52}, {\"Total guests\": 50}, {\"Total guests\": 51}, {\"Total guests\": 57}, {\"Total guests\": 56}, {\"Total guests\": 53}, {\"Total guests\": 47}, {\"Total guests\": 51}, {\"Total guests\": 47}, {\"Total guests\": 48}, {\"Total guests\": 50}, {\"Total guests\": 41}, {\"Total guests\": 56}, {\"Total guests\": 59}, {\"Total guests\": 55}, {\"Total guests\": 50}, {\"Total guests\": 50}, {\"Total guests\": 51}, {\"Total guests\": 43}, {\"Total guests\": 49}, {\"Total guests\": 52}, {\"Total guests\": 50}, {\"Total guests\": 42}, {\"Total guests\": 49}, {\"Total guests\": 57}, {\"Total guests\": 58}, {\"Total guests\": 52}, {\"Total guests\": 54}, {\"Total guests\": 44}, {\"Total guests\": 52}, {\"Total guests\": 52}, {\"Total guests\": 47}, {\"Total guests\": 48}, {\"Total guests\": 52}, {\"Total guests\": 47}, {\"Total guests\": 55}, {\"Total guests\": 43}, {\"Total guests\": 45}, {\"Total guests\": 53}, {\"Total guests\": 51}, {\"Total guests\": 44}, {\"Total guests\": 56}, {\"Total guests\": 44}, {\"Total guests\": 50}, {\"Total guests\": 47}, {\"Total guests\": 53}, {\"Total guests\": 48}, {\"Total guests\": 49}, {\"Total guests\": 51}, {\"Total guests\": 47}, {\"Total guests\": 51}, {\"Total guests\": 49}, {\"Total guests\": 52}, {\"Total guests\": 43}, {\"Total guests\": 48}, {\"Total guests\": 59}, {\"Total guests\": 50}, {\"Total guests\": 43}, {\"Total guests\": 48}, {\"Total guests\": 53}, {\"Total guests\": 54}, {\"Total guests\": 53}, {\"Total guests\": 54}, {\"Total guests\": 50}, {\"Total guests\": 48}, {\"Total guests\": 52}, {\"Total guests\": 54}, {\"Total guests\": 49}, {\"Total guests\": 54}, {\"Total guests\": 49}, {\"Total guests\": 52}, {\"Total guests\": 46}, {\"Total guests\": 53}, {\"Total guests\": 48}, {\"Total guests\": 47}, {\"Total guests\": 47}, {\"Total guests\": 51}, {\"Total guests\": 50}, {\"Total guests\": 47}, {\"Total guests\": 49}, {\"Total guests\": 51}, {\"Total guests\": 49}, {\"Total guests\": 46}, {\"Total guests\": 45}, {\"Total guests\": 46}, {\"Total guests\": 48}, {\"Total guests\": 41}, {\"Total guests\": 49}, {\"Total guests\": 44}, {\"Total guests\": 53}, {\"Total guests\": 51}, {\"Total guests\": 48}, {\"Total guests\": 45}, {\"Total guests\": 50}, {\"Total guests\": 52}, {\"Total guests\": 50}, {\"Total guests\": 54}, {\"Total guests\": 51}, {\"Total guests\": 57}, {\"Total guests\": 51}, {\"Total guests\": 47}, {\"Total guests\": 53}, {\"Total guests\": 47}, {\"Total guests\": 49}, {\"Total guests\": 54}, {\"Total guests\": 51}, {\"Total guests\": 53}, {\"Total guests\": 53}, {\"Total guests\": 50}, {\"Total guests\": 43}, {\"Total guests\": 55}, {\"Total guests\": 46}, {\"Total guests\": 48}, {\"Total guests\": 55}, {\"Total guests\": 46}, {\"Total guests\": 50}, {\"Total guests\": 49}, {\"Total guests\": 57}, {\"Total guests\": 47}, {\"Total guests\": 48}, {\"Total guests\": 46}, {\"Total guests\": 50}, {\"Total guests\": 46}, {\"Total guests\": 54}, {\"Total guests\": 50}, {\"Total guests\": 52}, {\"Total guests\": 57}, {\"Total guests\": 44}, {\"Total guests\": 52}, {\"Total guests\": 54}, {\"Total guests\": 51}, {\"Total guests\": 49}, {\"Total guests\": 52}, {\"Total guests\": 53}, {\"Total guests\": 50}, {\"Total guests\": 54}, {\"Total guests\": 48}, {\"Total guests\": 58}, {\"Total guests\": 50}, {\"Total guests\": 52}, {\"Total guests\": 55}, {\"Total guests\": 53}, {\"Total guests\": 56}, {\"Total guests\": 48}, {\"Total guests\": 62}, {\"Total guests\": 43}, {\"Total guests\": 48}, {\"Total guests\": 46}, {\"Total guests\": 48}, {\"Total guests\": 45}, {\"Total guests\": 46}, {\"Total guests\": 53}, {\"Total guests\": 49}, {\"Total guests\": 49}, {\"Total guests\": 56}, {\"Total guests\": 50}, {\"Total guests\": 56}, {\"Total guests\": 52}, {\"Total guests\": 50}, {\"Total guests\": 45}, {\"Total guests\": 50}, {\"Total guests\": 51}, {\"Total guests\": 44}, {\"Total guests\": 54}, {\"Total guests\": 51}, {\"Total guests\": 51}, {\"Total guests\": 45}, {\"Total guests\": 50}, {\"Total guests\": 53}, {\"Total guests\": 49}, {\"Total guests\": 51}, {\"Total guests\": 52}, {\"Total guests\": 41}, {\"Total guests\": 52}, {\"Total guests\": 51}, {\"Total guests\": 47}, {\"Total guests\": 46}, {\"Total guests\": 46}, {\"Total guests\": 54}, {\"Total guests\": 52}, {\"Total guests\": 52}, {\"Total guests\": 50}, {\"Total guests\": 50}, {\"Total guests\": 46}, {\"Total guests\": 58}, {\"Total guests\": 54}, {\"Total guests\": 46}, {\"Total guests\": 57}, {\"Total guests\": 49}, {\"Total guests\": 53}, {\"Total guests\": 46}, {\"Total guests\": 47}, {\"Total guests\": 57}, {\"Total guests\": 48}, {\"Total guests\": 47}, {\"Total guests\": 46}, {\"Total guests\": 53}, {\"Total guests\": 49}, {\"Total guests\": 40}, {\"Total guests\": 50}, {\"Total guests\": 49}, {\"Total guests\": 44}, {\"Total guests\": 52}, {\"Total guests\": 51}, {\"Total guests\": 49}, {\"Total guests\": 51}, {\"Total guests\": 51}, {\"Total guests\": 46}, {\"Total guests\": 37}, {\"Total guests\": 55}, {\"Total guests\": 51}, {\"Total guests\": 51}, {\"Total guests\": 47}, {\"Total guests\": 50}, {\"Total guests\": 52}, {\"Total guests\": 54}, {\"Total guests\": 53}, {\"Total guests\": 47}, {\"Total guests\": 53}, {\"Total guests\": 47}, {\"Total guests\": 45}, {\"Total guests\": 40}, {\"Total guests\": 51}, {\"Total guests\": 51}, {\"Total guests\": 50}, {\"Total guests\": 54}, {\"Total guests\": 46}, {\"Total guests\": 40}, {\"Total guests\": 53}, {\"Total guests\": 47}, {\"Total guests\": 52}, {\"Total guests\": 49}, {\"Total guests\": 54}, {\"Total guests\": 51}, {\"Total guests\": 52}, {\"Total guests\": 55}, {\"Total guests\": 51}, {\"Total guests\": 55}, {\"Total guests\": 50}, {\"Total guests\": 48}, {\"Total guests\": 44}, {\"Total guests\": 49}, {\"Total guests\": 52}, {\"Total guests\": 47}, {\"Total guests\": 49}, {\"Total guests\": 49}, {\"Total guests\": 49}, {\"Total guests\": 49}, {\"Total guests\": 46}, {\"Total guests\": 44}, {\"Total guests\": 57}, {\"Total guests\": 48}, {\"Total guests\": 42}, {\"Total guests\": 52}, {\"Total guests\": 48}, {\"Total guests\": 53}, {\"Total guests\": 47}, {\"Total guests\": 47}, {\"Total guests\": 53}, {\"Total guests\": 55}, {\"Total guests\": 54}, {\"Total guests\": 50}, {\"Total guests\": 56}, {\"Total guests\": 50}, {\"Total guests\": 48}, {\"Total guests\": 43}, {\"Total guests\": 53}, {\"Total guests\": 51}, {\"Total guests\": 52}, {\"Total guests\": 51}, {\"Total guests\": 50}, {\"Total guests\": 47}, {\"Total guests\": 59}, {\"Total guests\": 40}, {\"Total guests\": 47}, {\"Total guests\": 56}, {\"Total guests\": 53}, {\"Total guests\": 55}, {\"Total guests\": 51}, {\"Total guests\": 52}, {\"Total guests\": 51}, {\"Total guests\": 50}, {\"Total guests\": 51}, {\"Total guests\": 52}, {\"Total guests\": 48}, {\"Total guests\": 48}, {\"Total guests\": 49}, {\"Total guests\": 47}, {\"Total guests\": 57}, {\"Total guests\": 52}, {\"Total guests\": 53}, {\"Total guests\": 49}, {\"Total guests\": 52}, {\"Total guests\": 50}, {\"Total guests\": 50}, {\"Total guests\": 49}, {\"Total guests\": 52}, {\"Total guests\": 47}, {\"Total guests\": 53}, {\"Total guests\": 55}, {\"Total guests\": 39}, {\"Total guests\": 51}, {\"Total guests\": 52}, {\"Total guests\": 45}, {\"Total guests\": 51}, {\"Total guests\": 56}, {\"Total guests\": 53}, {\"Total guests\": 48}, {\"Total guests\": 52}, {\"Total guests\": 40}, {\"Total guests\": 36}, {\"Total guests\": 48}, {\"Total guests\": 47}, {\"Total guests\": 54}, {\"Total guests\": 53}, {\"Total guests\": 48}, {\"Total guests\": 47}, {\"Total guests\": 53}, {\"Total guests\": 59}, {\"Total guests\": 46}, {\"Total guests\": 49}, {\"Total guests\": 50}, {\"Total guests\": 57}, {\"Total guests\": 44}, {\"Total guests\": 53}, {\"Total guests\": 52}, {\"Total guests\": 58}, {\"Total guests\": 48}, {\"Total guests\": 53}, {\"Total guests\": 49}, {\"Total guests\": 47}, {\"Total guests\": 46}, {\"Total guests\": 52}, {\"Total guests\": 46}, {\"Total guests\": 42}, {\"Total guests\": 58}, {\"Total guests\": 48}, {\"Total guests\": 56}, {\"Total guests\": 47}, {\"Total guests\": 45}, {\"Total guests\": 55}, {\"Total guests\": 48}, {\"Total guests\": 64}, {\"Total guests\": 56}, {\"Total guests\": 53}, {\"Total guests\": 46}, {\"Total guests\": 53}, {\"Total guests\": 51}, {\"Total guests\": 59}, {\"Total guests\": 54}, {\"Total guests\": 45}, {\"Total guests\": 49}, {\"Total guests\": 47}, {\"Total guests\": 51}, {\"Total guests\": 52}, {\"Total guests\": 48}, {\"Total guests\": 41}, {\"Total guests\": 53}, {\"Total guests\": 41}, {\"Total guests\": 45}, {\"Total guests\": 53}, {\"Total guests\": 49}, {\"Total guests\": 43}, {\"Total guests\": 56}, {\"Total guests\": 53}, {\"Total guests\": 58}, {\"Total guests\": 51}, {\"Total guests\": 44}, {\"Total guests\": 50}, {\"Total guests\": 50}, {\"Total guests\": 52}, {\"Total guests\": 44}, {\"Total guests\": 50}, {\"Total guests\": 46}, {\"Total guests\": 52}, {\"Total guests\": 51}, {\"Total guests\": 48}, {\"Total guests\": 53}, {\"Total guests\": 45}, {\"Total guests\": 48}, {\"Total guests\": 54}, {\"Total guests\": 50}, {\"Total guests\": 46}, {\"Total guests\": 49}, {\"Total guests\": 47}, {\"Total guests\": 48}, {\"Total guests\": 56}, {\"Total guests\": 48}, {\"Total guests\": 55}, {\"Total guests\": 48}, {\"Total guests\": 47}, {\"Total guests\": 57}, {\"Total guests\": 46}, {\"Total guests\": 49}, {\"Total guests\": 53}, {\"Total guests\": 49}, {\"Total guests\": 46}, {\"Total guests\": 48}, {\"Total guests\": 54}, {\"Total guests\": 54}, {\"Total guests\": 44}, {\"Total guests\": 46}, {\"Total guests\": 43}, {\"Total guests\": 46}, {\"Total guests\": 48}, {\"Total guests\": 51}, {\"Total guests\": 52}, {\"Total guests\": 44}, {\"Total guests\": 54}, {\"Total guests\": 47}, {\"Total guests\": 47}, {\"Total guests\": 50}, {\"Total guests\": 53}, {\"Total guests\": 48}, {\"Total guests\": 44}, {\"Total guests\": 47}, {\"Total guests\": 48}, {\"Total guests\": 47}, {\"Total guests\": 54}, {\"Total guests\": 55}, {\"Total guests\": 49}, {\"Total guests\": 44}, {\"Total guests\": 51}, {\"Total guests\": 51}, {\"Total guests\": 51}, {\"Total guests\": 44}, {\"Total guests\": 48}, {\"Total guests\": 56}, {\"Total guests\": 51}, {\"Total guests\": 47}, {\"Total guests\": 51}, {\"Total guests\": 45}, {\"Total guests\": 45}, {\"Total guests\": 54}, {\"Total guests\": 51}, {\"Total guests\": 49}, {\"Total guests\": 45}, {\"Total guests\": 53}, {\"Total guests\": 50}, {\"Total guests\": 51}, {\"Total guests\": 52}, {\"Total guests\": 49}, {\"Total guests\": 52}, {\"Total guests\": 44}, {\"Total guests\": 48}, {\"Total guests\": 48}, {\"Total guests\": 49}, {\"Total guests\": 50}, {\"Total guests\": 49}, {\"Total guests\": 58}, {\"Total guests\": 51}, {\"Total guests\": 50}, {\"Total guests\": 46}, {\"Total guests\": 50}, {\"Total guests\": 48}, {\"Total guests\": 54}, {\"Total guests\": 43}, {\"Total guests\": 51}, {\"Total guests\": 58}, {\"Total guests\": 44}, {\"Total guests\": 50}, {\"Total guests\": 52}, {\"Total guests\": 43}, {\"Total guests\": 47}, {\"Total guests\": 55}, {\"Total guests\": 55}, {\"Total guests\": 50}, {\"Total guests\": 44}, {\"Total guests\": 53}, {\"Total guests\": 48}, {\"Total guests\": 53}, {\"Total guests\": 51}, {\"Total guests\": 47}, {\"Total guests\": 52}, {\"Total guests\": 48}, {\"Total guests\": 41}, {\"Total guests\": 52}, {\"Total guests\": 54}, {\"Total guests\": 49}, {\"Total guests\": 47}, {\"Total guests\": 46}, {\"Total guests\": 52}, {\"Total guests\": 50}, {\"Total guests\": 44}, {\"Total guests\": 57}, {\"Total guests\": 47}, {\"Total guests\": 41}, {\"Total guests\": 51}, {\"Total guests\": 52}, {\"Total guests\": 48}, {\"Total guests\": 44}, {\"Total guests\": 55}, {\"Total guests\": 58}, {\"Total guests\": 53}, {\"Total guests\": 58}, {\"Total guests\": 56}, {\"Total guests\": 56}, {\"Total guests\": 53}, {\"Total guests\": 56}, {\"Total guests\": 50}, {\"Total guests\": 50}, {\"Total guests\": 47}, {\"Total guests\": 55}, {\"Total guests\": 48}, {\"Total guests\": 55}, {\"Total guests\": 48}, {\"Total guests\": 50}, {\"Total guests\": 51}, {\"Total guests\": 52}, {\"Total guests\": 47}, {\"Total guests\": 48}, {\"Total guests\": 47}, {\"Total guests\": 50}, {\"Total guests\": 45}, {\"Total guests\": 50}, {\"Total guests\": 46}, {\"Total guests\": 49}, {\"Total guests\": 53}, {\"Total guests\": 49}, {\"Total guests\": 49}, {\"Total guests\": 50}, {\"Total guests\": 54}, {\"Total guests\": 48}, {\"Total guests\": 53}, {\"Total guests\": 52}, {\"Total guests\": 49}, {\"Total guests\": 46}, {\"Total guests\": 48}, {\"Total guests\": 49}, {\"Total guests\": 53}, {\"Total guests\": 45}, {\"Total guests\": 43}, {\"Total guests\": 55}, {\"Total guests\": 55}, {\"Total guests\": 52}, {\"Total guests\": 47}, {\"Total guests\": 50}, {\"Total guests\": 48}, {\"Total guests\": 43}, {\"Total guests\": 49}, {\"Total guests\": 47}, {\"Total guests\": 54}, {\"Total guests\": 51}, {\"Total guests\": 44}, {\"Total guests\": 44}, {\"Total guests\": 50}, {\"Total guests\": 40}, {\"Total guests\": 47}, {\"Total guests\": 48}, {\"Total guests\": 52}, {\"Total guests\": 50}, {\"Total guests\": 44}, {\"Total guests\": 39}, {\"Total guests\": 45}, {\"Total guests\": 45}, {\"Total guests\": 47}, {\"Total guests\": 49}, {\"Total guests\": 46}, {\"Total guests\": 53}, {\"Total guests\": 49}, {\"Total guests\": 44}, {\"Total guests\": 59}, {\"Total guests\": 49}, {\"Total guests\": 43}, {\"Total guests\": 54}, {\"Total guests\": 47}, {\"Total guests\": 47}, {\"Total guests\": 54}, {\"Total guests\": 46}, {\"Total guests\": 57}, {\"Total guests\": 50}, {\"Total guests\": 54}, {\"Total guests\": 51}, {\"Total guests\": 53}, {\"Total guests\": 53}, {\"Total guests\": 42}, {\"Total guests\": 53}, {\"Total guests\": 49}, {\"Total guests\": 43}, {\"Total guests\": 43}, {\"Total guests\": 53}, {\"Total guests\": 48}, {\"Total guests\": 54}, {\"Total guests\": 54}, {\"Total guests\": 47}, {\"Total guests\": 48}, {\"Total guests\": 46}, {\"Total guests\": 52}, {\"Total guests\": 50}, {\"Total guests\": 51}, {\"Total guests\": 51}, {\"Total guests\": 43}, {\"Total guests\": 52}, {\"Total guests\": 49}, {\"Total guests\": 50}, {\"Total guests\": 50}, {\"Total guests\": 44}, {\"Total guests\": 53}, {\"Total guests\": 53}, {\"Total guests\": 53}, {\"Total guests\": 55}, {\"Total guests\": 49}, {\"Total guests\": 48}, {\"Total guests\": 51}, {\"Total guests\": 51}, {\"Total guests\": 57}, {\"Total guests\": 47}, {\"Total guests\": 49}, {\"Total guests\": 53}, {\"Total guests\": 42}, {\"Total guests\": 58}, {\"Total guests\": 48}, {\"Total guests\": 48}, {\"Total guests\": 50}, {\"Total guests\": 47}, {\"Total guests\": 41}, {\"Total guests\": 47}, {\"Total guests\": 53}, {\"Total guests\": 59}, {\"Total guests\": 60}, {\"Total guests\": 53}, {\"Total guests\": 47}, {\"Total guests\": 51}, {\"Total guests\": 55}, {\"Total guests\": 51}, {\"Total guests\": 53}, {\"Total guests\": 52}, {\"Total guests\": 45}, {\"Total guests\": 50}, {\"Total guests\": 49}, {\"Total guests\": 52}, {\"Total guests\": 54}, {\"Total guests\": 48}, {\"Total guests\": 47}, {\"Total guests\": 50}, {\"Total guests\": 52}, {\"Total guests\": 50}, {\"Total guests\": 58}, {\"Total guests\": 48}, {\"Total guests\": 51}, {\"Total guests\": 51}, {\"Total guests\": 55}, {\"Total guests\": 51}, {\"Total guests\": 50}, {\"Total guests\": 49}, {\"Total guests\": 55}, {\"Total guests\": 54}, {\"Total guests\": 52}, {\"Total guests\": 57}, {\"Total guests\": 49}, {\"Total guests\": 47}, {\"Total guests\": 46}, {\"Total guests\": 50}, {\"Total guests\": 50}, {\"Total guests\": 47}, {\"Total guests\": 47}, {\"Total guests\": 49}, {\"Total guests\": 50}, {\"Total guests\": 57}, {\"Total guests\": 51}, {\"Total guests\": 47}, {\"Total guests\": 49}, {\"Total guests\": 52}, {\"Total guests\": 53}, {\"Total guests\": 47}, {\"Total guests\": 51}, {\"Total guests\": 55}, {\"Total guests\": 46}, {\"Total guests\": 57}, {\"Total guests\": 42}, {\"Total guests\": 52}, {\"Total guests\": 48}, {\"Total guests\": 56}, {\"Total guests\": 48}, {\"Total guests\": 56}, {\"Total guests\": 44}, {\"Total guests\": 53}, {\"Total guests\": 56}, {\"Total guests\": 46}, {\"Total guests\": 52}, {\"Total guests\": 44}, {\"Total guests\": 48}, {\"Total guests\": 52}, {\"Total guests\": 52}, {\"Total guests\": 50}, {\"Total guests\": 50}, {\"Total guests\": 51}, {\"Total guests\": 53}, {\"Total guests\": 48}, {\"Total guests\": 52}, {\"Total guests\": 46}, {\"Total guests\": 44}, {\"Total guests\": 50}, {\"Total guests\": 46}, {\"Total guests\": 54}, {\"Total guests\": 58}, {\"Total guests\": 43}, {\"Total guests\": 49}, {\"Total guests\": 41}, {\"Total guests\": 55}, {\"Total guests\": 54}, {\"Total guests\": 49}, {\"Total guests\": 50}, {\"Total guests\": 52}, {\"Total guests\": 41}, {\"Total guests\": 45}, {\"Total guests\": 47}, {\"Total guests\": 57}, {\"Total guests\": 41}, {\"Total guests\": 44}, {\"Total guests\": 56}, {\"Total guests\": 54}, {\"Total guests\": 50}, {\"Total guests\": 48}, {\"Total guests\": 47}, {\"Total guests\": 53}, {\"Total guests\": 51}, {\"Total guests\": 44}, {\"Total guests\": 49}, {\"Total guests\": 54}, {\"Total guests\": 48}, {\"Total guests\": 53}, {\"Total guests\": 56}, {\"Total guests\": 54}, {\"Total guests\": 50}, {\"Total guests\": 53}, {\"Total guests\": 45}, {\"Total guests\": 49}, {\"Total guests\": 53}, {\"Total guests\": 48}, {\"Total guests\": 50}, {\"Total guests\": 50}, {\"Total guests\": 47}, {\"Total guests\": 50}, {\"Total guests\": 51}, {\"Total guests\": 42}, {\"Total guests\": 53}, {\"Total guests\": 47}, {\"Total guests\": 47}, {\"Total guests\": 48}, {\"Total guests\": 38}, {\"Total guests\": 49}, {\"Total guests\": 53}, {\"Total guests\": 51}, {\"Total guests\": 52}, {\"Total guests\": 50}, {\"Total guests\": 54}, {\"Total guests\": 50}, {\"Total guests\": 47}, {\"Total guests\": 60}, {\"Total guests\": 47}, {\"Total guests\": 47}, {\"Total guests\": 57}, {\"Total guests\": 47}, {\"Total guests\": 51}, {\"Total guests\": 53}, {\"Total guests\": 45}, {\"Total guests\": 47}, {\"Total guests\": 42}, {\"Total guests\": 45}, {\"Total guests\": 56}, {\"Total guests\": 48}, {\"Total guests\": 53}, {\"Total guests\": 58}, {\"Total guests\": 49}, {\"Total guests\": 52}, {\"Total guests\": 44}, {\"Total guests\": 57}, {\"Total guests\": 53}, {\"Total guests\": 57}, {\"Total guests\": 50}, {\"Total guests\": 49}, {\"Total guests\": 50}, {\"Total guests\": 47}, {\"Total guests\": 52}, {\"Total guests\": 49}, {\"Total guests\": 48}, {\"Total guests\": 53}, {\"Total guests\": 50}, {\"Total guests\": 59}, {\"Total guests\": 47}, {\"Total guests\": 53}, {\"Total guests\": 44}, {\"Total guests\": 54}, {\"Total guests\": 52}, {\"Total guests\": 54}, {\"Total guests\": 49}, {\"Total guests\": 46}, {\"Total guests\": 52}, {\"Total guests\": 53}, {\"Total guests\": 50}, {\"Total guests\": 53}, {\"Total guests\": 52}, {\"Total guests\": 57}, {\"Total guests\": 48}, {\"Total guests\": 52}, {\"Total guests\": 48}, {\"Total guests\": 43}, {\"Total guests\": 62}, {\"Total guests\": 41}, {\"Total guests\": 48}, {\"Total guests\": 51}, {\"Total guests\": 44}, {\"Total guests\": 47}, {\"Total guests\": 54}, {\"Total guests\": 54}, {\"Total guests\": 57}, {\"Total guests\": 50}, {\"Total guests\": 45}, {\"Total guests\": 43}, {\"Total guests\": 53}, {\"Total guests\": 50}, {\"Total guests\": 51}, {\"Total guests\": 49}, {\"Total guests\": 50}, {\"Total guests\": 52}, {\"Total guests\": 56}, {\"Total guests\": 55}, {\"Total guests\": 55}, {\"Total guests\": 41}, {\"Total guests\": 46}, {\"Total guests\": 49}, {\"Total guests\": 55}, {\"Total guests\": 52}, {\"Total guests\": 55}, {\"Total guests\": 56}, {\"Total guests\": 50}, {\"Total guests\": 52}, {\"Total guests\": 49}, {\"Total guests\": 44}, {\"Total guests\": 49}, {\"Total guests\": 53}, {\"Total guests\": 48}, {\"Total guests\": 44}, {\"Total guests\": 56}, {\"Total guests\": 43}, {\"Total guests\": 48}, {\"Total guests\": 52}, {\"Total guests\": 51}, {\"Total guests\": 55}, {\"Total guests\": 41}, {\"Total guests\": 51}, {\"Total guests\": 56}, {\"Total guests\": 50}, {\"Total guests\": 47}, {\"Total guests\": 44}, {\"Total guests\": 48}, {\"Total guests\": 44}, {\"Total guests\": 47}, {\"Total guests\": 46}, {\"Total guests\": 55}, {\"Total guests\": 50}, {\"Total guests\": 47}, {\"Total guests\": 47}, {\"Total guests\": 50}, {\"Total guests\": 50}, {\"Total guests\": 47}, {\"Total guests\": 47}, {\"Total guests\": 51}, {\"Total guests\": 50}, {\"Total guests\": 46}, {\"Total guests\": 56}, {\"Total guests\": 40}, {\"Total guests\": 51}, {\"Total guests\": 51}, {\"Total guests\": 49}, {\"Total guests\": 48}, {\"Total guests\": 51}, {\"Total guests\": 59}, {\"Total guests\": 49}, {\"Total guests\": 52}, {\"Total guests\": 45}, {\"Total guests\": 52}, {\"Total guests\": 51}, {\"Total guests\": 49}, {\"Total guests\": 46}, {\"Total guests\": 47}, {\"Total guests\": 51}, {\"Total guests\": 51}, {\"Total guests\": 45}, {\"Total guests\": 48}, {\"Total guests\": 43}, {\"Total guests\": 53}, {\"Total guests\": 47}, {\"Total guests\": 47}, {\"Total guests\": 52}, {\"Total guests\": 51}, {\"Total guests\": 52}, {\"Total guests\": 50}, {\"Total guests\": 50}, {\"Total guests\": 43}, {\"Total guests\": 48}, {\"Total guests\": 52}, {\"Total guests\": 48}, {\"Total guests\": 45}, {\"Total guests\": 45}, {\"Total guests\": 48}, {\"Total guests\": 53}, {\"Total guests\": 52}, {\"Total guests\": 51}, {\"Total guests\": 40}, {\"Total guests\": 49}, {\"Total guests\": 47}, {\"Total guests\": 43}, {\"Total guests\": 49}, {\"Total guests\": 43}, {\"Total guests\": 51}, {\"Total guests\": 43}, {\"Total guests\": 48}, {\"Total guests\": 54}, {\"Total guests\": 46}, {\"Total guests\": 49}, {\"Total guests\": 53}, {\"Total guests\": 48}, {\"Total guests\": 52}, {\"Total guests\": 53}, {\"Total guests\": 57}, {\"Total guests\": 45}, {\"Total guests\": 48}, {\"Total guests\": 48}, {\"Total guests\": 54}, {\"Total guests\": 45}, {\"Total guests\": 56}, {\"Total guests\": 47}, {\"Total guests\": 52}, {\"Total guests\": 50}, {\"Total guests\": 54}, {\"Total guests\": 50}, {\"Total guests\": 48}, {\"Total guests\": 45}, {\"Total guests\": 51}, {\"Total guests\": 50}, {\"Total guests\": 48}, {\"Total guests\": 50}, {\"Total guests\": 53}, {\"Total guests\": 48}, {\"Total guests\": 49}, {\"Total guests\": 52}, {\"Total guests\": 51}, {\"Total guests\": 52}, {\"Total guests\": 50}, {\"Total guests\": 47}, {\"Total guests\": 55}, {\"Total guests\": 46}, {\"Total guests\": 52}, {\"Total guests\": 57}, {\"Total guests\": 52}, {\"Total guests\": 50}, {\"Total guests\": 52}, {\"Total guests\": 51}, {\"Total guests\": 54}, {\"Total guests\": 48}, {\"Total guests\": 55}, {\"Total guests\": 55}, {\"Total guests\": 52}, {\"Total guests\": 50}, {\"Total guests\": 46}, {\"Total guests\": 50}, {\"Total guests\": 51}, {\"Total guests\": 50}, {\"Total guests\": 59}, {\"Total guests\": 52}, {\"Total guests\": 53}, {\"Total guests\": 46}, {\"Total guests\": 49}, {\"Total guests\": 52}, {\"Total guests\": 53}, {\"Total guests\": 54}, {\"Total guests\": 51}, {\"Total guests\": 49}, {\"Total guests\": 51}, {\"Total guests\": 49}, {\"Total guests\": 55}, {\"Total guests\": 41}, {\"Total guests\": 51}, {\"Total guests\": 63}, {\"Total guests\": 53}, {\"Total guests\": 46}, {\"Total guests\": 44}, {\"Total guests\": 45}, {\"Total guests\": 45}, {\"Total guests\": 54}, {\"Total guests\": 51}, {\"Total guests\": 45}, {\"Total guests\": 54}, {\"Total guests\": 49}, {\"Total guests\": 45}, {\"Total guests\": 56}, {\"Total guests\": 50}, {\"Total guests\": 54}, {\"Total guests\": 47}, {\"Total guests\": 42}, {\"Total guests\": 43}, {\"Total guests\": 48}, {\"Total guests\": 53}, {\"Total guests\": 46}, {\"Total guests\": 49}, {\"Total guests\": 54}, {\"Total guests\": 47}, {\"Total guests\": 49}, {\"Total guests\": 57}, {\"Total guests\": 53}, {\"Total guests\": 49}, {\"Total guests\": 44}, {\"Total guests\": 57}, {\"Total guests\": 51}, {\"Total guests\": 45}, {\"Total guests\": 54}, {\"Total guests\": 52}, {\"Total guests\": 52}, {\"Total guests\": 49}, {\"Total guests\": 51}, {\"Total guests\": 47}, {\"Total guests\": 42}, {\"Total guests\": 55}, {\"Total guests\": 57}, {\"Total guests\": 50}, {\"Total guests\": 55}, {\"Total guests\": 49}, {\"Total guests\": 45}, {\"Total guests\": 53}, {\"Total guests\": 51}, {\"Total guests\": 40}, {\"Total guests\": 50}, {\"Total guests\": 49}, {\"Total guests\": 48}, {\"Total guests\": 44}, {\"Total guests\": 47}, {\"Total guests\": 47}, {\"Total guests\": 49}, {\"Total guests\": 58}, {\"Total guests\": 53}, {\"Total guests\": 46}, {\"Total guests\": 53}, {\"Total guests\": 44}, {\"Total guests\": 40}, {\"Total guests\": 55}, {\"Total guests\": 46}, {\"Total guests\": 56}, {\"Total guests\": 55}, {\"Total guests\": 49}, {\"Total guests\": 42}, {\"Total guests\": 55}, {\"Total guests\": 50}, {\"Total guests\": 53}, {\"Total guests\": 46}, {\"Total guests\": 48}, {\"Total guests\": 52}, {\"Total guests\": 55}, {\"Total guests\": 49}, {\"Total guests\": 46}, {\"Total guests\": 57}, {\"Total guests\": 45}, {\"Total guests\": 55}, {\"Total guests\": 43}, {\"Total guests\": 58}, {\"Total guests\": 52}, {\"Total guests\": 50}, {\"Total guests\": 41}, {\"Total guests\": 52}, {\"Total guests\": 52}, {\"Total guests\": 50}, {\"Total guests\": 51}, {\"Total guests\": 51}, {\"Total guests\": 49}, {\"Total guests\": 50}, {\"Total guests\": 51}, {\"Total guests\": 55}, {\"Total guests\": 46}, {\"Total guests\": 56}, {\"Total guests\": 53}, {\"Total guests\": 49}, {\"Total guests\": 53}, {\"Total guests\": 50}, {\"Total guests\": 47}, {\"Total guests\": 53}, {\"Total guests\": 47}, {\"Total guests\": 54}, {\"Total guests\": 55}, {\"Total guests\": 54}, {\"Total guests\": 52}, {\"Total guests\": 46}, {\"Total guests\": 49}, {\"Total guests\": 54}, {\"Total guests\": 52}, {\"Total guests\": 52}, {\"Total guests\": 60}, {\"Total guests\": 50}, {\"Total guests\": 56}, {\"Total guests\": 52}, {\"Total guests\": 61}, {\"Total guests\": 44}, {\"Total guests\": 50}, {\"Total guests\": 46}, {\"Total guests\": 49}, {\"Total guests\": 50}, {\"Total guests\": 47}, {\"Total guests\": 48}, {\"Total guests\": 51}, {\"Total guests\": 44}, {\"Total guests\": 50}, {\"Total guests\": 54}, {\"Total guests\": 48}, {\"Total guests\": 40}, {\"Total guests\": 53}, {\"Total guests\": 43}, {\"Total guests\": 46}, {\"Total guests\": 48}, {\"Total guests\": 48}, {\"Total guests\": 45}, {\"Total guests\": 53}, {\"Total guests\": 56}, {\"Total guests\": 57}, {\"Total guests\": 52}, {\"Total guests\": 54}, {\"Total guests\": 55}, {\"Total guests\": 55}, {\"Total guests\": 49}, {\"Total guests\": 49}, {\"Total guests\": 48}, {\"Total guests\": 48}, {\"Total guests\": 44}, {\"Total guests\": 54}, {\"Total guests\": 48}, {\"Total guests\": 48}, {\"Total guests\": 49}, {\"Total guests\": 46}, {\"Total guests\": 51}, {\"Total guests\": 56}, {\"Total guests\": 48}, {\"Total guests\": 54}, {\"Total guests\": 47}, {\"Total guests\": 52}, {\"Total guests\": 53}, {\"Total guests\": 48}, {\"Total guests\": 51}, {\"Total guests\": 49}, {\"Total guests\": 46}, {\"Total guests\": 47}, {\"Total guests\": 54}, {\"Total guests\": 56}, {\"Total guests\": 49}, {\"Total guests\": 43}, {\"Total guests\": 55}, {\"Total guests\": 52}, {\"Total guests\": 49}, {\"Total guests\": 46}, {\"Total guests\": 53}, {\"Total guests\": 50}, {\"Total guests\": 49}, {\"Total guests\": 51}, {\"Total guests\": 53}, {\"Total guests\": 45}, {\"Total guests\": 50}, {\"Total guests\": 48}, {\"Total guests\": 55}, {\"Total guests\": 43}, {\"Total guests\": 51}, {\"Total guests\": 54}, {\"Total guests\": 43}, {\"Total guests\": 42}, {\"Total guests\": 55}, {\"Total guests\": 51}, {\"Total guests\": 50}, {\"Total guests\": 44}, {\"Total guests\": 51}, {\"Total guests\": 53}, {\"Total guests\": 39}, {\"Total guests\": 48}, {\"Total guests\": 54}, {\"Total guests\": 51}, {\"Total guests\": 50}, {\"Total guests\": 48}, {\"Total guests\": 47}, {\"Total guests\": 52}, {\"Total guests\": 59}, {\"Total guests\": 50}, {\"Total guests\": 51}, {\"Total guests\": 54}, {\"Total guests\": 47}, {\"Total guests\": 55}, {\"Total guests\": 48}, {\"Total guests\": 57}, {\"Total guests\": 58}, {\"Total guests\": 50}, {\"Total guests\": 53}, {\"Total guests\": 49}]}}, {\"mode\": \"vega-lite\"});\n",
       "</script>"
      ],
      "text/plain": [
       "alt.Chart(...)"
      ]
     },
     "execution_count": 26,
     "metadata": {},
     "output_type": "execute_result"
    }
   ],
   "source": [
    "plot_simulation(results)"
   ]
  },
  {
   "cell_type": "markdown",
   "metadata": {},
   "source": [
    "## Package documentation"
   ]
  },
  {
   "cell_type": "markdown",
   "metadata": {},
   "source": [
    "### Reading and rendering documentation locally"
   ]
  },
  {
   "cell_type": "markdown",
   "metadata": {},
   "source": [
    "For the users of your code (including your future self) we need to have readable and accessible documentation expressing how to install your package, and how to use the functions within it. We'll discuss documentation in detail in **Chapter 6: {ref}`06:Documentation`**, but for now, we will demonstrate the basic steps required to get your documentation up-and-running quickly.\n",
    "\n",
    "The Python packaging ecosystem has a tool to help you easily make documentation - [Sphinx](https://docs.readthedocs.io/en/stable/intro/getting-started-with-sphinx.html). In the Cookiecutter template we used to define our package's directory structure, there is a basic docs template that the Cookiecutter progam filled in with the information you entered interactively when you ran `cookiecutter https://github.com/UBC-MDS/cookiecutter-ubc-mds.git`. These files live in the `docs` directory and are `.rst` (reStructuredText markup language) filetype. This is a lightweight markup language that works similar to Markdown but uses different syntax. The templates provided to you here are fairly well formatted already, so you do not have to change the `.rst` formatting, however if you are interested in doing so, you can see the [Sphinx documentation](https://www.sphinx-doc.org/en/master/usage/restructuredtext/index.html) to get started.\n",
    "\n",
    "First, we need to install `sphinx`, `nbsphinx`, and `ipykernel` as development dependencies using `poetry`. \n",
    "\n",
    "```{prompt} bash\n",
    "poetry add --dev sphinx nbsphinx ipykernel\n",
    "```\n",
    "\n",
    "```{note}\n",
    "The use of `--dev` specifies a development dependency, rather than a package function dependency. A development dependency is a package that is not required by a user to use your package, but is required for development purposes. If you look in `pyproject.toml` you will see that `sphinx` gets added under the `[tool.poetry.dev-dependencies]` section as opposed to the `[tool.poetry.dependencies]` section.\n",
    "```\n",
    "\n",
    "Next, to render the help documents locally from `.rst` to `.html` we need to navigate into the `docs` directory and then run the `Makefile` there, directing it to run the `html` target:\n",
    "\n",
    "```{prompt} bash\n",
    "cd docs\n",
    "poetry run make html\n",
    "```\n",
    "\n",
    "```{note}\n",
    "We append `poetry run` in front of most of our unix shell commands in this Python package workflow to ensure our commands are executed within our project's virtualenv and are using only the software tools we have specifically installed in that virtual environment.\n",
    "```\n",
    "\n",
    "```{attention}\n",
    "You may see some red warnings while your docs are rendering, but these can be ignored and are typically just suggestions on how to improve your docs if you wish.\n",
    "```\n",
    "\n",
    "If we now look inside our `docs` directory we see that it has expanded, and the rendered `.html` files live in `_build/html`. We can open `_build/html/index.html` to view our docs locally on our laptop, they should look something like this:\n",
    "\n",
    "```{figure} images/documentation-1.png\n",
    "---\n",
    "width: 100%\n",
    "name: 03-documentation-1\n",
    "alt: The rendered docs homepage.\n",
    "---\n",
    "The rendered docs homepage.\n",
    "```\n",
    "\n",
    "If we click on the \"Module Index\" link under the heading \"Indices and tables\" at the bottom of the page we get a \"Your file was not found message\":\n",
    "\n",
    "```{figure} images/documentation-2.png\n",
    "---\n",
    "width: 100%\n",
    "name: 03-documentation-2\n",
    "alt: File not found error!\n",
    "---\n",
    "File not found error!\n",
    "```\n",
    "\n",
    "This is because we haven't written any documentation for our package function. Let's do that now by adding a `NumPy`-style docstring to the `catbind` function in `pypkgs/pypkgs.py` as shown below (we'll discuss docstring style more in **Chapter 6: {ref}`06:Documentation`**):\n",
    "\n",
    "```python\n",
    "import pandas as pd\n",
    "\n",
    "\n",
    "def catbind(a, b):\n",
    "    \"\"\"\n",
    "    Concatenates two pandas categoricals.\n",
    "\n",
    "    Parameters\n",
    "    ----------\n",
    "    a : pandas.core.arrays.categorical.Categorical\n",
    "      A pandas categorical.\n",
    "    b : pandas.core.arrays.categorical.Categorical\n",
    "      A pandas categorical that you wish to concatenate to a.\n",
    "\n",
    "    Returns\n",
    "    -------\n",
    "    pandas.core.arrays.categorical.Categorical\n",
    "      The new concatenated pandas categorical.\n",
    "\n",
    "    Examples\n",
    "    --------\n",
    "    >>> from pypkgs import pypkgs\n",
    "    >>> import pandas as pd\n",
    "    >>> a = pd.Categorical([\"character\", \"hits\", \"your\", \"eyeballs\"])\n",
    "    >>> b = pd.Categorical([\"but\", \"integer\", \"where it\", \"counts\"])\n",
    "    >>> pypkgs.catbind(a, b)\n",
    "    [character, hits, your, eyeballs, but, integer, where it, counts]\n",
    "    Categories (8, object): [but, character, counts,\n",
    "    eyeballs, hits, integer, where it, your]\n",
    "    \"\"\"\n",
    "    concatenated = pd.concat([pd.Series(a.astype(\"str\")),\n",
    "                              pd.Series(b.astype(\"str\"))])\n",
    "    return pd.Categorical(concatenated)\n",
    "\n",
    "```\n",
    "\n",
    "Now we can use a `sphinx` extension (`napolean`) to render our `NumPy`-styled docstring into a modules page on our docs. To do this we need to install `napoleon` as a dev dependency:\n",
    "\n",
    "```{prompt} bash\n",
    "poetry add --dev sphinxcontrib-napoleon\n",
    "```\n",
    "\n",
    "```{note}\n",
    "Normally to use this extension, we would also have to add `extensions = ['sphinx.ext.napoleon']` in the `conf.py` file in the `docs` directory, but we have taken care of this for you already with our Cookiecutter template.\n",
    "```\n",
    "\n",
    "Now we can change back to our root `partypy` directory, and use `sphinx-apidoc` and `poetry` to re-render our docs:\n",
    "\n",
    "```{prompt} bash\n",
    "cd ..\n",
    "poetry run sphinx-apidoc -f -o docs/source pypkgs\n",
    "cd docs\n",
    "poetry run make html\n",
    "```\n",
    "\n",
    "Now when we click on the \"Module Index\" link under the heading \"Indices and tables\" we see a webpage that has a link to our module, `pypkgs.pypkgs`:\n",
    "\n",
    "```{figure} images/documentation-3.png\n",
    "---\n",
    "width: 100%\n",
    "name: 03-documentation-3\n",
    "alt: The rendered docs module index.\n",
    "---\n",
    "The rendered docs module index.\n",
    "```\n",
    "\n",
    "And we can click on that to see the docs for `pypkgs.pypkgs.catbind`. Which should look roughly like this:\n",
    "\n",
    "```{figure} images/documentation-4.png\n",
    "---\n",
    "width: 100%\n",
    "name: 03-documentation-4\n",
    "alt: Our function documentation.\n",
    "---\n",
    "Our function documentation.\n",
    "```\n",
    "\n",
    "Another hurray! 🎉🎉🎉 Let's commit this to version control and push to our remote:\n",
    "\n",
    "```{prompt} bash\n",
    "cd ..\n",
    "git add .\n",
    "git commit -m \"generated and rendered docs for local viewing\"\n",
    "git push\n",
    "```"
   ]
  },
  {
   "cell_type": "markdown",
   "metadata": {},
   "source": [
    "### Reading and rendering documentation remotely"
   ]
  },
  {
   "cell_type": "markdown",
   "metadata": {},
   "source": [
    "To share these docs online, we need to link our GitHub repository to [Read the Docs](https://readthedocs.org/) (where we will build and host our docs remotely). To do this:\n",
    "\n",
    "1. Visit <https://readthedocs.org/> and click on \"Sign up\";\n",
    "2. Select \"Sign up with GitHub\";\n",
    "3. Click \"Import a Project\";\n",
    "4. Click \"Import Manually\";\n",
    "5. Fill in the project details by providing a package name (this must be a unique name, we've already taken \"pypkgs\" so perhaps try \"pypkgs[your initials]\"), the repository URL, **set the default branch to \"main\"**, and leave the rest as is. Click \"Next\"; and,\n",
    "6. Click \"Build version\".\n",
    "\n",
    "After following the steps above, your docs should get successfully built on [Read the Docs](https://readthedocs.org/) and you should be able to access them via the \"View Docs\" button on the build page, or from the link that Cookiecutter created for you on your repositories `README.md` file.\n",
    "\n",
    "```{note}\n",
    "For [Read the Docs](https://readthedocs.org/) to work with the `poetry` package workflow you need to have a `.readthedocs.yml` in the root of your Python package. We have created this for you using Cookiecutter and you can view it [here](https://github.com/UBC-MDS/cookiecutter-ubc-mds/blob/main/%7B%7Bcookiecutter.project_slug%7D%7D/.readthedocs.yml).\n",
    "```"
   ]
  },
  {
   "cell_type": "markdown",
   "metadata": {},
   "source": [
    "## Writing tests"
   ]
  },
  {
   "cell_type": "markdown",
   "metadata": {},
   "source": [
    "We have interactively taken `catbind` for a test drive, but to prove to our future self and others that our code does in fact do what it is supposed to do, let's write some formal unit tests. We'll discuss testing in detail in **Chapter 5: {ref}`05:Testing`**, but will go over the key steps here. In Python packages, our tests live inside the `test` directory, typically in a file called `test_<module_name>.py`, thus for this package this is `tests/test_pypkgs.py`. Let's add a unit test (as a function named `test_catbind`) for our `catbind` function there now:\n",
    "\n",
    "```python\n",
    "from pypkgs import __version__\n",
    "from pypkgs import pypkgs\n",
    "import pandas as pd\n",
    "\n",
    "\n",
    "def test_version():\n",
    "    assert __version__ == '0.1.0'\n",
    "\n",
    "def test_catbind():\n",
    "    a = pd.Categorical([\"character\", \"hits\", \"your\", \"eyeballs\"])\n",
    "    b = pd.Categorical([\"but\", \"integer\", \"where it\", \"counts\"])\n",
    "    assert ((pypkgs.catbind(a, b)).codes == [1, 4, 7, 3, 0, 5, 6, 2]).all()\n",
    "    assert ((pypkgs.catbind(a, b)).categories == [\"but\", \"character\",\n",
    "            \"counts\", \"eyeballs\", \"hits\", \"integer\", \"where it\", \"your\"]).all()\n",
    "\n",
    "```\n",
    "\n",
    "```{note}\n",
    "Given that we use `pd.Categorical` to create objects to test on, we have to import the `pandas` package at the top of our test file.\n",
    "```\n",
    "\n",
    "While we could test our test functions by starting a Python session, importing and running them it is much more efficient to automate the testing workflow. In the Python package ecosystem one way we can do this is to use `pytest`. A single call to `pytest` from the root of a project will look for all files in the `tests` directory, import all files prefixed with `test*` and then call all functions prefixed with `test*`. Pretty great! \n",
    "\n",
    "To try this out, we first add `pytest` as a dev dependency via `poetry`:\n",
    "\n",
    "```{prompt} bash\n",
    "poetry add --dev pytest\n",
    "```\n",
    "\n",
    "Then to run the tests, we use:\n",
    "\n",
    "```{prompt} bash\n",
    "poetry run pytest\n",
    "```\n",
    "\n",
    "```console\n",
    "============================= test session starts ==============================\n",
    "platform darwin -- Python 3.7.6, pytest-5.4.3, py-1.9.0, pluggy-0.13.1\n",
    "rootdir: /Users/tbeuzen/GitHub/py-pkgs/pypkgs\n",
    "collected 2 items                                                              \n",
    "\n",
    "tests/test_pypkgs.py ..                                                  [100%]\n",
    "\n",
    "============================== 2 passed in 0.56s ===============================\n",
    "```\n",
    "\n",
    "We get no error returned to us, indicating that our tests passed, Hurray! This suggests that the code we wrote is correct (at least to our test specifications)! Now we can share this with the world by putting these under local and remote version control:\n",
    "\n",
    "```{prompt} bash\n",
    "git add .\n",
    "git commit -m \"added unit tests for catbind\"\n",
    "git push\n",
    "```"
   ]
  },
  {
   "cell_type": "markdown",
   "metadata": {},
   "source": [
    "## Building and publishing your package"
   ]
  },
  {
   "cell_type": "markdown",
   "metadata": {},
   "source": [
    "### TestPyPI"
   ]
  },
  {
   "cell_type": "markdown",
   "metadata": {},
   "source": [
    "Python packages are generally shared via the [PyPI package index](https://pypi.org/). However, when we are just starting to develop packages, and/or at the development stage of our package, we typically first check that everything works by submitting to [testPyPi](https://test.pypi.org/). `poetry` has a command called `publish` which we can use to do this, however the default behaviour is to publish to PyPI. So we need to add testPyPI to the list of repositories `poetry` knows about via:\n",
    "\n",
    "```{prompt} bash\n",
    "poetry config repositories.test-pypi https://test.pypi.org/legacy/\n",
    "```\n",
    "\n",
    "Before we send our package, we first need to build it to source and wheel distributions (the format that PyPI distributes and something you'll learn more about in **Chapter 4: {ref}`04:Package-structure-and-state`**) using `poetry build`:\n",
    "\n",
    "```{prompt} bash\n",
    "poetry build\n",
    "```\n",
    "\n",
    "```console\n",
    "Building pypkgs (0.1.0)\n",
    " - Building sdist\n",
    " - Built pypkgs-0.1.0.tar.gz\n",
    "\n",
    " - Building wheel\n",
    " - Built pypkgs-0.1.0-py3-none-any.whl\n",
    "```\n",
    "\n",
    "Finally, to publish to testPyPI we can use `poetry publish` (you will be prompted for your testPyPI username and password, sign up for one if you have not already done so):\n",
    "\n",
    "```{prompt} bash\n",
    "poetry publish -r test-pypi\n",
    "```\n",
    "\n",
    "Now you should be able to visit your package on testPyPI (e.g., <https://test.pypi.org/project/pypkgs/>) and download it from there using `pip` via:\n",
    "\n",
    "```{prompt} bash\n",
    "pip install --index-url https://test.pypi.org/simple/ --extra-index-url https://pypi.org/simple pypkgs\n",
    "```\n",
    "\n",
    "```{note}\n",
    "By default `pip install` will search PyPI for the named package. However, we want to search testPyPI because that is where we uploaded our package. The argument `--index-url` points `pip` to the testPyPI index. However, our package `partypy` depends on `pandas` which can't be found on testPyPI (it is hosted on PyPI). So, we need to use the `--extra-index-url` argument to also point `pip` to PyPI so that it can pull any necessary dependencies of `partypy` from there.\n",
    "```"
   ]
  },
  {
   "cell_type": "markdown",
   "metadata": {},
   "source": [
    "### PyPI"
   ]
  },
  {
   "cell_type": "markdown",
   "metadata": {},
   "source": [
    "When you're at the point where you're happy to officially share your package with the world, you can publish to PyPI by simply typing:\n",
    "\n",
    "```{prompt} bash\n",
    "poetry publish\n",
    "```\n",
    "\n",
    "Your package will then be available on PyPI (e.g., <https://pypi.org/project/pypkgs/>) and can be installed with `pip`:\n",
    "\n",
    "```{prompt} bash\n",
    "pip install pypkgs\n",
    "```\n",
    "\n",
    "There are a number of optional arguments you can specify in your `pyproject.toml` file to control the metadata of your package, check them out in the [`poetry` documentation](https://python-poetry.org/docs/pyproject/). For example, you can use your `README.md` file as the description of your package on testPyPI or PyPI. To do this, you need to add the `readme` argument to the `[tool.poetry]` section of your `pyproject.toml` file and point to your `README.md` file, for example:\n",
    "\n",
    "```toml\n",
    "[tool.poetry]\n",
    "name = \"pypkgs\"\n",
    "version = \"0.1.0\"\n",
    "description = \"Python package that eases the pain of concatenating Pandas categoricals!\"\n",
    "authors = [\"Tomas Beuzen <tomas.beuzen@gmail.com>\"]\n",
    "license = \"MIT\"\n",
    "readme = \"README.md\"\n",
    "```"
   ]
  },
  {
   "cell_type": "markdown",
   "metadata": {},
   "source": [
    "## Summary"
   ]
  },
  {
   "cell_type": "markdown",
   "metadata": {},
   "source": [
    "1. Build directory structure\n",
    "2. poetyr init\n",
    "3. add dependencies\n",
    "4. write package code\n",
    "5. install locally with `poetry install`\n",
    "6. write tests (optional)\n",
    "7. render documentation (optional)\n",
    "8. publish to testpypi and pypi"
   ]
  }
 ],
 "metadata": {
  "celltoolbar": "Tags",
  "kernelspec": {
   "display_name": "Python 3",
   "language": "python",
   "name": "python3"
  },
  "language_info": {
   "codemirror_mode": {
    "name": "ipython",
    "version": 3
   },
   "file_extension": ".py",
   "mimetype": "text/x-python",
   "name": "python",
   "nbconvert_exporter": "python",
   "pygments_lexer": "ipython3",
   "version": "3.7.8"
  },
  "toc": {
   "base_numbering": 1,
   "nav_menu": {},
   "number_sections": true,
   "sideBar": true,
   "skip_h1_title": true,
   "title_cell": "Table of Contents",
   "title_sidebar": "Contents",
   "toc_cell": false,
   "toc_position": {},
   "toc_section_display": true,
   "toc_window_display": false
  },
  "toc-autonumbering": false,
  "widgets": {
   "application/vnd.jupyter.widget-state+json": {
    "state": {
     "06e8b80b569b4ac2bb5a989af9695ced": {
      "model_module": "@jupyter-widgets/base",
      "model_module_version": "1.2.0",
      "model_name": "LayoutModel",
      "state": {
       "height": "350px"
      }
     },
     "07d43b717dd94d33a8eeae066f36d839": {
      "model_module": "@jupyter-widgets/base",
      "model_module_version": "1.2.0",
      "model_name": "LayoutModel",
      "state": {}
     },
     "09294cf0fd6549c78d0f15acf20400b2": {
      "model_module": "@jupyter-widgets/base",
      "model_module_version": "1.2.0",
      "model_name": "LayoutModel",
      "state": {}
     },
     "096724e20b094296bb243e553b2820e6": {
      "model_module": "@jupyter-widgets/controls",
      "model_module_version": "1.5.0",
      "model_name": "FloatSliderModel",
      "state": {
       "description": "m",
       "layout": "IPY_MODEL_d2ef8aa5fad04047a98f733f89624812",
       "max": 2,
       "min": -2,
       "step": 0.1,
       "style": "IPY_MODEL_d3343e0c83844ad987beb592199dd6f6",
       "value": -0.1
      }
     },
     "0b412fd29e8a44f5bfaaa9a7122a33c3": {
      "model_module": "@jupyter-widgets/controls",
      "model_module_version": "1.5.0",
      "model_name": "VBoxModel",
      "state": {
       "children": [
        "IPY_MODEL_1da474a760df45c3a290bbf3ba8a7f94",
        "IPY_MODEL_acc0b478d5b748c29c4683cbcfc8e0f3"
       ],
       "layout": "IPY_MODEL_9a4a74191d4b483f8e6ca535c155a33f"
      }
     },
     "107d8e3c4e4249429f4ea5f86f97caa7": {
      "model_module": "@jupyter-widgets/controls",
      "model_module_version": "1.5.0",
      "model_name": "SliderStyleModel",
      "state": {
       "description_width": ""
      }
     },
     "1455d02e130148c4a24a0943765db04a": {
      "model_module": "@jupyter-widgets/base",
      "model_module_version": "1.2.0",
      "model_name": "LayoutModel",
      "state": {}
     },
     "1574978c1a56499dbe842cb3bf5b9e8f": {
      "model_module": "@jupyter-widgets/base",
      "model_module_version": "1.2.0",
      "model_name": "LayoutModel",
      "state": {}
     },
     "16770b98026442368338a8d27ffceab4": {
      "model_module": "@jupyter-widgets/base",
      "model_module_version": "1.2.0",
      "model_name": "LayoutModel",
      "state": {}
     },
     "1989b160147948d4a6414de3b6c60694": {
      "model_module": "@jupyter-widgets/base",
      "model_module_version": "1.2.0",
      "model_name": "LayoutModel",
      "state": {}
     },
     "1a1f847a77d44da7977d6ed1ae70ac12": {
      "model_module": "@jupyter-widgets/controls",
      "model_module_version": "1.5.0",
      "model_name": "VBoxModel",
      "state": {
       "_dom_classes": [
        "widget-interact"
       ],
       "children": [
        "IPY_MODEL_884172dbe7194ea7aba24ace80d35049",
        "IPY_MODEL_384a6bfb62454f0bb09a41d14a5eb9c9",
        "IPY_MODEL_8cc71f1ee02d4a10acbda0a6f9cbc4fb"
       ],
       "layout": "IPY_MODEL_da554c291c9f4442991fcf6d620e017e"
      }
     },
     "1cb1287d7a5940829cb770a5553a95b3": {
      "model_module": "@jupyter-widgets/base",
      "model_module_version": "1.2.0",
      "model_name": "LayoutModel",
      "state": {
       "height": "350px"
      }
     },
     "1da474a760df45c3a290bbf3ba8a7f94": {
      "model_module": "@jupyter-widgets/controls",
      "model_module_version": "1.5.0",
      "model_name": "IntSliderModel",
      "state": {
       "layout": "IPY_MODEL_323357ab97fc4ed0af4ab5743aa038cc",
       "style": "IPY_MODEL_64e2b864e41244388bcb173e865939f8"
      }
     },
     "1ecb0c5110084d99bd02c6845b36b5f5": {
      "model_module": "@jupyter-widgets/base",
      "model_module_version": "1.2.0",
      "model_name": "LayoutModel",
      "state": {}
     },
     "1ff35f5f7c9543158cd8fcb2fe45e951": {
      "model_module": "@jupyter-widgets/base",
      "model_module_version": "1.2.0",
      "model_name": "LayoutModel",
      "state": {}
     },
     "200d9095bbf14c67af4083eebe042331": {
      "model_module": "@jupyter-widgets/controls",
      "model_module_version": "1.5.0",
      "model_name": "VBoxModel",
      "state": {
       "children": [
        "IPY_MODEL_ce130e9bb1874109b6e9641a6f6b872a",
        "IPY_MODEL_544ffe02934f47abbe60aa68b1552268"
       ],
       "layout": "IPY_MODEL_2949d658a5e24ae8af8b48f1c68ca710"
      }
     },
     "204835ba5cf741febeb96117f71f03db": {
      "model_module": "@jupyter-widgets/controls",
      "model_module_version": "1.5.0",
      "model_name": "IntSliderModel",
      "state": {
       "layout": "IPY_MODEL_e788ecb6fbad4de6aac05557dcf109f5",
       "style": "IPY_MODEL_871a273a718c4b7ab105f4bf6f9500e1"
      }
     },
     "20f7461031e44d41bd5b14f4cdd8542a": {
      "model_module": "@jupyter-widgets/base",
      "model_module_version": "1.2.0",
      "model_name": "LayoutModel",
      "state": {}
     },
     "24102f82e9cf49aca85e512f59a1db81": {
      "model_module": "@jupyter-widgets/base",
      "model_module_version": "1.2.0",
      "model_name": "LayoutModel",
      "state": {}
     },
     "262d0a636bf64c67a8b3b7fdb6852569": {
      "model_module": "@jupyter-widgets/base",
      "model_module_version": "1.2.0",
      "model_name": "LayoutModel",
      "state": {}
     },
     "2844ba0a05594aeeb871eaf4fae2c4b9": {
      "model_module": "@jupyter-widgets/base",
      "model_module_version": "1.2.0",
      "model_name": "LayoutModel",
      "state": {}
     },
     "28a33b60ad9947cebcab993a3ecd7b01": {
      "model_module": "@jupyter-widgets/controls",
      "model_module_version": "1.5.0",
      "model_name": "IntSliderModel",
      "state": {
       "layout": "IPY_MODEL_1989b160147948d4a6414de3b6c60694",
       "style": "IPY_MODEL_f24ec537d93846e48f35cf5bca83e11d",
       "value": 40
      }
     },
     "2949d658a5e24ae8af8b48f1c68ca710": {
      "model_module": "@jupyter-widgets/base",
      "model_module_version": "1.2.0",
      "model_name": "LayoutModel",
      "state": {}
     },
     "2ad8e9ec7f1d4f5f89fadb89c51892cd": {
      "model_module": "@jupyter-widgets/controls",
      "model_module_version": "1.5.0",
      "model_name": "FloatSliderModel",
      "state": {
       "description": "m",
       "layout": "IPY_MODEL_3679e8d246954e7295c526cec653232b",
       "max": 2,
       "min": -2,
       "step": 0.1,
       "style": "IPY_MODEL_455179b0a10a4d3793163b6270e8c1d4"
      }
     },
     "2be4850df84041778088cca110e64d11": {
      "model_module": "@jupyter-widgets/controls",
      "model_module_version": "1.5.0",
      "model_name": "HBoxModel",
      "state": {
       "children": [
        "IPY_MODEL_3b84503a8368455bac727f95db5d01d0",
        "IPY_MODEL_5ed1935a5446410aa7103f97d2500695"
       ],
       "layout": "IPY_MODEL_5bc7f1fcf97f41fea3a8623cf73e21a3"
      }
     },
     "2ec147d796d24e06a192384ff4f271d8": {
      "model_module": "@jupyter-widgets/controls",
      "model_module_version": "1.5.0",
      "model_name": "IntSliderModel",
      "state": {
       "layout": "IPY_MODEL_1ecb0c5110084d99bd02c6845b36b5f5",
       "style": "IPY_MODEL_750974cf708b48bcac5c4b3e178f9e34"
      }
     },
     "323357ab97fc4ed0af4ab5743aa038cc": {
      "model_module": "@jupyter-widgets/base",
      "model_module_version": "1.2.0",
      "model_name": "LayoutModel",
      "state": {}
     },
     "3679e8d246954e7295c526cec653232b": {
      "model_module": "@jupyter-widgets/base",
      "model_module_version": "1.2.0",
      "model_name": "LayoutModel",
      "state": {}
     },
     "373d595c629d4c96ab6c69cabadfbae3": {
      "model_module": "@jupyter-widgets/controls",
      "model_module_version": "1.5.0",
      "model_name": "SliderStyleModel",
      "state": {
       "description_width": ""
      }
     },
     "384a6bfb62454f0bb09a41d14a5eb9c9": {
      "model_module": "@jupyter-widgets/controls",
      "model_module_version": "1.5.0",
      "model_name": "FloatSliderModel",
      "state": {
       "description": "b",
       "layout": "IPY_MODEL_79023cd4f95e412d86f33dacb04f9cce",
       "max": 3,
       "min": -3,
       "step": 0.5,
       "style": "IPY_MODEL_da243475d71a41f48bf4855c01052769"
      }
     },
     "3966b0590b414fe1873b43e1835dbc0b": {
      "model_module": "@jupyter-widgets/controls",
      "model_module_version": "1.5.0",
      "model_name": "VBoxModel",
      "state": {
       "_dom_classes": [
        "widget-interact"
       ],
       "children": [
        "IPY_MODEL_096724e20b094296bb243e553b2820e6",
        "IPY_MODEL_890cbfc7c0f343d2b7991c18b88b8177",
        "IPY_MODEL_fcc376497f9d4b8aa11a102ebc19b6ab"
       ],
       "layout": "IPY_MODEL_ae6272a2743a4752b8798fed0b5dc332"
      }
     },
     "39af2f7e78ff42679117a13c8e3e0c02": {
      "model_module": "@jupyter-widgets/output",
      "model_module_version": "1.0.0",
      "model_name": "OutputModel",
      "state": {
       "layout": "IPY_MODEL_43d437e0efff40b0b7c59c66b9b815f5",
       "outputs": [
        {
         "name": "stdout",
         "output_type": "stream",
         "text": "0 * 0 = 0\n"
        }
       ]
      }
     },
     "3ac4ddb748c447f9903d248db1422cf1": {
      "model_module": "@jupyter-widgets/controls",
      "model_module_version": "1.5.0",
      "model_name": "HBoxModel",
      "state": {
       "children": [
        "IPY_MODEL_b8aa32ebeb924971ade818f6af335eec",
        "IPY_MODEL_e6a05e8e4f6a4cefb61f5f99b1eb13c2"
       ],
       "layout": "IPY_MODEL_e57657510026435496e5903d5c875cbe"
      }
     },
     "3b84503a8368455bac727f95db5d01d0": {
      "model_module": "@jupyter-widgets/controls",
      "model_module_version": "1.5.0",
      "model_name": "VBoxModel",
      "state": {
       "children": [
        "IPY_MODEL_ce130e9bb1874109b6e9641a6f6b872a",
        "IPY_MODEL_544ffe02934f47abbe60aa68b1552268"
       ],
       "layout": "IPY_MODEL_20f7461031e44d41bd5b14f4cdd8542a"
      }
     },
     "3ccc38f44df249cd833536b7a8a34327": {
      "model_module": "@jupyter-widgets/controls",
      "model_module_version": "1.5.0",
      "model_name": "SliderStyleModel",
      "state": {
       "description_width": ""
      }
     },
     "4007d719e1aa45349acb4e9f80f0e4ba": {
      "model_module": "@jupyter-widgets/controls",
      "model_module_version": "1.5.0",
      "model_name": "VBoxModel",
      "state": {
       "children": [
        "IPY_MODEL_2ec147d796d24e06a192384ff4f271d8",
        "IPY_MODEL_f285911bbe39497a88f0994509363fbb"
       ],
       "layout": "IPY_MODEL_9ecdf012164d45aaa03c28b34bebf7fa"
      }
     },
     "42727846507043a098dc2e932813ee65": {
      "model_module": "@jupyter-widgets/controls",
      "model_module_version": "1.5.0",
      "model_name": "IntSliderModel",
      "state": {
       "layout": "IPY_MODEL_16770b98026442368338a8d27ffceab4",
       "style": "IPY_MODEL_b1e4ec6cae8d454999896d5ec41be03c"
      }
     },
     "43d437e0efff40b0b7c59c66b9b815f5": {
      "model_module": "@jupyter-widgets/base",
      "model_module_version": "1.2.0",
      "model_name": "LayoutModel",
      "state": {}
     },
     "454c456031894c1498a69aaa4dcb0e97": {
      "model_module": "@jupyter-widgets/base",
      "model_module_version": "1.2.0",
      "model_name": "LayoutModel",
      "state": {}
     },
     "455179b0a10a4d3793163b6270e8c1d4": {
      "model_module": "@jupyter-widgets/controls",
      "model_module_version": "1.5.0",
      "model_name": "SliderStyleModel",
      "state": {
       "description_width": ""
      }
     },
     "479edca2ec334d01b8af52d21f4c1565": {
      "model_module": "@jupyter-widgets/controls",
      "model_module_version": "1.5.0",
      "model_name": "SliderStyleModel",
      "state": {
       "description_width": ""
      }
     },
     "494640e15fe7442ebfa3b6786ef64d82": {
      "model_module": "@jupyter-widgets/controls",
      "model_module_version": "1.5.0",
      "model_name": "SliderStyleModel",
      "state": {
       "description_width": ""
      }
     },
     "4af9e16a11ed4597bbd81a734add4f5c": {
      "model_module": "@jupyter-widgets/controls",
      "model_module_version": "1.5.0",
      "model_name": "HBoxModel",
      "state": {
       "children": [
        "IPY_MODEL_535d254dd54d41ada990b62be72d5a14",
        "IPY_MODEL_e6a05e8e4f6a4cefb61f5f99b1eb13c2"
       ],
       "layout": "IPY_MODEL_7415264924174df19d8822f16c379f55"
      }
     },
     "4c8b0dc16ddc40af8b131803f5280311": {
      "model_module": "@jupyter-widgets/controls",
      "model_module_version": "1.5.0",
      "model_name": "HBoxModel",
      "state": {
       "children": [
        "IPY_MODEL_edcfad1763d44bbab957f8d4f981f4e4",
        "IPY_MODEL_d11a21b0488f4970babc1c7ad3f86aa8"
       ],
       "layout": "IPY_MODEL_ef77db303b044fe783f80b51f045e866"
      }
     },
     "4d8487b20ef9419aab03dcc0c813fc77": {
      "model_module": "@jupyter-widgets/controls",
      "model_module_version": "1.5.0",
      "model_name": "VBoxModel",
      "state": {
       "children": [
        "IPY_MODEL_cf422506005a43978b50beb43766a819",
        "IPY_MODEL_78efe79186ed46c78e9d91400f519f1d"
       ],
       "layout": "IPY_MODEL_ce3b1869747b4502b90f4448204f5d94"
      }
     },
     "4f613b87c7184b80bbc2806c184eb4cb": {
      "model_module": "@jupyter-widgets/controls",
      "model_module_version": "1.5.0",
      "model_name": "VBoxModel",
      "state": {
       "children": [
        "IPY_MODEL_9053f57dacfc4255ad1dc0b717cbd4be",
        "IPY_MODEL_42727846507043a098dc2e932813ee65"
       ],
       "layout": "IPY_MODEL_8c5220ab1fe748d0abf46067668fd9d1"
      }
     },
     "50f2a1ea21a24ed9a0db566a4678e24e": {
      "model_module": "@jupyter-widgets/controls",
      "model_module_version": "1.5.0",
      "model_name": "IntSliderModel",
      "state": {
       "layout": "IPY_MODEL_933e89a135cd42e196abb362e0302570",
       "style": "IPY_MODEL_b4ed787903d4445cb7fd4c6827acf9cd"
      }
     },
     "527235c0249e4be68af5cc1b5f6ecaa8": {
      "model_module": "@jupyter-widgets/controls",
      "model_module_version": "1.5.0",
      "model_name": "SliderStyleModel",
      "state": {
       "description_width": ""
      }
     },
     "535d254dd54d41ada990b62be72d5a14": {
      "model_module": "@jupyter-widgets/controls",
      "model_module_version": "1.5.0",
      "model_name": "VBoxModel",
      "state": {
       "children": [
        "IPY_MODEL_50f2a1ea21a24ed9a0db566a4678e24e",
        "IPY_MODEL_bfe8c68e54b24762adb625e2d926bc2e"
       ],
       "layout": "IPY_MODEL_d9616e978f2840609e88757e2e7e47f3"
      }
     },
     "544ffe02934f47abbe60aa68b1552268": {
      "model_module": "@jupyter-widgets/controls",
      "model_module_version": "1.5.0",
      "model_name": "IntSliderModel",
      "state": {
       "layout": "IPY_MODEL_7acc7084e5c34c5a9b18b84c2a78660b",
       "style": "IPY_MODEL_d10b5afbdea647baa88b2156fda8c6c0"
      }
     },
     "54bac03c012745098c9455c5a2325e0a": {
      "model_module": "@jupyter-widgets/output",
      "model_module_version": "1.0.0",
      "model_name": "OutputModel",
      "state": {
       "layout": "IPY_MODEL_1cb1287d7a5940829cb770a5553a95b3",
       "outputs": [
        {
         "data": {
          "image/png": "iVBORw0KGgoAAAANSUhEUgAAAXIAAAD4CAYAAADxeG0DAAAABHNCSVQICAgIfAhkiAAAAAlwSFlzAAALEgAACxIB0t1+/AAAADh0RVh0U29mdHdhcmUAbWF0cGxvdGxpYiB2ZXJzaW9uMy4yLjEsIGh0dHA6Ly9tYXRwbG90bGliLm9yZy+j8jraAAANZklEQVR4nO3df6xkZ13H8ffHLsUEKrTuQku3uG0kxKIm4E2DgkpoU9paWzFqSqIWa7JBQwIJpmltgih/IRGNEW1WaPxBY6tCpZIS2Eob4x9Ubmt//6ALFula2osoxZCgDV//mLNmejt379ydM/fuV9+v5OaeOeeZ53znOed+5swzM7upKiRJfX3HThcgSVqMQS5JzRnkktScQS5JzRnkktTcrp3Y6e7du2vfvn07sWtJauvOO+/8alXtWb9+R4J83759rK6u7sSuJamtJF+atd6pFUlqziCXpOYMcklqziCXpOYMcklqziCXpOYMcklqziCXpOYMcklqziCXpOYMcklqziCXpOYMcklqziCXpOYMcklqziCXpOYMcklqbrQgT3JCkn9K8omx+pQkbW7MK/J3AA+N2J8kaQ6jBHmSvcBPAB8aoz9J0vzGuiL/PeBK4NsbNUiyP8lqktW1tbWRditJWjjIk1wMPFVVdx6tXVUdqKqVqlrZs2fPoruVJA3GuCJ/HXBJkseAG4A3JvnICP1KkuawcJBX1dVVtbeq9gGXAZ+pqp9fuDJJ0lz8HLkkNbdrzM6q6nbg9jH7lCQdnVfkktScQS5JzRnkktScQS5JzRnkktScQS5JzRnkktScQS5JzRnkktScQS5JzRnkktScQS5JzRnkktScQS5JzRnkktScQS5JzRnkktScQS5JzRnkktScQS5JzRnkktScQS5JzRnkktScQS5JzRnkktScQS5JzRnkktScQS5JzRnkktScQS5JzRnkktScQS5JzRnkktScQS5JzS0c5EnOSHJbkgeTPJDkHWMUJkmaz64R+ngGeFdV3ZXkJODOJAer6sER+pYkbWLhK/KqeqKq7hqWvwE8BJy+aL+SpPmMOkeeZB/wauCOMfuVJG1stCBP8kLgo8A7q+rpGdv3J1lNsrq2tjbWbiXp/71RgjzJ85iE+PVV9bFZbarqQFWtVNXKnj17xtitJIlxPrUS4MPAQ1X1gcVLkiRtxRhX5K8DfgF4Y5K7h5+LRuhXkjSHhT9+WFX/AGSEWiRJx8BvdkpScwa5JDVnkEtScwa5JDVnkEtScwa5JDVnkEtScwa5JDVnkEtScwa5JDVnkEtScwa5JDVnkEtScwa5JDVnkEtScwa5JDVnkEtScwa5JDVnkEtScwa5JDVnkEtScwa5JDVnkEtScwa5JDVnkEtScwa5JDVnkEtScwa5JDVnkEtScwa5JDVnkEtScwa5JDVnkEtScwa5JDVnkEtSc6MEeZILkjyS5FCSq8boU5I0n4WDPMkJwAeBC4GzgbckOXvRfiVJ89k1Qh/nAIeq6osASW4ALgUeHKHvZ/nNv32AB//16bG7laRtc/bLvovf+MlXjdrnGFMrpwNfnrr9+LDuWZLsT7KaZHVtbW2E3UqSYJwr8rlU1QHgAMDKykodSx9jP4tJ0v8FY1yRHwbOmLq9d1gnSdoGYwT554BXJDkzyYnAZcDNI/QrSZrDwlMrVfVMkrcDnwJOAK6rqgcWrkySNJdR5sir6hbgljH6kiRtjd/slKTmDHJJas4gl6TmDHJJas4gl6TmDHJJas4gl6TmDHJJas4gl6TmDHJJas4gl6TmDHJJas4gl6TmDHJJas4gl6TmDHJJas4gl6TmDHJJas4gl6TmDHJJas4gl6TmDHJJas4gl6TmDHJJas4gl6TmDHJJas4gl6TmDHJJas4gl6TmDHJJas4gl6TmDHJJas4gl6TmDHJJam6hIE/y/iQPJ7k3yU1JXjxWYZKk+Sx6RX4Q+P6q+kHg88DVi5ckSdqKhYK8qj5dVc8MNz8L7F28JEnSVow5R34F8MkR+5MkzWHXZg2S3AqcOmPTNVX18aHNNcAzwPVH6Wc/sB/g5S9/+TEVK0l6rk2DvKrOO9r2JG8FLgbOrao6Sj8HgAMAKysrG7aTJG3NpkF+NEkuAK4EfryqvjlOSZKkrVh0jvwPgJOAg0nuTnLtCDVJkrZgoSvyqvresQqRJB0bv9kpSc0Z5JLUnEEuSc0Z5JLUnEEuSc0Z5JLUnEEuSc0Z5JLUnEEuSc0Z5JLUnEEuSc0Z5JLUnEEuSc0Z5JLUnEEuSc0Z5JLUnEEuSc0Z5JLUnEEuSc0Z5JLUnEEuSc0Z5JLUnEEuSc0Z5JLUnEEuSc0Z5JLUnEEuSc0Z5JLUnEEuSc0Z5JLUnEEuSc0Z5JLUnEEuSc0Z5JLUnEEuSc2NEuRJ3pWkkuweoz9J0vwWDvIkZwDnA/+yeDmSpK0a44r8d4ErgRqhL0nSFi0U5EkuBQ5X1T1ztN2fZDXJ6tra2iK7lSRN2bVZgyS3AqfO2HQN8OtMplU2VVUHgAMAKysrXr1L0kg2DfKqOm/W+iQ/AJwJ3JMEYC9wV5Jzquoro1YpSdrQpkG+kaq6D3jJkdtJHgNWquqrI9QlSZqTnyOXpOaO+Yp8varaN1ZfkqT5eUUuSc0Z5JLUnEEuSc0Z5JLUnEEuSc0Z5JLUnEEuSc0Z5JLUnEEuSc0Z5JLUnEEuSc0Z5JLUnEEuSc0Z5JLUnEEuSc0Z5JLUXKq2//9BTrIGfOkY774bOB7/Oznr2hrr2hrr2prjtS5YrLbvqao961fuSJAvIslqVa3sdB3rWdfWWNfWWNfWHK91wXJqc2pFkpozyCWpuY5BfmCnC9iAdW2NdW2NdW3N8VoXLKG2dnPkkqRn63hFLkmaYpBLUnPHZZAn+dkkDyT5dpKVdduuTnIoySNJ3rTB/c9McsfQ7sYkJy6hxhuT3D38PJbk7g3aPZbkvqHd6th1zNjfe5Icnqrtog3aXTCM4aEkV21DXe9P8nCSe5PclOTFG7TblvHa7PEnef5wjA8N59K+ZdUytc8zktyW5MHh/H/HjDZvSPL1qeP77mXXNez3qMclE78/jNe9SV6zDTW9cmoc7k7ydJJ3rmuzbeOV5LokTyW5f2rdKUkOJnl0+H3yBve9fGjzaJLLt7zzqjrufoDvA14J3A6sTK0/G7gHeD5wJvAF4IQZ9/9L4LJh+VrgV5Zc7+8A795g22PA7m0cu/cAv7ZJmxOGsTsLOHEY07OXXNf5wK5h+X3A+3ZqvOZ5/MCvAtcOy5cBN27DsTsNeM2wfBLw+Rl1vQH4xHadT/MeF+Ai4JNAgNcCd2xzfScAX2HyhZkdGS/gx4DXAPdPrftt4Kph+apZ5z1wCvDF4ffJw/LJW9n3cXlFXlUPVdUjMzZdCtxQVd+qqn8GDgHnTDdIEuCNwF8Pq/4U+Kll1Trs7+eAv1jWPpbgHOBQVX2xqv4LuIHJ2C5NVX26qp4Zbn4W2LvM/W1insd/KZNzBybn0rnDsV6aqnqiqu4alr8BPAScvsx9juhS4M9q4rPAi5Octo37Pxf4QlUd6zfGF1ZVfw98bd3q6fNooyx6E3Cwqr5WVf8OHAQu2Mq+j8sgP4rTgS9P3X6c557o3w38x1RozGozph8FnqyqRzfYXsCnk9yZZP8S65j29uHl7XUbvJSbZxyX6QomV2+zbMd4zfP4/7fNcC59ncm5tS2GqZxXA3fM2PzDSe5J8skkr9qmkjY7Ljt9Tl3GxhdTOzFeR7y0qp4Ylr8CvHRGm4XHbtex1ba4JLcCp87YdE1VfXy765llzhrfwtGvxl9fVYeTvAQ4mOTh4Zl7KXUBfwS8l8kf3nuZTPtcscj+xqjryHgluQZ4Brh+g25GH69ukrwQ+Cjwzqp6et3mu5hMH/zn8P7H3wCv2IayjtvjMrwHdglw9YzNOzVez1FVlWQpn/fesSCvqvOO4W6HgTOmbu8d1k37NyYv63YNV1Kz2oxSY5JdwE8DP3SUPg4Pv59KchOTl/UL/QHMO3ZJ/hj4xIxN84zj6HUleStwMXBuDZODM/oYfbxmmOfxH2nz+HCcX8Tk3FqqJM9jEuLXV9XH1m+fDvaquiXJHybZXVVL/Qei5jguSzmn5nQhcFdVPbl+w06N15Qnk5xWVU8MU01PzWhzmMlc/hF7mbw/OLduUys3A5cNnyg4k8kz6z9ONxgC4jbgZ4ZVlwPLusI/D3i4qh6ftTHJC5KcdGSZyRt+989qO5Z185Jv3mB/nwNekcmne05k8rL05iXXdQFwJXBJVX1zgzbbNV7zPP6bmZw7MDmXPrPRk89Yhjn4DwMPVdUHNmhz6pG5+iTnMPkbXuoTzJzH5WbgF4dPr7wW+PrUlMKybfiqeCfGa53p82ijLPoUcH6Sk4ep0POHdfPbjndzj+Hd3zczmSf6FvAk8Kmpbdcw+cTBI8CFU+tvAV42LJ/FJOAPAX8FPH9Jdf4J8LZ1614G3DJVxz3DzwNMphiWPXZ/DtwH3DucRKetr2u4fRGTT0V8YZvqOsRkHvDu4efa9XVt53jNevzAbzF5ogH4zuHcOTScS2dtwxi9nsmU2L1T43QR8LYj5xnw9mFs7mHypvGPbENdM4/LuroCfHAYz/uY+rTZkmt7AZNgftHUuh0ZLyZPJk8A/z3k1y8zeV/l74BHgVuBU4a2K8CHpu57xXCuHQJ+aav79iv6ktRct6kVSdI6BrkkNWeQS1JzBrkkNWeQS1JzBrkkNWeQS1Jz/wOt0eLL/K7pHwAAAABJRU5ErkJggg==\n",
          "text/plain": "<Figure size 432x288 with 1 Axes>"
         },
         "metadata": {
          "needs_background": "light"
         },
         "output_type": "display_data"
        }
       ]
      }
     },
     "57c1af3db3d44cc7bfcfc97614bea646": {
      "model_module": "@jupyter-widgets/controls",
      "model_module_version": "1.5.0",
      "model_name": "IntSliderModel",
      "state": {
       "layout": "IPY_MODEL_9053341eacf94d139041e6aa7cc93233",
       "style": "IPY_MODEL_527235c0249e4be68af5cc1b5f6ecaa8",
       "value": 40
      }
     },
     "587b16eff8dc4011bcc72b4f4070b14d": {
      "model_module": "@jupyter-widgets/base",
      "model_module_version": "1.2.0",
      "model_name": "LayoutModel",
      "state": {}
     },
     "58a162ea4105481e9d1345fdc79c9f1d": {
      "model_module": "@jupyter-widgets/controls",
      "model_module_version": "1.5.0",
      "model_name": "SliderStyleModel",
      "state": {
       "description_width": ""
      }
     },
     "5ab9a789ce9a4e97845523051ef0762c": {
      "model_module": "@jupyter-widgets/output",
      "model_module_version": "1.0.0",
      "model_name": "OutputModel",
      "state": {
       "layout": "IPY_MODEL_965ef0e308be48eaa8b8ef19c63bed40",
       "outputs": [
        {
         "name": "stdout",
         "output_type": "stream",
         "text": "0 * 0 = 0\n"
        }
       ]
      }
     },
     "5bc7f1fcf97f41fea3a8623cf73e21a3": {
      "model_module": "@jupyter-widgets/base",
      "model_module_version": "1.2.0",
      "model_name": "LayoutModel",
      "state": {}
     },
     "5d02d239659c496cbb1972806465cbba": {
      "model_module": "@jupyter-widgets/base",
      "model_module_version": "1.2.0",
      "model_name": "LayoutModel",
      "state": {}
     },
     "5d68805b72bd49498579e5c204071464": {
      "model_module": "@jupyter-widgets/controls",
      "model_module_version": "1.5.0",
      "model_name": "VBoxModel",
      "state": {
       "children": [
        "IPY_MODEL_1da474a760df45c3a290bbf3ba8a7f94",
        "IPY_MODEL_acc0b478d5b748c29c4683cbcfc8e0f3"
       ],
       "layout": "IPY_MODEL_72b02467571a402da6d4414c5e4489fa"
      }
     },
     "5e5877766afd49fcbb63cdbbff1f5684": {
      "model_module": "@jupyter-widgets/controls",
      "model_module_version": "1.5.0",
      "model_name": "FloatSliderModel",
      "state": {
       "description": "b",
       "layout": "IPY_MODEL_1ff35f5f7c9543158cd8fcb2fe45e951",
       "max": 3,
       "min": -3,
       "step": 0.5,
       "style": "IPY_MODEL_7bc761c122284f8b9822ff186e0f78bd",
       "value": -1
      }
     },
     "5ed1935a5446410aa7103f97d2500695": {
      "model_module": "@jupyter-widgets/output",
      "model_module_version": "1.0.0",
      "model_name": "OutputModel",
      "state": {
       "layout": "IPY_MODEL_262d0a636bf64c67a8b3b7fdb6852569",
       "outputs": [
        {
         "name": "stdout",
         "output_type": "stream",
         "text": "0 * 0 = 0\n"
        }
       ]
      }
     },
     "645724dd1b174799b0ff40a9e6d6ab62": {
      "model_module": "@jupyter-widgets/controls",
      "model_module_version": "1.5.0",
      "model_name": "HBoxModel",
      "state": {
       "children": [
        "IPY_MODEL_98b7be5be6ad4194bafdff2ffd9a89f0",
        "IPY_MODEL_e5aa35e4f4aa46cf8044c66339de4b96"
       ],
       "layout": "IPY_MODEL_454c456031894c1498a69aaa4dcb0e97"
      }
     },
     "64c7a0f8b8904b1ca743bc4911a341b2": {
      "model_module": "@jupyter-widgets/controls",
      "model_module_version": "1.5.0",
      "model_name": "SliderStyleModel",
      "state": {
       "description_width": ""
      }
     },
     "64e2b864e41244388bcb173e865939f8": {
      "model_module": "@jupyter-widgets/controls",
      "model_module_version": "1.5.0",
      "model_name": "SliderStyleModel",
      "state": {
       "description_width": ""
      }
     },
     "6991e87f25be44a78f759d7fd412588b": {
      "model_module": "@jupyter-widgets/controls",
      "model_module_version": "1.5.0",
      "model_name": "VBoxModel",
      "state": {
       "_dom_classes": [
        "widget-interact"
       ],
       "children": [
        "IPY_MODEL_2ad8e9ec7f1d4f5f89fadb89c51892cd",
        "IPY_MODEL_5e5877766afd49fcbb63cdbbff1f5684",
        "IPY_MODEL_81a51a474122457fa2f9da64776cf5d1"
       ],
       "layout": "IPY_MODEL_8a2b88d881b247d08b03cb1b7183128d"
      }
     },
     "6a03b9b6618c43bb80bcccfc6f7c19f9": {
      "model_module": "@jupyter-widgets/base",
      "model_module_version": "1.2.0",
      "model_name": "LayoutModel",
      "state": {
       "height": "350px"
      }
     },
     "6b15b70b85584ce18f7b6efe71563f96": {
      "model_module": "@jupyter-widgets/controls",
      "model_module_version": "1.5.0",
      "model_name": "SliderStyleModel",
      "state": {
       "description_width": ""
      }
     },
     "6c890acf62af426cab22ed65ff429088": {
      "model_module": "@jupyter-widgets/base",
      "model_module_version": "1.2.0",
      "model_name": "LayoutModel",
      "state": {}
     },
     "6ffdc8fcab164aedbf54cf3a45384d64": {
      "model_module": "@jupyter-widgets/base",
      "model_module_version": "1.2.0",
      "model_name": "LayoutModel",
      "state": {}
     },
     "72b02467571a402da6d4414c5e4489fa": {
      "model_module": "@jupyter-widgets/base",
      "model_module_version": "1.2.0",
      "model_name": "LayoutModel",
      "state": {}
     },
     "7415264924174df19d8822f16c379f55": {
      "model_module": "@jupyter-widgets/base",
      "model_module_version": "1.2.0",
      "model_name": "LayoutModel",
      "state": {}
     },
     "750974cf708b48bcac5c4b3e178f9e34": {
      "model_module": "@jupyter-widgets/controls",
      "model_module_version": "1.5.0",
      "model_name": "SliderStyleModel",
      "state": {
       "description_width": ""
      }
     },
     "78efe79186ed46c78e9d91400f519f1d": {
      "model_module": "@jupyter-widgets/controls",
      "model_module_version": "1.5.0",
      "model_name": "IntSliderModel",
      "state": {
       "layout": "IPY_MODEL_fdfc64c80c3c407bacf0a395dede228c",
       "style": "IPY_MODEL_8b9cd3fe33484cb794a9c2a4d60caa9a"
      }
     },
     "79023cd4f95e412d86f33dacb04f9cce": {
      "model_module": "@jupyter-widgets/base",
      "model_module_version": "1.2.0",
      "model_name": "LayoutModel",
      "state": {}
     },
     "7a81ba3691dc47449c052dcd9070b618": {
      "model_module": "@jupyter-widgets/controls",
      "model_module_version": "1.5.0",
      "model_name": "FloatSliderModel",
      "state": {
       "description": "m",
       "layout": "IPY_MODEL_ac55030546d54b0ca4d7e4fbf355a3c8",
       "max": 2,
       "min": -2,
       "step": 0.1,
       "style": "IPY_MODEL_6b15b70b85584ce18f7b6efe71563f96"
      }
     },
     "7acc7084e5c34c5a9b18b84c2a78660b": {
      "model_module": "@jupyter-widgets/base",
      "model_module_version": "1.2.0",
      "model_name": "LayoutModel",
      "state": {}
     },
     "7b066d9aaaa34fcda5803a72047566f0": {
      "model_module": "@jupyter-widgets/controls",
      "model_module_version": "1.5.0",
      "model_name": "IntSliderModel",
      "state": {
       "layout": "IPY_MODEL_d6b85a8f0ec64ee491848be1b8bf8188",
       "style": "IPY_MODEL_3ccc38f44df249cd833536b7a8a34327",
       "value": 40
      }
     },
     "7bc761c122284f8b9822ff186e0f78bd": {
      "model_module": "@jupyter-widgets/controls",
      "model_module_version": "1.5.0",
      "model_name": "SliderStyleModel",
      "state": {
       "description_width": ""
      }
     },
     "7c23e7df356f475e994f2f3e70730747": {
      "model_module": "@jupyter-widgets/base",
      "model_module_version": "1.2.0",
      "model_name": "LayoutModel",
      "state": {}
     },
     "7d29dde0dd4046fb9717131bf06b637f": {
      "model_module": "@jupyter-widgets/controls",
      "model_module_version": "1.5.0",
      "model_name": "FloatSliderModel",
      "state": {
       "description": "b",
       "layout": "IPY_MODEL_b674d805670c4a969daa587ae7d22805",
       "max": 3,
       "min": -3,
       "step": 0.5,
       "style": "IPY_MODEL_494640e15fe7442ebfa3b6786ef64d82",
       "value": -1
      }
     },
     "81a51a474122457fa2f9da64776cf5d1": {
      "model_module": "@jupyter-widgets/output",
      "model_module_version": "1.0.0",
      "model_name": "OutputModel",
      "state": {
       "layout": "IPY_MODEL_94487d6608754721aa3f4401e77dc292",
       "outputs": [
        {
         "data": {
          "image/png": "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\n",
          "text/plain": "<Figure size 432x288 with 1 Axes>"
         },
         "metadata": {
          "needs_background": "light"
         },
         "output_type": "display_data"
        }
       ]
      }
     },
     "856e6ab0a1b14ac490277652b9beabf6": {
      "model_module": "@jupyter-widgets/controls",
      "model_module_version": "1.5.0",
      "model_name": "HBoxModel",
      "state": {
       "children": [
        "IPY_MODEL_0b412fd29e8a44f5bfaaa9a7122a33c3",
        "IPY_MODEL_5ab9a789ce9a4e97845523051ef0762c"
       ],
       "layout": "IPY_MODEL_f55ac2b80afd433a919cc2d7ab87b098"
      }
     },
     "871a273a718c4b7ab105f4bf6f9500e1": {
      "model_module": "@jupyter-widgets/controls",
      "model_module_version": "1.5.0",
      "model_name": "SliderStyleModel",
      "state": {
       "description_width": ""
      }
     },
     "884172dbe7194ea7aba24ace80d35049": {
      "model_module": "@jupyter-widgets/controls",
      "model_module_version": "1.5.0",
      "model_name": "FloatSliderModel",
      "state": {
       "description": "m",
       "layout": "IPY_MODEL_d2e7ead2f8d74c5180cbabbb30b674a8",
       "max": 2,
       "min": -2,
       "step": 0.1,
       "style": "IPY_MODEL_373d595c629d4c96ab6c69cabadfbae3"
      }
     },
     "890cbfc7c0f343d2b7991c18b88b8177": {
      "model_module": "@jupyter-widgets/controls",
      "model_module_version": "1.5.0",
      "model_name": "FloatSliderModel",
      "state": {
       "description": "b",
       "layout": "IPY_MODEL_24102f82e9cf49aca85e512f59a1db81",
       "max": 3,
       "min": -3,
       "step": 0.5,
       "style": "IPY_MODEL_64c7a0f8b8904b1ca743bc4911a341b2",
       "value": -0.5
      }
     },
     "8a2b88d881b247d08b03cb1b7183128d": {
      "model_module": "@jupyter-widgets/base",
      "model_module_version": "1.2.0",
      "model_name": "LayoutModel",
      "state": {}
     },
     "8b9cd3fe33484cb794a9c2a4d60caa9a": {
      "model_module": "@jupyter-widgets/controls",
      "model_module_version": "1.5.0",
      "model_name": "SliderStyleModel",
      "state": {
       "description_width": ""
      }
     },
     "8c5220ab1fe748d0abf46067668fd9d1": {
      "model_module": "@jupyter-widgets/base",
      "model_module_version": "1.2.0",
      "model_name": "LayoutModel",
      "state": {}
     },
     "8cc71f1ee02d4a10acbda0a6f9cbc4fb": {
      "model_module": "@jupyter-widgets/output",
      "model_module_version": "1.0.0",
      "model_name": "OutputModel",
      "state": {
       "layout": "IPY_MODEL_6a03b9b6618c43bb80bcccfc6f7c19f9",
       "outputs": [
        {
         "data": {
          "image/png": "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\n",
          "text/plain": "<Figure size 432x288 with 1 Axes>"
         },
         "metadata": {
          "needs_background": "light"
         },
         "output_type": "display_data"
        }
       ]
      }
     },
     "8dda8bf6c916451e91b96e56fc4d2a76": {
      "model_module": "@jupyter-widgets/controls",
      "model_module_version": "1.5.0",
      "model_name": "SliderStyleModel",
      "state": {
       "description_width": ""
      }
     },
     "9053341eacf94d139041e6aa7cc93233": {
      "model_module": "@jupyter-widgets/base",
      "model_module_version": "1.2.0",
      "model_name": "LayoutModel",
      "state": {}
     },
     "9053f57dacfc4255ad1dc0b717cbd4be": {
      "model_module": "@jupyter-widgets/controls",
      "model_module_version": "1.5.0",
      "model_name": "IntSliderModel",
      "state": {
       "layout": "IPY_MODEL_ef44415ff8dd456681965184a2a299e8",
       "style": "IPY_MODEL_cc29a198d1d44797a909ea9a68a5d484"
      }
     },
     "907bd0f286754766afa0d6ba1612d301": {
      "model_module": "@jupyter-widgets/controls",
      "model_module_version": "1.5.0",
      "model_name": "HBoxModel",
      "state": {
       "children": [
        "IPY_MODEL_4d8487b20ef9419aab03dcc0c813fc77",
        "IPY_MODEL_d11a21b0488f4970babc1c7ad3f86aa8"
       ],
       "layout": "IPY_MODEL_1574978c1a56499dbe842cb3bf5b9e8f"
      }
     },
     "90a70b5f560f437f9bb9422a4a6f6592": {
      "model_module": "@jupyter-widgets/base",
      "model_module_version": "1.2.0",
      "model_name": "LayoutModel",
      "state": {}
     },
     "933e89a135cd42e196abb362e0302570": {
      "model_module": "@jupyter-widgets/base",
      "model_module_version": "1.2.0",
      "model_name": "LayoutModel",
      "state": {}
     },
     "935fac04b32e4e0b9e1f9ea118a04ee1": {
      "model_module": "@jupyter-widgets/controls",
      "model_module_version": "1.5.0",
      "model_name": "IntSliderModel",
      "state": {
       "layout": "IPY_MODEL_b9e169b8efac4eeb990ae37db1e8de12",
       "max": 200,
       "style": "IPY_MODEL_9927296f85f248858bdc0a0abcc67e94",
       "value": 100
      }
     },
     "94487d6608754721aa3f4401e77dc292": {
      "model_module": "@jupyter-widgets/base",
      "model_module_version": "1.2.0",
      "model_name": "LayoutModel",
      "state": {
       "height": "350px"
      }
     },
     "965ef0e308be48eaa8b8ef19c63bed40": {
      "model_module": "@jupyter-widgets/base",
      "model_module_version": "1.2.0",
      "model_name": "LayoutModel",
      "state": {}
     },
     "97c973da7b714095959a2a66d7d28c65": {
      "model_module": "@jupyter-widgets/base",
      "model_module_version": "1.2.0",
      "model_name": "LayoutModel",
      "state": {}
     },
     "98b7be5be6ad4194bafdff2ffd9a89f0": {
      "model_module": "@jupyter-widgets/controls",
      "model_module_version": "1.5.0",
      "model_name": "VBoxModel",
      "state": {
       "children": [
        "IPY_MODEL_b12e150681c94126b68be84b0d7cf158",
        "IPY_MODEL_204835ba5cf741febeb96117f71f03db"
       ],
       "layout": "IPY_MODEL_7c23e7df356f475e994f2f3e70730747"
      }
     },
     "9927296f85f248858bdc0a0abcc67e94": {
      "model_module": "@jupyter-widgets/controls",
      "model_module_version": "1.5.0",
      "model_name": "SliderStyleModel",
      "state": {
       "description_width": ""
      }
     },
     "9a4a74191d4b483f8e6ca535c155a33f": {
      "model_module": "@jupyter-widgets/base",
      "model_module_version": "1.2.0",
      "model_name": "LayoutModel",
      "state": {}
     },
     "9c4a507b139f440fabaa95140d4b2193": {
      "model_module": "@jupyter-widgets/base",
      "model_module_version": "1.2.0",
      "model_name": "LayoutModel",
      "state": {}
     },
     "9ecdf012164d45aaa03c28b34bebf7fa": {
      "model_module": "@jupyter-widgets/base",
      "model_module_version": "1.2.0",
      "model_name": "LayoutModel",
      "state": {}
     },
     "a5e552b00bc54d1991d64d1e61258563": {
      "model_module": "@jupyter-widgets/controls",
      "model_module_version": "1.5.0",
      "model_name": "VBoxModel",
      "state": {
       "_dom_classes": [
        "widget-interact"
       ],
       "children": [
        "IPY_MODEL_7a81ba3691dc47449c052dcd9070b618",
        "IPY_MODEL_7d29dde0dd4046fb9717131bf06b637f",
        "IPY_MODEL_54bac03c012745098c9455c5a2325e0a"
       ],
       "layout": "IPY_MODEL_2844ba0a05594aeeb871eaf4fae2c4b9"
      }
     },
     "ac55030546d54b0ca4d7e4fbf355a3c8": {
      "model_module": "@jupyter-widgets/base",
      "model_module_version": "1.2.0",
      "model_name": "LayoutModel",
      "state": {}
     },
     "acc0b478d5b748c29c4683cbcfc8e0f3": {
      "model_module": "@jupyter-widgets/controls",
      "model_module_version": "1.5.0",
      "model_name": "IntSliderModel",
      "state": {
       "layout": "IPY_MODEL_c69f7b00b5a54f60908cb3d92021daf6",
       "style": "IPY_MODEL_479edca2ec334d01b8af52d21f4c1565"
      }
     },
     "ae6272a2743a4752b8798fed0b5dc332": {
      "model_module": "@jupyter-widgets/base",
      "model_module_version": "1.2.0",
      "model_name": "LayoutModel",
      "state": {}
     },
     "b070d7bd6a794d2ba0242e4220af368f": {
      "model_module": "@jupyter-widgets/base",
      "model_module_version": "1.2.0",
      "model_name": "LayoutModel",
      "state": {}
     },
     "b12e150681c94126b68be84b0d7cf158": {
      "model_module": "@jupyter-widgets/controls",
      "model_module_version": "1.5.0",
      "model_name": "IntSliderModel",
      "state": {
       "layout": "IPY_MODEL_1455d02e130148c4a24a0943765db04a",
       "style": "IPY_MODEL_c2bcf8f8ff7b4623a8311427461ec26b"
      }
     },
     "b1e4ec6cae8d454999896d5ec41be03c": {
      "model_module": "@jupyter-widgets/controls",
      "model_module_version": "1.5.0",
      "model_name": "SliderStyleModel",
      "state": {
       "description_width": ""
      }
     },
     "b4ed787903d4445cb7fd4c6827acf9cd": {
      "model_module": "@jupyter-widgets/controls",
      "model_module_version": "1.5.0",
      "model_name": "SliderStyleModel",
      "state": {
       "description_width": ""
      }
     },
     "b65b837d3b614513bef7014f6e97b8be": {
      "model_module": "@jupyter-widgets/output",
      "model_module_version": "1.0.0",
      "model_name": "OutputModel",
      "state": {
       "layout": "IPY_MODEL_d9226ab50b4a4df9bdd6574f239a76a5",
       "outputs": [
        {
         "name": "stdout",
         "output_type": "stream",
         "text": "0 * 0 = 0\n"
        }
       ]
      }
     },
     "b674d805670c4a969daa587ae7d22805": {
      "model_module": "@jupyter-widgets/base",
      "model_module_version": "1.2.0",
      "model_name": "LayoutModel",
      "state": {}
     },
     "b8aa32ebeb924971ade818f6af335eec": {
      "model_module": "@jupyter-widgets/controls",
      "model_module_version": "1.5.0",
      "model_name": "VBoxModel",
      "state": {
       "children": [
        "IPY_MODEL_50f2a1ea21a24ed9a0db566a4678e24e",
        "IPY_MODEL_bfe8c68e54b24762adb625e2d926bc2e"
       ],
       "layout": "IPY_MODEL_587b16eff8dc4011bcc72b4f4070b14d"
      }
     },
     "b9e169b8efac4eeb990ae37db1e8de12": {
      "model_module": "@jupyter-widgets/base",
      "model_module_version": "1.2.0",
      "model_name": "LayoutModel",
      "state": {}
     },
     "bba860475dc34aa295f004356f4c7e70": {
      "model_module": "@jupyter-widgets/controls",
      "model_module_version": "1.5.0",
      "model_name": "HBoxModel",
      "state": {
       "children": [
        "IPY_MODEL_4f613b87c7184b80bbc2806c184eb4cb",
        "IPY_MODEL_b65b837d3b614513bef7014f6e97b8be"
       ],
       "layout": "IPY_MODEL_f128f679eeb840f88c63d5fb65e08abe"
      }
     },
     "be52a81fc3e44efc8f0d70d81da55763": {
      "model_module": "@jupyter-widgets/controls",
      "model_module_version": "1.5.0",
      "model_name": "HBoxModel",
      "state": {
       "children": [
        "IPY_MODEL_4007d719e1aa45349acb4e9f80f0e4ba",
        "IPY_MODEL_39af2f7e78ff42679117a13c8e3e0c02"
       ],
       "layout": "IPY_MODEL_90a70b5f560f437f9bb9422a4a6f6592"
      }
     },
     "bf592509273c491c9496cc5bce017755": {
      "model_module": "@jupyter-widgets/controls",
      "model_module_version": "1.5.0",
      "model_name": "HBoxModel",
      "state": {
       "children": [
        "IPY_MODEL_200d9095bbf14c67af4083eebe042331",
        "IPY_MODEL_5ed1935a5446410aa7103f97d2500695"
       ],
       "layout": "IPY_MODEL_b070d7bd6a794d2ba0242e4220af368f"
      }
     },
     "bfe8c68e54b24762adb625e2d926bc2e": {
      "model_module": "@jupyter-widgets/controls",
      "model_module_version": "1.5.0",
      "model_name": "IntSliderModel",
      "state": {
       "layout": "IPY_MODEL_09294cf0fd6549c78d0f15acf20400b2",
       "style": "IPY_MODEL_d5700c1140ff4a598008ed28c45f7d25"
      }
     },
     "c2bcf8f8ff7b4623a8311427461ec26b": {
      "model_module": "@jupyter-widgets/controls",
      "model_module_version": "1.5.0",
      "model_name": "SliderStyleModel",
      "state": {
       "description_width": ""
      }
     },
     "c2cc4c190c324cc0a0ce9bf781a499eb": {
      "model_module": "@jupyter-widgets/base",
      "model_module_version": "1.2.0",
      "model_name": "LayoutModel",
      "state": {}
     },
     "c69f7b00b5a54f60908cb3d92021daf6": {
      "model_module": "@jupyter-widgets/base",
      "model_module_version": "1.2.0",
      "model_name": "LayoutModel",
      "state": {}
     },
     "cc29a198d1d44797a909ea9a68a5d484": {
      "model_module": "@jupyter-widgets/controls",
      "model_module_version": "1.5.0",
      "model_name": "SliderStyleModel",
      "state": {
       "description_width": ""
      }
     },
     "cd9593419907498e8a80fa9fb7850749": {
      "model_module": "@jupyter-widgets/controls",
      "model_module_version": "1.5.0",
      "model_name": "SliderStyleModel",
      "state": {
       "description_width": ""
      }
     },
     "ce130e9bb1874109b6e9641a6f6b872a": {
      "model_module": "@jupyter-widgets/controls",
      "model_module_version": "1.5.0",
      "model_name": "IntSliderModel",
      "state": {
       "layout": "IPY_MODEL_c2cc4c190c324cc0a0ce9bf781a499eb",
       "style": "IPY_MODEL_cd9593419907498e8a80fa9fb7850749"
      }
     },
     "ce3b1869747b4502b90f4448204f5d94": {
      "model_module": "@jupyter-widgets/base",
      "model_module_version": "1.2.0",
      "model_name": "LayoutModel",
      "state": {}
     },
     "cf422506005a43978b50beb43766a819": {
      "model_module": "@jupyter-widgets/controls",
      "model_module_version": "1.5.0",
      "model_name": "IntSliderModel",
      "state": {
       "layout": "IPY_MODEL_9c4a507b139f440fabaa95140d4b2193",
       "style": "IPY_MODEL_107d8e3c4e4249429f4ea5f86f97caa7"
      }
     },
     "d10b5afbdea647baa88b2156fda8c6c0": {
      "model_module": "@jupyter-widgets/controls",
      "model_module_version": "1.5.0",
      "model_name": "SliderStyleModel",
      "state": {
       "description_width": ""
      }
     },
     "d11a21b0488f4970babc1c7ad3f86aa8": {
      "model_module": "@jupyter-widgets/output",
      "model_module_version": "1.0.0",
      "model_name": "OutputModel",
      "state": {
       "layout": "IPY_MODEL_97c973da7b714095959a2a66d7d28c65",
       "outputs": [
        {
         "name": "stdout",
         "output_type": "stream",
         "text": "0 * 0 = 0\n"
        }
       ]
      }
     },
     "d2a772f4a9db458db7a47d77c13dd3d5": {
      "model_module": "@jupyter-widgets/controls",
      "model_module_version": "1.5.0",
      "model_name": "IntSliderModel",
      "state": {
       "layout": "IPY_MODEL_6ffdc8fcab164aedbf54cf3a45384d64",
       "style": "IPY_MODEL_e0dea1c96cc34a53938b3f0c52e09fe1",
       "value": 40
      }
     },
     "d2e7ead2f8d74c5180cbabbb30b674a8": {
      "model_module": "@jupyter-widgets/base",
      "model_module_version": "1.2.0",
      "model_name": "LayoutModel",
      "state": {}
     },
     "d2ef8aa5fad04047a98f733f89624812": {
      "model_module": "@jupyter-widgets/base",
      "model_module_version": "1.2.0",
      "model_name": "LayoutModel",
      "state": {}
     },
     "d3343e0c83844ad987beb592199dd6f6": {
      "model_module": "@jupyter-widgets/controls",
      "model_module_version": "1.5.0",
      "model_name": "SliderStyleModel",
      "state": {
       "description_width": ""
      }
     },
     "d5700c1140ff4a598008ed28c45f7d25": {
      "model_module": "@jupyter-widgets/controls",
      "model_module_version": "1.5.0",
      "model_name": "SliderStyleModel",
      "state": {
       "description_width": ""
      }
     },
     "d67190fd827a4b1a8ca8079df64d0a0a": {
      "model_module": "@jupyter-widgets/base",
      "model_module_version": "1.2.0",
      "model_name": "LayoutModel",
      "state": {}
     },
     "d6b85a8f0ec64ee491848be1b8bf8188": {
      "model_module": "@jupyter-widgets/base",
      "model_module_version": "1.2.0",
      "model_name": "LayoutModel",
      "state": {}
     },
     "d9226ab50b4a4df9bdd6574f239a76a5": {
      "model_module": "@jupyter-widgets/base",
      "model_module_version": "1.2.0",
      "model_name": "LayoutModel",
      "state": {}
     },
     "d9616e978f2840609e88757e2e7e47f3": {
      "model_module": "@jupyter-widgets/base",
      "model_module_version": "1.2.0",
      "model_name": "LayoutModel",
      "state": {}
     },
     "da243475d71a41f48bf4855c01052769": {
      "model_module": "@jupyter-widgets/controls",
      "model_module_version": "1.5.0",
      "model_name": "SliderStyleModel",
      "state": {
       "description_width": ""
      }
     },
     "da554c291c9f4442991fcf6d620e017e": {
      "model_module": "@jupyter-widgets/base",
      "model_module_version": "1.2.0",
      "model_name": "LayoutModel",
      "state": {}
     },
     "e0dea1c96cc34a53938b3f0c52e09fe1": {
      "model_module": "@jupyter-widgets/controls",
      "model_module_version": "1.5.0",
      "model_name": "SliderStyleModel",
      "state": {
       "description_width": ""
      }
     },
     "e57657510026435496e5903d5c875cbe": {
      "model_module": "@jupyter-widgets/base",
      "model_module_version": "1.2.0",
      "model_name": "LayoutModel",
      "state": {}
     },
     "e5aa35e4f4aa46cf8044c66339de4b96": {
      "model_module": "@jupyter-widgets/output",
      "model_module_version": "1.0.0",
      "model_name": "OutputModel",
      "state": {
       "layout": "IPY_MODEL_fc608307f2064139ade48955ecbaf7e9",
       "outputs": [
        {
         "name": "stdout",
         "output_type": "stream",
         "text": "0 * 0 = 0\n"
        }
       ]
      }
     },
     "e6a05e8e4f6a4cefb61f5f99b1eb13c2": {
      "model_module": "@jupyter-widgets/output",
      "model_module_version": "1.0.0",
      "model_name": "OutputModel",
      "state": {
       "layout": "IPY_MODEL_d67190fd827a4b1a8ca8079df64d0a0a",
       "outputs": [
        {
         "name": "stdout",
         "output_type": "stream",
         "text": "0 * 0 = 0\n"
        }
       ]
      }
     },
     "e788ecb6fbad4de6aac05557dcf109f5": {
      "model_module": "@jupyter-widgets/base",
      "model_module_version": "1.2.0",
      "model_name": "LayoutModel",
      "state": {}
     },
     "ea2be2adfc72403eb1236220a37dfd36": {
      "model_module": "@jupyter-widgets/controls",
      "model_module_version": "1.5.0",
      "model_name": "HBoxModel",
      "state": {
       "children": [
        "IPY_MODEL_5d68805b72bd49498579e5c204071464",
        "IPY_MODEL_5ab9a789ce9a4e97845523051ef0762c"
       ],
       "layout": "IPY_MODEL_6c890acf62af426cab22ed65ff429088"
      }
     },
     "ec1db3073c594dac8b081d2ad5e072e1": {
      "model_module": "@jupyter-widgets/controls",
      "model_module_version": "1.5.0",
      "model_name": "IntSliderModel",
      "state": {
       "layout": "IPY_MODEL_5d02d239659c496cbb1972806465cbba",
       "style": "IPY_MODEL_58a162ea4105481e9d1345fdc79c9f1d",
       "value": 40
      }
     },
     "edcfad1763d44bbab957f8d4f981f4e4": {
      "model_module": "@jupyter-widgets/controls",
      "model_module_version": "1.5.0",
      "model_name": "VBoxModel",
      "state": {
       "children": [
        "IPY_MODEL_cf422506005a43978b50beb43766a819",
        "IPY_MODEL_78efe79186ed46c78e9d91400f519f1d"
       ],
       "layout": "IPY_MODEL_fd89962cc1214dd7afd0ee8f6c352b76"
      }
     },
     "ef44415ff8dd456681965184a2a299e8": {
      "model_module": "@jupyter-widgets/base",
      "model_module_version": "1.2.0",
      "model_name": "LayoutModel",
      "state": {}
     },
     "ef77db303b044fe783f80b51f045e866": {
      "model_module": "@jupyter-widgets/base",
      "model_module_version": "1.2.0",
      "model_name": "LayoutModel",
      "state": {}
     },
     "f128f679eeb840f88c63d5fb65e08abe": {
      "model_module": "@jupyter-widgets/base",
      "model_module_version": "1.2.0",
      "model_name": "LayoutModel",
      "state": {}
     },
     "f24ec537d93846e48f35cf5bca83e11d": {
      "model_module": "@jupyter-widgets/controls",
      "model_module_version": "1.5.0",
      "model_name": "SliderStyleModel",
      "state": {
       "description_width": ""
      }
     },
     "f285911bbe39497a88f0994509363fbb": {
      "model_module": "@jupyter-widgets/controls",
      "model_module_version": "1.5.0",
      "model_name": "IntSliderModel",
      "state": {
       "layout": "IPY_MODEL_07d43b717dd94d33a8eeae066f36d839",
       "style": "IPY_MODEL_8dda8bf6c916451e91b96e56fc4d2a76"
      }
     },
     "f55ac2b80afd433a919cc2d7ab87b098": {
      "model_module": "@jupyter-widgets/base",
      "model_module_version": "1.2.0",
      "model_name": "LayoutModel",
      "state": {}
     },
     "fc608307f2064139ade48955ecbaf7e9": {
      "model_module": "@jupyter-widgets/base",
      "model_module_version": "1.2.0",
      "model_name": "LayoutModel",
      "state": {}
     },
     "fcc376497f9d4b8aa11a102ebc19b6ab": {
      "model_module": "@jupyter-widgets/output",
      "model_module_version": "1.0.0",
      "model_name": "OutputModel",
      "state": {
       "layout": "IPY_MODEL_06e8b80b569b4ac2bb5a989af9695ced",
       "outputs": [
        {
         "data": {
          "image/png": "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\n",
          "text/plain": "<Figure size 432x288 with 1 Axes>"
         },
         "metadata": {
          "needs_background": "light"
         },
         "output_type": "display_data"
        }
       ]
      }
     },
     "fd89962cc1214dd7afd0ee8f6c352b76": {
      "model_module": "@jupyter-widgets/base",
      "model_module_version": "1.2.0",
      "model_name": "LayoutModel",
      "state": {}
     },
     "fdfc64c80c3c407bacf0a395dede228c": {
      "model_module": "@jupyter-widgets/base",
      "model_module_version": "1.2.0",
      "model_name": "LayoutModel",
      "state": {}
     }
    },
    "version_major": 2,
    "version_minor": 0
   }
  }
 },
 "nbformat": 4,
 "nbformat_minor": 4
}
