{
 "cells": [
  {
   "cell_type": "markdown",
   "metadata": {},
   "source": [
    "(01:introduction)=\n",
    "\n",
    "# Introduction"
   ]
  },
  {
   "cell_type": "markdown",
   "metadata": {},
   "source": [
    "Python packages are a core element of the Python programming language and are how you write reuseable and shareable code in Python. If you’re reading this book, chances are you already know how to use packages with the help of the `import` statement in Python. At a minimum, a package simply bundles together code (such as functions, classes, variables, or scripts) so that it can be easily reused across different projects. However, packages may also include things like documentation and tests, which become exponentially more important if you wish to share your package with others.\n",
    "\n",
    "As of January 2021, there are over 280,000 packages available on the Python Package Index (PyPI). Packages are a key reason why Python is such a powerful and widely used programming language. The chances are that someone has already solved a problem that you’re working on, and you can benefit from their work by downloading and installing their package (which they have kindly developed and shared) by, for example, using Python's native package manager `pip` and a simple  `pip install <package-name>` at the command line. Put simply, packages are how you make it as easy as possible to share, maintain and collaborate on Python code with others.\n",
    "\n",
    "Even if you never intend to share your code with others, creating Python packages will make it significantly easier for you to reuse and maintain your code across different projects and will ultimately save you time. At some point, all of us have wanted to reuse code from one project in another; this is something often accomplished through the reprehensible method of copy-and-pasting your existing code into the new project. Despite being obviously inefficient, this practice makes it difficult to improve and maintain your code and its dependenices across projects. Creating a simple Python package will solve these problems.\n",
    "\n",
    "Regardless of your motivation, the goal of this book is to show you how to easily develop Python packages. The focus is overwhelmingly practical - we will leverage modern methods and tools to develop and maintain packages efficiently, reproducibly, and with as much automation as possible; so you can focus on writing and sharing code. Along the way, we'll also enlighten some of the lower-level details of Python packaging and the Python programming language.\n",
    "\n",
    "```{figure} images/packaging-flowchart.svg\n",
    "---\n",
    "width: 600px\n",
    "name: package-flowchart\n",
    "---\n",
    "The Python packaging workflow.\n",
    "```"
   ]
  },
  {
   "cell_type": "markdown",
   "metadata": {},
   "source": [
    "## Why you should use and create packages"
   ]
  },
  {
   "cell_type": "markdown",
   "metadata": {},
   "source": [
    "There are many reasons why you should develop packages as part of your Python programming workflows. The most important ones include:\n",
    "\n",
    "- To effectively share your code with others.\n",
    "- They save you time. Even if you don't intend to share your code, packages help you easily reuse and maintain your code across multiple projects.\n",
    "- They force you to organise and document your code, such that it can be more easily understood and used at a later time.\n",
    "- They isolate dependencies for your code and improve its reproducibility.\n",
    "- They are a good way to practice writing good code.\n",
    "- Finally, developing and distributing packages supports the Python ecosystem and other Python users who can benefit from your work."
   ]
  },
  {
   "cell_type": "markdown",
   "metadata": {},
   "source": [
    "## Conventions"
   ]
  },
  {
   "cell_type": "markdown",
   "metadata": {},
   "source": [
    "Throughout this book we use `foo()` to refer to functions, and `bar` to refer to variables and function parameters.\n",
    "\n",
    "Larger code snippets in the text appear as below and we will use type hints and the so-called \"Numpy-style\" for docstrings:\n",
    "\n",
    "```python\n",
    "def palindrome(word: str) -> str:\n",
    "    \"\"\"Turns a string into a palindrome by concatenating it with a reversed version of itself.\n",
    "    \n",
    "    Parameters\n",
    "    ----------\n",
    "    word : str\n",
    "        Word to turn into a palindrome.\n",
    "    \n",
    "    Returns\n",
    "    -------\n",
    "    str\n",
    "        Palindrome of word.\n",
    "    \n",
    "    Examples\n",
    "    --------\n",
    "    >>> palindrome(\"Tomas\")\n",
    "    'TomassamoT'\n",
    "    >>> palindrome(\"Python\")\n",
    "    'PythonnohtyP'\n",
    "    \"\"\"\n",
    "    return word + word[::-1]\n",
    "```\n",
    "\n",
    "Lines prefaced with `>>>` indicate code executed in the interactive Python interpreter. The absence of `>>>` in such a code block indicates the output of the executed code:\n",
    "\n",
    "```Python\n",
    ">>> a = 0.1\n",
    ">>> b = 0.2\n",
    ">>> a + b == 0.3\n",
    "False\n",
    "```\n",
    "\n",
    "If you have an electronic version of the book, e.g., <https://py-pkgs.org>, the code is rendered in such a way that you can easily copy and paste directly from your browser to your Python interpreter or editor."
   ]
  },
  {
   "cell_type": "markdown",
   "metadata": {},
   "source": [
    "## Persistence"
   ]
  },
  {
   "cell_type": "markdown",
   "metadata": {},
   "source": [
    "The Python software ecosystem is constantly evolving. While the packaging workflows and concepts discussed in this book are effectively tool-agnostic, the tools we do use in the book may have been updated by the time you read it. If the maintainers of these tools are doing the right thing by documenting, versioning, and properly deprecating their code (we'll explore these conepts ourselves in {ref}`06-versioning`), then it should be straightforward to adapt any outdated code in the book."
   ]
  },
  {
   "cell_type": "markdown",
   "metadata": {},
   "source": [
    "## Colophon"
   ]
  },
  {
   "cell_type": "markdown",
   "metadata": {},
   "source": [
    "This book was written in [JupyterLab](https://jupyterlab.readthedocs.io/en/stable/index.html), compiled using [Jupyter Book](https://jupyterbook.org/intro.html), is hosted on [GitHub](https://github.com/), and the [online version](https://py-pkgs.org/) is deployed with [Netlify](https://www.netlify.com/). The complete source is available from [GitHub](www.github.com), and is automatically updated after edits by [GitHub Actions](https://github.com/features/actions). "
   ]
  }
 ],
 "metadata": {
  "kernelspec": {
   "display_name": "Python 3",
   "language": "python",
   "name": "python3"
  },
  "language_info": {
   "codemirror_mode": {
    "name": "ipython",
    "version": 3
   },
   "file_extension": ".py",
   "mimetype": "text/x-python",
   "name": "python",
   "nbconvert_exporter": "python",
   "pygments_lexer": "ipython3",
   "version": "3.9.1"
  },
  "toc-autonumbering": false
 },
 "nbformat": 4,
 "nbformat_minor": 4
}
